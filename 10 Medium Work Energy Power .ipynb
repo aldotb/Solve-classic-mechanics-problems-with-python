{
 "cells": [
  {
   "cell_type": "markdown",
   "id": "6aaca0ae-dbd9-47e7-8645-73913a0f19c7",
   "metadata": {},
   "source": [
    " <img src=\"images/line.png\" alt=\"ml\" style=\"width : 100%;\"/>"
   ]
  },
  {
   "cell_type": "code",
   "execution_count": 2,
   "id": "0f5da71f-33f8-4cc0-bfa9-2345c6c66089",
   "metadata": {
    "tags": []
   },
   "outputs": [],
   "source": [
    "from sympy import *\n",
    "from polyclass import *\n",
    "from libaldo_math import *\n",
    "from libaldo_show import *\n",
    "from physic_lib import *\n",
    "from IPython.display import display, Math\n",
    "init_printing()\n",
    "from IPython.display import Video"
   ]
  },
  {
   "cell_type": "markdown",
   "id": "641d79dd-8f76-4516-b48e-4cbf2fed2a9c",
   "metadata": {},
   "source": [
    " <img src=\"images/line.png\" alt=\"ml\" style=\"width : 100%;\"/>"
   ]
  },
  {
   "cell_type": "markdown",
   "id": "d1a25c70-b262-4ff5-a8c5-a07d564f3e8a",
   "metadata": {},
   "source": [
    " <img src=\"images/WM010.png\" alt=\"ml\" style=\"width : 100%;\"/>"
   ]
  },
  {
   "cell_type": "code",
   "execution_count": 2,
   "id": "15cf4e50-677b-4e37-88c6-66043de71bae",
   "metadata": {},
   "outputs": [],
   "source": [
    "fx,x,alpha,m,g,F1,fr,mu,N1,V,L1=symbols('fx x alpha m g F1 fr mu N1 V L1')"
   ]
  },
  {
   "cell_type": "code",
   "execution_count": 3,
   "id": "4db5b724-0bcf-4f55-9e58-609746be02d9",
   "metadata": {},
   "outputs": [
    {
     "data": {
      "image/png": "[encoded data removed]",
      "text/latex": [
       "$\\displaystyle 12 - \\frac{x^{2}}{48}$"
      ],
      "text/plain": [
       "      2\n",
       "     x \n",
       "12 - ──\n",
       "     48"
      ]
     },
     "execution_count": 3,
     "metadata": {},
     "output_type": "execute_result"
    }
   ],
   "source": [
    "fx=12-x*x/48;fx"
   ]
  },
  {
   "cell_type": "markdown",
   "id": "8474b59f-a4ae-4296-9ae3-b853994d01a7",
   "metadata": {
    "tags": []
   },
   "source": [
    " <img src=\"images/WM010a.png\" alt=\"ml\" style=\"width : 100%;\"/>"
   ]
  },
  {
   "cell_type": "code",
   "execution_count": 4,
   "id": "dfb3acf5-cf2f-4fe4-92a8-ad35b766f829",
   "metadata": {},
   "outputs": [],
   "source": [
    "F=dataFunc(x,fx)"
   ]
  },
  {
   "cell_type": "code",
   "execution_count": 5,
   "id": "6c6af605-22ef-442b-9842-0832cae9d969",
   "metadata": {},
   "outputs": [
    {
     "data": {
      "image/png": "[encoded data removed]",
      "text/latex": [
       "$\\displaystyle - \\frac{x}{24}$"
      ],
      "text/plain": [
       "-x \n",
       "───\n",
       " 24"
      ]
     },
     "execution_count": 5,
     "metadata": {},
     "output_type": "execute_result"
    }
   ],
   "source": [
    "F.slope()"
   ]
  },
  {
   "cell_type": "code",
   "execution_count": 6,
   "id": "0c5de3ce-0cc0-4e42-b256-5abcaa6d85f3",
   "metadata": {},
   "outputs": [
    {
     "data": {
      "image/png": "[encoded data removed]",
      "text/latex": [
       "$\\displaystyle - \\operatorname{atan}{\\left(\\frac{x}{24} \\right)}$"
      ],
      "text/plain": [
       "     ⎛x ⎞\n",
       "-atan⎜──⎟\n",
       "     ⎝24⎠"
      ]
     },
     "execution_count": 6,
     "metadata": {},
     "output_type": "execute_result"
    }
   ],
   "source": [
    "F.angTan()"
   ]
  },
  {
   "cell_type": "code",
   "execution_count": 7,
   "id": "0e1ce3a5-f728-43a8-b3ae-1ebb1a00c0d7",
   "metadata": {},
   "outputs": [
    {
     "data": {
      "image/png": "[encoded data removed]",
      "text/latex": [
       "$\\displaystyle \\operatorname{atan}{\\left(\\frac{24}{x} \\right)}$"
      ],
      "text/plain": [
       "    ⎛24⎞\n",
       "atan⎜──⎟\n",
       "    ⎝x ⎠"
      ]
     },
     "execution_count": 7,
     "metadata": {},
     "output_type": "execute_result"
    }
   ],
   "source": [
    "F.angOrto()"
   ]
  },
  {
   "cell_type": "code",
   "execution_count": 8,
   "id": "84533624-89ca-40a9-87d4-1b49c35d4dca",
   "metadata": {},
   "outputs": [],
   "source": [
    "# create object\n",
    "P=mparticle(m=10,g=10,x1=0,x2=24,y1=12,y2=0,v1=0,v2=V)"
   ]
  },
  {
   "cell_type": "code",
   "execution_count": 9,
   "id": "0804dd20-e02f-4af5-b5d1-d2bf5ed20fc8",
   "metadata": {},
   "outputs": [],
   "source": [
    "# refernece axis is tangent line over function\n",
    "P.add_forza(100,-F.angTan(x)-pi/2) # angle change respect x pos\n",
    "P.add_forza(N1,pi/2)\n",
    "P.add_forza(fr,pi)"
   ]
  },
  {
   "cell_type": "code",
   "execution_count": 10,
   "id": "5e883b3b-a56b-4b29-9c24-428b16795569",
   "metadata": {},
   "outputs": [],
   "source": [
    "# reasing Nornal value in P\n",
    "P.setValue(N1,csolve(P.y_res(),N1)) "
   ]
  },
  {
   "cell_type": "code",
   "execution_count": 11,
   "id": "b6a9d4e7-2738-414a-9bbd-754585401414",
   "metadata": {},
   "outputs": [],
   "source": [
    "# reasing frozz value in P line Normal * mu\n",
    "P.setValue(fr,N1/2) "
   ]
  },
  {
   "cell_type": "code",
   "execution_count": 12,
   "id": "c1d61929-bae4-4fbb-8707-5b6f7199d471",
   "metadata": {},
   "outputs": [
    {
     "data": {
      "image/png": "[encoded data removed]",
      "text/latex": [
       "$\\displaystyle -294.172617071776$"
      ],
      "text/plain": [
       "-294.172617071776"
      ]
     },
     "execution_count": 12,
     "metadata": {},
     "output_type": "execute_result"
    }
   ],
   "source": [
    "# Total Work is sum F(x)*dx ,unisymbols only asure sympy identifique unic variable\n",
    "W=opemat(integrate(unisymbols(P.x_res(kope='s')),(x,0,12)),'v');W"
   ]
  },
  {
   "cell_type": "code",
   "execution_count": 13,
   "id": "3b8f4c9a-615f-45ea-b7d9-cd99d9acf085",
   "metadata": {},
   "outputs": [
    {
     "data": {
      "image/png": "[encoded data removed]",
      "text/latex": [
       "$\\displaystyle 13.4597725309771$"
      ],
      "text/plain": [
       "13.4597725309771"
      ]
     },
     "execution_count": 13,
     "metadata": {},
     "output_type": "execute_result"
    }
   ],
   "source": [
    "# Total work = Energy Total and find V when P are in floor\n",
    "csolve(P.energia()-W,V,korden=1)"
   ]
  },
  {
   "cell_type": "code",
   "execution_count": 14,
   "id": "8e2b303f-b322-46e3-8c41-5fa069c2ecf0",
   "metadata": {},
   "outputs": [],
   "source": [
    "P2=mparticle(m=10,g=10,x1=0,v1=13.45,v2=0,y1=0,y2=0)"
   ]
  },
  {
   "cell_type": "code",
   "execution_count": 15,
   "id": "655d9653-a754-48e1-a20a-8dce9f0e640b",
   "metadata": {},
   "outputs": [],
   "source": [
    "P2.add_forza(50,pi) # Rozz force "
   ]
  },
  {
   "cell_type": "code",
   "execution_count": 16,
   "id": "310bed26-5a4c-4218-8f4d-114d0bc242a2",
   "metadata": {},
   "outputs": [
    {
     "data": {
      "image/png": "[encoded data removed]",
      "text/latex": [
       "$\\displaystyle - 50 x_{2}$"
      ],
      "text/plain": [
       "-50⋅x₂"
      ]
     },
     "execution_count": 16,
     "metadata": {},
     "output_type": "execute_result"
    }
   ],
   "source": [
    "#Work in x axis\n",
    "P2.work_due_forza('x')"
   ]
  },
  {
   "cell_type": "code",
   "execution_count": 17,
   "id": "40a06f56-b946-4597-a983-1aedc4f6974c",
   "metadata": {},
   "outputs": [
    {
     "data": {
      "image/png": "[encoded data removed]",
      "text/latex": [
       "$\\displaystyle -904.5125$"
      ],
      "text/plain": [
       "-904.5124999999998"
      ]
     },
     "execution_count": 17,
     "metadata": {},
     "output_type": "execute_result"
    }
   ],
   "source": [
    "#Energia total\n",
    "P2.energia()"
   ]
  },
  {
   "cell_type": "code",
   "execution_count": 18,
   "id": "8ee59a77-e410-43ce-8802-ef4e1ca63d09",
   "metadata": {},
   "outputs": [
    {
     "data": {
      "text/latex": [
       "$\\displaystyle L =18.09025$"
      ],
      "text/plain": [
       "<IPython.core.display.Math object>"
      ]
     },
     "metadata": {},
     "output_type": "display_data"
    }
   ],
   "source": [
    "#find x2 if Wx=Etotal\n",
    "L=csolve(P2.work_due_forza('x')-P2.energia(),x2,'L')"
   ]
  },
  {
   "cell_type": "markdown",
   "id": "74c2fa80-980b-4d44-a979-4a234e6b63cc",
   "metadata": {},
   "source": [
    " <img src=\"images/line.png\" alt=\"ml\" style=\"width : 100%;\"/>"
   ]
  },
  {
   "cell_type": "markdown",
   "id": "0d515726-ba8c-4ee3-bde9-dfb76c35ad1f",
   "metadata": {
    "tags": []
   },
   "source": [
    " <img src=\"images/WM020.png\" alt=\"ml\" style=\"width : 60%;\"/>"
   ]
  },
  {
   "cell_type": "code",
   "execution_count": 19,
   "id": "e50fc153-aab2-4d51-aed6-8d819eeb233f",
   "metadata": {},
   "outputs": [],
   "source": [
    "Fx,Fy,m,g,N1,fr,mu,alpha,L=symbols('Fx Fy m g N1 fr mu alpha L',positive=True)"
   ]
  },
  {
   "cell_type": "code",
   "execution_count": 20,
   "id": "23f1bce2-ea3a-4956-8000-996ca5e77080",
   "metadata": {},
   "outputs": [],
   "source": [
    "# creating physical object P\n",
    "P=mparticle()\n",
    "# adding forces, angle , pos x, pos y  to every forces\n",
    "P.add_forza(Fx,0,0,L*cos(alpha))\n",
    "P.add_forza(m*g,-pi/2,L*sin(alpha)/2,L*cos(alpha)/2)\n",
    "P.add_forza(fr,pi,L*sin(alpha),0)\n",
    "P.add_forza(N1,pi/2,L*sin(alpha),0)\n",
    "# Fy = cero...Ok"
   ]
  },
  {
   "cell_type": "code",
   "execution_count": 21,
   "id": "f7215206-9146-4caa-b6b3-1df15e858196",
   "metadata": {},
   "outputs": [
    {
     "data": {
      "image/png": "[encoded data removed]",
      "text/latex": [
       "$\\displaystyle Fx - fr$"
      ],
      "text/plain": [
       "Fx - fr"
      ]
     },
     "execution_count": 21,
     "metadata": {},
     "output_type": "execute_result"
    }
   ],
   "source": [
    "# get resultant forces in X equal cer0 then fr=Fx\n",
    "P.x_res()"
   ]
  },
  {
   "cell_type": "code",
   "execution_count": 22,
   "id": "f74de922-0942-4dc0-b2cc-2c58d27b3db7",
   "metadata": {},
   "outputs": [
    {
     "data": {
      "image/png": "[encoded data removed]",
      "text/latex": [
       "$\\displaystyle N_{1} - g m$"
      ],
      "text/plain": [
       "N₁ - g⋅m"
      ]
     },
     "execution_count": 22,
     "metadata": {},
     "output_type": "execute_result"
    }
   ],
   "source": [
    "# # get resultant forces in Y equal cer0 then Normal= weight\n",
    "P.y_res()"
   ]
  },
  {
   "cell_type": "code",
   "execution_count": 23,
   "id": "ae39134d-9c17-4273-baa2-e25581dfa255",
   "metadata": {},
   "outputs": [
    {
     "data": {
      "image/png": "[encoded data removed]",
      "text/latex": [
       "$\\displaystyle - Fx L \\cos{\\left(\\alpha \\right)} + \\frac{L g m \\sin{\\left(\\alpha \\right)}}{2}$"
      ],
      "text/plain": [
       "               L⋅g⋅m⋅sin(α)\n",
       "-Fx⋅L⋅cos(α) + ────────────\n",
       "                    2      "
      ]
     },
     "execution_count": 23,
     "metadata": {},
     "output_type": "execute_result"
    }
   ],
   "source": [
    "# get torque in B = point(L*sin(a),0) = cero  deduced by geometry  Ok nerd?\n",
    "P.torque(L*sin(alpha),0)"
   ]
  },
  {
   "cell_type": "code",
   "execution_count": 24,
   "id": "7832ab8e-ca8e-46df-b45b-37d77bc47e90",
   "metadata": {},
   "outputs": [],
   "source": [
    "# now we will change   fr and N1  value inside P whit info getting above\n",
    "P.setValue(N1,m*g)\n",
    "P.setValue(fr,N1*mu)"
   ]
  },
  {
   "cell_type": "code",
   "execution_count": 25,
   "id": "074034e1-7e23-492e-b95a-14da4c79c658",
   "metadata": {},
   "outputs": [
    {
     "data": {
      "image/png": "[encoded data removed]",
      "text/latex": [
       "$\\displaystyle - Fx L \\cos{\\left(\\alpha \\right)} + \\frac{L g m \\sin{\\left(\\alpha \\right)}}{2}$"
      ],
      "text/plain": [
       "               L⋅g⋅m⋅sin(α)\n",
       "-Fx⋅L⋅cos(α) + ────────────\n",
       "                    2      "
      ]
     },
     "execution_count": 25,
     "metadata": {},
     "output_type": "execute_result"
    }
   ],
   "source": [
    "# get torque in B but with new data\n",
    "P.torque(L*sin(alpha),0)"
   ]
  },
  {
   "cell_type": "code",
   "execution_count": 26,
   "id": "cb838a5d-92ea-41a6-b4ba-d8e422638ba1",
   "metadata": {},
   "outputs": [
    {
     "data": {
      "image/png": "[encoded data removed]",
      "text/latex": [
       "$\\displaystyle \\frac{g m \\tan{\\left(\\alpha \\right)}}{2}$"
      ],
      "text/plain": [
       "g⋅m⋅tan(α)\n",
       "──────────\n",
       "    2     "
      ]
     },
     "execution_count": 26,
     "metadata": {},
     "output_type": "execute_result"
    }
   ],
   "source": [
    "# also we know that torque equal cero and take this to find Fx whit csolve math func\n",
    "csolve(P.torque(L*sin(alpha),0),Fx)"
   ]
  },
  {
   "cell_type": "code",
   "execution_count": 27,
   "id": "f4dffbd5-e553-4bdd-97d0-af32cca7d177",
   "metadata": {},
   "outputs": [],
   "source": [
    "# seting Fx in P\n",
    "P.setValue(Fx,csolve(P.torque(L*sin(alpha),0),Fx))"
   ]
  },
  {
   "cell_type": "markdown",
   "id": "ecca154d-fe8d-46b5-a221-bfd05f5ef273",
   "metadata": {},
   "source": [
    " <img src=\"images/WM020c.png\" alt=\"ml\" style=\"width : 100%;\"/>"
   ]
  },
  {
   "cell_type": "code",
   "execution_count": 28,
   "id": "e00333c0-23e1-4f6b-99dd-8cba1ac376fa",
   "metadata": {},
   "outputs": [
    {
     "data": {
      "text/latex": [
       "$\\displaystyle Fx= \\frac{g m \\tan{\\left(\\alpha \\right)}}{2}$"
      ],
      "text/plain": [
       "<IPython.core.display.Math object>"
      ]
     },
     "metadata": {},
     "output_type": "display_data"
    },
    {
     "data": {
      "text/latex": [
       "$\\displaystyle fr= g m \\mu$"
      ],
      "text/plain": [
       "<IPython.core.display.Math object>"
      ]
     },
     "metadata": {},
     "output_type": "display_data"
    },
    {
     "data": {
      "text/latex": [
       "$\\displaystyle N_{1}= g m$"
      ],
      "text/plain": [
       "<IPython.core.display.Math object>"
      ]
     },
     "metadata": {},
     "output_type": "display_data"
    }
   ],
   "source": [
    "P.disp_solu()"
   ]
  },
  {
   "cell_type": "code",
   "execution_count": 29,
   "id": "18ece0fb-e156-4f96-a967-19a0b50aea9d",
   "metadata": {},
   "outputs": [
    {
     "data": {
      "image/png": "[encoded data removed]",
      "text/latex": [
       "$\\displaystyle \\frac{g m \\tan{\\left(\\alpha \\right)}}{2}$"
      ],
      "text/plain": [
       "g⋅m⋅tan(α)\n",
       "──────────\n",
       "    2     "
      ]
     },
     "execution_count": 29,
     "metadata": {},
     "output_type": "execute_result"
    }
   ],
   "source": [
    "P.value(Fx)"
   ]
  },
  {
   "cell_type": "code",
   "execution_count": 30,
   "id": "af04511a-3b78-43bc-bcd2-8eacc4c427ed",
   "metadata": {},
   "outputs": [
    {
     "data": {
      "text/latex": [
       "$\\displaystyle Tg_a =2 \\mu$"
      ],
      "text/plain": [
       "<IPython.core.display.Math object>"
      ]
     },
     "metadata": {},
     "output_type": "display_data"
    }
   ],
   "source": [
    "# if Fx = fr then get alpha value \n",
    "ta=csolve(P.value(Fx)-P.value(fr),tan(alpha),'Tg_a')"
   ]
  },
  {
   "cell_type": "markdown",
   "id": "b38c61b5-169d-4a2b-b5d7-c1f8608834f4",
   "metadata": {},
   "source": [
    " <img src=\"images/line.png\" alt=\"ml\" style=\"width : 100%;\"/>"
   ]
  },
  {
   "cell_type": "markdown",
   "id": "1a4888f2-c6a2-463b-b5bc-31aee1370e26",
   "metadata": {},
   "source": [
    " <img src=\"images/WM020.png\" alt=\"ml\" style=\"width : 50%;\"/>"
   ]
  },
  {
   "cell_type": "code",
   "execution_count": 31,
   "id": "6d893688-d4d5-4425-a13b-cee2fde42a46",
   "metadata": {},
   "outputs": [],
   "source": [
    "Fx,Fy,m,g,N1,fr,mu,alpha,L,a_x,a_y,t,w_a=symbols('Fx Fy m g N1 fr mu alpha L a_x a_y t w_a',positive=True)"
   ]
  },
  {
   "cell_type": "code",
   "execution_count": 32,
   "id": "48c08a2e-beac-4945-b3e6-2bc016f4621f",
   "metadata": {},
   "outputs": [],
   "source": [
    "# Inercia\n",
    "I_i=symbols('I_i')"
   ]
  },
  {
   "cell_type": "code",
   "execution_count": 33,
   "id": "3562cf8a-6154-41ed-ae05-02ea92342ed0",
   "metadata": {},
   "outputs": [],
   "source": [
    "# creating physical object P\n",
    "P=mparticle()\n",
    "# adding forces, angle , pos x, pos y  to every forces\n",
    "P.add_forza(Fx,0,0,L*cos(alpha))\n",
    "P.add_forza(m*g,-pi/2,L*sin(alpha)/2,L*cos(alpha)/2)\n",
    "P.add_forza(fr,pi,L*sin(alpha),0)\n",
    "P.add_forza(N1,pi/2,L*sin(alpha),0)\n",
    "# Fy = cero...Ok"
   ]
  },
  {
   "cell_type": "code",
   "execution_count": 34,
   "id": "4670c4cd-628c-41bb-b7aa-19f896edb02f",
   "metadata": {},
   "outputs": [],
   "source": [
    "P.setValue(fr,N1*mu) # Now we will work whit m,g,Fx,N1 and mu for now"
   ]
  },
  {
   "cell_type": "code",
   "execution_count": 35,
   "id": "5c422fdd-1d36-4ec8-9be9-7ba7204fb7f5",
   "metadata": {
    "tags": []
   },
   "outputs": [
    {
     "data": {
      "image/png": "[encoded data removed]",
      "text/latex": [
       "$\\displaystyle a_{x} m=Fx - N_{1} \\mu$"
      ],
      "text/plain": [
       "a_x*m=Fx - N1*mu"
      ]
     },
     "execution_count": 35,
     "metadata": {},
     "output_type": "execute_result"
    }
   ],
   "source": [
    "# Traslation X Equation , SumFx=mass*acc\n",
    "Ex=polyclass(m*a_x,P.x_res());Ex.s()"
   ]
  },
  {
   "cell_type": "code",
   "execution_count": 36,
   "id": "ca4e06f6-f90e-48e7-8f0c-93f52ff82b56",
   "metadata": {
    "tags": []
   },
   "outputs": [
    {
     "data": {
      "image/png": "[encoded data removed]",
      "text/latex": [
       "$\\displaystyle a_{y} m=N_{1} - g m$"
      ],
      "text/plain": [
       "a_y*m=N1 - g*m"
      ]
     },
     "execution_count": 36,
     "metadata": {},
     "output_type": "execute_result"
    }
   ],
   "source": [
    "# Traslation Y Equation , SumFx=mass*acc\n",
    "Ey=polyclass(m*a_y,P.y_res());Ey.s()"
   ]
  },
  {
   "cell_type": "code",
   "execution_count": 37,
   "id": "b1a53c72-7cb7-4a25-ab74-5c238b31f2b5",
   "metadata": {
    "tags": []
   },
   "outputs": [],
   "source": [
    "# for geometry we know that mass center of P are in  (x1,y1) equal to.....\n",
    "x1,y1=L*sin(alpha)/2,L*cos(alpha)/2"
   ]
  },
  {
   "cell_type": "code",
   "execution_count": 38,
   "id": "79e00b44-ce25-4a8c-b1e0-fbef16ec6666",
   "metadata": {},
   "outputs": [
    {
     "data": {
      "image/png": "[encoded data removed]",
      "text/latex": [
       "$\\displaystyle - \\frac{Fx L \\cos{\\left(\\alpha \\right)}}{2} - \\frac{L N_{1} \\mu \\cos{\\left(\\alpha \\right)}}{2} + \\frac{L N_{1} \\sin{\\left(\\alpha \\right)}}{2}$"
      ],
      "text/plain": [
       "  Fx⋅L⋅cos(α)   L⋅N₁⋅μ⋅cos(α)   L⋅N₁⋅sin(α)\n",
       "- ─────────── - ───────────── + ───────────\n",
       "       2              2              2     "
      ]
     },
     "execution_count": 38,
     "metadata": {},
     "output_type": "execute_result"
    }
   ],
   "source": [
    "# get torque value in mass center for alpha value to use whit Inerce\n",
    "P.torque(x1,y1)"
   ]
  },
  {
   "cell_type": "markdown",
   "id": "54baf13c-d9cf-4fc3-9008-3104600325f9",
   "metadata": {},
   "source": [
    " <img src=\"images/WM020d.png\" alt=\"ml\" style=\"width : 50%;\"/>"
   ]
  },
  {
   "cell_type": "code",
   "execution_count": 39,
   "id": "7db45b41-6052-4eb9-9702-edadf68e8fa5",
   "metadata": {},
   "outputs": [
    {
     "data": {
      "image/png": "[encoded data removed]",
      "text/latex": [
       "$\\displaystyle I_{i} w_{a}=- \\frac{Fx L \\cos{\\left(\\alpha \\right)}}{2} - \\frac{L N_{1} \\mu \\cos{\\left(\\alpha \\right)}}{2} + \\frac{L N_{1} \\sin{\\left(\\alpha \\right)}}{2}$"
      ],
      "text/plain": [
       "I_i*w_a=-Fx*L*cos(alpha)/2 - L*N1*mu*cos(alpha)/2 + L*N1*sin(alpha)/2"
      ]
     },
     "execution_count": 39,
     "metadata": {},
     "output_type": "execute_result"
    }
   ],
   "source": [
    "# InerciaMoment *AngulAcc=Torque then...\n",
    "Ei=polyclass(I_i*w_a,P.torque(x1,y1));Ei.s()"
   ]
  },
  {
   "cell_type": "code",
   "execution_count": 40,
   "id": "3b2e6138-bec7-453d-a8c8-0bc123cf0768",
   "metadata": {},
   "outputs": [
    {
     "data": {
      "image/png": "[encoded data removed]",
      "text/latex": [
       "$\\displaystyle \\frac{L^{2} m w_{a}}{12}=- \\frac{Fx L \\cos{\\left(\\alpha \\right)}}{2} - \\frac{L N_{1} \\mu \\cos{\\left(\\alpha \\right)}}{2} + \\frac{L N_{1} \\sin{\\left(\\alpha \\right)}}{2}$"
      ],
      "text/plain": [
       "L**2*m*w_a/12=-Fx*L*cos(alpha)/2 - L*N1*mu*cos(alpha)/2 + L*N1*sin(alpha)/2"
      ]
     },
     "execution_count": 40,
     "metadata": {},
     "output_type": "execute_result"
    }
   ],
   "source": [
    "# but Ii=m*L*L/12 then redefine EqI\n",
    "Ei=polyclass(m*L*L*w_a/12,P.torque(x1,y1));Ei.s()"
   ]
  },
  {
   "cell_type": "code",
   "execution_count": 41,
   "id": "09864023-3a5d-43c1-ab24-ec2aedfdd7fa",
   "metadata": {},
   "outputs": [
    {
     "data": {
      "image/png": "[encoded data removed]",
      "text/latex": [
       "$\\displaystyle \\frac{L m w_{a}}{6}=- Fx \\cos{\\left(\\alpha \\right)} - N_{1} \\mu \\cos{\\left(\\alpha \\right)} + N_{1} \\sin{\\left(\\alpha \\right)}$"
      ],
      "text/plain": [
       "L*m*w_a/6=-Fx*cos(alpha) - N1*mu*cos(alpha) + N1*sin(alpha)"
      ]
     },
     "execution_count": 41,
     "metadata": {},
     "output_type": "execute_result"
    }
   ],
   "source": [
    "# 'M' = mult Ei by 2/L to reduce later aplied factor and simplidy... then...\n",
    "Ei.psimplify('M',2/L,'fs')"
   ]
  },
  {
   "cell_type": "code",
   "execution_count": 42,
   "id": "72b70395-776c-442a-b12d-fd6a33d8e84c",
   "metadata": {},
   "outputs": [
    {
     "data": {
      "image/png": "[encoded data removed]",
      "text/latex": [
       "$\\displaystyle \\frac{6 \\left(- Fx \\cos{\\left(\\alpha \\right)} - N_{1} \\mu \\cos{\\left(\\alpha \\right)} + N_{1} \\sin{\\left(\\alpha \\right)}\\right)}{L m}$"
      ],
      "text/plain": [
       "6⋅(-Fx⋅cos(α) - N₁⋅μ⋅cos(α) + N₁⋅sin(α))\n",
       "────────────────────────────────────────\n",
       "                  L⋅m                   "
      ]
     },
     "execution_count": 42,
     "metadata": {},
     "output_type": "execute_result"
    }
   ],
   "source": [
    "Ei.solve(w_a)"
   ]
  },
  {
   "cell_type": "markdown",
   "id": "f5c76d96-13a6-4bc5-a091-92ae93e38323",
   "metadata": {},
   "source": [
    " <img src=\"images/line.png\" alt=\"ml\" style=\"width : 100%;\"/>"
   ]
  },
  {
   "cell_type": "markdown",
   "id": "7ad0b394-e023-444e-acb7-e4fcbf40f68a",
   "metadata": {
    "tags": []
   },
   "source": [
    " <img src=\"images/WM030.png\" alt=\"ml\" style=\"width : 80%;\"/>"
   ]
  },
  {
   "cell_type": "code",
   "execution_count": 43,
   "id": "566b93a2-c9cf-46b5-ba95-e9f28fa1775b",
   "metadata": {},
   "outputs": [],
   "source": [
    "Fx,Fy,N1,fr,alpha,t,x,V=symbols('Fx Fy N1 fr alpha t x V',positive=True)"
   ]
  },
  {
   "cell_type": "code",
   "execution_count": 44,
   "id": "c8bbfce2-6540-431f-97b5-4cc66763d42e",
   "metadata": {},
   "outputs": [],
   "source": [
    "m=2\n",
    "g=10\n",
    "L=2\n",
    "a1=pi/4\n",
    "xx1,yy1,xx2,yy2=sin(pi/4),cos(pi/4),1,0\n",
    "P=mparticle(m=2,g=10,x1=xx1,x2=xx2,y1=yy1,y2=yy2,v1=0,v2=V)"
   ]
  },
  {
   "cell_type": "markdown",
   "id": "59055ae6-cb31-46b2-b0f0-96a07f2c0281",
   "metadata": {
    "tags": []
   },
   "source": [
    " <img src=\"images/WM030a.png\" alt=\"ml\" style=\"width : 80%;\"/>"
   ]
  },
  {
   "cell_type": "code",
   "execution_count": 45,
   "id": "c25b323e-8067-42a3-917c-35db958ea807",
   "metadata": {},
   "outputs": [],
   "source": [
    "Fx=3*m*g*sin(alpha)*(3*cos(a1)-cos(alpha))\n",
    "Fy=m*g-3*m*g*(1+2*cos(alpha)*cos(a1)-3*kpow(cos(alpha),2))/4"
   ]
  },
  {
   "cell_type": "code",
   "execution_count": 46,
   "id": "8d5129b9-cbe4-4a70-a05f-d578d69c4a20",
   "metadata": {},
   "outputs": [],
   "source": [
    "x1=5*sin(alpha) # x pos in alpha function..\n",
    "y1=5*cos(alpha) # y pos in alpha function.."
   ]
  },
  {
   "cell_type": "code",
   "execution_count": 47,
   "id": "477d9578-ba33-45ed-b813-bddbc32a3a11",
   "metadata": {},
   "outputs": [
    {
     "data": {
      "image/png": "[encoded data removed]",
      "text/latex": [
       "$\\displaystyle 344.366530097709$"
      ],
      "text/plain": [
       "344.366530097709"
      ]
     },
     "execution_count": 47,
     "metadata": {},
     "output_type": "execute_result"
    }
   ],
   "source": [
    "# WorxX= Fx*dx = Fx(a)*dx/d(alpha)\n",
    "Wx=opemat(integrate(Fx*x1,(alpha,pi/4,pi/2)),'v');Wx # integrate give me num value"
   ]
  },
  {
   "cell_type": "code",
   "execution_count": 48,
   "id": "7f10d21f-4fa2-4fa3-9169-1343ade96814",
   "metadata": {},
   "outputs": [
    {
     "data": {
      "image/png": "[encoded data removed]",
      "text/latex": [
       "$\\displaystyle 9.6042857471195$"
      ],
      "text/plain": [
       "9.60428574711950"
      ]
     },
     "execution_count": 48,
     "metadata": {},
     "output_type": "execute_result"
    }
   ],
   "source": [
    "Wy=opemat(integrate(Fy*y1,(alpha,pi/4,pi/2)),'v');Wy"
   ]
  },
  {
   "cell_type": "code",
   "execution_count": 49,
   "id": "7867a36c-9b9d-4cdc-ae9b-d243502ff0b7",
   "metadata": {},
   "outputs": [
    {
     "data": {
      "image/png": "[encoded data removed]",
      "text/latex": [
       "$\\displaystyle 353.970815844828$"
      ],
      "text/plain": [
       "353.970815844828"
      ]
     },
     "execution_count": 49,
     "metadata": {},
     "output_type": "execute_result"
    }
   ],
   "source": [
    "Wt=Wx+Wy;Wt"
   ]
  },
  {
   "cell_type": "code",
   "execution_count": 50,
   "id": "01610db9-e9dd-4ad9-82ea-9c0cfc5161a3",
   "metadata": {},
   "outputs": [
    {
     "data": {
      "text/latex": [
       "$\\displaystyle V_f =19.1862698685429$"
      ],
      "text/plain": [
       "<IPython.core.display.Math object>"
      ]
     },
     "metadata": {},
     "output_type": "display_data"
    }
   ],
   "source": [
    "# Energy in tha system is equal to Total Work.. ??? humm let me if are good\n",
    "V=csolve(P.energia()-Wx-Wy,V,'V_f',korden=1)"
   ]
  },
  {
   "cell_type": "markdown",
   "id": "proved-sunglasses",
   "metadata": {},
   "source": [
    " <img src=\"images/line.png\" alt=\"ml\" style=\"width : 100%;\"/>"
   ]
  },
  {
   "cell_type": "markdown",
   "id": "8c4922c6-acc9-4439-ab86-9941f3b75702",
   "metadata": {},
   "source": [
    " <img src=\"images/WM040.png\" alt=\"ml\" style=\"width : 100%;\"/>"
   ]
  },
  {
   "cell_type": "code",
   "execution_count": 51,
   "id": "5bd6f418-d3c2-4d91-9f28-e2178a949e43",
   "metadata": {},
   "outputs": [],
   "source": [
    "m,g,nx = symbols('m g nx',positive=True)"
   ]
  },
  {
   "cell_type": "code",
   "execution_count": 52,
   "id": "ba557d3f-7331-4ec9-be70-3ce56e845058",
   "metadata": {},
   "outputs": [],
   "source": [
    "m=4\n",
    "g=10\n",
    "d=2\n",
    "mu=1/4\n",
    "N1=m*g\n",
    "fr=N1*mu"
   ]
  },
  {
   "cell_type": "code",
   "execution_count": 53,
   "id": "0cd27cae-493f-4c4f-92b3-91ae028072fc",
   "metadata": {},
   "outputs": [
    {
     "data": {
      "image/png": "[encoded data removed]",
      "text/latex": [
       "$\\displaystyle 20.0$"
      ],
      "text/plain": [
       "20.0"
      ]
     },
     "execution_count": 53,
     "metadata": {},
     "output_type": "execute_result"
    }
   ],
   "source": [
    "# Work when pass one time\n",
    "W=fr*d;W"
   ]
  },
  {
   "cell_type": "code",
   "execution_count": 54,
   "id": "264686f9-2434-4bd2-98b0-ddde25415659",
   "metadata": {},
   "outputs": [
    {
     "data": {
      "image/png": "[encoded data removed]",
      "text/latex": [
       "$\\displaystyle 20.0 nx$"
      ],
      "text/plain": [
       "20.0⋅nx"
      ]
     },
     "execution_count": 54,
     "metadata": {},
     "output_type": "execute_result"
    }
   ],
   "source": [
    "# Work when pass nx time\n",
    "Wn=W*nx;Wn"
   ]
  },
  {
   "cell_type": "code",
   "execution_count": 55,
   "id": "b76f1270-ff9d-4093-b67d-1a2402fa9829",
   "metadata": {},
   "outputs": [],
   "source": [
    "P=mparticle(m=4,g=10,y1=10,y2=0) # only y pos data is relevant "
   ]
  },
  {
   "cell_type": "code",
   "execution_count": 56,
   "id": "f8eaa034-fd68-4e41-b9e4-764d7867a664",
   "metadata": {},
   "outputs": [
    {
     "data": {
      "image/png": "[encoded data removed]",
      "text/latex": [
       "$\\displaystyle 400$"
      ],
      "text/plain": [
       "400"
      ]
     },
     "execution_count": 56,
     "metadata": {},
     "output_type": "execute_result"
    }
   ],
   "source": [
    "# Total work will be equal to Potential Energy Total\n",
    "P.energia('P')"
   ]
  },
  {
   "cell_type": "code",
   "execution_count": 57,
   "id": "3b5ed3c5-4441-4580-a3d7-530a4c9653eb",
   "metadata": {},
   "outputs": [
    {
     "data": {
      "text/latex": [
       "$\\displaystyle n_t =20.0$"
      ],
      "text/plain": [
       "<IPython.core.display.Math object>"
      ]
     },
     "metadata": {},
     "output_type": "display_data"
    }
   ],
   "source": [
    "nn=csolve(Wn-P.energia('P'),nx,'n_t')"
   ]
  },
  {
   "cell_type": "markdown",
   "id": "1b862cd2-874b-45b9-8441-91d409d1158b",
   "metadata": {},
   "source": [
    " <img src=\"images/line.png\" alt=\"ml\" style=\"width : 100%;\"/>"
   ]
  },
  {
   "cell_type": "markdown",
   "id": "ce18e109-843c-40da-af56-10bfe79b184a",
   "metadata": {},
   "source": [
    " <img src=\"images/WM050.png\" alt=\"ml\" style=\"width : 100%;\"/>"
   ]
  },
  {
   "cell_type": "code",
   "execution_count": 34,
   "id": "5bcd5870-b3a4-46e5-9e4a-490e927d3b1f",
   "metadata": {},
   "outputs": [],
   "source": [
    "m,g,Fx,fr,N1,b,mu,x,V=symbols('m g Fx fr N1 b mu x V',positive=True)"
   ]
  },
  {
   "cell_type": "code",
   "execution_count": 35,
   "id": "a6dcb86d-7573-4f49-8eaa-634564bebbe2",
   "metadata": {},
   "outputs": [
    {
     "data": {
      "text/latex": [
       "$\\displaystyle W_t =- \\frac{b^{2} g m}{4}$"
      ],
      "text/plain": [
       "<IPython.core.display.Math object>"
      ]
     },
     "metadata": {},
     "output_type": "display_data"
    }
   ],
   "source": [
    "# Total work generate by fricction \n",
    "mu=frs(1,2)\n",
    "N1=m*(b-x)*g\n",
    "fr=N1*mu\n",
    "W=integrate(fr,(x,b,0))\n",
    "show_res(W,'W_t')"
   ]
  },
  {
   "cell_type": "code",
   "execution_count": 36,
   "id": "5a7cfdb1-f1d2-4d26-8414-d0d180951fa3",
   "metadata": {},
   "outputs": [],
   "source": [
    "# a little trick to solve quicky\n",
    "def Tenergy(m,g,h,v):\n",
    "    Ek=m*v*v/2\n",
    "    Ep=m*g*h\n",
    "    kres=Ek+Ep\n",
    "    show_res(kres,'E_t')\n",
    "    return Ek+Ep"
   ]
  },
  {
   "cell_type": "code",
   "execution_count": 37,
   "id": "bf889f11-a3db-4d94-b62c-ca202071c5b2",
   "metadata": {},
   "outputs": [
    {
     "data": {
      "text/latex": [
       "$\\displaystyle E_t =- \\frac{b^{2} g m}{2}$"
      ],
      "text/plain": [
       "<IPython.core.display.Math object>"
      ]
     },
     "metadata": {},
     "output_type": "display_data"
    }
   ],
   "source": [
    "# Total Energy when is droped b long\n",
    "E1=Tenergy(m*b,g,-b/2,0)"
   ]
  },
  {
   "cell_type": "code",
   "execution_count": 38,
   "id": "f09d2133-11a7-44e9-a031-6a4418aab900",
   "metadata": {},
   "outputs": [
    {
     "data": {
      "text/latex": [
       "$\\displaystyle E_t =V^{2} b m - 2 b^{2} g m$"
      ],
      "text/plain": [
       "<IPython.core.display.Math object>"
      ]
     },
     "metadata": {},
     "output_type": "display_data"
    }
   ],
   "source": [
    "# Total Energy when is droped 2*b long\n",
    "E2=Tenergy(m*b*2,g,-b,V)"
   ]
  },
  {
   "cell_type": "code",
   "execution_count": 39,
   "id": "d64b091a-24a3-4c00-a789-3acc89395be0",
   "metadata": {},
   "outputs": [
    {
     "data": {
      "text/latex": [
       "$\\displaystyle final_e =V^{2} b m - \\frac{3 b^{2} g m}{2}$"
      ],
      "text/plain": [
       "<IPython.core.display.Math object>"
      ]
     },
     "metadata": {},
     "output_type": "display_data"
    }
   ],
   "source": [
    "show_res(E2-E1,'final_e')"
   ]
  },
  {
   "cell_type": "code",
   "execution_count": 40,
   "id": "3e8c5572-850e-4cb9-aec6-f7e60d675a80",
   "metadata": {},
   "outputs": [
    {
     "data": {
      "image/png": "[encoded data removed]",
      "text/latex": [
       "$\\displaystyle V^{2} b m - \\frac{3 b^{2} g m}{2}=- \\frac{b^{2} g m}{4}$"
      ],
      "text/plain": [
       "V**2*b*m - 3*b**2*g*m/2=-b**2*g*m/4"
      ]
     },
     "execution_count": 40,
     "metadata": {},
     "output_type": "execute_result"
    }
   ],
   "source": [
    "#$create Eq to solve , Et = Wt, find V\n",
    "e1=polyclass(E2-E1,W);e1.s()"
   ]
  },
  {
   "cell_type": "code",
   "execution_count": 41,
   "id": "4ad09725-41df-4b4b-938f-084f3967896b",
   "metadata": {},
   "outputs": [
    {
     "data": {
      "text/latex": [
       "$\\displaystyle V =\\frac{\\sqrt{5} \\sqrt{b g}}{2}$"
      ],
      "text/plain": [
       "<IPython.core.display.Math object>"
      ]
     },
     "metadata": {},
     "output_type": "display_data"
    }
   ],
   "source": [
    "V=e1.solve(V,'V',korden=1)"
   ]
  },
  {
   "cell_type": "markdown",
   "id": "8adf8046-62fa-4ea5-b190-980f1860215e",
   "metadata": {},
   "source": [
    " <img src=\"images/line.png\" alt=\"ml\" style=\"width : 100%;\"/>"
   ]
  },
  {
   "cell_type": "markdown",
   "id": "f0284bbe-81a0-4a32-8109-24de8914d843",
   "metadata": {},
   "source": [
    " <img src=\"images/WM060.png\" alt=\"ml\" style=\"width : 100%;\"/>"
   ]
  },
  {
   "cell_type": "code",
   "execution_count": 2,
   "id": "49666281-dfc6-4850-92c8-b31a7f73ef16",
   "metadata": {},
   "outputs": [],
   "source": [
    "m,g,F1,F2,x,V=symbols('m g F1 F2 x V',positive=True)"
   ]
  },
  {
   "cell_type": "code",
   "execution_count": 3,
   "id": "bf2c164c-4ead-4fc1-a699-ffad9dcad633",
   "metadata": {},
   "outputs": [],
   "source": [
    "F1=15\n",
    "F2=(2*x+5)\n",
    "P=mparticle(m=2,g=10,x1=0,x2=x,y1=0,y2=0,v1=0,v2=V)"
   ]
  },
  {
   "cell_type": "code",
   "execution_count": 4,
   "id": "016d1d4f-6859-4ccc-a20b-34d0d30455d9",
   "metadata": {},
   "outputs": [],
   "source": [
    "P.add_forza(F1,0)\n",
    "P.add_forza(F2,pi)"
   ]
  },
  {
   "cell_type": "code",
   "execution_count": 5,
   "id": "dfeaa173-cd6a-4a18-9b4f-9467c22afc49",
   "metadata": {},
   "outputs": [
    {
     "data": {
      "image/png": "[encoded data removed]",
      "text/latex": [
       "$\\displaystyle - x^{2} + 10 x$"
      ],
      "text/plain": [
       "   2       \n",
       "- x  + 10⋅x"
      ]
     },
     "execution_count": 5,
     "metadata": {},
     "output_type": "execute_result"
    }
   ],
   "source": [
    "W=kintegrate(P.x_res(),x);W"
   ]
  },
  {
   "cell_type": "code",
   "execution_count": 6,
   "id": "a3cc71ea-b4e4-439a-a3ca-9c2fe422313f",
   "metadata": {},
   "outputs": [
    {
     "data": {
      "image/png": "[encoded data removed]",
      "text/latex": [
       "$\\displaystyle 10 - 2 x$"
      ],
      "text/plain": [
       "10 - 2⋅x"
      ]
     },
     "execution_count": 6,
     "metadata": {},
     "output_type": "execute_result"
    }
   ],
   "source": [
    "P.x_res()"
   ]
  },
  {
   "cell_type": "code",
   "execution_count": 7,
   "id": "2a9c48b2-40e1-41e2-b077-9b4ef7bb9a6d",
   "metadata": {},
   "outputs": [
    {
     "data": {
      "text/latex": [
       "$\\displaystyle V =\\sqrt{x \\left(10 - x\\right)}$"
      ],
      "text/plain": [
       "<IPython.core.display.Math object>"
      ]
     },
     "metadata": {},
     "output_type": "display_data"
    }
   ],
   "source": [
    "V=csolve(P.energia()-W,V,'V',korden=0)"
   ]
  },
  {
   "cell_type": "code",
   "execution_count": 9,
   "id": "22dd22cf-85b1-4be7-b21d-eb13c714d53c",
   "metadata": {},
   "outputs": [
    {
     "data": {
      "image/png": "[encoded data removed]",
      "text/latex": [
       "$\\displaystyle \\frac{\\sqrt{x \\left(10 - x\\right)} \\left(5 - x\\right)}{x \\left(10 - x\\right)}$"
      ],
      "text/plain": [
       "  ____________        \n",
       "╲╱ x⋅(10 - x) ⋅(5 - x)\n",
       "──────────────────────\n",
       "      x⋅(10 - x)      "
      ]
     },
     "execution_count": 9,
     "metadata": {},
     "output_type": "execute_result"
    }
   ],
   "source": [
    "Vm=kdiff(V,x);Vm"
   ]
  },
  {
   "cell_type": "code",
   "execution_count": 11,
   "id": "0dcd840c-d906-4408-8f07-1d06b172bb36",
   "metadata": {},
   "outputs": [
    {
     "data": {
      "text/latex": [
       "$\\displaystyle X_v =5$"
      ],
      "text/plain": [
       "<IPython.core.display.Math object>"
      ]
     },
     "metadata": {},
     "output_type": "display_data"
    }
   ],
   "source": [
    "X=csolve(Vm,x,'X_v')"
   ]
  },
  {
   "cell_type": "markdown",
   "id": "bc5383b7-33c6-4c02-adbc-077fcd42d12c",
   "metadata": {},
   "source": [
    " <img src=\"images/line.png\" alt=\"ml\" style=\"width : 100%;\"/>"
   ]
  },
  {
   "cell_type": "markdown",
   "id": "37e53114-519f-478f-aecc-e3b53e17e135",
   "metadata": {},
   "source": [
    " <img src=\"images/WM070.png\" alt=\"ml\" style=\"width : 100%;\"/>"
   ]
  },
  {
   "cell_type": "code",
   "execution_count": 3,
   "id": "6e4e005e-2fc0-45c1-af55-86879c9c1178",
   "metadata": {},
   "outputs": [],
   "source": [
    "m,g,r,alpha,V=symbols('m g r alpha V',positive=True)"
   ]
  },
  {
   "cell_type": "code",
   "execution_count": 4,
   "id": "07ef1960-9d60-4269-beeb-63cf287556d3",
   "metadata": {},
   "outputs": [],
   "source": [
    "# Part one.. On circle....\n",
    "P=mparticle(m=m,g=g,x1=-r,y1=0,x2=r*sin(alpha),y2=-r*cos(alpha),v1=0,v2=V)"
   ]
  },
  {
   "cell_type": "code",
   "execution_count": 5,
   "id": "fadaf1b4-936e-4f83-b3e7-cf4bec35488a",
   "metadata": {},
   "outputs": [
    {
     "data": {
      "text/latex": [
       "$\\displaystyle V =\\sqrt{2} \\sqrt{g r \\cos{\\left(\\alpha \\right)}}$"
      ],
      "text/plain": [
       "<IPython.core.display.Math object>"
      ]
     },
     "metadata": {},
     "output_type": "display_data"
    }
   ],
   "source": [
    "# Total Energy on circle equal cero, find out_V and store\n",
    "V=csolve(P.energia(),V,'V',korden=1)"
   ]
  },
  {
   "cell_type": "code",
   "execution_count": 6,
   "id": "e12ea09e-6d70-4ed2-9c33-47055c649ab1",
   "metadata": {},
   "outputs": [],
   "source": [
    "# Part two fly Ball fly..... kinematic seting\n",
    "B=mparticle(v=V,x1=0,y1=0,a=alpha,y2=0,g=g) "
   ]
  },
  {
   "cell_type": "code",
   "execution_count": 7,
   "id": "275f7191-f348-4d4a-9fa5-9633746988d5",
   "metadata": {},
   "outputs": [
    {
     "data": {
      "image/png": "[encoded data removed]",
      "text/latex": [
       "$\\displaystyle \\frac{4 g r \\sin{\\left(\\alpha \\right)} \\cos{\\left(\\alpha \\right)} \\cos{\\left(\\alpha \\right)}}{g}$"
      ],
      "text/plain": [
       "4⋅g⋅r⋅sin(α)⋅cos(α)⋅cos(α)\n",
       "──────────────────────────\n",
       "            g             "
      ]
     },
     "execution_count": 7,
     "metadata": {},
     "output_type": "execute_result"
    }
   ],
   "source": [
    "L=B.x_max();L"
   ]
  },
  {
   "cell_type": "code",
   "execution_count": 8,
   "id": "0f0ab90c-2b2c-49f6-ba28-91ab2593c78c",
   "metadata": {},
   "outputs": [
    {
     "data": {
      "image/png": "[encoded data removed]",
      "text/latex": [
       "$\\displaystyle - 8 r \\sin^{2}{\\left(\\alpha \\right)} \\cos{\\left(\\alpha \\right)} + 4 r \\cos^{3}{\\left(\\alpha \\right)}=0$"
      ],
      "text/plain": [
       "-8*r*sin(alpha)**2*cos(alpha) + 4*r*cos(alpha)**3=0"
      ]
     },
     "execution_count": 8,
     "metadata": {},
     "output_type": "execute_result"
    }
   ],
   "source": [
    "# Equation of d in alpha function\n",
    "e1=polyclass(kdiff(L,alpha),0);e1.s()"
   ]
  },
  {
   "cell_type": "code",
   "execution_count": 9,
   "id": "950bc197-7ef2-4b8c-856e-5624c1c590ac",
   "metadata": {},
   "outputs": [
    {
     "data": {
      "image/png": "[encoded data removed]",
      "text/latex": [
       "$\\displaystyle \\left(1 - 3 \\sin^{2}{\\left(\\alpha \\right)}\\right) \\cos{\\left(\\alpha \\right)}=0$"
      ],
      "text/plain": [
       "(1 - 3*sin(alpha)**2)*cos(alpha)=0"
      ]
     },
     "execution_count": 9,
     "metadata": {},
     "output_type": "execute_result"
    }
   ],
   "source": [
    "e1.psimplify('D',4*r,'sf') # take e1, divide by 4*r and simpli.. and factor"
   ]
  },
  {
   "cell_type": "code",
   "execution_count": 10,
   "id": "aef40385-2fe6-480e-a673-a6362687c36c",
   "metadata": {},
   "outputs": [
    {
     "data": {
      "image/png": "[encoded data removed]",
      "text/latex": [
       "$\\displaystyle 1 - 3 \\sin^{2}{\\left(\\alpha \\right)}=0$"
      ],
      "text/plain": [
       "1 - 3*sin(alpha)**2=0"
      ]
     },
     "execution_count": 10,
     "metadata": {},
     "output_type": "execute_result"
    }
   ],
   "source": [
    "e1.psimplify('D',cos(alpha),'sf') # del cos(al....) whit divide"
   ]
  },
  {
   "cell_type": "code",
   "execution_count": 18,
   "id": "330eb66f-68ab-41b7-a046-d60c0c39996e",
   "metadata": {},
   "outputs": [
    {
     "data": {
      "text/latex": [
       "$\\displaystyle asin(alpha) =\\frac{\\sqrt{3}}{3}$"
      ],
      "text/plain": [
       "<IPython.core.display.Math object>"
      ]
     },
     "metadata": {},
     "output_type": "display_data"
    }
   ],
   "source": [
    "kr=e1.solve(sin(alpha),'asin(alpha)' ,korden=1)"
   ]
  },
  {
   "cell_type": "code",
   "execution_count": 19,
   "id": "46b9cec1-caaf-453e-98bd-5debe3860100",
   "metadata": {},
   "outputs": [
    {
     "data": {
      "image/png": "[encoded data removed]",
      "text/latex": [
       "$\\displaystyle \\frac{4 \\sqrt{2} g r \\cos{\\left(\\alpha \\right)}}{3 g}$"
      ],
      "text/plain": [
       "4⋅√2⋅g⋅r⋅cos(α)\n",
       "───────────────\n",
       "      3⋅g      "
      ]
     },
     "execution_count": 19,
     "metadata": {},
     "output_type": "execute_result"
    }
   ],
   "source": [
    "# ksubs is like subs in sympy but I dont know why sympy use double value and defini..\n",
    "# see whit sympy\n",
    "L.subs(alpha,asin(kr))\n",
    "# ES UNA MIERDAAAAA...#  for this reazon I create and use... this..."
   ]
  },
  {
   "cell_type": "markdown",
   "id": "6f0b1e37-16b9-40a9-a540-d5c29057afbd",
   "metadata": {},
   "source": [
    " <img src=\"images/tip4.png\" alt=\"ml\" style=\"width : 100%;\"/>"
   ]
  },
  {
   "cell_type": "code",
   "execution_count": 20,
   "id": "e51faafa-f04f-4d8f-a1eb-d825165b8aa5",
   "metadata": {},
   "outputs": [
    {
     "data": {
      "image/png": "[encoded data removed]",
      "text/latex": [
       "$\\displaystyle \\frac{4 g r \\sin{\\left(\\alpha \\right)} \\cos{\\left(\\alpha \\right)} \\cos{\\left(\\alpha \\right)}}{g}$"
      ],
      "text/plain": [
       "4⋅g⋅r⋅sin(α)⋅cos(α)⋅cos(α)\n",
       "──────────────────────────\n",
       "            g             "
      ]
     },
     "execution_count": 20,
     "metadata": {},
     "output_type": "execute_result"
    }
   ],
   "source": [
    "L #remember that L are in alpha funcction"
   ]
  },
  {
   "cell_type": "code",
   "execution_count": 21,
   "id": "914f8cda-0bf6-469a-bc08-2e108fb16c60",
   "metadata": {},
   "outputs": [
    {
     "data": {
      "image/png": "[encoded data removed]",
      "text/latex": [
       "$\\displaystyle \\frac{8 \\sqrt{3} r}{9}$"
      ],
      "text/plain": [
       "8⋅√3⋅r\n",
       "──────\n",
       "  9   "
      ]
     },
     "execution_count": 21,
     "metadata": {},
     "output_type": "execute_result"
    }
   ],
   "source": [
    "ksubs(L,alpha,asin(kr)) # change alpha by new  angle... and voaaallaaa"
   ]
  },
  {
   "cell_type": "markdown",
   "id": "78da0596-1506-4a15-a714-50ff2583a4fd",
   "metadata": {},
   "source": [
    " <img src=\"images/line.png\" alt=\"ml\" style=\"width : 100%;\"/>"
   ]
  },
  {
   "cell_type": "markdown",
   "id": "f5500ede-97ec-47da-8c65-811e97c9f57b",
   "metadata": {},
   "source": [
    " <img src=\"images/WM090.png\" alt=\"ml\" style=\"width : 100%;\"/>"
   ]
  },
  {
   "cell_type": "code",
   "execution_count": 39,
   "id": "cc196e7c-05c8-4074-882b-6a78f66d4238",
   "metadata": {},
   "outputs": [],
   "source": [
    "V,V1,V2,alpha,L,m,g,h,d1,d2=symbols('V,V1 V2 alpha L m,g h d1 d2',positive=True)\n",
    "g=10\n",
    "h=4\n",
    "m=1\n",
    "V=rpow(144,2)\n",
    "Pa=mparticle(m=m,g=g,x1=0,x2=d1,y1=0,y2=0,v1=V,v2=V1)\n",
    "Pb=mparticle(m=m,g=g,x1=L,x2=d2,y1=0,y2=h,v1=V,v2=V2)"
   ]
  },
  {
   "cell_type": "markdown",
   "id": "c849598c-f215-44c5-8102-dc867c89b8f9",
   "metadata": {},
   "source": [
    " <img src=\"images/energyDef.png\" alt=\"ml\" style=\"width : 100%;\"/>"
   ]
  },
  {
   "cell_type": "code",
   "execution_count": 40,
   "id": "9732a3af-4f79-4350-b4a8-48ef95e83cbc",
   "metadata": {},
   "outputs": [
    {
     "data": {
      "image/png": "[encoded data removed]",
      "text/latex": [
       "$\\displaystyle 144$"
      ],
      "text/plain": [
       "144"
      ]
     },
     "execution_count": 40,
     "metadata": {},
     "output_type": "execute_result"
    }
   ],
   "source": [
    "# E1 = Energy Total Initial\n",
    "E1=Pa.energia('1')+Pb.energia('1') "
   ]
  },
  {
   "cell_type": "code",
   "execution_count": 27,
   "id": "b7afbb9b-f73c-495e-b8f4-547dd96e2926",
   "metadata": {},
   "outputs": [
    {
     "data": {
      "image/png": "[encoded data removed]",
      "text/latex": [
       "$\\displaystyle \\frac{V_{1}^{2}}{2} + \\frac{V_{2}^{2}}{2} + 40$"
      ],
      "text/plain": [
       "  2     2     \n",
       "V₁    V₂      \n",
       "─── + ─── + 40\n",
       " 2     2      "
      ]
     },
     "execution_count": 27,
     "metadata": {},
     "output_type": "execute_result"
    }
   ],
   "source": [
    "# E1 = Energy Total final\n",
    "E2=Pa.energia('2')+Pb.energia('2') "
   ]
  },
  {
   "cell_type": "markdown",
   "id": "173fb4af-77f3-4bd6-a045-17073b5b559f",
   "metadata": {},
   "source": [
    " <img src=\"images/WM090a.png\" alt=\"ml\" style=\"width : 100%;\"/>"
   ]
  },
  {
   "cell_type": "code",
   "execution_count": 28,
   "id": "0fd231c7-3261-4b0c-8eb1-1d079fdd05d7",
   "metadata": {},
   "outputs": [
    {
     "data": {
      "image/png": "[encoded data removed]",
      "text/latex": [
       "$\\displaystyle \\frac{\\sqrt{2} V_{1}}{2}=V_{2} \\sin{\\left(\\alpha + \\frac{\\pi}{4} \\right)}$"
      ],
      "text/plain": [
       "sqrt(2)*V1/2=V2*sin(alpha + pi/4)"
      ]
     },
     "execution_count": 28,
     "metadata": {},
     "output_type": "execute_result"
    }
   ],
   "source": [
    "# create Equa Velocity same direcction are equal module \n",
    "e2=polyclass(V1*cos(pi/4),V2*cos(alpha-pi/4));e2.s()"
   ]
  },
  {
   "cell_type": "code",
   "execution_count": 29,
   "id": "a00b2bff-228f-4dec-b815-064ad47bcd8e",
   "metadata": {},
   "outputs": [
    {
     "data": {
      "image/png": "[encoded data removed]",
      "text/latex": [
       "$\\displaystyle \\frac{\\sqrt{2} V_{1}}{2}=V_{2} \\left(\\frac{\\sqrt{2} \\sin{\\left(\\alpha \\right)}}{2} + \\frac{\\sqrt{2} \\cos{\\left(\\alpha \\right)}}{2}\\right)$"
      ],
      "text/plain": [
       "sqrt(2)*V1/2=V2*(sqrt(2)*sin(alpha)/2 + sqrt(2)*cos(alpha)/2)"
      ]
     },
     "execution_count": 29,
     "metadata": {},
     "output_type": "execute_result"
    }
   ],
   "source": [
    "e2.psimplify('M',1,'x') # e2*1 and trig expand "
   ]
  },
  {
   "cell_type": "code",
   "execution_count": 30,
   "id": "9c36e640-33d3-4a5b-83d5-3a89ca7388a8",
   "metadata": {},
   "outputs": [
    {
     "data": {
      "image/png": "[encoded data removed]",
      "text/latex": [
       "$\\displaystyle \\frac{\\sqrt{2} V_{1}}{2}=V_{2} \\left(\\frac{\\sqrt{2} \\cos{\\left(\\alpha \\right)}}{2} + \\frac{3 \\sqrt{2}}{10}\\right)$"
      ],
      "text/plain": [
       "sqrt(2)*V1/2=V2*(sqrt(2)*cos(alpha)/2 + 3*sqrt(2)/10)"
      ]
     },
     "execution_count": 30,
     "metadata": {},
     "output_type": "execute_result"
    }
   ],
   "source": [
    "e2.setValue(sin(alpha),frs(3,5)) # e2 change alpha = 53grad "
   ]
  },
  {
   "cell_type": "code",
   "execution_count": 31,
   "id": "9014b506-7bbd-4641-9c78-54bd25d7b759",
   "metadata": {},
   "outputs": [
    {
     "data": {
      "image/png": "[encoded data removed]",
      "text/latex": [
       "$\\displaystyle \\frac{\\sqrt{2} V_{1}}{2}=\\frac{7 \\sqrt{2} V_{2}}{10}$"
      ],
      "text/plain": [
       "sqrt(2)*V1/2=7*sqrt(2)*V2/10"
      ]
     },
     "execution_count": 31,
     "metadata": {},
     "output_type": "execute_result"
    }
   ],
   "source": [
    "e2.setValue(cos(alpha),frs(4,5)) "
   ]
  },
  {
   "cell_type": "code",
   "execution_count": 32,
   "id": "6b31de68-ad80-4d0f-85ea-99c32da474bf",
   "metadata": {},
   "outputs": [
    {
     "data": {
      "text/latex": [
       "$\\displaystyle V2 =\\frac{5 V_{1}}{7}$"
      ],
      "text/plain": [
       "<IPython.core.display.Math object>"
      ]
     },
     "metadata": {},
     "output_type": "display_data"
    }
   ],
   "source": [
    "v22=e2.solve(V2,'V2')"
   ]
  },
  {
   "cell_type": "code",
   "execution_count": 33,
   "id": "111c6b89-0224-425d-834e-c11346af6b8a",
   "metadata": {},
   "outputs": [
    {
     "data": {
      "image/png": "[encoded data removed]",
      "text/latex": [
       "$\\displaystyle 144=\\frac{V_{1}^{2}}{2} + \\frac{V_{2}^{2}}{2} + 40$"
      ],
      "text/plain": [
       "144=V1**2/2 + V2**2/2 + 40"
      ]
     },
     "execution_count": 33,
     "metadata": {},
     "output_type": "execute_result"
    }
   ],
   "source": [
    "e3=polyclass(E1,E2);e3.s()"
   ]
  },
  {
   "cell_type": "code",
   "execution_count": 34,
   "id": "53ff3256-249a-41ca-9999-a148531bfc53",
   "metadata": {},
   "outputs": [
    {
     "data": {
      "image/png": "[encoded data removed]",
      "text/latex": [
       "$\\displaystyle 144=\\frac{37 V_{1}^{2}}{49} + 40$"
      ],
      "text/plain": [
       "144=37*V1**2/49 + 40"
      ]
     },
     "execution_count": 34,
     "metadata": {},
     "output_type": "execute_result"
    }
   ],
   "source": [
    "e3.setValue(V2,v22)"
   ]
  },
  {
   "cell_type": "code",
   "execution_count": 35,
   "id": "6863b404-0907-4f98-b200-892f3a0c7f92",
   "metadata": {},
   "outputs": [
    {
     "data": {
      "text/latex": [
       "$\\displaystyle V1 =\\frac{14 \\sqrt{962}}{37}$"
      ],
      "text/plain": [
       "<IPython.core.display.Math object>"
      ]
     },
     "metadata": {},
     "output_type": "display_data"
    }
   ],
   "source": [
    "v11=e3.solve(V1,'V1',korden=1)"
   ]
  },
  {
   "cell_type": "code",
   "execution_count": 19,
   "id": "a86b02d0-00d0-42a8-8e58-6c1afe698fb9",
   "metadata": {},
   "outputs": [
    {
     "data": {
      "image/png": "[encoded data removed]",
      "text/latex": [
       "$\\displaystyle \\frac{14 \\sqrt{962}}{37}$"
      ],
      "text/plain": [
       "14⋅√962\n",
       "───────\n",
       "   37  "
      ]
     },
     "execution_count": 19,
     "metadata": {},
     "output_type": "execute_result"
    }
   ],
   "source": [
    "nsimplify(e3.solve(V1,korden=1))"
   ]
  },
  {
   "cell_type": "markdown",
   "id": "cc9464a5-bd10-4328-b504-3a90b533407c",
   "metadata": {},
   "source": [
    " <img src=\"images/line.png\" alt=\"ml\" style=\"width : 100%;\"/>"
   ]
  },
  {
   "cell_type": "code",
   "execution_count": null,
   "id": "3d712025-f4ec-4f6a-8598-0ea302724d9f",
   "metadata": {},
   "outputs": [],
   "source": []
  }
 ],
 "metadata": {
  "kernelspec": {
   "display_name": "Python 3",
   "language": "python",
   "name": "python3"
  },
  "language_info": {
   "codemirror_mode": {
    "name": "ipython",
    "version": 3
   },
   "file_extension": ".py",
   "mimetype": "text/x-python",
   "name": "python",
   "nbconvert_exporter": "python",
   "pygments_lexer": "ipython3",
   "version": "3.6.6"
  }
 },
 "nbformat": 4,
 "nbformat_minor": 5
}
