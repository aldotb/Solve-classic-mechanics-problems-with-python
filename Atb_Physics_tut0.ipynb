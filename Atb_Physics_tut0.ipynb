{
 "cells": [
  {
   "cell_type": "markdown",
   "metadata": {},
   "source": [
    "# Static, Dynamic, Kinematic, Work, Energy, Torque.. with Atb library "
   ]
  },
  {
   "cell_type": "markdown",
   "metadata": {},
   "source": [
    "# Important to know  in this library  Solve Vs Csolve  \n",
    "### csolve(Eq,kv,kd=' ',kabs=False,s='s',noncero=True,kpositive=False,kdisp=False):"
   ]
  },
  {
   "cell_type": "code",
   "execution_count": 1,
   "metadata": {},
   "outputs": [],
   "source": [
    "from sympy import *\n",
    "from lib_subclass import *\n",
    "from lib_mechanics import *\n",
    "from lib_solution_algorith import *\n",
    "init_printing()"
   ]
  },
  {
   "cell_type": "markdown",
   "metadata": {},
   "source": [
    "# csolve parameters\n",
    "\n",
    "* Eq is the equation the you will resolved,example \n",
    "    * Eq = 3*x-6\n",
    "    * Eq = L*3x-g \n",
    "    * Eq = P.res_x()..  P.res_x() is the function the give  resultant in X.. and \n",
    "    * Eq = anything declare before\n",
    "* Kv is the sysmbols variable the you want find and included in Eq\n",
    "    * csolve(3*x-6,x)\n",
    "    * csolve(L*3x-g,L)  etc\n",
    "\n",
    "\n",
    "* optional parameters\n",
    "    * kd='T' we used this when we want show the value in Jupyter \n",
    "    * kabs= False, sometimes the answer comes out negative especially when we use powers, and since we know that the answer is positive, we help a little to be more real\n",
    "    * kdisp=False, we changue to True when we want to show the answer"
   ]
  },
  {
   "cell_type": "markdown",
   "metadata": {},
   "source": [
    "# Solve Vs Csolve  , examples"
   ]
  },
  {
   "cell_type": "code",
   "execution_count": 2,
   "metadata": {},
   "outputs": [],
   "source": [
    "a,b,c=symbols('a b c')\n",
    "Eq1=2*c+5*a-3*b"
   ]
  },
  {
   "cell_type": "code",
   "execution_count": 3,
   "metadata": {},
   "outputs": [
    {
     "data": {
      "image/png": "[encoded data removed]",
      "text/latex": [
       "$\\displaystyle \\left[ - \\frac{5 a}{2} + \\frac{3 b}{2}\\right]$"
      ],
      "text/plain": [
       "⎡  5⋅a   3⋅b⎤\n",
       "⎢- ─── + ───⎥\n",
       "⎣   2     2 ⎦"
      ]
     },
     "execution_count": 3,
     "metadata": {},
     "output_type": "execute_result"
    }
   ],
   "source": [
    "solve(Eq1,c)"
   ]
  },
  {
   "cell_type": "code",
   "execution_count": 4,
   "metadata": {},
   "outputs": [
    {
     "data": {
      "image/png": "[encoded data removed]",
      "text/latex": [
       "$\\displaystyle \\left[ - \\frac{5 a}{2} + \\frac{3 b}{2}\\right]$"
      ],
      "text/plain": [
       "⎡  5⋅a   3⋅b⎤\n",
       "⎢- ─── + ───⎥\n",
       "⎣   2     2 ⎦"
      ]
     },
     "execution_count": 4,
     "metadata": {},
     "output_type": "execute_result"
    }
   ],
   "source": [
    "c1=solve(Eq1,c)\n",
    "c1"
   ]
  },
  {
   "cell_type": "code",
   "execution_count": 5,
   "metadata": {},
   "outputs": [
    {
     "data": {
      "image/png": "[encoded data removed]",
      "text/latex": [
       "$\\displaystyle \\left[ - \\frac{5 a}{2} + \\frac{3 b}{2}, \\  - \\frac{5 a}{2} + \\frac{3 b}{2}, \\  - \\frac{5 a}{2} + \\frac{3 b}{2}\\right]$"
      ],
      "text/plain": [
       "⎡  5⋅a   3⋅b    5⋅a   3⋅b    5⋅a   3⋅b⎤\n",
       "⎢- ─── + ───, - ─── + ───, - ─── + ───⎥\n",
       "⎣   2     2      2     2      2     2 ⎦"
      ]
     },
     "execution_count": 5,
     "metadata": {},
     "output_type": "execute_result"
    }
   ],
   "source": [
    "3*c1"
   ]
  },
  {
   "cell_type": "markdown",
   "metadata": {},
   "source": [
    "# ???\n",
    "# Now see that"
   ]
  },
  {
   "cell_type": "code",
   "execution_count": 6,
   "metadata": {},
   "outputs": [],
   "source": [
    "a,b,c=symbols('a b c')\n",
    "Eq1=2*c+5*a-3*b"
   ]
  },
  {
   "cell_type": "code",
   "execution_count": 7,
   "metadata": {},
   "outputs": [
    {
     "data": {
      "text/latex": [
       "$\\displaystyle C =- \\frac{5 a}{2} + \\frac{3 b}{2}$"
      ],
      "text/plain": [
       "<IPython.core.display.Math object>"
      ]
     },
     "metadata": {},
     "output_type": "display_data"
    }
   ],
   "source": [
    "R1=csolve(Eq1,c,'C',kdisp=True)"
   ]
  },
  {
   "cell_type": "markdown",
   "metadata": {},
   "source": [
    "# Nice..., but remember the was stored in R1..later we will have a solution for this"
   ]
  },
  {
   "cell_type": "code",
   "execution_count": 8,
   "metadata": {},
   "outputs": [
    {
     "data": {
      "image/png": "[encoded data removed]",
      "text/latex": [
       "$\\displaystyle - \\frac{15 a}{2} + \\frac{9 b}{2}$"
      ],
      "text/plain": [
       "  15⋅a   9⋅b\n",
       "- ──── + ───\n",
       "   2      2 "
      ]
     },
     "execution_count": 8,
     "metadata": {},
     "output_type": "execute_result"
    }
   ],
   "source": [
    "3*R1"
   ]
  },
  {
   "cell_type": "markdown",
   "metadata": {},
   "source": [
    "# Muacccccccccc!!!! Now see that"
   ]
  },
  {
   "cell_type": "code",
   "execution_count": 9,
   "metadata": {},
   "outputs": [],
   "source": [
    "a,b,c=symbols('a b c')\n",
    "Eq1=c**2-a**2-b**2"
   ]
  },
  {
   "cell_type": "code",
   "execution_count": 10,
   "metadata": {},
   "outputs": [
    {
     "data": {
      "image/png": "[encoded data removed]",
      "text/latex": [
       "$\\displaystyle - a^{2} - b^{2} + c^{2}$"
      ],
      "text/plain": [
       "   2    2    2\n",
       "- a  - b  + c "
      ]
     },
     "execution_count": 10,
     "metadata": {},
     "output_type": "execute_result"
    }
   ],
   "source": [
    "Eq1"
   ]
  },
  {
   "cell_type": "code",
   "execution_count": 11,
   "metadata": {},
   "outputs": [
    {
     "data": {
      "image/png": "[encoded data removed]",
      "text/latex": [
       "$\\displaystyle \\left[ - \\sqrt{a^{2} + b^{2}}, \\  \\sqrt{a^{2} + b^{2}}\\right]$"
      ],
      "text/plain": [
       "⎡    _________     _________⎤\n",
       "⎢   ╱  2    2     ╱  2    2 ⎥\n",
       "⎣-╲╱  a  + b  , ╲╱  a  + b  ⎦"
      ]
     },
     "execution_count": 11,
     "metadata": {},
     "output_type": "execute_result"
    }
   ],
   "source": [
    "c1=solve(Eq1,c)\n",
    "c1"
   ]
  },
  {
   "cell_type": "markdown",
   "metadata": {},
   "source": [
    "We know the c is positive, csolve help us with little trick to make the live better"
   ]
  },
  {
   "cell_type": "code",
   "execution_count": 13,
   "metadata": {},
   "outputs": [
    {
     "data": {
      "text/latex": [
       "$\\displaystyle C =\\sqrt{a^{2} + b^{2}}$"
      ],
      "text/plain": [
       "<IPython.core.display.Math object>"
      ]
     },
     "metadata": {},
     "output_type": "display_data"
    }
   ],
   "source": [
    "R1=csolve(Eq1,c,'C',kdisp=True,kpositive=True)"
   ]
  },
  {
   "cell_type": "markdown",
   "metadata": {},
   "source": [
    "# Nice!!!! "
   ]
  },
  {
   "cell_type": "markdown",
   "metadata": {},
   "source": [
    "### Now we talk about variable used in this library and declared varible most used in around word  Physic in kinematic, Static, Dynamic, Work, Energy...  etc..etc "
   ]
  },
  {
   "cell_type": "markdown",
   "metadata": {},
   "source": [
    "<img src=\"Doc_img/kparticle_var.png\" alt=\"ml\" style=\"width : 90%;\"/>"
   ]
  },
  {
   "cell_type": "markdown",
   "metadata": {},
   "source": [
    "### Global simple variable declared to  use any time part1"
   ]
  },
  {
   "cell_type": "markdown",
   "metadata": {},
   "source": [
    "<img src=\"Doc_img/global_var1.png\" alt=\"ml\" style=\"width : 90%;\"/>"
   ]
  },
  {
   "cell_type": "markdown",
   "metadata": {},
   "source": [
    "### Global simple variable declared to  use any time part2"
   ]
  },
  {
   "cell_type": "markdown",
   "metadata": {},
   "source": [
    "<img src=\"Doc_img/global_var2.png\" alt=\"ml\" style=\"width : 90%;\"/>"
   ]
  },
  {
   "cell_type": "markdown",
   "metadata": {},
   "source": [
    "### How Create and declare my Object Physics Class kparticle ?"
   ]
  },
  {
   "cell_type": "markdown",
   "metadata": {},
   "source": [
    "# One picture is better than a thousand words"
   ]
  },
  {
   "cell_type": "markdown",
   "metadata": {},
   "source": [
    "<img src=\"Doc_img/sam1.png\" alt=\"ml\" style=\"width : 90%;\"/>"
   ]
  },
  {
   "cell_type": "markdown",
   "metadata": {},
   "source": [
    "<img src=\"Doc_img/sam3.png\" alt=\"ml\" style=\"width : 90%;\"/>"
   ]
  },
  {
   "cell_type": "markdown",
   "metadata": {},
   "source": [
    "### Steep\n",
    "* Load libraries \n",
    "* declare ,the object class\n",
    "    * P=kparticle()\n",
    "* add_forces\n",
    "    * P.add_forza(val_mag,angle ref)"
   ]
  },
  {
   "cell_type": "code",
   "execution_count": 14,
   "metadata": {},
   "outputs": [],
   "source": [
    "from sympy import *\n",
    "from lib_subclass import *\n",
    "from lib_mechanics import *\n",
    "from lib_solution_algorith import *\n",
    "init_printing()"
   ]
  },
  {
   "cell_type": "code",
   "execution_count": 15,
   "metadata": {},
   "outputs": [],
   "source": [
    "P1=kparticle()\n",
    "P1.add_forza(m1*g,-pi/2) # or P1.add_forza(m1*g,-90,s='s')\n",
    "P1.add_forza(F1,0)\n",
    "P1.add_forza(N1,pi/2) # or P1.add_forza(N1,90,s='s')\n",
    "P1.add_forza(R1,pi) # or P1.add_forza(R1,180,s='s')"
   ]
  },
  {
   "cell_type": "markdown",
   "metadata": {},
   "source": [
    "### Now we have two ways for fr1\n",
    "* Input fr directly used P1.add_forza(fr,0) or!!!\n",
    "* declare fr like N1*mu.... and then input this.. we take this way"
   ]
  },
  {
   "cell_type": "markdown",
   "metadata": {},
   "source": [
    "<img src=\"Doc_img/sam3.png\" alt=\"ml\" style=\"width : 70%;\"/>"
   ]
  },
  {
   "cell_type": "code",
   "execution_count": 16,
   "metadata": {},
   "outputs": [
    {
     "data": {
      "image/png": "[encoded data removed]",
      "text/latex": [
       "$\\displaystyle N_{1} \\mu$"
      ],
      "text/plain": [
       "N₁⋅μ"
      ]
     },
     "execution_count": 16,
     "metadata": {},
     "output_type": "execute_result"
    }
   ],
   "source": [
    "fr=N1*mu\n",
    "fr"
   ]
  },
  {
   "cell_type": "code",
   "execution_count": 17,
   "metadata": {},
   "outputs": [],
   "source": [
    "P1.add_forza(fr,pi) # or P1.add_forza(fr,180,s='s')"
   ]
  },
  {
   "cell_type": "markdown",
   "metadata": {},
   "source": [
    "### After put our forces...  is time to see somes basic functions\n",
    "* Resultant \n",
    "* res_x() = resultante in x and\n",
    "* res_y()"
   ]
  },
  {
   "cell_type": "code",
   "execution_count": 18,
   "metadata": {},
   "outputs": [
    {
     "data": {
      "image/png": "[encoded data removed]",
      "text/latex": [
       "$\\displaystyle F_{1} - N_{1} \\mu - R_{1}$"
      ],
      "text/plain": [
       "F₁ - N₁⋅μ - R₁"
      ]
     },
     "execution_count": 18,
     "metadata": {},
     "output_type": "execute_result"
    }
   ],
   "source": [
    "P1.res_x()"
   ]
  },
  {
   "cell_type": "code",
   "execution_count": 19,
   "metadata": {},
   "outputs": [
    {
     "data": {
      "image/png": "[encoded data removed]",
      "text/latex": [
       "$\\displaystyle N_{1} - g m_{1}$"
      ],
      "text/plain": [
       "N₁ - g⋅m₁"
      ]
     },
     "execution_count": 19,
     "metadata": {},
     "output_type": "execute_result"
    }
   ],
   "source": [
    "P1.res_y()"
   ]
  },
  {
   "cell_type": "markdown",
   "metadata": {},
   "source": [
    "### Now we will declare P2 and added forces...."
   ]
  },
  {
   "cell_type": "markdown",
   "metadata": {},
   "source": [
    "<img src=\"Doc_img/sam3.png\" alt=\"ml\" style=\"width : 90%;\"/>"
   ]
  },
  {
   "cell_type": "code",
   "execution_count": 25,
   "metadata": {},
   "outputs": [],
   "source": [
    "P2=kparticle()\n",
    "P2.add_forza(m2*g,-pi/2) # or P2.add_forza(m2*g,-90,s='s')\n",
    "P2.add_forza(N2,pi/2) # or P2.add_forza(N2,90,s='s')\n",
    "P2.add_forza(R1,0) "
   ]
  },
  {
   "cell_type": "code",
   "execution_count": 26,
   "metadata": {},
   "outputs": [
    {
     "data": {
      "image/png": "[encoded data removed]",
      "text/latex": [
       "$\\displaystyle N_{2} \\mu$"
      ],
      "text/plain": [
       "N₂⋅μ"
      ]
     },
     "execution_count": 26,
     "metadata": {},
     "output_type": "execute_result"
    }
   ],
   "source": [
    "fr2=N2*mu\n",
    "fr2"
   ]
  },
  {
   "cell_type": "code",
   "execution_count": 27,
   "metadata": {},
   "outputs": [],
   "source": [
    "P2.add_forza(fr2,180,s='s')  # I think now you know why..  I hope!!!"
   ]
  },
  {
   "cell_type": "markdown",
   "metadata": {},
   "source": [
    "### some Equqtons as P1"
   ]
  },
  {
   "cell_type": "code",
   "execution_count": 28,
   "metadata": {},
   "outputs": [
    {
     "data": {
      "image/png": "[encoded data removed]",
      "text/latex": [
       "$\\displaystyle - N_{2} \\mu + R_{1}$"
      ],
      "text/plain": [
       "-N₂⋅μ + R₁"
      ]
     },
     "execution_count": 28,
     "metadata": {},
     "output_type": "execute_result"
    }
   ],
   "source": [
    "P2.res_x()"
   ]
  },
  {
   "cell_type": "code",
   "execution_count": 29,
   "metadata": {},
   "outputs": [
    {
     "data": {
      "image/png": "[encoded data removed]",
      "text/latex": [
       "$\\displaystyle N_{2} - g m_{2}$"
      ],
      "text/plain": [
       "N₂ - g⋅m₂"
      ]
     },
     "execution_count": 29,
     "metadata": {},
     "output_type": "execute_result"
    }
   ],
   "source": [
    "P2.res_y()"
   ]
  },
  {
   "cell_type": "markdown",
   "metadata": {},
   "source": [
    "<img src=\"Doc_img/sam3.png\" alt=\"ml\" style=\"width : 90%;\"/>"
   ]
  },
  {
   "cell_type": "markdown",
   "metadata": {},
   "source": [
    "#### what we have\n",
    "* knowed variable Data in this Example\n",
    "    * In P1....   F1,  m1,  g,   acc\n",
    "    * In P2....   m2,  g, acc\n",
    "* Common data between P1 and P2\n",
    "    * acc\n",
    "* In this Example we will try find mu in function of F1,m1,m2,g and acc     "
   ]
  },
  {
   "cell_type": "markdown",
   "metadata": {},
   "source": [
    "# Important !!!!!!!\n",
    "* understand this part I think it is 80% of taking advantage of this library "
   ]
  },
  {
   "cell_type": "markdown",
   "metadata": {},
   "source": [
    "## Resolviendo forma normal..\n",
    "* Sorry I am from Lima Peru.."
   ]
  },
  {
   "cell_type": "markdown",
   "metadata": {},
   "source": [
    "## solving normal procedure"
   ]
  },
  {
   "cell_type": "code",
   "execution_count": 30,
   "metadata": {},
   "outputs": [
    {
     "data": {
      "image/png": "[encoded data removed]",
      "text/latex": [
       "$\\displaystyle N_{2} - g m_{2}$"
      ],
      "text/plain": [
       "N₂ - g⋅m₂"
      ]
     },
     "execution_count": 30,
     "metadata": {},
     "output_type": "execute_result"
    }
   ],
   "source": [
    "P2.res_y()"
   ]
  },
  {
   "cell_type": "markdown",
   "metadata": {},
   "source": [
    "<img src=\"Doc_img/sam3.png\" alt=\"ml\" style=\"width : 70%;\"/>"
   ]
  },
  {
   "cell_type": "markdown",
   "metadata": {},
   "source": [
    "## Then"
   ]
  },
  {
   "cell_type": "code",
   "execution_count": 33,
   "metadata": {},
   "outputs": [
    {
     "data": {
      "image/png": "[encoded data removed]",
      "text/latex": [
       "$\\displaystyle g m_{2}$"
      ],
      "text/plain": [
       "g⋅m₂"
      ]
     },
     "execution_count": 33,
     "metadata": {},
     "output_type": "execute_result"
    }
   ],
   "source": [
    "rN2=csolve(P2.res_y(),N2)  # Finding N2 in function of m2 ang g ,we put 'r' before new symbols var\n",
    "rN2c"
   ]
  },
  {
   "cell_type": "markdown",
   "metadata": {},
   "source": [
    "<img src=\"Doc_img/sam3.png\" alt=\"ml\" style=\"width : 90%;\"/>"
   ]
  },
  {
   "cell_type": "code",
   "execution_count": 34,
   "metadata": {},
   "outputs": [
    {
     "data": {
      "image/png": "[encoded data removed]",
      "text/latex": [
       "$\\displaystyle - N_{2} \\mu + R_{1}$"
      ],
      "text/plain": [
       "-N₂⋅μ + R₁"
      ]
     },
     "execution_count": 34,
     "metadata": {},
     "output_type": "execute_result"
    }
   ],
   "source": [
    "P2.res_x()"
   ]
  },
  {
   "cell_type": "code",
   "execution_count": 36,
   "metadata": {},
   "outputs": [
    {
     "data": {
      "image/png": "[encoded data removed]",
      "text/latex": [
       "$\\displaystyle R_{1} - g m_{2} \\mu$"
      ],
      "text/plain": [
       "R₁ - g⋅m₂⋅μ"
      ]
     },
     "execution_count": 36,
     "metadata": {},
     "output_type": "execute_result"
    }
   ],
   "source": [
    "Fres_xP2=P2.res_x()\n",
    "Fres_xP2=Fres_xP2.subs(N2,rN2)\n",
    "Fres_xP2"
   ]
  },
  {
   "cell_type": "markdown",
   "metadata": {},
   "source": [
    "## Of course I know that you know that F = m*a\n",
    "* Then Fres_xP2 = m2*a\n",
    "* And whcit this info try to get R1!!!!\n",
    "* Eq3= Fres_xP2-m2*a1  is the same that  Fres_xP2 = m2*a1 to Sympy  .."
   ]
  },
  {
   "cell_type": "code",
   "execution_count": 38,
   "metadata": {},
   "outputs": [
    {
     "data": {
      "image/png": "[encoded data removed]",
      "text/latex": [
       "$\\displaystyle m_{2} \\left(a_{1} + g \\mu\\right)$"
      ],
      "text/plain": [
       "m₂⋅(a₁ + g⋅μ)"
      ]
     },
     "execution_count": 38,
     "metadata": {},
     "output_type": "execute_result"
    }
   ],
   "source": [
    "Eq3=Fres_xP2-m2*a1  # remeber I use a1 like acc because its was declare before.. see Up.!!\n",
    "rR1=csolve(Eq3,R1)\n",
    "rR1"
   ]
  },
  {
   "cell_type": "markdown",
   "metadata": {},
   "source": [
    "<img src=\"Doc_img/sam4.png\" alt=\"ml\" style=\"width : 90%;\"/>"
   ]
  },
  {
   "cell_type": "markdown",
   "metadata": {},
   "source": [
    "###  Now we work whit P1"
   ]
  },
  {
   "cell_type": "code",
   "execution_count": 39,
   "metadata": {},
   "outputs": [
    {
     "data": {
      "image/png": "[encoded data removed]",
      "text/latex": [
       "$\\displaystyle N_{1} - g m_{1}$"
      ],
      "text/plain": [
       "N₁ - g⋅m₁"
      ]
     },
     "execution_count": 39,
     "metadata": {},
     "output_type": "execute_result"
    }
   ],
   "source": [
    "P1.res_y()"
   ]
  },
  {
   "cell_type": "code",
   "execution_count": 40,
   "metadata": {},
   "outputs": [
    {
     "data": {
      "image/png": "[encoded data removed]",
      "text/latex": [
       "$\\displaystyle g m_{1}$"
      ],
      "text/plain": [
       "g⋅m₁"
      ]
     },
     "execution_count": 40,
     "metadata": {},
     "output_type": "execute_result"
    }
   ],
   "source": [
    "rN1=csolve(P1.res_y(),N1)  # Finding N1 in function of m1 ang g ,we put 'r' before new symbols var\n",
    "rN1"
   ]
  },
  {
   "cell_type": "code",
   "execution_count": 41,
   "metadata": {},
   "outputs": [
    {
     "data": {
      "image/png": "[encoded data removed]",
      "text/latex": [
       "$\\displaystyle F_{1} - N_{1} \\mu - R_{1}$"
      ],
      "text/plain": [
       "F₁ - N₁⋅μ - R₁"
      ]
     },
     "execution_count": 41,
     "metadata": {},
     "output_type": "execute_result"
    }
   ],
   "source": [
    "P1.res_x()"
   ]
  },
  {
   "cell_type": "code",
   "execution_count": 42,
   "metadata": {},
   "outputs": [
    {
     "data": {
      "image/png": "[encoded data removed]",
      "text/latex": [
       "$\\displaystyle F_{1} - R_{1} - g m_{1} \\mu$"
      ],
      "text/plain": [
       "F₁ - R₁ - g⋅m₁⋅μ"
      ]
     },
     "execution_count": 42,
     "metadata": {},
     "output_type": "execute_result"
    }
   ],
   "source": [
    "Fres_xP1=P1.res_x()\n",
    "Fres_xP1=Fres_xP1.subs(N1,rN1)\n",
    "Fres_xP1"
   ]
  },
  {
   "cell_type": "code",
   "execution_count": 43,
   "metadata": {},
   "outputs": [
    {
     "data": {
      "image/png": "[encoded data removed]",
      "text/latex": [
       "$\\displaystyle F_{1} - g m_{1} \\mu - m_{2} \\left(a_{1} + g \\mu\\right)$"
      ],
      "text/plain": [
       "F₁ - g⋅m₁⋅μ - m₂⋅(a₁ + g⋅μ)"
      ]
     },
     "execution_count": 43,
     "metadata": {},
     "output_type": "execute_result"
    }
   ],
   "source": [
    "Fres_xP1=Fres_xP1.subs(R1,rR1)\n",
    "Fres_xP1"
   ]
  },
  {
   "cell_type": "markdown",
   "metadata": {},
   "source": [
    "## Again F = m*a\n",
    "* Then Fres_xP1 = m1*a"
   ]
  },
  {
   "cell_type": "code",
   "execution_count": 44,
   "metadata": {},
   "outputs": [
    {
     "data": {
      "image/png": "[encoded data removed]",
      "text/latex": [
       "$\\displaystyle F_{1} - a m_{1} - g m_{1} \\mu - m_{2} \\left(a_{1} + g \\mu\\right)$"
      ],
      "text/plain": [
       "F₁ - a⋅m₁ - g⋅m₁⋅μ - m₂⋅(a₁ + g⋅μ)"
      ]
     },
     "execution_count": 44,
     "metadata": {},
     "output_type": "execute_result"
    }
   ],
   "source": [
    "Eq4=Fres_xP1-m1*a\n",
    "Eq4"
   ]
  },
  {
   "cell_type": "markdown",
   "metadata": {},
   "source": [
    "## Finally find mu"
   ]
  },
  {
   "cell_type": "code",
   "execution_count": 45,
   "metadata": {},
   "outputs": [
    {
     "data": {
      "image/png": "[encoded data removed]",
      "text/latex": [
       "$\\displaystyle \\frac{F_{1} - a m_{1} - a_{1} m_{2}}{g \\left(m_{1} + m_{2}\\right)}$"
      ],
      "text/plain": [
       "F₁ - a⋅m₁ - a₁⋅m₂\n",
       "─────────────────\n",
       "   g⋅(m₁ + m₂)   "
      ]
     },
     "execution_count": 45,
     "metadata": {},
     "output_type": "execute_result"
    }
   ],
   "source": [
    "csolve(Eq4,mu)"
   ]
  },
  {
   "cell_type": "code",
   "execution_count": 47,
   "metadata": {},
   "outputs": [
    {
     "data": {
      "text/latex": [
       "$\\displaystyle mu =\\frac{F_{1} - a m_{1} - a_{1} m_{2}}{g \\left(m_{1} + m_{2}\\right)}$"
      ],
      "text/plain": [
       "<IPython.core.display.Math object>"
      ]
     },
     "metadata": {},
     "output_type": "display_data"
    }
   ],
   "source": [
    "# My way \n",
    "rMu=csolve(Eq4,mu,'mu',kdisp=True)"
   ]
  },
  {
   "cell_type": "code",
   "execution_count": null,
   "metadata": {},
   "outputs": [],
   "source": []
  }
 ],
 "metadata": {
  "kernelspec": {
   "display_name": "Python 3",
   "language": "python",
   "name": "python3"
  },
  "language_info": {
   "codemirror_mode": {
    "name": "ipython",
    "version": 3
   },
   "file_extension": ".py",
   "mimetype": "text/x-python",
   "name": "python",
   "nbconvert_exporter": "python",
   "pygments_lexer": "ipython3",
   "version": "3.6.6"
  }
 },
 "nbformat": 4,
 "nbformat_minor": 4
}
