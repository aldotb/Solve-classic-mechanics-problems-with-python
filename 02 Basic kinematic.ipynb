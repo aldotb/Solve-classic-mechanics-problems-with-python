{
 "cells": [
  {
   "cell_type": "code",
   "execution_count": 1,
   "id": "56d7c296-d61a-40c6-a342-b79a4e92d30a",
   "metadata": {
    "tags": []
   },
   "outputs": [],
   "source": [
    "from sympy import *\n",
    "from polyclass import *\n",
    "from libaldo_math import *\n",
    "from libaldo_show import *\n",
    "from physic_lib import *\n",
    "from IPython.display import display, Math\n",
    "init_printing()"
   ]
  },
  {
   "cell_type": "markdown",
   "id": "a95bd876-6d10-4cbb-8cb8-b8facfc8a5be",
   "metadata": {},
   "source": [
    " <img src=\"images/line.png\" alt=\"ml\" style=\"width : 100%;\"/>"
   ]
  },
  {
   "cell_type": "markdown",
   "id": "412cba67-9784-445f-84e7-8f12c4dd5b1d",
   "metadata": {},
   "source": [
    "### Creating our Physics Object for kinematic\n",
    "    whit kinematic problems is important to declare \n",
    "         x1,x2,y1,y2 pos initial and finall in x and y\n",
    "         v , we used v when is rectilinius mov and \n",
    "         v1,v2, when is vert or parabolic, ac=0 make uniform mov\n",
    "         g gravity =g or 9.8 or 10 ...\n",
    "         a = angle of fly..   =0 if not fly...\n",
    "         "
   ]
  },
  {
   "cell_type": "markdown",
   "id": "acbfbaf8-9d78-4ead-83aa-f519b8465a9e",
   "metadata": {},
   "source": [
    "### Basic kinematic problems for understand how work the library"
   ]
  },
  {
   "cell_type": "markdown",
   "id": "058aae7a-4432-4e2a-856a-440e4b43a954",
   "metadata": {},
   "source": [
    " <img src=\"images/line.png\" alt=\"ml\" style=\"width : 100%;\"/>"
   ]
  },
  {
   "cell_type": "markdown",
   "id": "36704b19-37cc-4ba6-92e3-d9e2afb66080",
   "metadata": {},
   "source": [
    " <img src=\"images/k010.png\" alt=\"ml\" style=\"width : 80%;\"/>"
   ]
  },
  {
   "cell_type": "code",
   "execution_count": 2,
   "id": "92cfab24-3913-4650-a475-581a1f28611b",
   "metadata": {
    "tags": []
   },
   "outputs": [],
   "source": [
    "t=symbols('t')\n",
    "P=mparticle(x1=0,x2=20,t=t,v=10,ac=0,a=0) # moss relevant in this case "
   ]
  },
  {
   "cell_type": "code",
   "execution_count": 3,
   "id": "d59d591a-462e-4a44-82d9-299843f29d6f",
   "metadata": {},
   "outputs": [
    {
     "data": {
      "image/png": "[encoded data removed]",
      "text/latex": [
       "$\\displaystyle 0$"
      ],
      "text/plain": [
       "0"
      ]
     },
     "execution_count": 3,
     "metadata": {},
     "output_type": "execute_result"
    }
   ],
   "source": [
    "P.x_pos(t=0) # pos when t=0"
   ]
  },
  {
   "cell_type": "code",
   "execution_count": 4,
   "id": "f155ecf0-530f-4c44-9ee8-11faee432872",
   "metadata": {},
   "outputs": [
    {
     "data": {
      "image/png": "[encoded data removed]",
      "text/latex": [
       "$\\displaystyle 10.0$"
      ],
      "text/plain": [
       "10.0000000000000"
      ]
     },
     "execution_count": 4,
     "metadata": {},
     "output_type": "execute_result"
    }
   ],
   "source": [
    "P.x_pos(t=1) # pos when t=1"
   ]
  },
  {
   "cell_type": "code",
   "execution_count": 5,
   "id": "fa722634-61a0-44f9-a063-5c8372ba8744",
   "metadata": {},
   "outputs": [
    {
     "data": {
      "image/png": "[encoded data removed]",
      "text/latex": [
       "$\\displaystyle 20.0$"
      ],
      "text/plain": [
       "20.0000000000000"
      ]
     },
     "execution_count": 5,
     "metadata": {},
     "output_type": "execute_result"
    }
   ],
   "source": [
    "P.x_pos(t=2) # pos when t=1"
   ]
  },
  {
   "cell_type": "code",
   "execution_count": 6,
   "id": "7d483732-228e-481d-b559-dde40afef393",
   "metadata": {},
   "outputs": [
    {
     "data": {
      "image/png": "[encoded data removed]",
      "text/latex": [
       "$\\displaystyle 10 t$"
      ],
      "text/plain": [
       "10⋅t"
      ]
     },
     "execution_count": 6,
     "metadata": {},
     "output_type": "execute_result"
    }
   ],
   "source": [
    "#and x_pos in time =t\n",
    "P.x_pos() # pos when t=t"
   ]
  },
  {
   "cell_type": "code",
   "execution_count": 7,
   "id": "df16801f-b672-41cf-8d3e-44b2457b9ab2",
   "metadata": {},
   "outputs": [
    {
     "data": {
      "text/latex": [
       "$\\displaystyle t =2$"
      ],
      "text/plain": [
       "<IPython.core.display.Math object>"
      ]
     },
     "metadata": {},
     "output_type": "display_data"
    },
    {
     "data": {
      "image/png": "[encoded data removed]",
      "text/latex": [
       "$\\displaystyle 2$"
      ],
      "text/plain": [
       "2"
      ]
     },
     "execution_count": 7,
     "metadata": {},
     "output_type": "execute_result"
    }
   ],
   "source": [
    "csolve(P.x_pos()-20,t,'t')"
   ]
  },
  {
   "cell_type": "markdown",
   "id": "8398e6a7-6707-449b-968c-88a89ad7dd57",
   "metadata": {},
   "source": [
    " <img src=\"images/line.png\" alt=\"ml\" style=\"width : 100%;\"/>"
   ]
  },
  {
   "cell_type": "markdown",
   "id": "a1f0e131-cefa-4770-904b-cb2f9bd04d2d",
   "metadata": {},
   "source": [
    " <img src=\"images/k011.png\" alt=\"ml\" style=\"width : 80%;\"/>"
   ]
  },
  {
   "cell_type": "code",
   "execution_count": 8,
   "id": "fd8ab151-0496-42a8-a547-41626fa4068d",
   "metadata": {
    "tags": []
   },
   "outputs": [],
   "source": [
    "t,v2=symbols('t v2',positive=True)  # we use positive = True because pow is necessary\n",
    "P=mparticle(x1=0,x2=20,y1=0,y2=0,t=t,v=10,v2=v2,ac=2,a=0) # acceleration=2 , angle=0"
   ]
  },
  {
   "cell_type": "code",
   "execution_count": 9,
   "id": "45157072-6947-40ac-8555-442537063d23",
   "metadata": {},
   "outputs": [
    {
     "data": {
      "image/png": "[encoded data removed]",
      "text/latex": [
       "$\\displaystyle t^{2} + 10 t$"
      ],
      "text/plain": [
       " 2       \n",
       "t  + 10⋅t"
      ]
     },
     "execution_count": 9,
     "metadata": {},
     "output_type": "execute_result"
    }
   ],
   "source": [
    "P.x_pos(t) # pos when t "
   ]
  },
  {
   "cell_type": "code",
   "execution_count": 10,
   "id": "a89b32a9-da8b-4463-aa60-8a0d7557a64f",
   "metadata": {
    "tags": []
   },
   "outputs": [
    {
     "data": {
      "image/png": "[encoded data removed]",
      "text/latex": [
       "$\\displaystyle -5 + 3 \\sqrt{5}$"
      ],
      "text/plain": [
       "-5 + 3⋅√5"
      ]
     },
     "execution_count": 10,
     "metadata": {},
     "output_type": "execute_result"
    }
   ],
   "source": [
    "csolve(P.x_pos(t)-20,t)"
   ]
  },
  {
   "cell_type": "markdown",
   "id": "9ae1ae9c-298c-4ae9-a541-ba45cdcf01f5",
   "metadata": {},
   "source": [
    " <img src=\"images/k000.png\" alt=\"ml\" style=\"width : 80%;\"/>"
   ]
  },
  {
   "cell_type": "markdown",
   "id": "15352bdd-8a43-4c7b-818f-95e2e9adea15",
   "metadata": {},
   "source": [
    " <img src=\"images/k011.png\" alt=\"ml\" style=\"width : 80%;\"/>"
   ]
  },
  {
   "cell_type": "code",
   "execution_count": 11,
   "id": "d99f405c-38b1-4b68-980d-aa5cfd005b08",
   "metadata": {
    "tags": []
   },
   "outputs": [
    {
     "data": {
      "image/png": "[encoded data removed]",
      "text/latex": [
       "$\\displaystyle 1.70820393249937$"
      ],
      "text/plain": [
       "1.70820393249937"
      ]
     },
     "execution_count": 11,
     "metadata": {},
     "output_type": "execute_result"
    }
   ],
   "source": [
    " # kope is option to simplify format answer and applicate in all library\n",
    "csolve(P.x_pos(t)-20,t,kope='v')  "
   ]
  },
  {
   "cell_type": "code",
   "execution_count": 12,
   "id": "59c3a9bb-d87d-421c-ae3e-a57336a70fc7",
   "metadata": {
    "tags": []
   },
   "outputs": [
    {
     "data": {
      "image/png": "[encoded data removed]",
      "text/latex": [
       "$\\displaystyle 13.4$"
      ],
      "text/plain": [
       "13.4000000000000"
      ]
     },
     "execution_count": 12,
     "metadata": {},
     "output_type": "execute_result"
    }
   ],
   "source": [
    "P.x_vel(t=1.7) # finding vel final "
   ]
  },
  {
   "cell_type": "markdown",
   "id": "a4f28d1f-9bae-4413-ad64-06fc8afa6c80",
   "metadata": {},
   "source": [
    "### Basic parabolic"
   ]
  },
  {
   "cell_type": "markdown",
   "id": "f2076f6f-5875-4c22-bfb0-3cc9b958d5e6",
   "metadata": {},
   "source": [
    " <img src=\"images/line.png\" alt=\"ml\" style=\"width : 100%;\"/>"
   ]
  },
  {
   "cell_type": "markdown",
   "id": "be03a94e-9398-421d-9e7c-c56506af7e65",
   "metadata": {},
   "source": [
    " <img src=\"images/k020.png\" alt=\"ml\" style=\"width : 80%;\"/>"
   ]
  },
  {
   "cell_type": "code",
   "execution_count": 13,
   "id": "eeaa8697-92be-4779-ba71-4f0affcebf90",
   "metadata": {
    "jupyter": {
     "source_hidden": true
    },
    "tags": []
   },
   "outputs": [],
   "source": [
    "P=mparticle(x1=0,y1=0,v=80,a=pi/6,g=10,ac=0) #  angle always in rad ac only for rect"
   ]
  },
  {
   "cell_type": "code",
   "execution_count": 14,
   "id": "2ff40e77-0f43-44b6-9cb7-84d2ea418f33",
   "metadata": {},
   "outputs": [
    {
     "data": {
      "image/png": "[encoded data removed]",
      "text/latex": [
       "$\\displaystyle 8$"
      ],
      "text/plain": [
       "8"
      ]
     },
     "execution_count": 14,
     "metadata": {},
     "output_type": "execute_result"
    }
   ],
   "source": [
    "P.t_fly()"
   ]
  },
  {
   "cell_type": "code",
   "execution_count": 15,
   "id": "349a436f-7a5d-406a-bd5e-cb41c256a37a",
   "metadata": {
    "tags": []
   },
   "outputs": [
    {
     "data": {
      "image/png": "[encoded data removed]",
      "text/latex": [
       "$\\displaystyle 320 \\sqrt{3}$"
      ],
      "text/plain": [
       "320⋅√3"
      ]
     },
     "execution_count": 15,
     "metadata": {},
     "output_type": "execute_result"
    }
   ],
   "source": [
    "P.x_max()"
   ]
  },
  {
   "cell_type": "code",
   "execution_count": 16,
   "id": "0e3de738-29f4-40d4-8990-97a09888605f",
   "metadata": {
    "tags": []
   },
   "outputs": [
    {
     "data": {
      "image/png": "[encoded data removed]",
      "text/latex": [
       "$\\displaystyle 554.256258422041$"
      ],
      "text/plain": [
       "554.256258422041"
      ]
     },
     "execution_count": 16,
     "metadata": {},
     "output_type": "execute_result"
    }
   ],
   "source": [
    "P.x_max(kope='v')"
   ]
  },
  {
   "cell_type": "code",
   "execution_count": 17,
   "id": "f3610da0-d900-4873-a54f-5e6a40c4e61b",
   "metadata": {},
   "outputs": [
    {
     "data": {
      "image/png": "[encoded data removed]",
      "text/latex": [
       "$\\displaystyle 80.0$"
      ],
      "text/plain": [
       "80.0000000000000"
      ]
     },
     "execution_count": 17,
     "metadata": {},
     "output_type": "execute_result"
    }
   ],
   "source": [
    "P.y_max(kope='v')"
   ]
  },
  {
   "cell_type": "markdown",
   "id": "90438927-8f3a-4b9e-abc7-25313c0b92da",
   "metadata": {},
   "source": [
    " <img src=\"images/line.png\" alt=\"ml\" style=\"width : 100%;\"/>"
   ]
  },
  {
   "cell_type": "markdown",
   "id": "af2e9f69-d058-4f20-aef3-915bea32747e",
   "metadata": {},
   "source": [
    " <img src=\"images/k025.png\" alt=\"ml\" style=\"width : 80%;\"/>"
   ]
  },
  {
   "cell_type": "code",
   "execution_count": 18,
   "id": "db9e3f53-7ca1-49c6-b648-c4c2eb458d8b",
   "metadata": {
    "tags": []
   },
   "outputs": [],
   "source": [
    "t,V,x2,y2=symbols('t V x2 y2',positive=True)\n",
    "P=mparticle(x1=0,y1=0,v=V,a=pi/4,g=10,ac=0,x2=x2,y2=y2) #  angle always in rad ac only for rect"
   ]
  },
  {
   "cell_type": "code",
   "execution_count": 19,
   "id": "1f8f02f3-153f-46b3-9a4d-f370e85a980c",
   "metadata": {
    "jupyter": {
     "source_hidden": true
    },
    "tags": []
   },
   "outputs": [
    {
     "data": {
      "image/png": "[encoded data removed]",
      "text/latex": [
       "$\\displaystyle \\frac{\\sqrt{2} V t}{2}$"
      ],
      "text/plain": [
       "√2⋅V⋅t\n",
       "──────\n",
       "  2   "
      ]
     },
     "execution_count": 19,
     "metadata": {},
     "output_type": "execute_result"
    }
   ],
   "source": [
    "P.x_pos(t)"
   ]
  },
  {
   "cell_type": "code",
   "execution_count": 20,
   "id": "1f4b36a7-ac04-4cc3-a863-df78770164db",
   "metadata": {},
   "outputs": [
    {
     "data": {
      "text/latex": [
       "$\\displaystyle T =\\frac{100 \\sqrt{2}}{V}$"
      ],
      "text/plain": [
       "<IPython.core.display.Math object>"
      ]
     },
     "metadata": {},
     "output_type": "display_data"
    }
   ],
   "source": [
    "T=csolve(P.x_pos(t)-100,t,'T') # find t like V function"
   ]
  },
  {
   "cell_type": "code",
   "execution_count": 21,
   "id": "9f33b2d9-cdd0-4407-9a79-5f6f653a2161",
   "metadata": {},
   "outputs": [],
   "source": [
    "P.store_val(t,T) #  store t in V form"
   ]
  },
  {
   "cell_type": "code",
   "execution_count": 22,
   "id": "13dcbd94-c0ab-4303-8532-4f4af7fe137a",
   "metadata": {},
   "outputs": [
    {
     "data": {
      "image/png": "[encoded data removed]",
      "text/latex": [
       "$\\displaystyle \\left[ \\right]$"
      ],
      "text/plain": [
       "[]"
      ]
     },
     "execution_count": 22,
     "metadata": {},
     "output_type": "execute_result"
    }
   ],
   "source": [
    "csolve(P.y_pos(T)-10,V) # resolve V but..???"
   ]
  },
  {
   "cell_type": "code",
   "execution_count": 23,
   "id": "9c504d9a-952b-43d9-97d0-c1eb65b5b29e",
   "metadata": {},
   "outputs": [
    {
     "data": {
      "text/latex": [
       "$\\displaystyle V =\\left[ - \\frac{100}{3}, \\  \\frac{100}{3}\\right]$"
      ],
      "text/plain": [
       "<IPython.core.display.Math object>"
      ]
     },
     "metadata": {},
     "output_type": "display_data"
    },
    {
     "data": {
      "image/png": "[encoded data removed]",
      "text/latex": [
       "$\\displaystyle \\left[ - \\frac{100}{3}, \\  \\frac{100}{3}\\right]$"
      ],
      "text/plain": [
       "[-100/3, 100/3]"
      ]
     },
     "execution_count": 23,
     "metadata": {},
     "output_type": "execute_result"
    }
   ],
   "source": [
    "csolve(P.y_pos(T)-10,V,'V',unifique=True)  # see option but we need positive then..."
   ]
  },
  {
   "cell_type": "code",
   "execution_count": 24,
   "id": "9acff6ba-4dce-4b5a-9008-1824f4ca1a73",
   "metadata": {},
   "outputs": [
    {
     "data": {
      "text/latex": [
       "$\\displaystyle V =\\frac{100}{3}$"
      ],
      "text/plain": [
       "<IPython.core.display.Math object>"
      ]
     },
     "metadata": {},
     "output_type": "display_data"
    }
   ],
   "source": [
    "V=csolve(P.y_pos(T)-10,V,'V',unifique=True,kpositive=True) # nice.... f**k*ou symp..lib.."
   ]
  },
  {
   "cell_type": "markdown",
   "id": "f0ad565d-fa10-439e-8ca3-da61fe47f095",
   "metadata": {},
   "source": [
    " <img src=\"images/line.png\" alt=\"ml\" style=\"width : 100%;\"/>"
   ]
  },
  {
   "cell_type": "markdown",
   "id": "66625fd9-edc1-4e05-ac95-d73ee7daa51b",
   "metadata": {},
   "source": [
    "### Parabolic whit two Object"
   ]
  },
  {
   "cell_type": "markdown",
   "id": "4ed6f443-6e3b-4cb0-8006-c0a0b718cfd5",
   "metadata": {},
   "source": [
    " <img src=\"images/k030.png\" alt=\"ml\" style=\"width : 80%;\"/>"
   ]
  },
  {
   "cell_type": "code",
   "execution_count": 25,
   "id": "adb3365e-58e7-4cec-9ac4-a55162f08ea9",
   "metadata": {},
   "outputs": [],
   "source": [
    "t,V,x2=symbols('t V x2')\n",
    "A=mparticle(v=15,x1=0,y1=0,g=10,a=pi/4,x2=x2,y2=0,ac=0)\n",
    "C=mparticle(v=V,x1=25,y1=0,g=10,a=pi,x2=x2,y2=0,ac=0)"
   ]
  },
  {
   "cell_type": "code",
   "execution_count": 26,
   "id": "f144d4b0-7d18-430a-a45f-7d28a2122e03",
   "metadata": {},
   "outputs": [
    {
     "data": {
      "image/png": "[encoded data removed]",
      "text/latex": [
       "$\\displaystyle \\frac{3 \\sqrt{2}}{2}$"
      ],
      "text/plain": [
       "3⋅√2\n",
       "────\n",
       " 2  "
      ]
     },
     "execution_count": 26,
     "metadata": {},
     "output_type": "execute_result"
    }
   ],
   "source": [
    "# total time is A.time fly..Ok then\n",
    "T=A.t_fly();T"
   ]
  },
  {
   "cell_type": "code",
   "execution_count": 27,
   "id": "dd3db43d-61aa-4927-a7a8-29bd845ac614",
   "metadata": {},
   "outputs": [
    {
     "data": {
      "image/png": "[encoded data removed]",
      "text/latex": [
       "$\\displaystyle - V t + \\frac{15 \\sqrt{2} t}{2}$"
      ],
      "text/plain": [
       "       15⋅√2⋅t\n",
       "-V⋅t + ───────\n",
       "          2   "
      ]
     },
     "execution_count": 27,
     "metadata": {},
     "output_type": "execute_result"
    }
   ],
   "source": [
    "# xpos A + xpos C -25 =0 solve \n",
    "A.x_pos(t)+C.x_pos(t)-25"
   ]
  },
  {
   "cell_type": "code",
   "execution_count": 28,
   "id": "8acf8208-03ad-478d-86a3-4dd2243c7e73",
   "metadata": {},
   "outputs": [
    {
     "data": {
      "text/latex": [
       "$\\displaystyle V =\\frac{15 \\sqrt{2}}{2}$"
      ],
      "text/plain": [
       "<IPython.core.display.Math object>"
      ]
     },
     "metadata": {},
     "output_type": "display_data"
    }
   ],
   "source": [
    "# xpos A + xpos C -25 =0 solve and V\n",
    "V=csolve(A.x_pos(t)+C.x_pos(t)-25,V,'V')"
   ]
  },
  {
   "cell_type": "markdown",
   "id": "a38f0d8f-0166-4217-acff-45c73d726bcd",
   "metadata": {},
   "source": [
    "### Little advance of real form solve Physic system problem using full atb lib"
   ]
  },
  {
   "cell_type": "markdown",
   "id": "c7506138-c65e-4363-829a-ff16df02da92",
   "metadata": {},
   "source": [
    " <img src=\"images/line.png\" alt=\"ml\" style=\"width : 100%;\"/>"
   ]
  },
  {
   "cell_type": "code",
   "execution_count": 29,
   "id": "8d6ac622-db7c-49c5-83d9-523c6d612210",
   "metadata": {},
   "outputs": [
    {
     "data": {
      "image/png": "[encoded data removed]",
      "text/latex": [
       "$\\displaystyle \\left[ \\left( \\frac{3 \\sqrt{2}}{2}, \\  \\frac{15 \\sqrt{2}}{2}\\right)\\right]$"
      ],
      "text/plain": [
       "⎡⎛3⋅√2  15⋅√2⎞⎤\n",
       "⎢⎜────, ─────⎟⎥\n",
       "⎣⎝ 2      2  ⎠⎦"
      ]
     },
     "execution_count": 29,
     "metadata": {},
     "output_type": "execute_result"
    }
   ],
   "source": [
    "t,V,x2=symbols('t V x2')\n",
    "A=mparticle(v=15,x1=0,y1=0,g=10,a=pi/4,x2=x2,y2=0,ac=0)\n",
    "C=mparticle(v=V,x1=25,y1=0,g=10,a=pi,x2=x2,y2=0,ac=0)\n",
    "e1=polyclass(A.x_pos(t)+C.x_pos(t),25) \n",
    "e2=polyclass(A.t_fly(),t)\n",
    "vec=[e1,e2]\n",
    "P=Mpolyclass(vec)\n",
    "P.csolves([t,V]) #  VVOOOAALLLAAAAAAAAAAA"
   ]
  },
  {
   "cell_type": "code",
   "execution_count": 30,
   "id": "dd04c7e4-569d-4f32-b455-1f10b012bcde",
   "metadata": {},
   "outputs": [
    {
     "data": {
      "image/png": "[encoded data removed]",
      "text/latex": [
       "$\\displaystyle - V t + \\frac{15 \\sqrt{2} t}{2} + 25=25$"
      ],
      "text/plain": [
       "-V*t + 15*sqrt(2)*t/2 + 25=25"
      ]
     },
     "execution_count": 30,
     "metadata": {},
     "output_type": "execute_result"
    }
   ],
   "source": [
    "# polyclass class create Eq to input in system Eq to solve see that\n",
    "e1.Q"
   ]
  },
  {
   "cell_type": "code",
   "execution_count": 31,
   "id": "6501d56d-883b-4cd3-a278-2977d3a68d0c",
   "metadata": {},
   "outputs": [
    {
     "data": {
      "image/png": "[encoded data removed]",
      "text/latex": [
       "$\\displaystyle - V t + \\frac{15 \\sqrt{2} t}{2} + 25=25$"
      ],
      "text/plain": [
       "-V*t + 15*sqrt(2)*t/2 + 25=25"
      ]
     },
     "execution_count": 31,
     "metadata": {},
     "output_type": "execute_result"
    }
   ],
   "source": [
    "e1.Q"
   ]
  },
  {
   "cell_type": "code",
   "execution_count": 32,
   "id": "2dd8be46-8d89-420f-b89e-dc8edee3281d",
   "metadata": {},
   "outputs": [
    {
     "data": {
      "text/latex": [
       "$\\displaystyle - V t + \\frac{15 \\sqrt{2} t}{2} + 25\\;=\\;25\\;$"
      ],
      "text/plain": [
       "<IPython.core.display.Math object>"
      ]
     },
     "metadata": {},
     "output_type": "display_data"
    },
    {
     "data": {
      "text/latex": [
       "$\\displaystyle \\frac{3 \\sqrt{2}}{2}\\;=\\;t\\;$"
      ],
      "text/plain": [
       "<IPython.core.display.Math object>"
      ]
     },
     "metadata": {},
     "output_type": "display_data"
    }
   ],
   "source": [
    "# and...\n",
    "P.s()"
   ]
  },
  {
   "cell_type": "markdown",
   "id": "20652636-f96c-4157-8226-c2f4eed6a02e",
   "metadata": {},
   "source": [
    " <img src=\"images/line.png\" alt=\"ml\" style=\"width : 100%;\"/>"
   ]
  },
  {
   "cell_type": "markdown",
   "id": "ced97ded-68e8-4946-b065-5a3210052543",
   "metadata": {},
   "source": [
    " <img src=\"images/k040.png\" alt=\"ml\" style=\"width : 80%;\"/>"
   ]
  },
  {
   "cell_type": "code",
   "execution_count": 33,
   "id": "07322c14-f586-428f-ac2e-fc2401445607",
   "metadata": {},
   "outputs": [],
   "source": [
    "V,d,t,x2,y2=symbols('V d t x2 y2')"
   ]
  },
  {
   "cell_type": "code",
   "execution_count": 34,
   "id": "d55210d2-d798-4c3a-a577-4db0cfa309f3",
   "metadata": {},
   "outputs": [],
   "source": [
    "A=mparticle(x1=0,x2=d,y1=12,y2=y2,v=V,a=0,g=10,ac=0)\n",
    "B=mparticle(x1=0,x2=0,y1=0,y2=y2,v=2*V,a=pi/2,g=10,ac=0)"
   ]
  },
  {
   "cell_type": "code",
   "execution_count": 35,
   "id": "ea3c6f00-7721-400a-8828-933004177aa6",
   "metadata": {},
   "outputs": [
    {
     "data": {
      "text/latex": [
       "$\\displaystyle 12 - 5 t^{2}\\;=\\;2 V t - 5 t^{2}\\;$"
      ],
      "text/plain": [
       "<IPython.core.display.Math object>"
      ]
     },
     "metadata": {},
     "output_type": "display_data"
    },
    {
     "data": {
      "text/latex": [
       "$\\displaystyle V t\\;=\\;d\\;$"
      ],
      "text/plain": [
       "<IPython.core.display.Math object>"
      ]
     },
     "metadata": {},
     "output_type": "display_data"
    }
   ],
   "source": [
    "e1=polyclass(A.y_pos(),B.y_pos()) # creating A.y_pos = B.y_pos Equation \n",
    "e2=polyclass(A.x_pos(),d) # creating A.y_pos = d Equation \n",
    "vec=[e1,e2] # joined all eq in matrix\n",
    "P=Mpolyclass(vec) # creating super class to make allllllll\n",
    "P.s() # show the super Mpolyclass class"
   ]
  },
  {
   "cell_type": "code",
   "execution_count": 36,
   "id": "ba0e80ec-f6d6-47f8-97e0-e6da4ecf7e3f",
   "metadata": {},
   "outputs": [
    {
     "data": {
      "text/latex": [
       "$\\displaystyle V t\\;=\\;6\\;$"
      ],
      "text/plain": [
       "<IPython.core.display.Math object>"
      ]
     },
     "metadata": {},
     "output_type": "display_data"
    },
    {
     "data": {
      "text/latex": [
       "$\\displaystyle 6\\;=\\;d\\;$"
      ],
      "text/plain": [
       "<IPython.core.display.Math object>"
      ]
     },
     "metadata": {},
     "output_type": "display_data"
    }
   ],
   "source": [
    "# Two Eq whit two variablw ..then is possible to solve whit simple command like\n",
    "P.subsolve(V*t,0,kremp=True) # means... find V*t from eq  0 and subs in all .."
   ]
  },
  {
   "cell_type": "code",
   "execution_count": null,
   "id": "ec000f35-ae7f-4741-b364-18a2a376aca5",
   "metadata": {},
   "outputs": [],
   "source": []
  }
 ],
 "metadata": {
  "kernelspec": {
   "display_name": "Python 3",
   "language": "python",
   "name": "python3"
  },
  "language_info": {
   "codemirror_mode": {
    "name": "ipython",
    "version": 3
   },
   "file_extension": ".py",
   "mimetype": "text/x-python",
   "name": "python",
   "nbconvert_exporter": "python",
   "pygments_lexer": "ipython3",
   "version": "3.6.6"
  }
 },
 "nbformat": 4,
 "nbformat_minor": 5
}
