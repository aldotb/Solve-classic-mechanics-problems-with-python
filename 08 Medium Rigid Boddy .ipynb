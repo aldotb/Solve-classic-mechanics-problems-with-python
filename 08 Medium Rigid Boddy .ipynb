{
 "cells": [
  {
   "cell_type": "code",
   "execution_count": 1,
   "id": "56d7c296-d61a-40c6-a342-b79a4e92d30a",
   "metadata": {
    "tags": []
   },
   "outputs": [],
   "source": [
    "from sympy import *\n",
    "from polyclass import *\n",
    "from libaldo_math import *\n",
    "from libaldo_show import *\n",
    "from physic_lib import *\n",
    "from IPython.display import display, Math\n",
    "init_printing()"
   ]
  },
  {
   "cell_type": "markdown",
   "id": "23b3a513-cde5-41e7-8805-342473d4883f",
   "metadata": {},
   "source": [
    "### Tension, angles, pulleys, etc..."
   ]
  },
  {
   "cell_type": "markdown",
   "id": "50e7eb64-f089-44a9-8ace-182b49b2d74b",
   "metadata": {},
   "source": [
    " <img src=\"images/line.png\" alt=\"ml\" style=\"width : 100%;\"/>"
   ]
  },
  {
   "cell_type": "markdown",
   "id": "8c2732c2-a9eb-4df8-b454-d27c7e043365",
   "metadata": {},
   "source": [
    " <img src=\"images/em10.png\" alt=\"ml\" style=\"width : 70%;\"/>"
   ]
  },
  {
   "cell_type": "code",
   "execution_count": 9,
   "id": "06a5f5e9-5701-42d3-97c4-97b6dc929992",
   "metadata": {},
   "outputs": [],
   "source": [
    "# creating variables....\n",
    "alpha,beta,T1,T2,m,g=symbols('alpha beta T1 T2 m g')"
   ]
  },
  {
   "cell_type": "code",
   "execution_count": 10,
   "id": "148fec45-b8dc-4e85-858c-715f19562fba",
   "metadata": {
    "tags": []
   },
   "outputs": [],
   "source": [
    "# creating physical object class P.. I like P for the name PUTAAAA  in spanish but you can change ..\n",
    "P=mparticle(m=m,g=g)"
   ]
  },
  {
   "cell_type": "markdown",
   "id": "590cee2a-bd34-42ff-8d0f-03254406d998",
   "metadata": {},
   "source": [
    " <img src=\"images/em11.png\" alt=\"ml\" style=\"width : 70%;\"/>"
   ]
  },
  {
   "cell_type": "code",
   "execution_count": 11,
   "id": "dc950147-e31c-4fa2-b366-ab42a4bf2c2a",
   "metadata": {
    "tags": []
   },
   "outputs": [],
   "source": [
    "P.add_forza(m*g,-pi/2)\n",
    "P.add_forza(T1,alpha)\n",
    "P.add_forza(T2,pi-beta)"
   ]
  },
  {
   "cell_type": "code",
   "execution_count": 12,
   "id": "a0f7d615-36c1-4a32-b7f4-8a610035cb90",
   "metadata": {},
   "outputs": [
    {
     "data": {
      "image/png": "[encoded data removed]",
      "text/latex": [
       "$\\displaystyle T_{1} \\cos{\\left(\\alpha \\right)} - T_{2} \\cos{\\left(\\beta \\right)}$"
      ],
      "text/plain": [
       "T₁⋅cos(α) - T₂⋅cos(β)"
      ]
     },
     "execution_count": 12,
     "metadata": {},
     "output_type": "execute_result"
    }
   ],
   "source": [
    "# take note  default x_res() value \n",
    "P.x_res()"
   ]
  },
  {
   "cell_type": "code",
   "execution_count": 13,
   "id": "f5916315-a8b3-4605-9101-cb26f7d2c671",
   "metadata": {},
   "outputs": [
    {
     "data": {
      "image/png": "[encoded data removed]",
      "text/latex": [
       "$\\displaystyle T_{1} \\sin{\\left(\\alpha \\right)} + T_{2} \\sin{\\left(\\beta \\right)} - g m$"
      ],
      "text/plain": [
       "T₁⋅sin(α) + T₂⋅sin(β) - g⋅m"
      ]
     },
     "execution_count": 13,
     "metadata": {},
     "output_type": "execute_result"
    }
   ],
   "source": [
    "# take note  default y_res() value \n",
    "P.y_res()"
   ]
  },
  {
   "cell_type": "code",
   "execution_count": 14,
   "id": "057a5ff0-9f29-4188-8ded-8466d34ed334",
   "metadata": {
    "tags": []
   },
   "outputs": [],
   "source": [
    "# ok we will find T1 from x_res()=0 and stores this value on internal object P\n",
    "P.store_val(T1,csolve(P.x_res(),T1)) # or.. find T1 from x_res()=cero Eq and storeddddd...."
   ]
  },
  {
   "cell_type": "code",
   "execution_count": 15,
   "id": "109fc994-68cb-48dd-815f-715074bed323",
   "metadata": {
    "tags": []
   },
   "outputs": [
    {
     "data": {
      "image/png": "[encoded data removed]",
      "text/latex": [
       "$\\displaystyle \\frac{T_{2} \\cos{\\left(\\beta \\right)}}{\\cos{\\left(\\alpha \\right)}}$"
      ],
      "text/plain": [
       "T₂⋅cos(β)\n",
       "─────────\n",
       "  cos(α) "
      ]
     },
     "execution_count": 15,
     "metadata": {},
     "output_type": "execute_result"
    }
   ],
   "source": [
    "# if we want to know thw value of T1 call object.value(variable)... like this\n",
    "P.value(T1)"
   ]
  },
  {
   "cell_type": "code",
   "execution_count": 16,
   "id": "5fec0089-26d3-4e0b-8532-ce68cee2165e",
   "metadata": {},
   "outputs": [
    {
     "data": {
      "image/png": "[encoded data removed]",
      "text/latex": [
       "$\\displaystyle \\frac{T_{2} \\sin{\\left(\\alpha \\right)} \\cos{\\left(\\beta \\right)}}{\\cos{\\left(\\alpha \\right)}} + T_{2} \\sin{\\left(\\beta \\right)} - g m$"
      ],
      "text/plain": [
       "T₂⋅sin(α)⋅cos(β)                  \n",
       "──────────────── + T₂⋅sin(β) - g⋅m\n",
       "     cos(α)                       "
      ]
     },
     "execution_count": 16,
     "metadata": {},
     "output_type": "execute_result"
    }
   ],
   "source": [
    "# now work whit y_res() that we know that is cero and from now all T1 value will take from store\n",
    "# see the different answer compared whit command lines before\n",
    "P.y_res()"
   ]
  },
  {
   "cell_type": "code",
   "execution_count": 17,
   "id": "1b4bd5a9-0a1f-46f7-bf57-f7d7a952e8ef",
   "metadata": {
    "tags": []
   },
   "outputs": [],
   "source": [
    "#now we will  find T2 from y_res()=0 and stores this value on internal object P\n",
    "P.store_val(T2,csolve(P.y_res(),T2)) # or.. find T2 from y_res()=cero Eq and storeddddd...."
   ]
  },
  {
   "cell_type": "code",
   "execution_count": 18,
   "id": "78e6db59-4617-432c-b347-0a64d2a3ea23",
   "metadata": {},
   "outputs": [
    {
     "data": {
      "image/png": "[encoded data removed]",
      "text/latex": [
       "$\\displaystyle \\frac{g m \\cos{\\left(\\alpha \\right)}}{\\sin{\\left(\\alpha + \\beta \\right)}}$"
      ],
      "text/plain": [
       "g⋅m⋅cos(α)\n",
       "──────────\n",
       "sin(α + β)"
      ]
     },
     "execution_count": 18,
     "metadata": {},
     "output_type": "execute_result"
    }
   ],
   "source": [
    "P.value(T2)"
   ]
  },
  {
   "cell_type": "markdown",
   "id": "bcde56e6-184d-4191-9c5c-48c55c594dd8",
   "metadata": {},
   "source": [
    " <img src=\"images/line.png\" alt=\"ml\" style=\"width : 100%;\"/>"
   ]
  },
  {
   "cell_type": "markdown",
   "id": "4d782de6-8796-41ac-b9b9-43f73f09bc9c",
   "metadata": {},
   "source": [
    "### remeber  class object to getting info.. ..."
   ]
  },
  {
   "cell_type": "code",
   "execution_count": 20,
   "id": "94fa3c7b-5e3f-4b0c-bacb-ae80e30ed66c",
   "metadata": {},
   "outputs": [
    {
     "data": {
      "image/png": "[encoded data removed]",
      "text/latex": [
       "$\\displaystyle \\left( \\left[ T_{2}, \\  T_{1}\\right], \\  \\left[ \\frac{g m \\cos{\\left(\\alpha \\right)}}{\\sin{\\left(\\alpha + \\beta \\right)}}, \\  \\frac{T_{2} \\cos{\\left(\\beta \\right)}}{\\cos{\\left(\\alpha \\right)}}\\right]\\right)$"
      ],
      "text/plain": [
       "⎛          ⎡g⋅m⋅cos(α)  T₂⋅cos(β)⎤⎞\n",
       "⎜[T₂, T₁], ⎢──────────, ─────────⎥⎟\n",
       "⎝          ⎣sin(α + β)    cos(α) ⎦⎠"
      ]
     },
     "execution_count": 20,
     "metadata": {},
     "output_type": "execute_result"
    }
   ],
   "source": [
    "P.kvalue # kvalue mparticle store find valuessss"
   ]
  },
  {
   "cell_type": "markdown",
   "id": "bbdffcc5-32b2-483c-954f-93029dfa36a5",
   "metadata": {},
   "source": [
    " <img src=\"images/line.png\" alt=\"ml\" style=\"width : 100%;\"/>"
   ]
  },
  {
   "cell_type": "markdown",
   "id": "e00f45f2-2d24-4c5d-922f-86002c3da92e",
   "metadata": {},
   "source": [
    " <img src=\"images/em20.png\" alt=\"ml\" style=\"width : 80%;\"/>"
   ]
  },
  {
   "cell_type": "code",
   "execution_count": 2,
   "id": "db04c8d2-e37a-4319-8f5c-5b7e27eb159e",
   "metadata": {},
   "outputs": [],
   "source": [
    "# Steep 1 : Creating sympy variables \n",
    "m,g,mu,N1,F1,fr,alpha,L=symbols('m g mu N1 F1 fr alpha L')"
   ]
  },
  {
   "cell_type": "markdown",
   "id": "65bea93c-da00-4f8c-9a70-5263adb793f0",
   "metadata": {},
   "source": [
    " <img src=\"images/em21.png\" alt=\"ml\" style=\"width : 80%;\"/>"
   ]
  },
  {
   "cell_type": "code",
   "execution_count": 3,
   "id": "38c9b03e-8846-4626-a039-1f00ebfed21c",
   "metadata": {
    "tags": []
   },
   "outputs": [],
   "source": [
    "# Steep 2 : Creating physic object P \n",
    "P=mparticle()"
   ]
  },
  {
   "cell_type": "code",
   "execution_count": 4,
   "id": "0353b182-b169-4055-955f-37b08fd23fd7",
   "metadata": {},
   "outputs": [],
   "source": [
    "# adding forzas vector but including possitiones  \n",
    "# adding weight\n",
    "P.add_forza(m*g,-pi/2,L/2,L/2)\n",
    "# adding F1\n",
    "P.add_forza(F1,pi+alpha,0,L)\n",
    "# adding N1\n",
    "P.add_forza(N1,pi/2,L/2,L/2)\n",
    "# adding fr\n",
    "P.add_forza(fr,0,L/2,0)"
   ]
  },
  {
   "cell_type": "code",
   "execution_count": 5,
   "id": "df02acac-f37a-44ea-8a30-7a90b86dab0e",
   "metadata": {
    "tags": []
   },
   "outputs": [
    {
     "data": {
      "image/png": "[encoded data removed]",
      "text/latex": [
       "$\\displaystyle F_{1} L \\cos{\\left(\\alpha \\right)} + \\frac{L N_{1}}{2} - \\frac{L g m}{2}$"
      ],
      "text/plain": [
       "              L⋅N₁   L⋅g⋅m\n",
       "F₁⋅L⋅cos(α) + ──── - ─────\n",
       "               2       2  "
      ]
     },
     "execution_count": 5,
     "metadata": {},
     "output_type": "execute_result"
    }
   ],
   "source": [
    "# get resultamt in x and y :\n",
    "P.torque()"
   ]
  },
  {
   "cell_type": "code",
   "execution_count": 6,
   "id": "6f795f64-43a5-4006-adac-93c023c3daeb",
   "metadata": {
    "tags": []
   },
   "outputs": [],
   "source": [
    "P.store_val(N1,0)"
   ]
  },
  {
   "cell_type": "code",
   "execution_count": 7,
   "id": "5778b742-1a22-41dd-854e-4586792f2c11",
   "metadata": {
    "tags": []
   },
   "outputs": [
    {
     "data": {
      "image/png": "[encoded data removed]",
      "text/latex": [
       "$\\displaystyle F_{1} L \\cos{\\left(\\alpha \\right)} - \\frac{L g m}{2}$"
      ],
      "text/plain": [
       "              L⋅g⋅m\n",
       "F₁⋅L⋅cos(α) - ─────\n",
       "                2  "
      ]
     },
     "execution_count": 7,
     "metadata": {},
     "output_type": "execute_result"
    }
   ],
   "source": [
    "#\n",
    "P.torque()"
   ]
  },
  {
   "cell_type": "code",
   "execution_count": 34,
   "id": "c9654617-0dc5-414c-b3e4-64d4dfbff1e5",
   "metadata": {},
   "outputs": [
    {
     "data": {
      "image/png": "[encoded data removed]",
      "text/latex": [
       "$\\displaystyle \\frac{g m}{2 \\cos{\\left(\\alpha \\right)}}$"
      ],
      "text/plain": [
       "  g⋅m   \n",
       "────────\n",
       "2⋅cos(α)"
      ]
     },
     "execution_count": 34,
     "metadata": {},
     "output_type": "execute_result"
    }
   ],
   "source": [
    "csolve(P.torque(),F1)"
   ]
  },
  {
   "cell_type": "code",
   "execution_count": 8,
   "id": "0e98639a-4c37-48c7-9593-71018a6c97da",
   "metadata": {},
   "outputs": [
    {
     "data": {
      "text/latex": [
       "$\\displaystyle F1 =\\frac{g m}{2 \\cos{\\left(\\alpha \\right)}}$"
      ],
      "text/plain": [
       "<IPython.core.display.Math object>"
      ]
     },
     "metadata": {},
     "output_type": "display_data"
    }
   ],
   "source": [
    "# tha same answer but nice answer omly add option like....\n",
    "F1=csolve(P.torque(),F1,'F1')"
   ]
  },
  {
   "cell_type": "markdown",
   "id": "5b088c5a-4134-4920-a638-fcb3bfe547a2",
   "metadata": {},
   "source": [
    " <img src=\"images/line.png\" alt=\"ml\" style=\"width : 100%;\"/>"
   ]
  },
  {
   "cell_type": "markdown",
   "id": "6098b33a-1eed-429a-becf-78d15d42c889",
   "metadata": {},
   "source": [
    " <img src=\"images/em30.png\" alt=\"ml\" style=\"width : 80%;\"/>"
   ]
  },
  {
   "cell_type": "markdown",
   "id": "9b1e0e3e-662a-4ebd-99fc-da6410ee07ae",
   "metadata": {},
   "source": [
    "### we will solve this problem whit large method  only for didactic explicity"
   ]
  },
  {
   "cell_type": "code",
   "execution_count": 52,
   "id": "5fb16edb-1abb-4ae3-ba52-3e83ea995a3f",
   "metadata": {
    "tags": []
   },
   "outputs": [],
   "source": [
    "# decrared sympy variables neccesary\n",
    "F1,alpha =symbols('F1 alpha') #  "
   ]
  },
  {
   "cell_type": "code",
   "execution_count": 53,
   "id": "e16d5af1-cc1b-496f-a277-2bdf6a3b46ed",
   "metadata": {
    "tags": []
   },
   "outputs": [],
   "source": [
    "# Creating physic object P \n",
    "P=mparticle()"
   ]
  },
  {
   "cell_type": "code",
   "execution_count": 54,
   "id": "83952bdd-a824-438f-8362-31b9616911a7",
   "metadata": {
    "tags": []
   },
   "outputs": [],
   "source": [
    "# adding forzas\n",
    "P.add_forza(F1,alpha,4,-3) # F1 ,angle, pos x ,pos y > we take hinge as 0,0  \n",
    "P.add_forza(10,-pi/2,2,-1.5) # weight ,pi/2 > down direcc.., x,y in center mass"
   ]
  },
  {
   "cell_type": "code",
   "execution_count": 55,
   "id": "6cae112a-7a0e-4a36-b3e5-227741b22798",
   "metadata": {
    "tags": []
   },
   "outputs": [
    {
     "data": {
      "image/png": "[encoded data removed]",
      "text/latex": [
       "$\\displaystyle 4 F_{1} \\sin{\\left(\\alpha \\right)} + 3 F_{1} \\cos{\\left(\\alpha \\right)} - 20$"
      ],
      "text/plain": [
       "4⋅F₁⋅sin(α) + 3⋅F₁⋅cos(α) - 20"
      ]
     },
     "execution_count": 55,
     "metadata": {},
     "output_type": "execute_result"
    }
   ],
   "source": [
    "# getting torque value and we know that is cero\n",
    "P.torque()"
   ]
  },
  {
   "cell_type": "code",
   "execution_count": 56,
   "id": "bc1c5aba-7766-44ba-8bf9-3d789597cd75",
   "metadata": {},
   "outputs": [
    {
     "data": {
      "text/latex": [
       "$\\displaystyle F1 =\\frac{20}{4 \\sin{\\left(\\alpha \\right)} + 3 \\cos{\\left(\\alpha \\right)}}$"
      ],
      "text/plain": [
       "<IPython.core.display.Math object>"
      ]
     },
     "metadata": {},
     "output_type": "display_data"
    }
   ],
   "source": [
    "# Now we get F1 from torque = cero , is better designe new val in F1 .. sympy is crazy somwtimes \n",
    "# using csolve to find F1 in torque Eq\n",
    "F2=csolve(P.torque(),F1,'F1')  "
   ]
  },
  {
   "cell_type": "code",
   "execution_count": 57,
   "id": "89a8fdf4-dc84-46f0-a657-7bce7767318e",
   "metadata": {
    "tags": []
   },
   "outputs": [
    {
     "data": {
      "image/png": "[encoded data removed]",
      "text/latex": [
       "$\\displaystyle \\frac{20 \\left(3 \\sin{\\left(\\alpha \\right)} - 4 \\cos{\\left(\\alpha \\right)}\\right)}{\\left(4 \\sin{\\left(\\alpha \\right)} + 3 \\cos{\\left(\\alpha \\right)}\\right)^{2}}$"
      ],
      "text/plain": [
       "20⋅(3⋅sin(α) - 4⋅cos(α))\n",
       "────────────────────────\n",
       "                      2 \n",
       " (4⋅sin(α) + 3⋅cos(α))  "
      ]
     },
     "execution_count": 57,
     "metadata": {},
     "output_type": "execute_result"
    }
   ],
   "source": [
    "# F2  will be minimun when his derivate is cero and store in new val F3\n",
    "F3=diff(F2,alpha);F3"
   ]
  },
  {
   "cell_type": "markdown",
   "id": "bcd4b212-7727-4ae9-936a-9f2a9a02415e",
   "metadata": {},
   "source": [
    " <img src=\"images/line.png\" alt=\"ml\" style=\"width : 100%;\"/>"
   ]
  },
  {
   "cell_type": "markdown",
   "id": "f9498921-31b3-454f-a071-065bc6dc6f15",
   "metadata": {},
   "source": [
    "### remember some function from lib_math numer() denom()..  sympy function"
   ]
  },
  {
   "cell_type": "code",
   "execution_count": 58,
   "id": "33973d7e-9423-495f-986e-38c429179dd7",
   "metadata": {},
   "outputs": [
    {
     "data": {
      "image/png": "[encoded data removed]",
      "text/latex": [
       "$\\displaystyle \\frac{20 \\left(3 \\sin{\\left(\\alpha \\right)} - 4 \\cos{\\left(\\alpha \\right)}\\right)}{\\left(4 \\sin{\\left(\\alpha \\right)} + 3 \\cos{\\left(\\alpha \\right)}\\right)^{2}}$"
      ],
      "text/plain": [
       "20⋅(3⋅sin(α) - 4⋅cos(α))\n",
       "────────────────────────\n",
       "                      2 \n",
       " (4⋅sin(α) + 3⋅cos(α))  "
      ]
     },
     "execution_count": 58,
     "metadata": {},
     "output_type": "execute_result"
    }
   ],
   "source": [
    "# simple call F3\n",
    "F3"
   ]
  },
  {
   "cell_type": "code",
   "execution_count": 59,
   "id": "f5b8ea5d-0648-4191-992e-68767dc5f969",
   "metadata": {
    "tags": []
   },
   "outputs": [
    {
     "data": {
      "image/png": "[encoded data removed]",
      "text/latex": [
       "$\\displaystyle 60 \\sin{\\left(\\alpha \\right)} - 80 \\cos{\\left(\\alpha \\right)}$"
      ],
      "text/plain": [
       "60⋅sin(α) - 80⋅cos(α)"
      ]
     },
     "execution_count": 59,
     "metadata": {},
     "output_type": "execute_result"
    }
   ],
   "source": [
    "numer(F3)"
   ]
  },
  {
   "cell_type": "code",
   "execution_count": 60,
   "id": "2cbc7eec-cc00-4806-8459-e82e68851046",
   "metadata": {},
   "outputs": [
    {
     "data": {
      "image/png": "[encoded data removed]",
      "text/latex": [
       "$\\displaystyle \\left(4 \\sin{\\left(\\alpha \\right)} + 3 \\cos{\\left(\\alpha \\right)}\\right)^{2}$"
      ],
      "text/plain": [
       "                     2\n",
       "(4⋅sin(α) + 3⋅cos(α)) "
      ]
     },
     "execution_count": 60,
     "metadata": {},
     "output_type": "execute_result"
    }
   ],
   "source": [
    "denom(F3)"
   ]
  },
  {
   "cell_type": "code",
   "execution_count": 61,
   "id": "bab42b6e-96df-4036-a71c-db0d107ae28f",
   "metadata": {},
   "outputs": [
    {
     "data": {
      "image/png": "[encoded data removed]",
      "text/latex": [
       "$\\displaystyle 4 \\sin{\\left(\\alpha \\right)} + 3 \\cos{\\left(\\alpha \\right)}$"
      ],
      "text/plain": [
       "4⋅sin(α) + 3⋅cos(α)"
      ]
     },
     "execution_count": 61,
     "metadata": {},
     "output_type": "execute_result"
    }
   ],
   "source": [
    "F3=denom(F2);F3  # geting part i"
   ]
  },
  {
   "cell_type": "code",
   "execution_count": 62,
   "id": "b9748049-aec1-4efe-a14d-74fde2a10d02",
   "metadata": {
    "tags": []
   },
   "outputs": [
    {
     "data": {
      "image/png": "[encoded data removed]",
      "text/latex": [
       "$\\displaystyle 4 \\sin{\\left(\\alpha \\right)} + 3 \\cos{\\left(\\alpha \\right)}$"
      ],
      "text/plain": [
       "4⋅sin(α) + 3⋅cos(α)"
      ]
     },
     "execution_count": 62,
     "metadata": {},
     "output_type": "execute_result"
    }
   ],
   "source": [
    "# F2 will be minimum when numer(F3) =0\n",
    "numer(F3)"
   ]
  },
  {
   "cell_type": "code",
   "execution_count": 63,
   "id": "be2c2c75-2a44-4989-8944-416c3a20ce4d",
   "metadata": {},
   "outputs": [
    {
     "data": {
      "image/png": "[encoded data removed]",
      "text/latex": [
       "$\\displaystyle -1.33333333333333$"
      ],
      "text/plain": [
       "-1.3333333333333333"
      ]
     },
     "execution_count": 63,
     "metadata": {},
     "output_type": "execute_result"
    }
   ],
   "source": [
    "# see the default value of -4/3 whit sympy\n",
    "-4/3"
   ]
  },
  {
   "cell_type": "code",
   "execution_count": 64,
   "id": "4f22d795-50de-4c3d-be59-841b919ecbf2",
   "metadata": {},
   "outputs": [
    {
     "data": {
      "image/png": "[encoded data removed]",
      "text/latex": [
       "$\\displaystyle - \\frac{4}{3}$"
      ],
      "text/plain": [
       "-4/3"
      ]
     },
     "execution_count": 64,
     "metadata": {},
     "output_type": "execute_result"
    }
   ],
   "source": [
    "# see the default value of -4/3 whit frs(numer,denom) atb function is niceee....\n",
    "frs(-4,3)"
   ]
  },
  {
   "cell_type": "code",
   "execution_count": 65,
   "id": "52e22783-f266-4268-aa42-ddeb2a8f5299",
   "metadata": {},
   "outputs": [
    {
     "data": {
      "text/latex": [
       "$\\displaystyle if\\;4 \\sin{\\left(\\alpha \\right)} + 3 \\cos{\\left(\\alpha \\right)}\\;=\\;0\\;then\\;\\tan{\\left(\\alpha \\right)}\\;=\\;- \\frac{4}{3}\\;also\\;\\sin{\\left(\\alpha \\right)}\\;=\\;\\frac{4}{5}\\;and\\;\\cos{\\left(\\alpha \\right)}\\;=\\;- \\frac{3}{5}\\;$"
      ],
      "text/plain": [
       "<IPython.core.display.Math object>"
      ]
     },
     "metadata": {},
     "output_type": "display_data"
    }
   ],
   "source": [
    "# remeber that sE(['tex',math valu,'tex2',.....]) is used instead of Latex that I hate it...\n",
    "sE(['if ',numer(F3),'= 0 then ', tan(alpha),'=',frs(-4,3),' also',sin(alpha),'=',frs(4,5),'and ',cos(alpha),'=',frs(-3,5)]) "
   ]
  },
  {
   "cell_type": "code",
   "execution_count": 66,
   "id": "3a5791e2-075d-4088-bee0-43c0f19ba517",
   "metadata": {},
   "outputs": [
    {
     "data": {
      "image/png": "[encoded data removed]",
      "text/latex": [
       "$\\displaystyle \\frac{20}{4 \\sin{\\left(\\alpha \\right)} + 3 \\cos{\\left(\\alpha \\right)}}$"
      ],
      "text/plain": [
       "         20        \n",
       "───────────────────\n",
       "4⋅sin(α) + 3⋅cos(α)"
      ]
     },
     "execution_count": 66,
     "metadata": {},
     "output_type": "execute_result"
    }
   ],
   "source": [
    "# calling F2 that is the final value that we need\n",
    "F2"
   ]
  },
  {
   "cell_type": "code",
   "execution_count": 67,
   "id": "65e1c586-47ca-440e-9358-c45c26c0d6e2",
   "metadata": {},
   "outputs": [],
   "source": [
    "# now we will store F1,sin and cos value to use internal\n",
    " \n",
    "P.store_val(sin(alpha),frs(4,5))\n",
    "P.store_val(cos(alpha),frs(-3,5))\n",
    "P.store_val(F1,F2)"
   ]
  },
  {
   "cell_type": "code",
   "execution_count": 68,
   "id": "3aa6316f-13bc-4832-abbc-544fff68dfd1",
   "metadata": {},
   "outputs": [
    {
     "data": {
      "image/png": "[encoded data removed]",
      "text/latex": [
       "$\\displaystyle \\frac{100}{7}$"
      ],
      "text/plain": [
       "100/7"
      ]
     },
     "execution_count": 68,
     "metadata": {},
     "output_type": "execute_result"
    }
   ],
   "source": [
    "P.value(F1)"
   ]
  },
  {
   "cell_type": "markdown",
   "id": "094b7505-155c-403c-aa1d-c37702b2bb35",
   "metadata": {},
   "source": [
    " <img src=\"images/line.png\" alt=\"ml\" style=\"width : 100%;\"/>"
   ]
  },
  {
   "cell_type": "markdown",
   "id": "3d438c69-70b0-416c-a07f-88751023ade2",
   "metadata": {
    "tags": []
   },
   "source": [
    " <img src=\"images/em40.png\" alt=\"ml\" style=\"width : 80%;\"/>"
   ]
  },
  {
   "cell_type": "code",
   "execution_count": 69,
   "id": "de2bf1d3-356e-45fb-ba1b-400e4dacad5a",
   "metadata": {
    "tags": []
   },
   "outputs": [],
   "source": [
    "# decrared sympy variables neccesary\n",
    "W,F1,r,h =symbols('W F1 r h ') "
   ]
  },
  {
   "cell_type": "markdown",
   "id": "e0c2da1a-6a06-4d49-ad94-1228c420ecff",
   "metadata": {
    "tags": []
   },
   "source": [
    " <img src=\"images/em41.png\" alt=\"ml\" style=\"width : 50%;\"/>"
   ]
  },
  {
   "cell_type": "code",
   "execution_count": 70,
   "id": "cf5b3f87-2360-464f-bf29-35cbaebbdbff",
   "metadata": {
    "tags": []
   },
   "outputs": [],
   "source": [
    "# Creating  object\n",
    "P2=mparticle()"
   ]
  },
  {
   "cell_type": "code",
   "execution_count": 72,
   "id": "396b440f-c4ae-422f-a370-798389da815b",
   "metadata": {},
   "outputs": [
    {
     "data": {
      "image/png": "[encoded data removed]",
      "text/latex": [
       "$\\displaystyle \\sqrt{r}$"
      ],
      "text/plain": [
       "√r"
      ]
     },
     "execution_count": 72,
     "metadata": {},
     "output_type": "execute_result"
    }
   ],
   "source": [
    "# rpow() and kpow from atb math lib because is more clear whit exponet proccedure.. example\n",
    "rpow(r)"
   ]
  },
  {
   "cell_type": "code",
   "execution_count": 75,
   "id": "e14cb3c9-50d1-4724-9eae-9f87d64e1281",
   "metadata": {},
   "outputs": [
    {
     "data": {
      "image/png": "[encoded data removed]",
      "text/latex": [
       "$\\displaystyle r^{2}$"
      ],
      "text/plain": [
       " 2\n",
       "r "
      ]
     },
     "execution_count": 75,
     "metadata": {},
     "output_type": "execute_result"
    }
   ],
   "source": [
    "kpow(r,2)"
   ]
  },
  {
   "cell_type": "code",
   "execution_count": 78,
   "id": "e7f40308-7424-4c91-bace-69eaeec7315a",
   "metadata": {},
   "outputs": [
    {
     "data": {
      "image/png": "[encoded data removed]",
      "text/latex": [
       "$\\displaystyle r^{\\frac{2}{3}}$"
      ],
      "text/plain": [
       " 2/3\n",
       "r   "
      ]
     },
     "execution_count": 78,
     "metadata": {},
     "output_type": "execute_result"
    }
   ],
   "source": [
    "kpow(r,frs(2,3)) # niceeeeeeeeeeeeee......."
   ]
  },
  {
   "cell_type": "code",
   "execution_count": 74,
   "id": "84d3822a-1b30-4b0b-a221-c444833f6561",
   "metadata": {},
   "outputs": [
    {
     "data": {
      "image/png": "[encoded data removed]",
      "text/latex": [
       "$\\displaystyle \\sqrt{- h + r}$"
      ],
      "text/plain": [
       "  ________\n",
       "╲╱ -h + r "
      ]
     },
     "execution_count": 74,
     "metadata": {},
     "output_type": "execute_result"
    }
   ],
   "source": [
    "rpow(r-h,2)"
   ]
  },
  {
   "cell_type": "code",
   "execution_count": 83,
   "id": "12242fbf-801e-466c-9ca3-998f6244df76",
   "metadata": {
    "tags": []
   },
   "outputs": [],
   "source": [
    "# ok ,, adding value o xx and yy respect (0,0)\n",
    "xx,yy = symbols('xx yy',positive=True)\n",
    "xx=r-h\n",
    "yy=rpow(kpow(r,2)-kpow(r-h,2))"
   ]
  },
  {
   "cell_type": "code",
   "execution_count": 85,
   "id": "68dc2ba4-1b74-45d0-86a1-1f2a9f0c036e",
   "metadata": {},
   "outputs": [],
   "source": [
    "P2.add_forza(F1,0,xx,yy)\n",
    "P2.add_forza(W,-pi/2,xx,yy)"
   ]
  },
  {
   "cell_type": "code",
   "execution_count": 86,
   "id": "80ef3297-9168-4891-a810-62d634c47687",
   "metadata": {},
   "outputs": [
    {
     "data": {
      "image/png": "[encoded data removed]",
      "text/latex": [
       "$\\displaystyle - F_{1} \\sqrt{r^{2} - \\left(- h + r\\right)^{2}} - W \\left(- h + r\\right)$"
      ],
      "text/plain": [
       "        ________________             \n",
       "       ╱  2           2              \n",
       "- F₁⋅╲╱  r  - (-h + r)   - W⋅(-h + r)"
      ]
     },
     "execution_count": 86,
     "metadata": {},
     "output_type": "execute_result"
    }
   ],
   "source": [
    "P2.torque()"
   ]
  },
  {
   "cell_type": "code",
   "execution_count": 89,
   "id": "be39ba10-3d2e-465c-ba98-27e572db5f4d",
   "metadata": {},
   "outputs": [
    {
     "data": {
      "text/latex": [
       "$\\displaystyle F =\\frac{W \\left(h - r\\right)}{\\sqrt{h \\left(- h + 2 r\\right)}}$"
      ],
      "text/plain": [
       "<IPython.core.display.Math object>"
      ]
     },
     "metadata": {},
     "output_type": "display_data"
    }
   ],
   "source": [
    "F1=csolve(P2.torque(),F1,'F')"
   ]
  },
  {
   "cell_type": "markdown",
   "id": "8398e6a7-6707-449b-968c-88a89ad7dd57",
   "metadata": {},
   "source": [
    " <img src=\"images/line.png\" alt=\"ml\" style=\"width : 100%;\"/>"
   ]
  },
  {
   "cell_type": "markdown",
   "id": "1183316e-e628-4434-9894-ea8c8c9ec7c5",
   "metadata": {},
   "source": [
    " <img src=\"images/em80b.png\" alt=\"ml\" style=\"width :100%;\"/>"
   ]
  },
  {
   "cell_type": "markdown",
   "id": "afb45f46-c7e5-43a4-aaa7-9e872a309543",
   "metadata": {},
   "source": [
    " <img src=\"images/line.png\" alt=\"ml\" style=\"width : 100%;\"/>"
   ]
  },
  {
   "cell_type": "markdown",
   "id": "e478d77a-b056-437d-be59-37758c3969a8",
   "metadata": {},
   "source": [
    " <img src=\"images/em70.png\" alt=\"ml\" style=\"width : 80%;\"/>"
   ]
  },
  {
   "cell_type": "code",
   "execution_count": 2,
   "id": "7325b271-fdf1-46cf-a4ac-dc457a41870e",
   "metadata": {},
   "outputs": [],
   "source": [
    "# Steep 1 : Creating symbols\n",
    "W,N1,N2,T,fr1,fr2,mu=symbols('W N1 N2 T fr1 fr2 mu')"
   ]
  },
  {
   "cell_type": "code",
   "execution_count": 5,
   "id": "741861fa-df36-4364-a3cf-fbdd51bc1e0b",
   "metadata": {},
   "outputs": [],
   "source": [
    "# Steep 2 : Creating A mparticle() Physic class and adding forces\n",
    "A=mparticle()\n",
    "A.add_forza(T,0)\n",
    "A.store_val(fr1,W*mu)\n",
    "A.add_forza(fr1,pi)"
   ]
  },
  {
   "cell_type": "code",
   "execution_count": 6,
   "id": "55bbdb1f-5cc2-4ac9-9083-a710d5e76ac5",
   "metadata": {},
   "outputs": [
    {
     "data": {
      "image/png": "[encoded data removed]",
      "text/latex": [
       "$\\displaystyle T - W \\mu$"
      ],
      "text/plain": [
       "T - W⋅μ"
      ]
     },
     "execution_count": 6,
     "metadata": {},
     "output_type": "execute_result"
    }
   ],
   "source": [
    "# Steep 2 : get x_res and know equal cero...\n",
    "A.x_res()"
   ]
  },
  {
   "cell_type": "code",
   "execution_count": 7,
   "id": "d3b18680-7637-4c38-ae59-2809e0fdb77b",
   "metadata": {},
   "outputs": [],
   "source": [
    "# Now get T in other function variable"
   ]
  },
  {
   "cell_type": "code",
   "execution_count": 8,
   "id": "2bcd5bb7-d0f7-43e7-97dd-a5ce2c329f3e",
   "metadata": {},
   "outputs": [
    {
     "data": {
      "text/latex": [
       "$\\displaystyle T =W \\mu$"
      ],
      "text/plain": [
       "<IPython.core.display.Math object>"
      ]
     },
     "metadata": {},
     "output_type": "display_data"
    }
   ],
   "source": [
    "T1=csolve(A.x_res(),T,'T') # why not T istead of T1.. because mayby sympy put crazy.."
   ]
  },
  {
   "cell_type": "code",
   "execution_count": 9,
   "id": "ac346445-646a-4d6d-9103-63e1ee994332",
   "metadata": {},
   "outputs": [],
   "source": [
    "# work whit B\n",
    "B=mparticle()\n",
    "B.add_forza(T1,pi) # we put T1 instwaed T because we finding before.. see up\n",
    "B.add_forza(W,-pi/6)\n",
    "B.add_forza(N2,pi/2) # before add fr2 we store value N2*mu and then use this val \n",
    "B.store_val(fr2,N2*mu)\n",
    "B.add_forza(fr2,pi)"
   ]
  },
  {
   "cell_type": "code",
   "execution_count": 10,
   "id": "7fc3d233-a580-4cb9-a146-1e5a2713f2c6",
   "metadata": {},
   "outputs": [
    {
     "data": {
      "image/png": "[encoded data removed]",
      "text/latex": [
       "$\\displaystyle N_{2} - \\frac{W}{2}$"
      ],
      "text/plain": [
       "     W\n",
       "N₂ - ─\n",
       "     2"
      ]
     },
     "execution_count": 10,
     "metadata": {},
     "output_type": "execute_result"
    }
   ],
   "source": [
    "# Now we will try know N2 value because Y_res equal to cero\n",
    "B.y_res()\n",
    "# ok simple N2=W/2 later store this value"
   ]
  },
  {
   "cell_type": "code",
   "execution_count": 11,
   "id": "4679e7ad-0862-4526-bd48-ca6936ce2192",
   "metadata": {},
   "outputs": [
    {
     "data": {
      "image/png": "[encoded data removed]",
      "text/latex": [
       "$\\displaystyle - N_{2} \\mu - W \\mu + \\frac{\\sqrt{3} W}{2}$"
      ],
      "text/plain": [
       "              √3⋅W\n",
       "-N₂⋅μ - W⋅μ + ────\n",
       "               2  "
      ]
     },
     "execution_count": 11,
     "metadata": {},
     "output_type": "execute_result"
    }
   ],
   "source": [
    "# first see the value of B.x_res() before...\n",
    "B.x_res()"
   ]
  },
  {
   "cell_type": "code",
   "execution_count": 12,
   "id": "6fb69bce-c7cf-4cd9-993e-2daec3a87fab",
   "metadata": {},
   "outputs": [
    {
     "data": {
      "image/png": "[encoded data removed]",
      "text/latex": [
       "$\\displaystyle - \\frac{3 W \\mu}{2} + \\frac{\\sqrt{3} W}{2}$"
      ],
      "text/plain": [
       "  3⋅W⋅μ   √3⋅W\n",
       "- ───── + ────\n",
       "    2      2  "
      ]
     },
     "execution_count": 12,
     "metadata": {},
     "output_type": "execute_result"
    }
   ],
   "source": [
    "# ok what happend if now change N2 whit store_val and call again y_res..\n",
    "B.store_val(N2,W/2)\n",
    "B.x_res()"
   ]
  },
  {
   "cell_type": "code",
   "execution_count": 13,
   "id": "87bf1cd7-02cd-46a8-91ca-a678128558a1",
   "metadata": {},
   "outputs": [
    {
     "data": {
      "text/latex": [
       "$\\displaystyle m_u =\\frac{\\sqrt{3}}{3}$"
      ],
      "text/plain": [
       "<IPython.core.display.Math object>"
      ]
     },
     "metadata": {},
     "output_type": "display_data"
    }
   ],
   "source": [
    "# Now how we know that y_res equal to cero aply csolve and find mu\n",
    "mu=csolve(B.x_res(),mu,'m_u') \n"
   ]
  },
  {
   "cell_type": "code",
   "execution_count": 3,
   "id": "b1e82e84-6186-4e86-a3c7-7c2cd94cc7e3",
   "metadata": {},
   "outputs": [],
   "source": [
    "### Method 2 aplied polyclass and Mpolyclass\n",
    "A=mparticle()\n",
    "A.add_forza(T,0)\n",
    "A.store_val(fr1,W*mu)\n",
    "A.add_forza(fr1,pi)\n",
    "B=mparticle()\n",
    "B.add_forza(T,pi) # we put T1 instwaed T because we finding before.. see up\n",
    "B.add_forza(W,-pi/6)\n",
    "B.add_forza(N2,pi/2) # before add fr2 we store value N2*mu and then use this val \n",
    "B.store_val(fr2,N2*mu)\n",
    "B.add_forza(fr2,pi)"
   ]
  },
  {
   "cell_type": "code",
   "execution_count": 4,
   "id": "66986f83-b81c-4c4c-920f-7eed51ce68f8",
   "metadata": {},
   "outputs": [
    {
     "data": {
      "text/latex": [
       "$\\displaystyle fr_{1}\\;=\\;W \\mu\\;$"
      ],
      "text/plain": [
       "<IPython.core.display.Math object>"
      ]
     },
     "metadata": {},
     "output_type": "display_data"
    },
    {
     "data": {
      "text/latex": [
       "$\\displaystyle T - W \\mu\\;=\\;0\\;$"
      ],
      "text/plain": [
       "<IPython.core.display.Math object>"
      ]
     },
     "metadata": {},
     "output_type": "display_data"
    },
    {
     "data": {
      "text/latex": [
       "$\\displaystyle N_{2} - \\frac{W}{2}\\;=\\;0\\;$"
      ],
      "text/plain": [
       "<IPython.core.display.Math object>"
      ]
     },
     "metadata": {},
     "output_type": "display_data"
    },
    {
     "data": {
      "text/latex": [
       "$\\displaystyle fr_{2}\\;=\\;N_{2} \\mu\\;$"
      ],
      "text/plain": [
       "<IPython.core.display.Math object>"
      ]
     },
     "metadata": {},
     "output_type": "display_data"
    },
    {
     "data": {
      "text/latex": [
       "$\\displaystyle - N_{2} \\mu - T + \\frac{\\sqrt{3} W}{2}\\;=\\;0\\;$"
      ],
      "text/plain": [
       "<IPython.core.display.Math object>"
      ]
     },
     "metadata": {},
     "output_type": "display_data"
    }
   ],
   "source": [
    "e1=polyclass(fr1,W*mu)\n",
    "e2=polyclass(A.x_res(),0)\n",
    "e3=polyclass(B.y_res(),0)\n",
    "e4=polyclass(fr2,N2*mu)\n",
    "e5=polyclass(B.x_res(),0)\n",
    "vec=[e1,e2,e3,e4,e5]\n",
    "P=Mpolyclass(vec);P.showQ()"
   ]
  },
  {
   "cell_type": "markdown",
   "id": "2163601b-dd5f-4ab6-b7eb-04f3a055c1b3",
   "metadata": {},
   "source": [
    "### FUNCTION in Mpolyclass.....   try_solve()  "
   ]
  },
  {
   "cell_type": "markdown",
   "id": "cc0c8992-e3d6-4172-ad22-6c4e220a6c4a",
   "metadata": {},
   "source": [
    " <img src=\"images/em70a.png\" alt=\"ml\" style=\"width : 80%;\"/>"
   ]
  },
  {
   "cell_type": "code",
   "execution_count": 5,
   "id": "bd93d019-1756-4f17-8f37-a8b2712509f5",
   "metadata": {},
   "outputs": [
    {
     "data": {
      "text/latex": [
       "$\\displaystyle fr_{1}\\;=\\;\\frac{\\sqrt{3} W}{3}\\;$"
      ],
      "text/plain": [
       "<IPython.core.display.Math object>"
      ]
     },
     "metadata": {},
     "output_type": "display_data"
    },
    {
     "data": {
      "text/latex": [
       "$\\displaystyle T\\;=\\;\\frac{\\sqrt{3} W}{3}\\;$"
      ],
      "text/plain": [
       "<IPython.core.display.Math object>"
      ]
     },
     "metadata": {},
     "output_type": "display_data"
    },
    {
     "data": {
      "text/latex": [
       "$\\displaystyle N_{2}\\;=\\;\\frac{W}{2}\\;$"
      ],
      "text/plain": [
       "<IPython.core.display.Math object>"
      ]
     },
     "metadata": {},
     "output_type": "display_data"
    },
    {
     "data": {
      "text/latex": [
       "$\\displaystyle fr_{2}\\;=\\;\\frac{\\sqrt{3} W}{6}\\;$"
      ],
      "text/plain": [
       "<IPython.core.display.Math object>"
      ]
     },
     "metadata": {},
     "output_type": "display_data"
    },
    {
     "data": {
      "text/latex": [
       "$\\displaystyle \\mu\\;=\\;\\frac{\\sqrt{3}}{3}\\;$"
      ],
      "text/plain": [
       "<IPython.core.display.Math object>"
      ]
     },
     "metadata": {},
     "output_type": "display_data"
    }
   ],
   "source": [
    "P.try_solve([T,N2,mu],[1,2,4])"
   ]
  },
  {
   "cell_type": "markdown",
   "id": "6f688b1f-7744-4472-968a-65268730350d",
   "metadata": {},
   "source": [
    " <img src=\"images/em70b.png\" alt=\"ml\" style=\"width :100%;\"/>"
   ]
  },
  {
   "cell_type": "markdown",
   "id": "c37a4d0b-4d50-456a-b48e-a634b9e5f4bb",
   "metadata": {},
   "source": [
    " <img src=\"images/line.png\" alt=\"ml\" style=\"width : 100%;\"/>"
   ]
  },
  {
   "cell_type": "markdown",
   "id": "d2d462e7-e6b9-4e7e-b551-8405e87a501b",
   "metadata": {},
   "source": [
    " <img src=\"images/em80.png\" alt=\"ml\" style=\"width :85%;\"/>"
   ]
  },
  {
   "cell_type": "code",
   "execution_count": 10,
   "id": "a2493658-8e21-4d48-ad63-558f834b2cd3",
   "metadata": {},
   "outputs": [],
   "source": [
    "# creating symbols\n",
    "Ra,T,alpha,r=symbols('Ra T alpha r',positive=True) #mayby sqrt appear,better make sure .."
   ]
  },
  {
   "cell_type": "markdown",
   "id": "49535c54-cf6e-451c-9d04-b9a899df535e",
   "metadata": {},
   "source": [
    " <img src=\"images/em80a.png\" alt=\"ml\" style=\"width :85%;\"/>"
   ]
  },
  {
   "cell_type": "markdown",
   "id": "a6401412-5fce-4b4e-a914-8bd1106e7ec8",
   "metadata": {},
   "source": [
    " <img src=\"images/em80b.png\" alt=\"ml\" style=\"width :100%;\"/>"
   ]
  },
  {
   "cell_type": "code",
   "execution_count": 11,
   "id": "b5f22f2a-77b6-45b9-aea0-ade7390a8d60",
   "metadata": {},
   "outputs": [],
   "source": [
    "T=20*rpow(2,2) "
   ]
  },
  {
   "cell_type": "code",
   "execution_count": 14,
   "id": "4b267a5c-830e-4013-b1bb-6b45b46fd1ee",
   "metadata": {},
   "outputs": [
    {
     "data": {
      "text/latex": [
       "$\\displaystyle 2 Ra \\cos{\\left(\\alpha \\right)}\\;=\\;40 \\sqrt{2}\\;$"
      ],
      "text/plain": [
       "<IPython.core.display.Math object>"
      ]
     },
     "metadata": {},
     "output_type": "display_data"
    },
    {
     "data": {
      "text/latex": [
       "$\\displaystyle \\cos{\\left(\\alpha \\right)}\\;=\\;\\frac{2 \\sqrt{2}}{3}\\;$"
      ],
      "text/plain": [
       "<IPython.core.display.Math object>"
      ]
     },
     "metadata": {},
     "output_type": "display_data"
    }
   ],
   "source": [
    "# First  Eq usin polyclass in last image part 1,2\n",
    "e1=polyclass(Ra*cos(alpha)+Ra*cos(alpha),2*T)\n",
    "# then  Eq usin polyclass in last image part 3\n",
    "e2=polyclass(cos(alpha),2*rpow(2)*r/(3*r))\n",
    "P=Mpolyclass([e1,e2]);P.showQ()"
   ]
  },
  {
   "cell_type": "code",
   "execution_count": 16,
   "id": "fae959de-40fd-451b-9d09-249e26683503",
   "metadata": {},
   "outputs": [
    {
     "data": {
      "text/latex": [
       "$\\displaystyle Ra\\;=\\;30\\;$"
      ],
      "text/plain": [
       "<IPython.core.display.Math object>"
      ]
     },
     "metadata": {},
     "output_type": "display_data"
    },
    {
     "data": {
      "text/latex": [
       "$\\displaystyle \\cos{\\left(\\alpha \\right)}\\;=\\;\\frac{2 \\sqrt{2}}{3}\\;$"
      ],
      "text/plain": [
       "<IPython.core.display.Math object>"
      ]
     },
     "metadata": {},
     "output_type": "display_data"
    }
   ],
   "source": [
    "# apply simple and super neeeerddddd intuition   order to solve Mpolyclass...\n",
    " \n",
    "P.try_solve([cos(alpha),Ra],[1,0])"
   ]
  }
 ],
 "metadata": {
  "kernelspec": {
   "display_name": "Python 3",
   "language": "python",
   "name": "python3"
  },
  "language_info": {
   "codemirror_mode": {
    "name": "ipython",
    "version": 3
   },
   "file_extension": ".py",
   "mimetype": "text/x-python",
   "name": "python",
   "nbconvert_exporter": "python",
   "pygments_lexer": "ipython3",
   "version": "3.6.6"
  }
 },
 "nbformat": 4,
 "nbformat_minor": 5
}
