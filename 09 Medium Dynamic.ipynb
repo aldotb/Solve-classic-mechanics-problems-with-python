{
 "cells": [
  {
   "cell_type": "code",
   "execution_count": 1,
   "id": "56d7c296-d61a-40c6-a342-b79a4e92d30a",
   "metadata": {
    "tags": []
   },
   "outputs": [],
   "source": [
    "from sympy import *\n",
    "from polyclass import *\n",
    "from libaldo_math import *\n",
    "from libaldo_show import *\n",
    "from physic_lib import *\n",
    "from IPython.display import display, Math\n",
    "init_printing()"
   ]
  },
  {
   "cell_type": "markdown",
   "id": "64dda498-5065-4622-bf8b-e7d2a0e3407f",
   "metadata": {
    "tags": []
   },
   "source": [
    " <img src=\"images/aclara1.png\" alt=\"ml\" style=\"width : 100%;\"/>"
   ]
  },
  {
   "cell_type": "markdown",
   "id": "78b1ff51-6708-4bdd-b57b-c227d0ac7b6a",
   "metadata": {},
   "source": [
    "### Medium Dynamic Mechanic Physics Problems  "
   ]
  },
  {
   "cell_type": "markdown",
   "id": "b80e0572-f14d-4008-9b08-629e88071ec7",
   "metadata": {},
   "source": [
    " <img src=\"images/line.png\" alt=\"ml\" style=\"width : 100%;\"/>"
   ]
  },
  {
   "cell_type": "markdown",
   "id": "b7b919c9-460a-4868-84f1-ca2824237bab",
   "metadata": {},
   "source": [
    " <img src=\"images/dM010.png\" alt=\"ml\" style=\"width : 100%;\"/>"
   ]
  },
  {
   "cell_type": "code",
   "execution_count": 2,
   "id": "ff9ae185-8b21-4c4f-b33a-dff073c457ac",
   "metadata": {
    "tags": []
   },
   "outputs": [],
   "source": [
    "# creating varuables\n",
    "m,F1,Na,Nb=symbols('m F1 Na Nb',positive=True)"
   ]
  },
  {
   "cell_type": "code",
   "execution_count": 3,
   "id": "e9d05f7e-018e-4995-bb1b-646940ea276f",
   "metadata": {},
   "outputs": [],
   "source": [
    "# creating A object and addinf Forces\n",
    "A=mparticle(a=1)   \n",
    "A.add_forza(10*m,-pi/3)# = add weight in this case axis X is -30 grad  with move direcction\n",
    "A.add_forza(F1,pi)\n",
    "A.add_forza(Na,pi/2)"
   ]
  },
  {
   "cell_type": "code",
   "execution_count": 4,
   "id": "52d12e3f-00dd-4ff8-9986-4b11179bd99d",
   "metadata": {},
   "outputs": [
    {
     "data": {
      "text/latex": [
       "$\\displaystyle F =4 m$"
      ],
      "text/plain": [
       "<IPython.core.display.Math object>"
      ]
     },
     "metadata": {},
     "output_type": "display_data"
    }
   ],
   "source": [
    "# Acelleration due X res = Xres /mass\n",
    "F1=csolve(A.simple_ac()-1,F1,'F')"
   ]
  },
  {
   "cell_type": "code",
   "execution_count": 5,
   "id": "ffa05af2-1c95-4471-a5ff-ea02657d8377",
   "metadata": {},
   "outputs": [],
   "source": [
    "# creating B object and addinf Forces\n",
    "B=mparticle()   \n",
    "B.add_forza(F1,-pi/6)# = add weight in this case axis X is -30 grad  with move direcction\n",
    "B.add_forza(Nb,pi/2)\n",
    "B.add_forza(10*m,-pi/2)"
   ]
  },
  {
   "cell_type": "code",
   "execution_count": 6,
   "id": "c7e34359-cbcc-4bba-bcbb-68cb0bfe30ec",
   "metadata": {},
   "outputs": [
    {
     "data": {
      "image/png": "[encoded data removed]",
      "text/latex": [
       "$\\displaystyle 2 \\sqrt{3}$"
      ],
      "text/plain": [
       "2⋅√3"
      ]
     },
     "execution_count": 6,
     "metadata": {},
     "output_type": "execute_result"
    }
   ],
   "source": [
    "B.simple_ac()"
   ]
  },
  {
   "cell_type": "markdown",
   "id": "058aae7a-4432-4e2a-856a-440e4b43a954",
   "metadata": {},
   "source": [
    " <img src=\"images/line.png\" alt=\"ml\" style=\"width : 100%;\"/>"
   ]
  },
  {
   "cell_type": "markdown",
   "id": "d592b3ec-e372-4331-813b-7fa73da8a718",
   "metadata": {},
   "source": [
    " <img src=\"images/dM020.png\" alt=\"ml\" style=\"width :75%;\"/>"
   ]
  },
  {
   "cell_type": "code",
   "execution_count": 7,
   "id": "3091b4f5-4b74-4817-b325-7aac1cf91954",
   "metadata": {},
   "outputs": [],
   "source": [
    "Mv,mV,T,g,M,m,h,Ac=symbols('Mv mV T g M  m  h Ac',positive=True)"
   ]
  },
  {
   "cell_type": "code",
   "execution_count": 8,
   "id": "0f8c76bb-5799-47d3-8594-a048a83a64f2",
   "metadata": {},
   "outputs": [],
   "source": [
    "A=mparticle(m=m,g=g,y1=0,y2=h,a=pi/2,ac=Ac,v1=0)\n",
    "B=mparticle(m=M,g=g,y1=h,y2=0,a=-pi/2,ac=Ac,v1=0)"
   ]
  },
  {
   "cell_type": "code",
   "execution_count": 9,
   "id": "60bbef09-b5c2-4ff2-91bb-d21512ba538d",
   "metadata": {},
   "outputs": [],
   "source": [
    "A.add_forza(m*g,-pi/2) #weight\n",
    "A.add_forza(T,pi/2) # Tension\n",
    "B.add_forza(M*g,pi/2) #weight\n",
    "B.add_forza(T,-pi/2) # Tension"
   ]
  },
  {
   "cell_type": "code",
   "execution_count": 10,
   "id": "a38e4e48-d28b-4a5d-9eba-c727d0784d9d",
   "metadata": {},
   "outputs": [
    {
     "data": {
      "image/png": "[encoded data removed]",
      "text/latex": [
       "$\\displaystyle \\frac{2 M g m}{M + m}$"
      ],
      "text/plain": [
       "2⋅M⋅g⋅m\n",
       "───────\n",
       " M + m "
      ]
     },
     "execution_count": 10,
     "metadata": {},
     "output_type": "execute_result"
    }
   ],
   "source": [
    "T1=csolve(A.simple_ac('y')-B.simple_ac('y'),T);T1"
   ]
  },
  {
   "cell_type": "code",
   "execution_count": 11,
   "id": "817bd957-2fe0-4b8c-956c-57c488147eb5",
   "metadata": {},
   "outputs": [],
   "source": [
    "A.setValue(T,T1)\n",
    "B.setValue(T,T1)"
   ]
  },
  {
   "cell_type": "code",
   "execution_count": 12,
   "id": "34ed7502-0006-4102-a458-de535636afe3",
   "metadata": {},
   "outputs": [
    {
     "data": {
      "image/png": "[encoded data removed]",
      "text/latex": [
       "$\\displaystyle \\frac{g \\left(M - m\\right)}{M + m}$"
      ],
      "text/plain": [
       "g⋅(M - m)\n",
       "─────────\n",
       "  M + m  "
      ]
     },
     "execution_count": 12,
     "metadata": {},
     "output_type": "execute_result"
    }
   ],
   "source": [
    "Accel=A.simple_ac('y',kope='s');Accel"
   ]
  },
  {
   "cell_type": "code",
   "execution_count": 13,
   "id": "b4f474ba-22d4-4273-b96e-8e927d8b57cd",
   "metadata": {},
   "outputs": [
    {
     "data": {
      "image/png": "[encoded data removed]",
      "text/latex": [
       "$\\displaystyle \\sqrt{2} \\sqrt{h} \\sqrt{\\frac{g \\left(M - m\\right)}{M + m}}$"
      ],
      "text/plain": [
       "          ___________\n",
       "         ╱ g⋅(M - m) \n",
       "√2⋅√h⋅  ╱  ───────── \n",
       "      ╲╱     M + m   "
      ]
     },
     "execution_count": 13,
     "metadata": {},
     "output_type": "execute_result"
    }
   ],
   "source": [
    "v=rpow(2*Accel*h);v"
   ]
  },
  {
   "cell_type": "code",
   "execution_count": 14,
   "id": "f8e67af4-ed74-4c2b-a6b9-3fdefe1d86a2",
   "metadata": {},
   "outputs": [
    {
     "data": {
      "image/png": "[encoded data removed]",
      "text/latex": [
       "$\\displaystyle \\sqrt{2} \\sqrt{\\frac{g h \\left(M - m\\right)}{M + m}}$"
      ],
      "text/plain": [
       "       _____________\n",
       "      ╱ g⋅h⋅(M - m) \n",
       "√2⋅  ╱  ─────────── \n",
       "   ╲╱      M + m    "
      ]
     },
     "execution_count": 14,
     "metadata": {},
     "output_type": "execute_result"
    }
   ],
   "source": [
    "#Method 2 , total energia equal cero\n",
    "csolve(A.energia()+B.energia(),v2,korden=1)"
   ]
  },
  {
   "cell_type": "markdown",
   "id": "07a8cc22-8b4c-4ce4-9e7c-206f7025efd7",
   "metadata": {},
   "source": [
    " <img src=\"images/line.png\" alt=\"ml\" style=\"width : 100%;\"/>"
   ]
  },
  {
   "cell_type": "markdown",
   "id": "a68386a5-0fea-454a-88f7-4c1303517e2a",
   "metadata": {},
   "source": [
    " <img src=\"images/dM030.png\" alt=\"ml\" style=\"width : 100%;\"/>"
   ]
  },
  {
   "cell_type": "code",
   "execution_count": 15,
   "id": "f54f2bbd-7294-460d-ab14-4da97100962e",
   "metadata": {},
   "outputs": [],
   "source": [
    "alpha,L,m,g,mu,N1,fr,L2=symbols('alpha L m g mu N1 fr L2',positive=True)"
   ]
  },
  {
   "cell_type": "code",
   "execution_count": 16,
   "id": "99541e5d-3244-44c5-8e96-a2b9a8ef225d",
   "metadata": {},
   "outputs": [],
   "source": [
    "#  take note that  we take  AB like axis X\n",
    "A=mparticle(v1=0,m=m,g=g,x1=0,x2=L,y1=0,y2=0)"
   ]
  },
  {
   "cell_type": "code",
   "execution_count": 17,
   "id": "48198998-ca04-4ab2-a568-1552e967a548",
   "metadata": {},
   "outputs": [],
   "source": [
    "A.add_forza(m*g,-pi/2+alpha) # adding weight"
   ]
  },
  {
   "cell_type": "code",
   "execution_count": 18,
   "id": "4b87412c-0ca9-4285-bfa6-17d795f48657",
   "metadata": {},
   "outputs": [],
   "source": [
    "A.setValue(fr,-A.y_res()*mu) # setting fr = Y(weight)*mu"
   ]
  },
  {
   "cell_type": "code",
   "execution_count": 19,
   "id": "265a98b4-cd67-40dd-aa6d-142459dc6cc4",
   "metadata": {},
   "outputs": [],
   "source": [
    "A.add_forza(fr,pi)# adding fr"
   ]
  },
  {
   "cell_type": "code",
   "execution_count": 20,
   "id": "f38c6d36-b483-426c-8dbd-061747cb02ff",
   "metadata": {},
   "outputs": [
    {
     "data": {
      "image/png": "[encoded data removed]",
      "text/latex": [
       "$\\displaystyle - L g m \\left(\\mu \\cos{\\left(\\alpha \\right)} - \\sin{\\left(\\alpha \\right)}\\right)$"
      ],
      "text/plain": [
       "-L⋅g⋅m⋅(μ⋅cos(α) - sin(α))"
      ]
     },
     "execution_count": 20,
     "metadata": {},
     "output_type": "execute_result"
    }
   ],
   "source": [
    "W1=A.work_due_forza('x',kope='f');W1 # Work1 from A 2 B = Fx*L"
   ]
  },
  {
   "cell_type": "code",
   "execution_count": 21,
   "id": "e939987f-8b87-4227-a3ce-ac4f3647d0ae",
   "metadata": {},
   "outputs": [],
   "source": [
    "L2=symbols('L2')\n",
    "B=mparticle(m=m,g=g,x1=0,x2=L2,y1=0,y2=0) "
   ]
  },
  {
   "cell_type": "code",
   "execution_count": 22,
   "id": "6df0e85d-100d-40ed-bca9-cd4f95368daf",
   "metadata": {},
   "outputs": [],
   "source": [
    "B.add_forza(m*g*mu,pi)"
   ]
  },
  {
   "cell_type": "code",
   "execution_count": 23,
   "id": "a4d7f1e6-a721-4293-a294-e85844d78cfb",
   "metadata": {},
   "outputs": [
    {
     "data": {
      "image/png": "[encoded data removed]",
      "text/latex": [
       "$\\displaystyle - L_{2} g m \\mu$"
      ],
      "text/plain": [
       "-L₂⋅g⋅m⋅μ"
      ]
     },
     "execution_count": 23,
     "metadata": {},
     "output_type": "execute_result"
    }
   ],
   "source": [
    "W2=B.work_due_forza('x',kope='f');W2 # Work= Fx*(x2-x1)"
   ]
  },
  {
   "cell_type": "code",
   "execution_count": 24,
   "id": "bd1cc7f3-49e7-4742-bed8-b2075aa448b8",
   "metadata": {},
   "outputs": [
    {
     "data": {
      "text/latex": [
       "$\\displaystyle L2 =\\frac{L \\left(- \\mu \\cos{\\left(\\alpha \\right)} + \\sin{\\left(\\alpha \\right)}\\right)}{\\mu}$"
      ],
      "text/plain": [
       "<IPython.core.display.Math object>"
      ]
     },
     "metadata": {},
     "output_type": "display_data"
    }
   ],
   "source": [
    "# Total Work = cero because Vel ini and Vel final equal cero\n",
    "L2=csolve(W1+W2,L2,'L2') # Find L2"
   ]
  },
  {
   "cell_type": "markdown",
   "id": "5a0eb89f-3b03-4b3d-93b3-a6b18f34b08c",
   "metadata": {},
   "source": [
    " <img src=\"images/line.png\" alt=\"ml\" style=\"width : 100%;\"/>"
   ]
  },
  {
   "cell_type": "markdown",
   "id": "c0c2e0b7-ca32-4580-a7fb-58fdbbf7b079",
   "metadata": {},
   "source": [
    " <img src=\"images/dM040.png\" alt=\"ml\" style=\"width : 40%;\"/>"
   ]
  },
  {
   "cell_type": "code",
   "execution_count": 25,
   "id": "67434d0c-107b-4750-9606-f3f11032fb0b",
   "metadata": {},
   "outputs": [],
   "source": [
    "M,m,g,N1,Fr=symbols('M m g N1 Fr',positive=True)"
   ]
  },
  {
   "cell_type": "code",
   "execution_count": 26,
   "id": "20b279f0-039c-43f9-ae9d-c734345a1545",
   "metadata": {},
   "outputs": [],
   "source": [
    "A=mparticle(m=m)\n",
    "A.add_forza(m*g,-pi/2)\n",
    "A.add_forza(N1,0)\n",
    "A.add_forza(8*N1/10,pi/2)"
   ]
  },
  {
   "cell_type": "code",
   "execution_count": 27,
   "id": "62c2715e-5199-4c50-932f-51102fe7499a",
   "metadata": {},
   "outputs": [],
   "source": [
    "A.setValue(N1,csolve(A.y_res(),N1)) "
   ]
  },
  {
   "cell_type": "code",
   "execution_count": 28,
   "id": "cc8590bd-f0d1-440d-999c-5453ac98175c",
   "metadata": {},
   "outputs": [
    {
     "data": {
      "image/png": "[encoded data removed]",
      "text/latex": [
       "$\\displaystyle \\frac{5 g}{4}$"
      ],
      "text/plain": [
       "5⋅g\n",
       "───\n",
       " 4 "
      ]
     },
     "execution_count": 28,
     "metadata": {},
     "output_type": "execute_result"
    }
   ],
   "source": [
    "A.simple_ac()"
   ]
  },
  {
   "cell_type": "markdown",
   "id": "97c95918-df35-4d5e-9830-a8cf4f9525af",
   "metadata": {},
   "source": [
    " <img src=\"images/line.png\" alt=\"ml\" style=\"width : 100%;\"/>"
   ]
  },
  {
   "cell_type": "markdown",
   "id": "8b4fe6ce-5fca-42cb-819c-d964d34cd31b",
   "metadata": {},
   "source": [
    " <img src=\"images/dM050.png\" alt=\"ml\" style=\"width : 60%;\"/>"
   ]
  },
  {
   "cell_type": "markdown",
   "id": "b35c656f-fb53-48b8-a467-09816031a4b9",
   "metadata": {},
   "source": [
    " <img src=\"images/tip3.png\" alt=\"ml\" style=\"width : 100%;\"/>"
   ]
  },
  {
   "cell_type": "code",
   "execution_count": 29,
   "id": "e61398de-5f76-4d81-a477-b020fab83f1c",
   "metadata": {
    "tags": []
   },
   "outputs": [],
   "source": [
    "m, w=symbols('m w',positive=True)"
   ]
  },
  {
   "cell_type": "code",
   "execution_count": 30,
   "id": "7d481db4-6764-456a-943a-02ab6c47bf16",
   "metadata": {},
   "outputs": [],
   "source": [
    "P=mparticle(m=m,g=10,r=10,w=w) "
   ]
  },
  {
   "cell_type": "code",
   "execution_count": 31,
   "id": "d3a7bb74-e7cb-4a2c-ab0a-6ea326787e96",
   "metadata": {},
   "outputs": [
    {
     "data": {
      "image/png": "[encoded data removed]",
      "text/latex": [
       "$\\displaystyle 10 m w^{2}$"
      ],
      "text/plain": [
       "      2\n",
       "10⋅m⋅w "
      ]
     },
     "execution_count": 31,
     "metadata": {},
     "output_type": "execute_result"
    }
   ],
   "source": [
    "P.simple_Fcentripeta()  "
   ]
  },
  {
   "cell_type": "code",
   "execution_count": 32,
   "id": "93a20fc7-398d-4cb9-a401-1722ad69f966",
   "metadata": {},
   "outputs": [
    {
     "data": {
      "text/latex": [
       "$\\displaystyle W_a =2$"
      ],
      "text/plain": [
       "<IPython.core.display.Math object>"
      ]
     },
     "metadata": {},
     "output_type": "display_data"
    }
   ],
   "source": [
    "# F centripeta = Normal = Frozz/mu = m*s/mu\n",
    "W=csolve(P.simple_Fcentripeta()-10*m*4,w,'W_a',kpositive=True)"
   ]
  },
  {
   "cell_type": "markdown",
   "id": "66dc0f40-f69f-4567-babf-cd885ce85b1e",
   "metadata": {},
   "source": [
    " <img src=\"images/line.png\" alt=\"ml\" style=\"width : 100%;\"/>"
   ]
  },
  {
   "cell_type": "markdown",
   "id": "57676f2c-236c-416f-a126-3efd81d0a6ac",
   "metadata": {},
   "source": [
    " <img src=\"images/dM060.png\" alt=\"ml\" style=\"width : 90%;\"/>"
   ]
  },
  {
   "cell_type": "code",
   "execution_count": 34,
   "id": "b2b6d0a6-3263-4a26-b792-e08851999b14",
   "metadata": {},
   "outputs": [],
   "source": [
    "F1,T,m,g,a,fr,fr2,mu,N1=symbols('F1 T m g a fr fr2 mu N1',positive=True)"
   ]
  },
  {
   "cell_type": "code",
   "execution_count": 35,
   "id": "6d1f2498-f650-40d4-ad77-4bfffa18e0ec",
   "metadata": {},
   "outputs": [],
   "source": [
    "# in A ...first Eq F = mass * accelll\n",
    "e1=polyclass(F1,a*(5*m+m+m))"
   ]
  },
  {
   "cell_type": "code",
   "execution_count": 36,
   "id": "06019a16-701f-49fb-b527-962e1461edbe",
   "metadata": {},
   "outputs": [],
   "source": [
    "# in B ...  second and third Eqs  \n",
    "e2=polyclass(fr,m*g*mu)\n",
    "e3=polyclass(T,m*a-fr)"
   ]
  },
  {
   "cell_type": "code",
   "execution_count": 37,
   "id": "a269cdde-237c-4185-bdcf-fddbeb314e23",
   "metadata": {},
   "outputs": [],
   "source": [
    "# in A last Eqss\n",
    "e4=polyclass(N1,m*a)\n",
    "e5=polyclass(fr2,N1*mu)\n",
    "e6=polyclass(fr2+m*g,T )"
   ]
  },
  {
   "cell_type": "code",
   "execution_count": 38,
   "id": "08f3bf2e-cbf8-48d5-b8cc-dec6ba09cbd7",
   "metadata": {},
   "outputs": [
    {
     "data": {
      "text/latex": [
       "$\\displaystyle F_{1}\\;=\\;7 a m\\;$"
      ],
      "text/plain": [
       "<IPython.core.display.Math object>"
      ]
     },
     "metadata": {},
     "output_type": "display_data"
    },
    {
     "data": {
      "text/latex": [
       "$\\displaystyle fr\\;=\\;g m \\mu\\;$"
      ],
      "text/plain": [
       "<IPython.core.display.Math object>"
      ]
     },
     "metadata": {},
     "output_type": "display_data"
    },
    {
     "data": {
      "text/latex": [
       "$\\displaystyle T\\;=\\;a m - fr\\;$"
      ],
      "text/plain": [
       "<IPython.core.display.Math object>"
      ]
     },
     "metadata": {},
     "output_type": "display_data"
    },
    {
     "data": {
      "text/latex": [
       "$\\displaystyle N_{1}\\;=\\;a m\\;$"
      ],
      "text/plain": [
       "<IPython.core.display.Math object>"
      ]
     },
     "metadata": {},
     "output_type": "display_data"
    },
    {
     "data": {
      "text/latex": [
       "$\\displaystyle fr_{2}\\;=\\;N_{1} \\mu\\;$"
      ],
      "text/plain": [
       "<IPython.core.display.Math object>"
      ]
     },
     "metadata": {},
     "output_type": "display_data"
    },
    {
     "data": {
      "text/latex": [
       "$\\displaystyle fr_{2} + g m\\;=\\;T\\;$"
      ],
      "text/plain": [
       "<IPython.core.display.Math object>"
      ]
     },
     "metadata": {},
     "output_type": "display_data"
    }
   ],
   "source": [
    "vec=[e1,e2,e3,e4,e5,e6]\n",
    "P=Mpolyclass(vec);P.showQ()"
   ]
  },
  {
   "cell_type": "code",
   "execution_count": 39,
   "id": "f1002a9f-6a8f-4635-9d84-f0f21a3e79a4",
   "metadata": {},
   "outputs": [
    {
     "data": {
      "text/latex": [
       "$\\displaystyle F_{1}\\;=\\;- \\frac{7 g m \\left(\\mu + 1\\right)}{\\mu - 1}\\;$"
      ],
      "text/plain": [
       "<IPython.core.display.Math object>"
      ]
     },
     "metadata": {},
     "output_type": "display_data"
    },
    {
     "data": {
      "text/latex": [
       "$\\displaystyle fr\\;=\\;g m \\mu\\;$"
      ],
      "text/plain": [
       "<IPython.core.display.Math object>"
      ]
     },
     "metadata": {},
     "output_type": "display_data"
    },
    {
     "data": {
      "text/latex": [
       "$\\displaystyle T\\;=\\;- g m \\mu - \\frac{g m \\left(\\mu + 1\\right)}{\\mu - 1}\\;$"
      ],
      "text/plain": [
       "<IPython.core.display.Math object>"
      ]
     },
     "metadata": {},
     "output_type": "display_data"
    },
    {
     "data": {
      "text/latex": [
       "$\\displaystyle N_{1}\\;=\\;- \\frac{g m \\left(\\mu + 1\\right)}{\\mu - 1}\\;$"
      ],
      "text/plain": [
       "<IPython.core.display.Math object>"
      ]
     },
     "metadata": {},
     "output_type": "display_data"
    },
    {
     "data": {
      "text/latex": [
       "$\\displaystyle fr_{2}\\;=\\;- \\frac{g m \\mu \\left(\\mu + 1\\right)}{\\mu - 1}\\;$"
      ],
      "text/plain": [
       "<IPython.core.display.Math object>"
      ]
     },
     "metadata": {},
     "output_type": "display_data"
    },
    {
     "data": {
      "text/latex": [
       "$\\displaystyle a\\;=\\;- \\frac{g \\left(\\mu + 1\\right)}{\\mu - 1}\\;$"
      ],
      "text/plain": [
       "<IPython.core.display.Math object>"
      ]
     },
     "metadata": {},
     "output_type": "display_data"
    }
   ],
   "source": [
    "# in Msolve you need applied yours intuitions and neerd algebra  knowledge to solve\n",
    "P.Msolve([N1,fr2,T,fr,a],[3,4,2,1,5])"
   ]
  },
  {
   "cell_type": "markdown",
   "id": "39af6267-2c66-40cc-aaa0-bf4ad03342ce",
   "metadata": {},
   "source": [
    " <img src=\"images/line.png\" alt=\"ml\" style=\"width : 100%;\"/>"
   ]
  },
  {
   "cell_type": "markdown",
   "id": "0046e37c-803d-45fc-8c8b-8094b4b4f0ee",
   "metadata": {},
   "source": [
    " <img src=\"images/dM070.png\" alt=\"ml\" style=\"width : 60%;\"/>"
   ]
  },
  {
   "cell_type": "code",
   "execution_count": 40,
   "id": "bd478c7c-13ad-44a0-b1ef-6503d39de007",
   "metadata": {
    "tags": []
   },
   "outputs": [],
   "source": [
    "m,g,T,Aa,Ab=symbols('m g T Aa Ab',positive=True)"
   ]
  },
  {
   "cell_type": "code",
   "execution_count": 41,
   "id": "196f494d-a90f-4090-ab36-f46e1b205b4f",
   "metadata": {},
   "outputs": [],
   "source": [
    "#relation between mass\n",
    "ma=m\n",
    "mb=5*m/3"
   ]
  },
  {
   "cell_type": "code",
   "execution_count": 42,
   "id": "f23aaf78-5499-469a-9a2b-e07cf913f901",
   "metadata": {},
   "outputs": [
    {
     "data": {
      "image/png": "[encoded data removed]",
      "text/latex": [
       "$\\displaystyle T - g m=Aa m$"
      ],
      "text/plain": [
       "T - g*m=Aa*m"
      ]
     },
     "execution_count": 42,
     "metadata": {},
     "output_type": "execute_result"
    }
   ],
   "source": [
    "# Analisis A\n",
    "e1=polyclass(T-ma*g,ma*Aa);e1.s()"
   ]
  },
  {
   "cell_type": "code",
   "execution_count": 43,
   "id": "19a938da-5818-4556-b17d-4b2de1fe02a9",
   "metadata": {},
   "outputs": [],
   "source": [
    "# for geometri \n",
    "Ab=Aa/3"
   ]
  },
  {
   "cell_type": "code",
   "execution_count": 44,
   "id": "b7334d44-3eb5-4af0-9c27-4e991f4c249e",
   "metadata": {},
   "outputs": [
    {
     "data": {
      "image/png": "[encoded data removed]",
      "text/latex": [
       "$\\displaystyle - 3 T + \\frac{5 g m}{3}=\\frac{5 Aa m}{9}$"
      ],
      "text/plain": [
       "-3*T + 5*g*m/3=5*Aa*m/9"
      ]
     },
     "execution_count": 44,
     "metadata": {},
     "output_type": "execute_result"
    }
   ],
   "source": [
    "# Analisis B\n",
    "e2=polyclass(mb*g-3*T,mb*Ab);e2.s()"
   ]
  },
  {
   "cell_type": "code",
   "execution_count": 45,
   "id": "5a5aac5d-f08e-4b88-a68d-071a7450f0b6",
   "metadata": {},
   "outputs": [
    {
     "data": {
      "text/latex": [
       "$\\displaystyle T - g m\\;=\\;Aa m\\;$"
      ],
      "text/plain": [
       "<IPython.core.display.Math object>"
      ]
     },
     "metadata": {},
     "output_type": "display_data"
    },
    {
     "data": {
      "text/latex": [
       "$\\displaystyle - 3 T + \\frac{5 g m}{3}\\;=\\;\\frac{5 Aa m}{9}\\;$"
      ],
      "text/plain": [
       "<IPython.core.display.Math object>"
      ]
     },
     "metadata": {},
     "output_type": "display_data"
    }
   ],
   "source": [
    "vec=[e1,e2]\n",
    "P=Mpolyclass(vec);P.s()"
   ]
  },
  {
   "cell_type": "code",
   "execution_count": 46,
   "id": "f88df7e6-91b7-40a4-a871-cd9c82b98fd2",
   "metadata": {},
   "outputs": [
    {
     "data": {
      "text/latex": [
       "$\\displaystyle T\\;=\\;\\frac{5 g m}{8}\\;$"
      ],
      "text/plain": [
       "<IPython.core.display.Math object>"
      ]
     },
     "metadata": {},
     "output_type": "display_data"
    },
    {
     "data": {
      "text/latex": [
       "$\\displaystyle Aa\\;=\\;- \\frac{3 g}{8}\\;$"
      ],
      "text/plain": [
       "<IPython.core.display.Math object>"
      ]
     },
     "metadata": {},
     "output_type": "display_data"
    }
   ],
   "source": [
    "P.Msolve([T,Aa],[0,1])"
   ]
  },
  {
   "cell_type": "markdown",
   "id": "8e822787-90f2-4867-896f-8b5e3efe8a4e",
   "metadata": {},
   "source": [
    " <img src=\"images/line.png\" alt=\"ml\" style=\"width : 100%;\"/>"
   ]
  },
  {
   "cell_type": "markdown",
   "id": "a5a3c86e-e1e6-4642-a9f7-cb0f1f06029b",
   "metadata": {},
   "source": [
    " <img src=\"images/dM080.png\" alt=\"ml\" style=\"width : 60%;\"/>"
   ]
  },
  {
   "cell_type": "code",
   "execution_count": 47,
   "id": "6c3d8054-a34a-4aea-aa0a-421554ab7929",
   "metadata": {
    "tags": []
   },
   "outputs": [],
   "source": [
    "L,m,g,F1,alpha,x,h,V2=symbols('L m g F1 alpha x h V2',positive=True)"
   ]
  },
  {
   "cell_type": "code",
   "execution_count": 48,
   "id": "bd0f2b00-f509-4ae9-b83a-a0be211cb749",
   "metadata": {},
   "outputs": [
    {
     "data": {
      "image/png": "[encoded data removed]",
      "text/latex": [
       "$\\displaystyle \\sqrt{h^{2} + \\left(L - x\\right)^{2}}$"
      ],
      "text/plain": [
       "   _______________\n",
       "  ╱  2          2 \n",
       "╲╱  h  + (L - x)  "
      ]
     },
     "execution_count": 48,
     "metadata": {},
     "output_type": "execute_result"
    }
   ],
   "source": [
    "hipo=rpow(kpow(h,2)+kpow(L-x,2),2)\n",
    "hipo "
   ]
  },
  {
   "cell_type": "code",
   "execution_count": 49,
   "id": "6ced5760-63ea-420e-af78-2952b37c72c5",
   "metadata": {},
   "outputs": [
    {
     "data": {
      "image/png": "[encoded data removed]",
      "text/latex": [
       "$\\displaystyle \\frac{L - x}{\\sqrt{h^{2} + \\left(L - x\\right)^{2}}}$"
      ],
      "text/plain": [
       "      L - x       \n",
       "──────────────────\n",
       "   _______________\n",
       "  ╱  2          2 \n",
       "╲╱  h  + (L - x)  "
      ]
     },
     "execution_count": 49,
     "metadata": {},
     "output_type": "execute_result"
    }
   ],
   "source": [
    "kcos=(L-x)/hipo\n",
    "kcos"
   ]
  },
  {
   "cell_type": "code",
   "execution_count": 50,
   "id": "61bdefa1-4e57-44ce-bcd8-a90b1c7b1211",
   "metadata": {},
   "outputs": [],
   "source": [
    "W=integrate(F1*kcos,(x,0,L)) # Work = sum(F*dx)"
   ]
  },
  {
   "cell_type": "markdown",
   "id": "12952c91-3b2c-4d9a-ae8e-603052a46e36",
   "metadata": {},
   "source": [
    " <img src=\"images/dM080a.png\" alt=\"ml\" style=\"width : 60%;\"/>"
   ]
  },
  {
   "cell_type": "code",
   "execution_count": 51,
   "id": "9b67bbab-a7ed-49e6-bfed-eac93d94b5be",
   "metadata": {},
   "outputs": [],
   "source": [
    "P=mparticle(m=m,x1=0,y1=0,x2=L,y2=0,v1=0,v2=V2)"
   ]
  },
  {
   "cell_type": "code",
   "execution_count": 52,
   "id": "4c341550-38a3-4886-a67e-2cc229d52aa6",
   "metadata": {},
   "outputs": [
    {
     "data": {
      "image/png": "[encoded data removed]",
      "text/latex": [
       "$\\displaystyle \\frac{V_{2}^{2} m}{2}$"
      ],
      "text/plain": [
       "  2  \n",
       "V₂ ⋅m\n",
       "─────\n",
       "  2  "
      ]
     },
     "execution_count": 52,
     "metadata": {},
     "output_type": "execute_result"
    }
   ],
   "source": [
    "P.energia()"
   ]
  },
  {
   "cell_type": "code",
   "execution_count": 53,
   "id": "27b57610-e121-4886-b9d3-3f18d75cdf6c",
   "metadata": {},
   "outputs": [
    {
     "data": {
      "text/latex": [
       "$\\displaystyle V_f =\\sqrt{2} \\sqrt{\\frac{F_{1} \\left(- h + \\sqrt{L^{2} + h^{2}}\\right)}{m}}$"
      ],
      "text/plain": [
       "<IPython.core.display.Math object>"
      ]
     },
     "metadata": {},
     "output_type": "display_data"
    }
   ],
   "source": [
    "# Work Total = Energy Total, whit this find V final\n",
    "Vf=csolve(P.energia()-W,V2,'V_f',korden=0)"
   ]
  },
  {
   "cell_type": "code",
   "execution_count": null,
   "id": "b1f0729e-9df1-4bed-9f67-24c21572179c",
   "metadata": {},
   "outputs": [],
   "source": []
  }
 ],
 "metadata": {
  "kernelspec": {
   "display_name": "Python 3",
   "language": "python",
   "name": "python3"
  },
  "language_info": {
   "codemirror_mode": {
    "name": "ipython",
    "version": 3
   },
   "file_extension": ".py",
   "mimetype": "text/x-python",
   "name": "python",
   "nbconvert_exporter": "python",
   "pygments_lexer": "ipython3",
   "version": "3.6.6"
  }
 },
 "nbformat": 4,
 "nbformat_minor": 5
}
