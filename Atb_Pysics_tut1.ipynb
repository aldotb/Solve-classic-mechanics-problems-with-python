{
 "cells": [
  {
   "cell_type": "markdown",
   "metadata": {},
   "source": [
    "# Solve Classic Mechanics Problems with Python and Sympy\n",
    "\n",
    "This is my first colaboration, and try to colaborate and hope that my library help somebody :\n"
   ]
  },
  {
   "cell_type": "markdown",
   "metadata": {},
   "source": [
    "# Introduction  simple Rigid Body -  Static\n",
    "\n",
    "In this section we learn to do the Basic:\n",
    "\n",
    "* Declare Object  , P, P1, Block.. etc = kparticle()........\n",
    "    * add_value(self,mat1,mat2,kend=False) : To store data value for the object\n",
    "    * add_forza(self, kval,kang,x=0,y=0,s='r') - descrbe the forzes, reaccion . weight..  etc in th eobject \n",
    "    * res_x(self,keval=False) - Resultante in X Axes\n",
    "    * res_y(self,keval=False) - Resultante in Y Axe\n",
    "    * torque(self,x=0,y=0,s='s'): - Torque in Point x,y\n",
    "      and more...\n",
    "* The main class is called kparticle() and have the following functions \n",
    "    P=kparticle()\n",
    "* ad_forza... declaramos all forzes interactue in the object. add_forza(value,ang reference,x1,x2,s='s')\n",
    "* angle default is in radiabs but if you can use  Sexagesimal see that\n",
    "    P.add_forza(F1,pi/2,0,5) = P.add_forza(F1,90,0,5,s='s')"
   ]
  },
  {
   "cell_type": "markdown",
   "metadata": {},
   "source": [
    "<img src=\"Doc_img/mdoc1.png\" alt=\"ml\" style=\"width : 90%;\"/>"
   ]
  },
  {
   "cell_type": "code",
   "execution_count": 3,
   "metadata": {},
   "outputs": [],
   "source": [
    "from sympy import *\n",
    "from lib_subclass import *\n",
    "from lib_mechanics import *\n",
    "from lib_solution_algorith import *\n",
    "init_printing()"
   ]
  },
  {
   "cell_type": "markdown",
   "metadata": {},
   "source": [
    "### In  P1"
   ]
  },
  {
   "cell_type": "code",
   "execution_count": 5,
   "metadata": {},
   "outputs": [],
   "source": [
    "P1=kparticle()\n",
    "P1.add_forza(m*g,-pi/2) #  m*g is the wheigh, angle =-pi/2 because is to down and\n",
    "P1.add_forza(N1,pi/2)"
   ]
  },
  {
   "cell_type": "markdown",
   "metadata": {},
   "source": [
    "### some tools"
   ]
  },
  {
   "cell_type": "code",
   "execution_count": 6,
   "metadata": {},
   "outputs": [
    {
     "data": {
      "image/png": "[encoded data removed]",
      "text/latex": [
       "$\\displaystyle 0$"
      ],
      "text/plain": [
       "0"
      ]
     },
     "execution_count": 6,
     "metadata": {},
     "output_type": "execute_result"
    }
   ],
   "source": [
    "P1.res_x()"
   ]
  },
  {
   "cell_type": "code",
   "execution_count": 7,
   "metadata": {},
   "outputs": [
    {
     "data": {
      "image/png": "[encoded data removed]",
      "text/latex": [
       "$\\displaystyle N_{1} - g m$"
      ],
      "text/plain": [
       "N₁ - g⋅m"
      ]
     },
     "execution_count": 7,
     "metadata": {},
     "output_type": "execute_result"
    }
   ],
   "source": [
    "P1.res_y()"
   ]
  },
  {
   "cell_type": "markdown",
   "metadata": {
    "jupyter": {
     "source_hidden": true
    }
   },
   "source": [
    "### with  P2"
   ]
  },
  {
   "cell_type": "code",
   "execution_count": 8,
   "metadata": {},
   "outputs": [],
   "source": [
    "P2=kparticle()\n",
    "P2.add_forza(m*g,-pi/2) #  m*g is the wheigh, angle =-pi/2 because is to down and\n",
    "P2.add_forza(N1,pi/2)\n",
    "P2.add_forza(F1,alpha)"
   ]
  },
  {
   "cell_type": "code",
   "execution_count": 9,
   "metadata": {},
   "outputs": [
    {
     "data": {
      "image/png": "[encoded data removed]",
      "text/latex": [
       "$\\displaystyle F_{1} \\cos{\\left(\\alpha \\right)}$"
      ],
      "text/plain": [
       "F₁⋅cos(α)"
      ]
     },
     "execution_count": 9,
     "metadata": {},
     "output_type": "execute_result"
    }
   ],
   "source": [
    "P2.res_x()"
   ]
  },
  {
   "cell_type": "code",
   "execution_count": 10,
   "metadata": {},
   "outputs": [
    {
     "data": {
      "image/png": "[encoded data removed]",
      "text/latex": [
       "$\\displaystyle N_{1} - g m$"
      ],
      "text/plain": [
       "N₁ - g⋅m"
      ]
     },
     "execution_count": 10,
     "metadata": {},
     "output_type": "execute_result"
    }
   ],
   "source": [
    "P1.res_y()"
   ]
  },
  {
   "cell_type": "markdown",
   "metadata": {},
   "source": [
    "### with  P3"
   ]
  },
  {
   "cell_type": "code",
   "execution_count": 11,
   "metadata": {},
   "outputs": [],
   "source": [
    "P3=kparticle()\n",
    "P3.add_forza(m*g,-pi/2) #  m*g is the wheigh, angle =-pi/2 because is to down and\n",
    "P3.add_forza(N1,pi/2)\n",
    "P3.add_forza(F1,alpha)\n",
    "fr=N1*mu\n",
    "P3.add_forza(fr,pi)"
   ]
  },
  {
   "cell_type": "code",
   "execution_count": 12,
   "metadata": {},
   "outputs": [
    {
     "data": {
      "image/png": "[encoded data removed]",
      "text/latex": [
       "$\\displaystyle F_{1} \\cos{\\left(\\alpha \\right)} - N_{1} \\mu$"
      ],
      "text/plain": [
       "F₁⋅cos(α) - N₁⋅μ"
      ]
     },
     "execution_count": 12,
     "metadata": {},
     "output_type": "execute_result"
    }
   ],
   "source": [
    "P3.res_x()"
   ]
  },
  {
   "cell_type": "code",
   "execution_count": 13,
   "metadata": {},
   "outputs": [
    {
     "data": {
      "image/png": "[encoded data removed]",
      "text/latex": [
       "$\\displaystyle F_{1} \\sin{\\left(\\alpha \\right)} + N_{1} - g m$"
      ],
      "text/plain": [
       "F₁⋅sin(α) + N₁ - g⋅m"
      ]
     },
     "execution_count": 13,
     "metadata": {},
     "output_type": "execute_result"
    }
   ],
   "source": [
    "P3.res_y()"
   ]
  },
  {
   "cell_type": "markdown",
   "metadata": {},
   "source": [
    "###  Static sample"
   ]
  },
  {
   "cell_type": "markdown",
   "metadata": {},
   "source": [
    "<img src=\"Doc_img/mdoc2.png\" alt=\"ml\" style=\"width : 50%;\"/>"
   ]
  },
  {
   "cell_type": "code",
   "execution_count": 1,
   "metadata": {},
   "outputs": [],
   "source": [
    "from sympy import *\n",
    "from lib_subclass import *\n",
    "from lib_mechanics import *\n",
    "from lib_solution_algorith import *\n",
    "init_printing()"
   ]
  },
  {
   "cell_type": "markdown",
   "metadata": {},
   "source": [
    "##### Is more east start with P2"
   ]
  },
  {
   "cell_type": "code",
   "execution_count": 2,
   "metadata": {},
   "outputs": [],
   "source": [
    "P2=kparticle()\n",
    "P2.add_forza(m2*g,-pi/2) #  m*g is the wheigh, angle =-pi/2 because is to down and\n",
    "P2.add_forza(T1,pi/2)"
   ]
  },
  {
   "cell_type": "markdown",
   "metadata": {},
   "source": [
    "##### with  classic solve metod in Sympy we hace the following to Find T1"
   ]
  },
  {
   "cell_type": "code",
   "execution_count": 3,
   "metadata": {},
   "outputs": [
    {
     "data": {
      "image/png": "[encoded data removed]",
      "text/latex": [
       "$\\displaystyle \\left[ g m_{2}\\right]$"
      ],
      "text/plain": [
       "[g⋅m₂]"
      ]
     },
     "execution_count": 3,
     "metadata": {},
     "output_type": "execute_result"
    }
   ],
   "source": [
    "solve(P2.res_y(),T1)"
   ]
  },
  {
   "cell_type": "markdown",
   "metadata": {},
   "source": [
    "##### and the answer is a matriz and is a problem"
   ]
  },
  {
   "cell_type": "markdown",
   "metadata": {},
   "source": [
    "##### See my methos, including stored the new T1 value"
   ]
  },
  {
   "cell_type": "code",
   "execution_count": 8,
   "metadata": {},
   "outputs": [
    {
     "data": {
      "text/latex": [
       "$\\displaystyle T1 =g m_{2}$"
      ],
      "text/plain": [
       "<IPython.core.display.Math object>"
      ]
     },
     "metadata": {},
     "output_type": "display_data"
    }
   ],
   "source": [
    "T1=P2.define_val(T1,csolve(P2.res_y(),T1,'T1',kdisp=True))"
   ]
  },
  {
   "cell_type": "code",
   "execution_count": 9,
   "metadata": {},
   "outputs": [],
   "source": [
    "P1=kparticle()\n",
    "P1.add_forza(m1*g,-pi/2)\n",
    "P1.add_forza(T1,alpha)\n",
    "P1.add_forza(N1,90,s='s') # here I changue the form to input the angle when is Sexagesimal\n",
    "fr=N1*mu\n",
    "P1.add_forza(fr,180,s='s')"
   ]
  },
  {
   "cell_type": "code",
   "execution_count": 10,
   "metadata": {},
   "outputs": [
    {
     "data": {
      "image/png": "[encoded data removed]",
      "text/latex": [
       "$\\displaystyle N_{1} - g m_{1} + g m_{2} \\sin{\\left(\\alpha \\right)}$"
      ],
      "text/plain": [
       "N₁ - g⋅m₁ + g⋅m₂⋅sin(α)"
      ]
     },
     "execution_count": 10,
     "metadata": {},
     "output_type": "execute_result"
    }
   ],
   "source": [
    "P1.res_y()"
   ]
  },
  {
   "cell_type": "code",
   "execution_count": 11,
   "metadata": {},
   "outputs": [
    {
     "data": {
      "text/latex": [
       "$\\displaystyle N1 =g \\left(m_{1} - m_{2} \\sin{\\left(\\alpha \\right)}\\right)$"
      ],
      "text/plain": [
       "<IPython.core.display.Math object>"
      ]
     },
     "metadata": {},
     "output_type": "display_data"
    }
   ],
   "source": [
    "N1=P1.define_val(N1,csolve(P1.res_y(),N1,'N1',kdisp=True))"
   ]
  },
  {
   "cell_type": "code",
   "execution_count": 12,
   "metadata": {
    "jupyter": {
     "source_hidden": true
    }
   },
   "outputs": [
    {
     "data": {
      "image/png": "[encoded data removed]",
      "text/latex": [
       "$\\displaystyle - N_{1} \\mu + g m_{2} \\cos{\\left(\\alpha \\right)}$"
      ],
      "text/plain": [
       "-N₁⋅μ + g⋅m₂⋅cos(α)"
      ]
     },
     "execution_count": 12,
     "metadata": {},
     "output_type": "execute_result"
    }
   ],
   "source": [
    "P1.res_x() # if I include a little parameter N1 will be the previus anwer to used here.. please check"
   ]
  },
  {
   "cell_type": "code",
   "execution_count": 13,
   "metadata": {},
   "outputs": [
    {
     "data": {
      "image/png": "[encoded data removed]",
      "text/latex": [
       "$\\displaystyle g m_{2} \\cos{\\left(\\alpha \\right)} - g \\mu \\left(m_{1} - m_{2} \\sin{\\left(\\alpha \\right)}\\right)$"
      ],
      "text/plain": [
       "g⋅m₂⋅cos(α) - g⋅μ⋅(m₁ - m₂⋅sin(α))"
      ]
     },
     "execution_count": 13,
     "metadata": {},
     "output_type": "execute_result"
    }
   ],
   "source": [
    "P1.res_x(keval=True)"
   ]
  },
  {
   "cell_type": "markdown",
   "metadata": {},
   "source": [
    "##### In .res_x and res_y keval=False is the order  that subtitute all variables resolved ans stored"
   ]
  },
  {
   "cell_type": "markdown",
   "metadata": {},
   "source": [
    "##### P1.res_x=0 because is static"
   ]
  },
  {
   "cell_type": "code",
   "execution_count": 14,
   "metadata": {},
   "outputs": [
    {
     "data": {
      "text/latex": [
       "$\\displaystyle Mu =\\frac{m_{2} \\cos{\\left(\\alpha \\right)}}{m_{1} - m_{2} \\sin{\\left(\\alpha \\right)}}$"
      ],
      "text/plain": [
       "<IPython.core.display.Math object>"
      ]
     },
     "metadata": {},
     "output_type": "display_data"
    },
    {
     "data": {
      "image/png": "[encoded data removed]",
      "text/latex": [
       "$\\displaystyle \\frac{m_{2} \\cos{\\left(\\alpha \\right)}}{m_{1} - m_{2} \\sin{\\left(\\alpha \\right)}}$"
      ],
      "text/plain": [
       "  m₂⋅cos(α)   \n",
       "──────────────\n",
       "m₁ - m₂⋅sin(α)"
      ]
     },
     "execution_count": 14,
     "metadata": {},
     "output_type": "execute_result"
    }
   ],
   "source": [
    "csolve(P1.res_x(keval=True),mu,'Mu',kdisp=True)"
   ]
  },
  {
   "cell_type": "markdown",
   "metadata": {},
   "source": [
    "# Torque\n",
    "\n",
    "Now we need use Torque for some resulutions:\n",
    "\n",
    "* Declare Object  , P, P1, Block.. etc = kparticle()........\n",
    "    P=kparticle()\n",
    "* ad_forza... declaramos all forzes interactue in the object. add_forza(value,ang ,s='s')\n",
    "Now we used the same but indicate where are the Force Point\n",
    "* add_forza(value,ang ,x,y,s='s')"
   ]
  },
  {
   "cell_type": "markdown",
   "metadata": {},
   "source": [
    "###  Static sample with Torque, We will take B point as main reference X,Y  Pos"
   ]
  },
  {
   "cell_type": "markdown",
   "metadata": {},
   "source": [
    "<img src=\"Doc_img/mdoc3.png\" alt=\"ml\" style=\"width : 80%;\"/>"
   ]
  },
  {
   "cell_type": "code",
   "execution_count": 1,
   "metadata": {},
   "outputs": [],
   "source": [
    "from sympy import *\n",
    "from lib_subclass import *\n",
    "from lib_mechanics import *\n",
    "from lib_solution_algorith import *\n",
    "init_printing()"
   ]
  },
  {
   "cell_type": "code",
   "execution_count": 2,
   "metadata": {},
   "outputs": [],
   "source": [
    "P=kparticle()\n",
    "P.add_forza(Ry,pi/2,0,0)\n",
    "P.add_forza(Rx,0,0,0)\n",
    "P.add_forza(500,-pi/2,L/2,0)\n",
    "# we wiil take m2 like weight \n",
    "T2=2*m1\n",
    "P.add_forza(T2,30,L/4,0,s='s') # here I changue the form to input the angle when is Sexagesimal\n",
    "T1=m1\n",
    "P.add_forza(T1,pi/2,L,0)"
   ]
  },
  {
   "cell_type": "markdown",
   "metadata": {},
   "source": [
    "###  Torque Value en B cordinate is??"
   ]
  },
  {
   "cell_type": "code",
   "execution_count": 3,
   "metadata": {},
   "outputs": [
    {
     "data": {
      "image/png": "[encoded data removed]",
      "text/latex": [
       "$\\displaystyle \\frac{5 L m_{1}}{4} - 250 L$"
      ],
      "text/plain": [
       "5⋅L⋅m₁        \n",
       "────── - 250⋅L\n",
       "  4           "
      ]
     },
     "execution_count": 3,
     "metadata": {},
     "output_type": "execute_result"
    }
   ],
   "source": [
    "P.torque()"
   ]
  },
  {
   "cell_type": "markdown",
   "metadata": {},
   "source": [
    "###  Torque Value in midle barra?? only to comprobe id torque work"
   ]
  },
  {
   "cell_type": "code",
   "execution_count": 4,
   "metadata": {},
   "outputs": [
    {
     "data": {
      "image/png": "[encoded data removed]",
      "text/latex": [
       "$\\displaystyle - \\frac{L Ry}{2} + \\frac{L m_{1}}{4}$"
      ],
      "text/plain": [
       "  L⋅Ry   L⋅m₁\n",
       "- ──── + ────\n",
       "   2      4  "
      ]
     },
     "execution_count": 4,
     "metadata": {},
     "output_type": "execute_result"
    }
   ],
   "source": [
    "P.torque(x=L/2,y=0)"
   ]
  },
  {
   "cell_type": "code",
   "execution_count": 6,
   "metadata": {},
   "outputs": [
    {
     "data": {
      "text/latex": [
       "$\\displaystyle Tension =200$"
      ],
      "text/plain": [
       "<IPython.core.display.Math object>"
      ]
     },
     "metadata": {},
     "output_type": "display_data"
    }
   ],
   "source": [
    "m1=csolve(P.torque(),m1,'Tension',kdisp=True)"
   ]
  }
 ],
 "metadata": {
  "kernelspec": {
   "display_name": "Python 3",
   "language": "python",
   "name": "python3"
  },
  "language_info": {
   "codemirror_mode": {
    "name": "ipython",
    "version": 3
   },
   "file_extension": ".py",
   "mimetype": "text/x-python",
   "name": "python",
   "nbconvert_exporter": "python",
   "pygments_lexer": "ipython3",
   "version": "3.6.6"
  }
 },
 "nbformat": 4,
 "nbformat_minor": 4
}
