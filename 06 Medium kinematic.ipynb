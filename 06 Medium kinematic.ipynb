{
 "cells": [
  {
   "cell_type": "code",
   "execution_count": 1,
   "id": "56d7c296-d61a-40c6-a342-b79a4e92d30a",
   "metadata": {
    "tags": []
   },
   "outputs": [],
   "source": [
    "from sympy import *\n",
    "from polyclass import *\n",
    "from libaldo_math import *\n",
    "from libaldo_show import *\n",
    "from physic_lib import *\n",
    "from IPython.display import display, Math\n",
    "init_printing()"
   ]
  },
  {
   "cell_type": "markdown",
   "id": "a95bd876-6d10-4cbb-8cb8-b8facfc8a5be",
   "metadata": {},
   "source": [
    " <img src=\"images/line.png\" alt=\"ml\" style=\"width : 100%;\"/>"
   ]
  },
  {
   "cell_type": "markdown",
   "id": "36704b19-37cc-4ba6-92e3-d9e2afb66080",
   "metadata": {},
   "source": [
    " <img src=\"images/km10.png\" alt=\"ml\" style=\"width : 50%;\"/>"
   ]
  },
  {
   "cell_type": "code",
   "execution_count": 2,
   "id": "633445b9-93ee-446f-8a19-3eacfa8e8e19",
   "metadata": {
    "tags": []
   },
   "outputs": [],
   "source": [
    "# creating symbols variable\n",
    "t,V_o,alpha,B_x,B_y,g=symbols('t V_o alpha B_x B_y g')"
   ]
  },
  {
   "cell_type": "markdown",
   "id": "97e18408-5f2e-402f-a144-aea9d467a2c9",
   "metadata": {},
   "source": [
    "### some explication how used mparticle class()"
   ]
  },
  {
   "cell_type": "markdown",
   "id": "92d0407a-6c75-4b43-a689-8030616ae0fb",
   "metadata": {},
   "source": [
    " <img src=\"images/mpart2.png\" alt=\"ml\" style=\"width : 80%;\"/>"
   ]
  },
  {
   "cell_type": "code",
   "execution_count": 3,
   "id": "6166440c-2e82-42cd-b3c9-2617585d8006",
   "metadata": {
    "tags": []
   },
   "outputs": [],
   "source": [
    "P=mparticle(x1=0,y1=0,v=V_o,ac=0,a=pi/4) # moss relevant in this case "
   ]
  },
  {
   "cell_type": "markdown",
   "id": "7ad154e5-be94-424e-9133-85b9c0364b1e",
   "metadata": {},
   "source": [
    "### remember functions parabolic "
   ]
  },
  {
   "cell_type": "markdown",
   "id": "48cb929e-62c9-4a33-a567-c86b9ed054b3",
   "metadata": {},
   "source": [
    " <img src=\"images/k000.png\" alt=\"ml\" style=\"width : 80%;\"/>"
   ]
  },
  {
   "cell_type": "markdown",
   "id": "72795843-4569-4c98-a612-81dc2122f34d",
   "metadata": {},
   "source": [
    " <img src=\"images/km10.png\" alt=\"ml\" style=\"width : 50%;\"/>"
   ]
  },
  {
   "cell_type": "code",
   "execution_count": 4,
   "id": "429d249d-6a8f-43cb-a83a-927e88c4a152",
   "metadata": {},
   "outputs": [
    {
     "data": {
      "image/png": "[encoded data removed]",
      "text/latex": [
       "$\\displaystyle \\frac{\\sqrt{2} V_{o}}{g}$"
      ],
      "text/plain": [
       "√2⋅Vₒ\n",
       "─────\n",
       "  g  "
      ]
     },
     "execution_count": 4,
     "metadata": {},
     "output_type": "execute_result"
    }
   ],
   "source": [
    "P.t_fly() # total time from A to C"
   ]
  },
  {
   "cell_type": "code",
   "execution_count": 5,
   "id": "16d779d5-37eb-469a-8676-a6a4e2b55c8c",
   "metadata": {},
   "outputs": [
    {
     "data": {
      "image/png": "[encoded data removed]",
      "text/latex": [
       "$\\displaystyle \\frac{\\sqrt{2} V_{o}}{2 g}$"
      ],
      "text/plain": [
       "√2⋅Vₒ\n",
       "─────\n",
       " 2⋅g "
      ]
     },
     "execution_count": 5,
     "metadata": {},
     "output_type": "execute_result"
    }
   ],
   "source": [
    "# T2= total time from A to B that is t_fly()/2\n",
    "T2=P.t_fly()/2 ; T2"
   ]
  },
  {
   "cell_type": "code",
   "execution_count": 6,
   "id": "12c6d486-9209-44e1-b9e6-90c1a605dc1a",
   "metadata": {},
   "outputs": [
    {
     "data": {
      "image/png": "[encoded data removed]",
      "text/latex": [
       "$\\displaystyle \\frac{V_{o}^{2}}{2 g}$"
      ],
      "text/plain": [
       "  2\n",
       "Vₒ \n",
       "───\n",
       "2⋅g"
      ]
     },
     "execution_count": 6,
     "metadata": {},
     "output_type": "execute_result"
    }
   ],
   "source": [
    "B_x=P.x_pos(T2);B_x # find x pos of B in T function"
   ]
  },
  {
   "cell_type": "code",
   "execution_count": 7,
   "id": "4b1e0112-27a6-4151-8ef6-8990330ac1d5",
   "metadata": {},
   "outputs": [
    {
     "data": {
      "image/png": "[encoded data removed]",
      "text/latex": [
       "$\\displaystyle \\frac{V_{o}^{2}}{4 g}$"
      ],
      "text/plain": [
       "  2\n",
       "Vₒ \n",
       "───\n",
       "4⋅g"
      ]
     },
     "execution_count": 7,
     "metadata": {},
     "output_type": "execute_result"
    }
   ],
   "source": [
    "B_y=P.y_pos(T2);B_y # find y pos of B in T function"
   ]
  },
  {
   "cell_type": "code",
   "execution_count": 8,
   "id": "d59d591a-462e-4a44-82d9-299843f29d6f",
   "metadata": {},
   "outputs": [
    {
     "data": {
      "text/latex": [
       "$\\displaystyle \\tan{\\left(\\alpha \\right)}\\;=\\;\\frac{1}{2}\\;$"
      ],
      "text/plain": [
       "<IPython.core.display.Math object>"
      ]
     },
     "metadata": {},
     "output_type": "display_data"
    }
   ],
   "source": [
    "Ta=B_y/B_x\n",
    "sE([tan(alpha),'=',Ta])"
   ]
  },
  {
   "cell_type": "markdown",
   "id": "8398e6a7-6707-449b-968c-88a89ad7dd57",
   "metadata": {},
   "source": [
    " <img src=\"images/line.png\" alt=\"ml\" style=\"width : 100%;\"/>"
   ]
  },
  {
   "cell_type": "markdown",
   "id": "09d39be1-b794-44f9-946b-382ab514e17d",
   "metadata": {},
   "source": [
    " <img src=\"images/post1_math.png\" alt=\"ml\" style=\"width : 100%;\"/>"
   ]
  },
  {
   "cell_type": "markdown",
   "id": "abfacd3a-7469-46cc-ab8e-6211783aa476",
   "metadata": {},
   "source": [
    " <img src=\"images/line.png\" alt=\"ml\" style=\"width : 100%;\"/>"
   ]
  },
  {
   "cell_type": "markdown",
   "id": "242873d3-87d4-4f31-ad72-203f1b3f6aa1",
   "metadata": {},
   "source": [
    " <img src=\"images/km20.png\" alt=\"ml\" style=\"width : 80%;\"/>"
   ]
  },
  {
   "cell_type": "markdown",
   "id": "9efae256-2486-422a-88cd-033135bd8ede",
   "metadata": {},
   "source": [
    "#### From now we will solve problems more fast and less lines script.. I hope dontmake confuse\n",
    "#### I will try to introducce mpoliclass functions to manage severa equations"
   ]
  },
  {
   "cell_type": "code",
   "execution_count": 2,
   "id": "47b430e3-84cd-4276-b12c-c3d6100c47d9",
   "metadata": {},
   "outputs": [],
   "source": [
    "T,Va,H,h1,g=symbols('T Va H h1 g',positive=True) # we need positive=True due sqrt answers"
   ]
  },
  {
   "cell_type": "code",
   "execution_count": 3,
   "id": "e5f61b27-b420-4d5d-adcf-00c703dee051",
   "metadata": {},
   "outputs": [],
   "source": [
    "# working whit Ball A alone\n",
    "A=mparticle(x1=0,y1=0,y2=H,v=Va,g=g,a=pi/2,ac=0)"
   ]
  },
  {
   "cell_type": "code",
   "execution_count": 4,
   "id": "8db47526-ed31-4bbb-ba73-579f46757f55",
   "metadata": {
    "tags": []
   },
   "outputs": [
    {
     "data": {
      "image/png": "[encoded data removed]",
      "text/latex": [
       "$\\displaystyle \\frac{Va^{2}}{2 g}$"
      ],
      "text/plain": [
       "  2\n",
       "Va \n",
       "───\n",
       "2⋅g"
      ]
     },
     "execution_count": 4,
     "metadata": {},
     "output_type": "execute_result"
    }
   ],
   "source": [
    "A.y_max() # that is equal to H.. and we use to find Va"
   ]
  },
  {
   "cell_type": "code",
   "execution_count": 5,
   "id": "83087b98-27a2-4253-85f5-2fca788ac5c0",
   "metadata": {},
   "outputs": [
    {
     "data": {
      "image/png": "[encoded data removed]",
      "text/latex": [
       "$\\displaystyle \\sqrt{2} \\sqrt{H} \\sqrt{g}$"
      ],
      "text/plain": [
       "√2⋅√H⋅√g"
      ]
     },
     "execution_count": 5,
     "metadata": {},
     "output_type": "execute_result"
    }
   ],
   "source": [
    "csolve(A.y_max()-H,Va)"
   ]
  },
  {
   "cell_type": "markdown",
   "id": "6d049fae-6fe3-45e6-9702-8b21039d36af",
   "metadata": {},
   "source": [
    "####  Creating Equation No 1 "
   ]
  },
  {
   "cell_type": "code",
   "execution_count": 6,
   "id": "a01b3a91-882b-4d42-86f9-9da3f6efe469",
   "metadata": {
    "tags": []
   },
   "outputs": [
    {
     "data": {
      "image/png": "[encoded data removed]",
      "text/latex": [
       "$\\displaystyle Va=\\sqrt{2} \\sqrt{H} \\sqrt{g}$"
      ],
      "text/plain": [
       "Va=sqrt(2)*sqrt(H)*sqrt(g)"
      ]
     },
     "execution_count": 6,
     "metadata": {},
     "output_type": "execute_result"
    }
   ],
   "source": [
    "e1=polyclass(Va,csolve(A.y_max()-H,Va));e1.Q"
   ]
  },
  {
   "cell_type": "code",
   "execution_count": 7,
   "id": "04476635-f810-4321-adc2-6faf54d6aa10",
   "metadata": {},
   "outputs": [
    {
     "data": {
      "image/png": "[encoded data removed]",
      "text/latex": [
       "$\\displaystyle - \\frac{T^{2} g}{2} + T Va$"
      ],
      "text/plain": [
       "   2         \n",
       "  T ⋅g       \n",
       "- ──── + T⋅Va\n",
       "   2         "
      ]
     },
     "execution_count": 7,
     "metadata": {},
     "output_type": "execute_result"
    }
   ],
   "source": [
    "A.y_pos(T) # finding y pos in time equal T"
   ]
  },
  {
   "cell_type": "markdown",
   "id": "228a82ce-aef7-4b3a-95ee-838ce0b503c2",
   "metadata": {},
   "source": [
    "####  Creating Equation No 2 "
   ]
  },
  {
   "cell_type": "code",
   "execution_count": 8,
   "id": "d6d3ab5b-b1c2-4f6f-8fe2-46fb5c2ce8bc",
   "metadata": {
    "tags": []
   },
   "outputs": [
    {
     "data": {
      "image/png": "[encoded data removed]",
      "text/latex": [
       "$\\displaystyle h_{1}=- \\frac{T^{2} g}{2} + T Va$"
      ],
      "text/plain": [
       "h1=-T**2*g/2 + T*Va"
      ]
     },
     "execution_count": 8,
     "metadata": {},
     "output_type": "execute_result"
    }
   ],
   "source": [
    "e2=polyclass(h1,A.y_pos(T));e2.Q"
   ]
  },
  {
   "cell_type": "code",
   "execution_count": 9,
   "id": "7a008f21-10fb-4e51-9c5a-10bedaf6be91",
   "metadata": {},
   "outputs": [],
   "source": [
    "# working whit Ball B  \n",
    "B=mparticle(x1=0,y1=H,y2=h1,v=0,g=g,a=-pi/2,ac=0)"
   ]
  },
  {
   "cell_type": "code",
   "execution_count": 10,
   "id": "9ae76d9d-49a5-46fa-a5c9-892c8b4bbb31",
   "metadata": {
    "tags": []
   },
   "outputs": [
    {
     "data": {
      "image/png": "[encoded data removed]",
      "text/latex": [
       "$\\displaystyle H - \\frac{T^{2} g}{2}$"
      ],
      "text/plain": [
       "     2  \n",
       "    T ⋅g\n",
       "H - ────\n",
       "     2  "
      ]
     },
     "execution_count": 10,
     "metadata": {},
     "output_type": "execute_result"
    }
   ],
   "source": [
    "B.y_pos(T) # finding y in T time"
   ]
  },
  {
   "cell_type": "markdown",
   "id": "e0d58c8b-f40d-4fe0-a6b7-58e0155d5231",
   "metadata": {},
   "source": [
    "####  Creating Equation No 3 "
   ]
  },
  {
   "cell_type": "code",
   "execution_count": 11,
   "id": "71430152-572d-4e74-866e-f7353766cca2",
   "metadata": {
    "tags": []
   },
   "outputs": [
    {
     "data": {
      "image/png": "[encoded data removed]",
      "text/latex": [
       "$\\displaystyle H - \\frac{T^{2} g}{2}=h_{1}$"
      ],
      "text/plain": [
       "H - T**2*g/2=h1"
      ]
     },
     "execution_count": 11,
     "metadata": {},
     "output_type": "execute_result"
    }
   ],
   "source": [
    "e3=polyclass(B.y_pos(T),h1);e3.Q"
   ]
  },
  {
   "cell_type": "markdown",
   "id": "b4bdb8ae-6d54-4e15-b996-880db1ec1e48",
   "metadata": {},
   "source": [
    "####  Creating Equation  matrix to use in Mpolyclass"
   ]
  },
  {
   "cell_type": "code",
   "execution_count": 12,
   "id": "5f5605c6-008e-4dc0-ab73-edf6219fe0ea",
   "metadata": {
    "tags": []
   },
   "outputs": [],
   "source": [
    "vec=[e1,e2,e3]"
   ]
  },
  {
   "cell_type": "markdown",
   "id": "d4dcb6ff-7321-4001-afb2-7b6432f43680",
   "metadata": {},
   "source": [
    "####  Creating super class of several polynomies Eq"
   ]
  },
  {
   "cell_type": "code",
   "execution_count": 13,
   "id": "576569dc-8d84-4698-aa62-9ba8a1ed666a",
   "metadata": {},
   "outputs": [],
   "source": [
    "P=Mpolyclass(vec)"
   ]
  },
  {
   "cell_type": "code",
   "execution_count": 14,
   "id": "a4dcdb3d-4d35-4902-a2ad-49a3bf09f685",
   "metadata": {},
   "outputs": [
    {
     "data": {
      "text/latex": [
       "$\\displaystyle Va\\;=\\;\\sqrt{2} \\sqrt{H} \\sqrt{g}\\;$"
      ],
      "text/plain": [
       "<IPython.core.display.Math object>"
      ]
     },
     "metadata": {},
     "output_type": "display_data"
    },
    {
     "data": {
      "text/latex": [
       "$\\displaystyle h_{1}\\;=\\;- \\frac{T^{2} g}{2} + T Va\\;$"
      ],
      "text/plain": [
       "<IPython.core.display.Math object>"
      ]
     },
     "metadata": {},
     "output_type": "display_data"
    },
    {
     "data": {
      "text/latex": [
       "$\\displaystyle H - \\frac{T^{2} g}{2}\\;=\\;h_{1}\\;$"
      ],
      "text/plain": [
       "<IPython.core.display.Math object>"
      ]
     },
     "metadata": {},
     "output_type": "display_data"
    }
   ],
   "source": [
    "# what happend... what have..??\n",
    "P.s()"
   ]
  },
  {
   "cell_type": "code",
   "execution_count": 15,
   "id": "bb44c7ae-08d1-49d5-9f72-f906e7e3ba90",
   "metadata": {},
   "outputs": [
    {
     "data": {
      "text/latex": [
       "$\\displaystyle Va\\;=\\;\\sqrt{2} \\sqrt{H} \\sqrt{g}\\;$"
      ],
      "text/plain": [
       "<IPython.core.display.Math object>"
      ]
     },
     "metadata": {},
     "output_type": "display_data"
    },
    {
     "data": {
      "text/latex": [
       "$\\displaystyle h_{1}\\;=\\;\\frac{3 H}{4}\\;$"
      ],
      "text/plain": [
       "<IPython.core.display.Math object>"
      ]
     },
     "metadata": {},
     "output_type": "display_data"
    },
    {
     "data": {
      "text/latex": [
       "$\\displaystyle T\\;=\\;\\frac{\\sqrt{2} \\sqrt{H}}{2 \\sqrt{g}}\\;$"
      ],
      "text/plain": [
       "<IPython.core.display.Math object>"
      ]
     },
     "metadata": {},
     "output_type": "display_data"
    }
   ],
   "source": [
    "# magic solve alll that you want ..  if it possible... and Voalaaaa\n",
    "P.matSolve([Va,h1,T],[0,1,2],kremp=True,kshow=False)"
   ]
  },
  {
   "cell_type": "markdown",
   "id": "eade39a6-16dc-45da-bf0d-be418dd66af0",
   "metadata": {},
   "source": [
    " <img src=\"images/line.png\" alt=\"ml\" style=\"width : 100%;\"/>"
   ]
  },
  {
   "cell_type": "markdown",
   "id": "a3c01067-7da1-4a7a-ae82-c7b15daabc4d",
   "metadata": {},
   "source": [
    " <img src=\"images/km30.png\" alt=\"ml\" style=\"width : 80%;\"/>"
   ]
  },
  {
   "cell_type": "code",
   "execution_count": 3,
   "id": "166f7a0e-1f68-4d1d-a2cd-cbcefc4c0f99",
   "metadata": {},
   "outputs": [],
   "source": [
    "T,alpha=symbols('T alpha')"
   ]
  },
  {
   "cell_type": "code",
   "execution_count": 4,
   "id": "cbdaaf54-4d55-4370-a573-944ad344845e",
   "metadata": {},
   "outputs": [],
   "source": [
    "P1=mparticle(x1=0,y1=0,v=450,a=alpha,g=10,ac=0)\n",
    "P2=mparticle(x1=0,y1=100,v=200,a=0,g=10,ac=0)"
   ]
  },
  {
   "cell_type": "code",
   "execution_count": 5,
   "id": "147f4b98-c261-4155-b03e-ec1bc42a3b9c",
   "metadata": {},
   "outputs": [
    {
     "data": {
      "image/png": "[encoded data removed]",
      "text/latex": [
       "$\\displaystyle 450 T \\cos{\\left(\\alpha \\right)}=200 T$"
      ],
      "text/plain": [
       "450*T*cos(alpha)=200*T"
      ]
     },
     "execution_count": 5,
     "metadata": {},
     "output_type": "execute_result"
    }
   ],
   "source": [
    "# creating e1 Eq to manage \n",
    "e1=polyclass(P1.x_pos(T),P2.x_pos(T)) ; e1.Q"
   ]
  },
  {
   "cell_type": "code",
   "execution_count": 6,
   "id": "2a9d3334-a76d-4535-b7f8-0c9bebcaf280",
   "metadata": {},
   "outputs": [
    {
     "data": {
      "image/png": "[encoded data removed]",
      "text/latex": [
       "$\\displaystyle \\frac{4}{9}$"
      ],
      "text/plain": [
       "4/9"
      ]
     },
     "execution_count": 6,
     "metadata": {},
     "output_type": "execute_result"
    }
   ],
   "source": [
    "e1.solve(cos(alpha))"
   ]
  },
  {
   "cell_type": "markdown",
   "id": "1ca95c82-9b55-48db-a353-c856aca964e9",
   "metadata": {},
   "source": [
    " <img src=\"images/line.png\" alt=\"ml\" style=\"width : 100%;\"/>"
   ]
  },
  {
   "cell_type": "markdown",
   "id": "2ac9d643-e33c-4105-8809-29c6ceae0536",
   "metadata": {},
   "source": [
    " <img src=\"images/km40.png\" alt=\"ml\" style=\"width : 80%;\"/>"
   ]
  },
  {
   "cell_type": "code",
   "execution_count": 26,
   "id": "a7939747-f2e8-4222-b927-7146d12f87e2",
   "metadata": {},
   "outputs": [],
   "source": [
    "T,V1,V2=symbols('T V1 V2')"
   ]
  },
  {
   "cell_type": "code",
   "execution_count": 27,
   "id": "81f6fe02-230b-435b-b061-14e61157181d",
   "metadata": {},
   "outputs": [],
   "source": [
    "P1=mparticle(x1=0,y1=0,v=V1,a=pi/4,g=10,ac=0)\n",
    "P2=mparticle(x1=0,y1=60,v=V2,a=pi/4,g=10,ac=0)"
   ]
  },
  {
   "cell_type": "code",
   "execution_count": 29,
   "id": "4793f5b9-178e-4fd5-be7d-b23b4f40dbc9",
   "metadata": {},
   "outputs": [
    {
     "data": {
      "text/latex": [
       "$\\displaystyle - 5 T^{2} + \\frac{\\sqrt{2} T V_{1}}{2}\\;=\\;- 5 T^{2} + \\frac{\\sqrt{2} T V_{2}}{2} + 60\\;$"
      ],
      "text/plain": [
       "<IPython.core.display.Math object>"
      ]
     },
     "metadata": {},
     "output_type": "display_data"
    },
    {
     "data": {
      "text/latex": [
       "$\\displaystyle \\frac{\\sqrt{2} T V_{1}}{2} + \\frac{\\sqrt{2} T V_{2}}{2}\\;=\\;100\\;$"
      ],
      "text/plain": [
       "<IPython.core.display.Math object>"
      ]
     },
     "metadata": {},
     "output_type": "display_data"
    }
   ],
   "source": [
    "# creating e1 Eq to manage \n",
    "e1=polyclass(P1.y_pos(T),P2.y_pos(T))\n",
    "e2=polyclass(P1.x_pos(T)+P2.x_pos(T),100)\n",
    "P=Mpolyclass([e1,e2])\n",
    "P.s()"
   ]
  },
  {
   "cell_type": "code",
   "execution_count": 30,
   "id": "e9cf73da-351b-41cf-bbcd-be927922a972",
   "metadata": {},
   "outputs": [
    {
     "data": {
      "text/latex": [
       "$\\displaystyle V_{1}\\;=\\;\\frac{80 \\sqrt{2}}{T}\\;$"
      ],
      "text/plain": [
       "<IPython.core.display.Math object>"
      ]
     },
     "metadata": {},
     "output_type": "display_data"
    },
    {
     "data": {
      "text/latex": [
       "$\\displaystyle V_{2}\\;=\\;\\frac{20 \\sqrt{2}}{T}\\;$"
      ],
      "text/plain": [
       "<IPython.core.display.Math object>"
      ]
     },
     "metadata": {},
     "output_type": "display_data"
    }
   ],
   "source": [
    "P.matSolve([V1,V2],[0,1],kremp=True,kshow=False)"
   ]
  },
  {
   "cell_type": "code",
   "execution_count": 31,
   "id": "382daba5-d1f1-484f-8241-8dd3fabb3533",
   "metadata": {},
   "outputs": [
    {
     "data": {
      "text/latex": [
       "$\\displaystyle \\frac{V_{1}}{V_{2}}\\;=\\;4\\;$"
      ],
      "text/plain": [
       "<IPython.core.display.Math object>"
      ]
     },
     "metadata": {},
     "output_type": "display_data"
    }
   ],
   "source": [
    "sE([V1/V2,'=',4])"
   ]
  },
  {
   "cell_type": "markdown",
   "id": "a3ffeb3e-040e-43bd-8fba-bb1ba65e9690",
   "metadata": {},
   "source": [
    " <img src=\"images/line.png\" alt=\"ml\" style=\"width : 100%;\"/>"
   ]
  },
  {
   "cell_type": "code",
   "execution_count": 1,
   "id": "7e16f767-67f2-4744-b7de-eb1cd20755f7",
   "metadata": {
    "tags": []
   },
   "outputs": [],
   "source": [
    "from sympy import *\n",
    "from polyclass import *\n",
    "from libaldo_math import *\n",
    "from libaldo_show import *\n",
    "from physic_lib import *\n",
    "from IPython.display import display, Math\n",
    "init_printing()"
   ]
  },
  {
   "cell_type": "markdown",
   "id": "b3c760b1-8b84-4141-b99d-e39e63848bfd",
   "metadata": {},
   "source": [
    " <img src=\"images/km60.png\" alt=\"ml\" style=\"width : 80%;\"/>"
   ]
  },
  {
   "cell_type": "code",
   "execution_count": 11,
   "id": "7630e8a0-7786-4fa6-9783-7ffd89f52d84",
   "metadata": {},
   "outputs": [],
   "source": [
    "L,alpha,X,t1,t2=symbols('L alpha X t1 t2',positive=True)\n",
    "A=mparticle(x1=0,y1=-5,y2=0,x2=X,v=2,a=alpha,g=0,ac=0)"
   ]
  },
  {
   "cell_type": "code",
   "execution_count": 12,
   "id": "8b0c4046-cd02-4689-9031-24d17ffd1d0d",
   "metadata": {},
   "outputs": [
    {
     "data": {
      "image/png": "[encoded data removed]",
      "text/latex": [
       "$\\displaystyle \\frac{\\sqrt{X^{2} + 25}}{2}$"
      ],
      "text/plain": [
       "   _________\n",
       "  ╱  2      \n",
       "╲╱  X  + 25 \n",
       "────────────\n",
       "     2      "
      ]
     },
     "execution_count": 12,
     "metadata": {},
     "output_type": "execute_result"
    }
   ],
   "source": [
    "t1=A.displacement()/2;t1 # t1= distan(A-C)/vel_lake = A.displacement(A to C)/2"
   ]
  },
  {
   "cell_type": "code",
   "execution_count": 13,
   "id": "f1e29a4e-7a70-48da-a520-348b08d929cc",
   "metadata": {},
   "outputs": [
    {
     "data": {
      "image/png": "[encoded data removed]",
      "text/latex": [
       "$\\displaystyle \\frac{3}{2} - \\frac{X}{4}$"
      ],
      "text/plain": [
       "3   X\n",
       "─ - ─\n",
       "2   4"
      ]
     },
     "execution_count": 13,
     "metadata": {},
     "output_type": "execute_result"
    }
   ],
   "source": [
    "t2=(6-X)/4;t2 # t2= dist(C-B)/vel_earth"
   ]
  },
  {
   "cell_type": "code",
   "execution_count": 14,
   "id": "fda0051b-a4f9-4625-8786-949ff3324c62",
   "metadata": {},
   "outputs": [
    {
     "data": {
      "image/png": "[encoded data removed]",
      "text/latex": [
       "$\\displaystyle - \\frac{X}{4} + \\frac{\\sqrt{X^{2} + 25}}{2} + \\frac{3}{2}$"
      ],
      "text/plain": [
       "         _________    \n",
       "        ╱  2          \n",
       "  X   ╲╱  X  + 25    3\n",
       "- ─ + ──────────── + ─\n",
       "  4        2         2"
      ]
     },
     "execution_count": 14,
     "metadata": {},
     "output_type": "execute_result"
    }
   ],
   "source": [
    "T_t=t1+t2;T_t # T_t=Tptal travel Time"
   ]
  },
  {
   "cell_type": "code",
   "execution_count": 15,
   "id": "15843902-e5be-41db-99aa-a84bd62c5fe0",
   "metadata": {},
   "outputs": [
    {
     "data": {
      "image/png": "[encoded data removed]",
      "text/latex": [
       "$\\displaystyle \\frac{3}{2} + \\frac{5 \\sqrt{3}}{4}$"
      ],
      "text/plain": [
       "3   5⋅√3\n",
       "─ + ────\n",
       "2    4  "
      ]
     },
     "execution_count": 15,
     "metadata": {},
     "output_type": "execute_result"
    }
   ],
   "source": [
    "# minimun time is when diff of time(X) equalcero and use csolve to find X same time\n",
    "T_t.subs(X,csolve(diff(T_t,X),X)) "
   ]
  },
  {
   "cell_type": "markdown",
   "id": "cc4ccfc5-0cb9-450b-b1cb-a30ca007efc1",
   "metadata": {},
   "source": [
    " <img src=\"images/line.png\" alt=\"ml\" style=\"width : 100%;\"/>"
   ]
  },
  {
   "cell_type": "markdown",
   "id": "0fa1cc7b-3a05-4d82-81eb-d4a7b674ed10",
   "metadata": {},
   "source": [
    " <img src=\"images/km70.png\" alt=\"ml\" style=\"width : 100%;\"/>"
   ]
  },
  {
   "cell_type": "code",
   "execution_count": 1,
   "id": "b4654c2e-0299-41c7-8231-a1f44e28b672",
   "metadata": {
    "tags": []
   },
   "outputs": [],
   "source": [
    "from sympy import *\n",
    "from polyclass import *\n",
    "from libaldo_math import *\n",
    "from libaldo_show import *\n",
    "from physic_lib import *\n",
    "from IPython.display import display, Math\n",
    "init_printing()"
   ]
  },
  {
   "cell_type": "code",
   "execution_count": 2,
   "id": "3b87d8f8-ad75-4671-85ba-4ba9344882e4",
   "metadata": {},
   "outputs": [
    {
     "data": {
      "text/latex": [
       "$\\displaystyle Total_t =1.2$"
      ],
      "text/plain": [
       "<IPython.core.display.Math object>"
      ]
     },
     "metadata": {},
     "output_type": "display_data"
    }
   ],
   "source": [
    "V,T=symbols('V T',positive=True)\n",
    "A=mparticle(x1=0,x2=0,y1=7.2,g=10,v=0,a=-pi/2)\n",
    "T_t=csolve(A.y_pos(T),T,'Total_t',korden=1) # findin   first drop time"
   ]
  },
  {
   "cell_type": "code",
   "execution_count": 30,
   "id": "2fd26e0c-d862-456e-adaa-ad8112b011a1",
   "metadata": {},
   "outputs": [
    {
     "data": {
      "text/latex": [
       "$\\displaystyle V =2.2$"
      ],
      "text/plain": [
       "<IPython.core.display.Math object>"
      ]
     },
     "metadata": {},
     "output_type": "display_data"
    }
   ],
   "source": [
    "# Find Vel from y_pos=0 and time is tota_t minus 0.4\n",
    "B=mparticle(x1=0,x2=0,y1=7.2,y2=0,g=10,a=-pi/2,v=V)\n",
    "V=csolve(B.y_pos(T_t-0.2),V,'V')"
   ]
  },
  {
   "cell_type": "markdown",
   "id": "97b685fb-20a6-41f7-bac6-c1b52dc36e74",
   "metadata": {},
   "source": [
    " <img src=\"images/line.png\" alt=\"ml\" style=\"width : 100%;\"/>"
   ]
  },
  {
   "cell_type": "markdown",
   "id": "c6eaf161-94cc-494e-9864-8e602eb74c35",
   "metadata": {},
   "source": [
    " <img src=\"images/km80.png\" alt=\"ml\" style=\"width : 100%;\"/>"
   ]
  },
  {
   "cell_type": "code",
   "execution_count": 2,
   "id": "492206af-33c5-45d9-b5a3-d751d6018cc3",
   "metadata": {},
   "outputs": [],
   "source": [
    "alpha,theta,d,T,u,g = symbols('alpha theta d T u g',positive=True)"
   ]
  },
  {
   "cell_type": "code",
   "execution_count": 3,
   "id": "dfc8af41-da8e-48df-9c93-5fb7fac37d3d",
   "metadata": {
    "tags": []
   },
   "outputs": [],
   "source": [
    "P=mparticle(x1=0,y1=0,a=alpha,v=u,g=g,ac=0)"
   ]
  },
  {
   "cell_type": "markdown",
   "id": "e1d390c0-9853-4e85-b94d-ef8d6d483f6c",
   "metadata": {},
   "source": [
    " <img src=\"images/km80a.png\" alt=\"ml\" style=\"width : 70%;\"/>"
   ]
  },
  {
   "cell_type": "code",
   "execution_count": 4,
   "id": "c18d7e6a-c9f6-4f97-b090-70ecfe861ab0",
   "metadata": {},
   "outputs": [
    {
     "data": {
      "image/png": "[encoded data removed]",
      "text/latex": [
       "$\\displaystyle \\frac{T^{4} g^{2}}{4} - T^{3} g u \\sin{\\left(\\alpha \\right)} + T^{2} d g \\sin{\\left(\\theta \\right)} + T^{2} u^{2} \\sin^{2}{\\left(\\alpha \\right)} + T^{2} u^{2} \\cos^{2}{\\left(\\alpha \\right)} - 2 T d u \\cos{\\left(\\alpha - \\theta \\right)} + d^{2} \\sin^{2}{\\left(\\theta \\right)} + d^{2} \\cos^{2}{\\left(\\theta \\right)}$"
      ],
      "text/plain": [
       " 4  2                                                                         \n",
       "T ⋅g     3               2               2  2    2       2  2    2            \n",
       "───── - T ⋅g⋅u⋅sin(α) + T ⋅d⋅g⋅sin(θ) + T ⋅u ⋅sin (α) + T ⋅u ⋅cos (α) - 2⋅T⋅d⋅\n",
       "  4                                                                           \n",
       "\n",
       "                                      \n",
       "                2    2       2    2   \n",
       "u⋅cos(α - θ) + d ⋅sin (θ) + d ⋅cos (θ)\n",
       "                                      "
      ]
     },
     "execution_count": 4,
     "metadata": {},
     "output_type": "execute_result"
    }
   ],
   "source": [
    "Lx=d*cos(theta)-P.x_pos(T) \n",
    "Ly=d*sin(theta)-P.y_pos(T)\n",
    "LL= opemat(Lx*Lx+Ly*Ly ,'es');LL"
   ]
  },
  {
   "cell_type": "code",
   "execution_count": 5,
   "id": "3b45437d-ca4b-4e97-a269-112c925b348d",
   "metadata": {},
   "outputs": [
    {
     "data": {
      "image/png": "[encoded data removed]",
      "text/latex": [
       "$\\displaystyle - T^{3} g u \\sin{\\left(\\alpha \\right)} + T^{2} u^{2} \\sin^{2}{\\left(\\alpha \\right)} + T^{2} u^{2} \\cos^{2}{\\left(\\alpha \\right)} - 2 T d u \\cos{\\left(\\alpha - \\theta \\right)}$"
      ],
      "text/plain": [
       "   3               2  2    2       2  2    2                        \n",
       "- T ⋅g⋅u⋅sin(α) + T ⋅u ⋅sin (α) + T ⋅u ⋅cos (α) - 2⋅T⋅d⋅u⋅cos(α - θ)"
      ]
     },
     "execution_count": 5,
     "metadata": {},
     "output_type": "execute_result"
    }
   ],
   "source": [
    "LL2=fpoly(LL,'filt',alpha);LL2 # filt = pick all monomies that contain alpha...."
   ]
  },
  {
   "cell_type": "code",
   "execution_count": 6,
   "id": "0c5b0e5e-ac7e-406d-83c0-361defdc58d0",
   "metadata": {},
   "outputs": [
    {
     "data": {
      "image/png": "[encoded data removed]",
      "text/latex": [
       "$\\displaystyle \\left[ T^{2} u^{2} \\cos^{2}{\\left(\\alpha \\right)}, \\  T^{2} u^{2} \\sin^{2}{\\left(\\alpha \\right)}, \\  - T^{3} g u \\sin{\\left(\\alpha \\right)}, \\  - 2 T d u \\cos{\\left(\\alpha - \\theta \\right)}\\right]$"
      ],
      "text/plain": [
       "⎡ 2  2    2      2  2    2       3                                ⎤\n",
       "⎣T ⋅u ⋅cos (α), T ⋅u ⋅sin (α), -T ⋅g⋅u⋅sin(α), -2⋅T⋅d⋅u⋅cos(α - θ)⎦"
      ]
     },
     "execution_count": 6,
     "metadata": {},
     "output_type": "execute_result"
    }
   ],
   "source": [
    "fpoly(LL2,'list') # list = what is order of monomies to later create my diferent Eq whit this data"
   ]
  },
  {
   "cell_type": "code",
   "execution_count": 7,
   "id": "517e3f70-e262-4d27-988f-7cd4741f4c24",
   "metadata": {},
   "outputs": [
    {
     "data": {
      "image/png": "[encoded data removed]",
      "text/latex": [
       "$\\displaystyle - T^{3} g u \\sin{\\left(\\alpha \\right)} - 2 T d u \\cos{\\left(\\alpha - \\theta \\right)} + 1$"
      ],
      "text/plain": [
       "   3                                    \n",
       "- T ⋅g⋅u⋅sin(α) - 2⋅T⋅d⋅u⋅cos(α - θ) + 1"
      ]
     },
     "execution_count": 7,
     "metadata": {},
     "output_type": "execute_result"
    }
   ],
   "source": [
    "LL3=1+fpoly(LL2,'get',2)+fpoly(LL2,'get',3);LL3 # sum of squared sin cos equal 1 "
   ]
  },
  {
   "cell_type": "code",
   "execution_count": 8,
   "id": "1f31ded4-a7a2-45f2-a7db-5720c4fc3280",
   "metadata": {},
   "outputs": [
    {
     "data": {
      "image/png": "[encoded data removed]",
      "text/latex": [
       "$\\displaystyle - T^{3} g u \\cos{\\left(\\alpha \\right)} + 2 T d u \\sin{\\left(\\alpha - \\theta \\right)}$"
      ],
      "text/plain": [
       "   3                                \n",
       "- T ⋅g⋅u⋅cos(α) + 2⋅T⋅d⋅u⋅sin(α - θ)"
      ]
     },
     "execution_count": 8,
     "metadata": {},
     "output_type": "execute_result"
    }
   ],
   "source": [
    "LL4=diff(LL3,alpha);LL4 # Now applied diferential to get minimum of LL4(theta) and equal to cero"
   ]
  },
  {
   "cell_type": "code",
   "execution_count": 22,
   "id": "881c69da-01ed-49c1-a559-36901ba13921",
   "metadata": {},
   "outputs": [
    {
     "data": {
      "image/png": "[encoded data removed]",
      "text/latex": [
       "$\\displaystyle 2 T d u \\sin{\\left(\\alpha - \\theta \\right)}=T^{3} g u \\cos{\\left(\\alpha \\right)}$"
      ],
      "text/plain": [
       "2*T*d*u*sin(alpha - theta)=T**3*g*u*cos(alpha)"
      ]
     },
     "execution_count": 22,
     "metadata": {},
     "output_type": "execute_result"
    }
   ],
   "source": [
    "e1=polyclass(fpoly(LL4,'get',1), -1*(fpoly(LL4,'get',0)));e1.s() # get,n= giveme the polynomoe number n in the Eq "
   ]
  },
  {
   "cell_type": "code",
   "execution_count": 23,
   "id": "638f0c09-317b-41a4-8263-3d68abbade8e",
   "metadata": {},
   "outputs": [
    {
     "data": {
      "image/png": "[encoded data removed]",
      "text/latex": [
       "$\\displaystyle \\sin{\\left(\\alpha - \\theta \\right)}=\\frac{T^{2} g \\cos{\\left(\\alpha \\right)}}{2 d}$"
      ],
      "text/plain": [
       "sin(alpha - theta)=T**2*g*cos(alpha)/(2*d)"
      ]
     },
     "execution_count": 23,
     "metadata": {},
     "output_type": "execute_result"
    }
   ],
   "source": [
    "e1.ope4('D',2*T*d*u,1,'s') # 'D' = divide e1 by 2*T*d*y, 1= update new Eq,'s' = before update simplifique"
   ]
  },
  {
   "cell_type": "code",
   "execution_count": 24,
   "id": "cdeb3a21-82f6-4c88-9525-94324b39c298",
   "metadata": {},
   "outputs": [
    {
     "data": {
      "image/png": "[encoded data removed]",
      "text/latex": [
       "$\\displaystyle \\sin{\\left(\\alpha \\right)} \\cos{\\left(\\theta \\right)} - \\sin{\\left(\\theta \\right)} \\cos{\\left(\\alpha \\right)}=\\frac{T^{2} g \\cos{\\left(\\alpha \\right)}}{2 d}$"
      ],
      "text/plain": [
       "sin(alpha)*cos(theta) - sin(theta)*cos(alpha)=T**2*g*cos(alpha)/(2*d)"
      ]
     },
     "execution_count": 24,
     "metadata": {},
     "output_type": "execute_result"
    }
   ],
   "source": [
    "e1.opemat('x',1) #  'x' = expand trigonometric or... separate alpha and theta"
   ]
  },
  {
   "cell_type": "code",
   "execution_count": 25,
   "id": "50c867e2-1f49-474d-9088-c3e6314bb52a",
   "metadata": {},
   "outputs": [
    {
     "data": {
      "image/png": "[encoded data removed]",
      "text/latex": [
       "$\\displaystyle \\frac{\\sin{\\left(\\alpha \\right)} \\cos{\\left(\\theta \\right)}}{\\cos{\\left(\\alpha \\right)}} - \\sin{\\left(\\theta \\right)}=\\frac{T^{2} g}{2 d}$"
      ],
      "text/plain": [
       "sin(alpha)*cos(theta)/cos(alpha) - sin(theta)=T**2*g/(2*d)"
      ]
     },
     "execution_count": 25,
     "metadata": {},
     "output_type": "execute_result"
    }
   ],
   "source": [
    "e1.ope4('D',cos(alpha),1,'e') # 'D' = divide by cos(alpha), 1 = update, 'e' = expand"
   ]
  },
  {
   "cell_type": "code",
   "execution_count": 26,
   "id": "eaf9fbc9-d5e2-40ab-99cf-32e9a2993e29",
   "metadata": {},
   "outputs": [
    {
     "data": {
      "image/png": "[encoded data removed]",
      "text/latex": [
       "$\\displaystyle \\cos{\\left(\\theta \\right)} \\tan{\\left(\\alpha \\right)}=\\frac{T^{2} g}{2 d} + \\sin{\\left(\\theta \\right)}$"
      ],
      "text/plain": [
       "cos(theta)*tan(alpha)=T**2*g/(2*d) + sin(theta)"
      ]
     },
     "execution_count": 26,
     "metadata": {},
     "output_type": "execute_result"
    }
   ],
   "source": [
    "e1.ope4('S',sin(theta),1,'s') # 'S'=sum sin(theta ) to Eq ,1=..bla ...hope you getit if not ... search something easy for you"
   ]
  },
  {
   "cell_type": "code",
   "execution_count": 27,
   "id": "7f5130a6-a420-4c2d-bcc2-05c0b0b0f39b",
   "metadata": {},
   "outputs": [
    {
     "data": {
      "image/png": "[encoded data removed]",
      "text/latex": [
       "$\\displaystyle \\tan{\\left(\\alpha \\right)}=\\frac{T^{2} g}{2 d \\cos{\\left(\\theta \\right)}} + \\tan{\\left(\\theta \\right)}$"
      ],
      "text/plain": [
       "tan(alpha)=T**2*g/(2*d*cos(theta)) + tan(theta)"
      ]
     },
     "execution_count": 27,
     "metadata": {},
     "output_type": "execute_result"
    }
   ],
   "source": [
    "# Answer to FIND alpha.. if yoy want applied atan() to get alpha\n",
    "e1.ope4('D',cos(theta),1,'s')"
   ]
  },
  {
   "cell_type": "markdown",
   "id": "a06e7000-94ee-4710-a881-734d4fa63738",
   "metadata": {},
   "source": [
    " <img src=\"images/line.png\" alt=\"ml\" style=\"width : 100%;\"/>"
   ]
  },
  {
   "cell_type": "markdown",
   "id": "7b8de034-6cbe-45fd-b5a2-b86b56f41db7",
   "metadata": {},
   "source": [
    " <img src=\"images/km90.png\" alt=\"ml\" style=\"width : 80%;\"/>"
   ]
  },
  {
   "cell_type": "code",
   "execution_count": 1,
   "id": "cecba773-7458-4c1e-9f49-4c22a8ae55f6",
   "metadata": {
    "tags": []
   },
   "outputs": [],
   "source": [
    "from sympy import *\n",
    "from polyclass import *\n",
    "from libaldo_math import *\n",
    "from libaldo_show import *\n",
    "from physic_lib import *\n",
    "from IPython.display import display, Math\n",
    "init_printing()"
   ]
  },
  {
   "cell_type": "code",
   "execution_count": 28,
   "id": "49371d80-4ef0-4045-9e2f-9028aabd5a06",
   "metadata": {},
   "outputs": [],
   "source": [
    "T1,T2,T3,m,g,t=symbols('T1 T2 T3 m g t')"
   ]
  },
  {
   "cell_type": "code",
   "execution_count": 36,
   "id": "16a16302-4adb-4dd7-a3af-60a1ff43ca17",
   "metadata": {},
   "outputs": [],
   "source": [
    "# A...\n",
    "# Initialize A whit all vec forces\n",
    "A=mparticle(m=3,g=10);A.add_forza(T1,pi/2);A.add_forza(30,-pi/2);A.add_forza(T2,-pi/2)"
   ]
  },
  {
   "cell_type": "code",
   "execution_count": 37,
   "id": "e8068957-e6e2-4e9b-a7d8-5484993d2794",
   "metadata": {
    "collapsed": true,
    "jupyter": {
     "outputs_hidden": true
    },
    "tags": []
   },
   "outputs": [
    {
     "data": {
      "image/png": "[encoded data removed]",
      "text/latex": [
       "$\\displaystyle \\frac{T_{1}}{3} - \\frac{T_{2}}{3} - 10$"
      ],
      "text/plain": [
       "T₁   T₂     \n",
       "── - ── - 10\n",
       "3    3      "
      ]
     },
     "execution_count": 37,
     "metadata": {},
     "output_type": "execute_result"
    }
   ],
   "source": [
    "# get acc A in Y \n",
    "A.simple_ac('y')"
   ]
  },
  {
   "cell_type": "code",
   "execution_count": 38,
   "id": "49c15886-8c9f-4bf5-a662-147abf602680",
   "metadata": {
    "tags": []
   },
   "outputs": [],
   "source": [
    "# B...\n",
    "# Initialize B whit all vec forces\n",
    "B=mparticle(m=6,g=10);B.add_forza(T1,pi/2);B.add_forza(60,-pi/2);B.add_forza(T2,-pi/2)"
   ]
  },
  {
   "cell_type": "code",
   "execution_count": 39,
   "id": "9f2210f4-4e37-4207-b9b9-cb72ebd7e920",
   "metadata": {
    "tags": []
   },
   "outputs": [
    {
     "data": {
      "image/png": "[encoded data removed]",
      "text/latex": [
       "$\\displaystyle \\frac{T_{1}}{6} - \\frac{T_{2}}{6} - 10$"
      ],
      "text/plain": [
       "T₁   T₂     \n",
       "── - ── - 10\n",
       "6    6      "
      ]
     },
     "execution_count": 39,
     "metadata": {},
     "output_type": "execute_result"
    }
   ],
   "source": [
    "# get acc B in Y \n",
    "B.simple_ac('y')"
   ]
  },
  {
   "cell_type": "code",
   "execution_count": 40,
   "id": "f7dbbd48-a4d9-4348-aa10-c61e718963f6",
   "metadata": {
    "tags": []
   },
   "outputs": [],
   "source": [
    "# C...\n",
    "# Initialize C whit all vec forces\n",
    "C=mparticle(m=4,g=10);C.add_forza(2*T2,pi/2);C.add_forza(40,-pi/2) "
   ]
  },
  {
   "cell_type": "code",
   "execution_count": 42,
   "id": "537fcbbf-bf9b-4cbe-8ddd-5537473636b5",
   "metadata": {
    "tags": []
   },
   "outputs": [
    {
     "data": {
      "text/latex": [
       "$\\displaystyle T2 =20$"
      ],
      "text/plain": [
       "<IPython.core.display.Math object>"
      ]
     },
     "metadata": {},
     "output_type": "display_data"
    },
    {
     "data": {
      "image/png": "[encoded data removed]",
      "text/latex": [
       "$\\displaystyle 20$"
      ],
      "text/plain": [
       "20"
      ]
     },
     "execution_count": 42,
     "metadata": {},
     "output_type": "execute_result"
    }
   ],
   "source": [
    "# get acc C in Y  take note is cero and find T2\n",
    "csolve(C.simple_ac('y'),T2,'T2')"
   ]
  },
  {
   "cell_type": "code",
   "execution_count": 43,
   "id": "85ef2211-15dc-4639-b508-a6963817f310",
   "metadata": {
    "tags": []
   },
   "outputs": [],
   "source": [
    " # store new T2 in A y B object\n",
    "A.store_val(T2,20);B.store_val(T2,20)"
   ]
  },
  {
   "cell_type": "code",
   "execution_count": 48,
   "id": "1f5089ad-f28e-44c9-a0d8-cbcb95542686",
   "metadata": {
    "tags": []
   },
   "outputs": [
    {
     "data": {
      "image/png": "[encoded data removed]",
      "text/latex": [
       "$\\displaystyle 60$"
      ],
      "text/plain": [
       "60"
      ]
     },
     "execution_count": 48,
     "metadata": {},
     "output_type": "execute_result"
    }
   ],
   "source": [
    "# get acc A in Y \n",
    "csolve(A.simple_ac('y')+B.simple_ac('y'),T1)"
   ]
  },
  {
   "cell_type": "code",
   "execution_count": 49,
   "id": "0efe7f67-7737-445a-b62d-8e33c63edf0f",
   "metadata": {
    "tags": []
   },
   "outputs": [],
   "source": [
    " # store new T2 in A y B object\n",
    "A.store_val(T1,60);B.store_val(T1,60)"
   ]
  },
  {
   "cell_type": "code",
   "execution_count": 51,
   "id": "03eb1e98-f6bc-49c2-b5eb-db6cfb4a3f7f",
   "metadata": {
    "tags": []
   },
   "outputs": [
    {
     "data": {
      "image/png": "[encoded data removed]",
      "text/latex": [
       "$\\displaystyle \\frac{10}{3}$"
      ],
      "text/plain": [
       "10/3"
      ]
     },
     "execution_count": 51,
     "metadata": {},
     "output_type": "execute_result"
    }
   ],
   "source": [
    "# get acc B in Y \n",
    "A.simple_ac('y')"
   ]
  },
  {
   "cell_type": "markdown",
   "id": "21f11a65-7e8d-4a20-8ddf-c57e855a719f",
   "metadata": {},
   "source": [
    " <img src=\"images/km90a.png\" alt=\"ml\" style=\"width : 80%;\"/>"
   ]
  },
  {
   "cell_type": "markdown",
   "id": "5c21c2b2-5b5f-4430-af8d-50d1d9f5f733",
   "metadata": {},
   "source": [
    " <img src=\"images/line.png\" alt=\"ml\" style=\"width : 100%;\"/>"
   ]
  },
  {
   "cell_type": "markdown",
   "id": "81c6996f-b854-475e-bfe6-13bf50d4e065",
   "metadata": {
    "tags": []
   },
   "source": [
    " <img src=\"images/km100.png\" alt=\"ml\" style=\"width : 100%;\"/>"
   ]
  },
  {
   "cell_type": "code",
   "execution_count": 52,
   "id": "21e3ddff-a59e-419d-afb8-f914eab28c30",
   "metadata": {},
   "outputs": [],
   "source": [
    "T1,F1,m,g=symbols('T1 F1 m g ')"
   ]
  },
  {
   "cell_type": "code",
   "execution_count": 55,
   "id": "d16f8eab-e8c5-4e21-8d90-e42ae84222c8",
   "metadata": {},
   "outputs": [
    {
     "data": {
      "image/png": "[encoded data removed]",
      "text/latex": [
       "$\\displaystyle \\frac{F_{1}}{m}$"
      ],
      "text/plain": [
       "F₁\n",
       "──\n",
       "m "
      ]
     },
     "execution_count": 55,
     "metadata": {},
     "output_type": "execute_result"
    }
   ],
   "source": [
    "# A...\n",
    "# Initialize A whit all vec forces\n",
    "A=mparticle(m=3*m,g=10);A.add_forza(3*F1,0)\n",
    "A.simple_ac('x')"
   ]
  },
  {
   "cell_type": "code",
   "execution_count": 57,
   "id": "3acd6304-175d-49d1-9640-e275fd30a299",
   "metadata": {},
   "outputs": [
    {
     "data": {
      "image/png": "[encoded data removed]",
      "text/latex": [
       "$\\displaystyle \\frac{F_{1}}{m}$"
      ],
      "text/plain": [
       "F₁\n",
       "──\n",
       "m "
      ]
     },
     "execution_count": 57,
     "metadata": {},
     "output_type": "execute_result"
    }
   ],
   "source": [
    "# B...\n",
    "# Initialize B whit all vec forces\n",
    "B=mparticle(m=2*m,g=10);B.add_forza(2*F1,0)\n",
    "B.simple_ac('x')"
   ]
  },
  {
   "cell_type": "markdown",
   "id": "a3487c7b-6b98-4697-a3c4-4f1e3aa7ff56",
   "metadata": {
    "tags": []
   },
   "source": [
    " <img src=\"images/km100a.png\" alt=\"ml\" style=\"width : 60%;\"/>"
   ]
  },
  {
   "cell_type": "code",
   "execution_count": 67,
   "id": "5636a200-be73-4078-a21a-6f01b32531a2",
   "metadata": {},
   "outputs": [],
   "source": [
    "#Set new data\n",
    "A=mparticle(m=3*m,g=10,v=0,x1=0,a=0,ac=F1/m);A.add_forza(3*F1,0)\n",
    "B=mparticle(m=2*m,g=10,v=0,x1=0,a=0,ac=F1/m);B.add_forza(2*F1,0)"
   ]
  },
  {
   "cell_type": "code",
   "execution_count": 71,
   "id": "b3abd395-d238-42c9-af2c-d0c468e4a1cf",
   "metadata": {},
   "outputs": [
    {
     "data": {
      "image/png": "[encoded data removed]",
      "text/latex": [
       "$\\displaystyle \\frac{5 F_{1}}{2 m}$"
      ],
      "text/plain": [
       "5⋅F₁\n",
       "────\n",
       "2⋅m "
      ]
     },
     "execution_count": 71,
     "metadata": {},
     "output_type": "execute_result"
    }
   ],
   "source": [
    "# Desplazament of F is 2 Des B+3Des A then \n",
    "X=3*A.x_pos(1)+2*B.x_pos(1);X"
   ]
  },
  {
   "cell_type": "code",
   "execution_count": 72,
   "id": "ab94d49d-2607-48d0-8817-acf4187dd753",
   "metadata": {},
   "outputs": [
    {
     "data": {
      "image/png": "[encoded data removed]",
      "text/latex": [
       "$\\displaystyle \\frac{5 F_{1}}{m}$"
      ],
      "text/plain": [
       "5⋅F₁\n",
       "────\n",
       " m  "
      ]
     },
     "execution_count": 72,
     "metadata": {},
     "output_type": "execute_result"
    }
   ],
   "source": [
    "aC=symbols('aC')\n",
    "csolve(X-aC/2,aC)"
   ]
  }
 ],
 "metadata": {
  "kernelspec": {
   "display_name": "Python 3",
   "language": "python",
   "name": "python3"
  },
  "language_info": {
   "codemirror_mode": {
    "name": "ipython",
    "version": 3
   },
   "file_extension": ".py",
   "mimetype": "text/x-python",
   "name": "python",
   "nbconvert_exporter": "python",
   "pygments_lexer": "ipython3",
   "version": "3.6.6"
  }
 },
 "nbformat": 4,
 "nbformat_minor": 5
}
