{
 "cells": [
  {
   "cell_type": "code",
   "execution_count": 1,
   "id": "56d7c296-d61a-40c6-a342-b79a4e92d30a",
   "metadata": {
    "tags": []
   },
   "outputs": [],
   "source": [
    "from sympy import *\n",
    "from polyclass import *\n",
    "from libaldo_math import *\n",
    "from libaldo_show import *\n",
    "from physic_lib import *\n",
    "from IPython.display import display, Math, Markdown, Latex\n",
    "init_printing()"
   ]
  },
  {
   "cell_type": "markdown",
   "id": "a4c7bc18-58c1-4bfe-b66e-1d1d48b1fbbf",
   "metadata": {
    "tags": []
   },
   "source": [
    " <img src=\"./images/sympya.png\" alt=\"ml\" style=\"width : 100%;\"/>"
   ]
  },
  {
   "cell_type": "markdown",
   "id": "d7197a4e-c08b-43ed-8502-6a09946c0968",
   "metadata": {
    "tags": []
   },
   "source": [
    " <img src=\"./images/sympya.png\" />"
   ]
  },
  {
   "cell_type": "markdown",
   "id": "2a277294-1ec4-4365-af13-5273c2645d76",
   "metadata": {},
   "source": [
    "### Introduccion to libaldo_math library"
   ]
  },
  {
   "cell_type": "markdown",
   "id": "bb565d59-6424-4581-bf09-7263ebe25037",
   "metadata": {},
   "source": [
    "#### The libaldo_math library includes several functions that will make the handling of equations and their solution easier. Although there are several ways to apply regular functions I have decided to include a short explanation as they make my life easier when solving algebraic problems, it is worth mentioning that all these functions are based on the sympy library which until today I think is the best of it. better but I think or have not yet learned how to handle variables and try to express them without using the Latex language which for me is very complicated, I hope it will be helpful  \n",
    "\n",
    "#### In this part I am going to separate it into 4 subparts and they are:\n",
    "      * regulars functions\n",
    "      * opemat()  used to simplify\n",
    "      * csolve() used to solve equations\n",
    "      * fpoly() to get a lot of equations propieties and change\n",
    "      \n",
    "#### Of course i will try to compare whit sympy method..      "
   ]
  },
  {
   "cell_type": "markdown",
   "id": "7638c21d-dd01-4805-a343-58924c06a399",
   "metadata": {},
   "source": [
    "####  Regular functions()"
   ]
  },
  {
   "cell_type": "code",
   "execution_count": 3,
   "id": "5f1c89bf-5ac3-4289-9ae5-5ec303cab17b",
   "metadata": {},
   "outputs": [
    {
     "data": {
      "image/png": "[encoded data removed]",
      "text/latex": [
       "$\\displaystyle 0.6$"
      ],
      "text/plain": [
       "0.6"
      ]
     },
     "execution_count": 3,
     "metadata": {},
     "output_type": "execute_result"
    }
   ],
   "source": [
    "# frs():return numeric but symbolyc fraction\n",
    "# regular form\n",
    "3/5"
   ]
  },
  {
   "cell_type": "code",
   "execution_count": 4,
   "id": "2c0e395d-d609-46ee-846d-97e92534483e",
   "metadata": {},
   "outputs": [
    {
     "data": {
      "image/png": "[encoded data removed]",
      "text/latex": [
       "$\\displaystyle \\frac{3}{5}$"
      ],
      "text/plain": [
       "3/5"
      ]
     },
     "execution_count": 4,
     "metadata": {},
     "output_type": "execute_result"
    }
   ],
   "source": [
    "frs(3,5) # with libaldo_mat"
   ]
  },
  {
   "cell_type": "code",
   "execution_count": 5,
   "id": "6871159e-0e36-4a29-b943-57c93fa79f68",
   "metadata": {},
   "outputs": [
    {
     "data": {
      "image/png": "[encoded data removed]",
      "text/latex": [
       "$\\displaystyle 1.66666666666667$"
      ],
      "text/plain": [
       "1.6666666666666665"
      ]
     },
     "execution_count": 5,
     "metadata": {},
     "output_type": "execute_result"
    }
   ],
   "source": [
    "1+2/3"
   ]
  },
  {
   "cell_type": "code",
   "execution_count": 6,
   "id": "c36baf1b-60e4-46ae-a372-dda3e99c34a4",
   "metadata": {},
   "outputs": [
    {
     "data": {
      "image/png": "[encoded data removed]",
      "text/latex": [
       "$\\displaystyle \\frac{5}{3}$"
      ],
      "text/plain": [
       "5/3"
      ]
     },
     "execution_count": 6,
     "metadata": {},
     "output_type": "execute_result"
    }
   ],
   "source": [
    "1+frs(2,3)"
   ]
  },
  {
   "cell_type": "code",
   "execution_count": 7,
   "id": "2b81b9cd-59e1-4fba-86fa-4e637e4dc71a",
   "metadata": {},
   "outputs": [
    {
     "data": {
      "image/png": "[encoded data removed]",
      "text/latex": [
       "$\\displaystyle 1.21901365420448$"
      ],
      "text/plain": [
       "1.2190136542044754"
      ]
     },
     "execution_count": 7,
     "metadata": {},
     "output_type": "execute_result"
    }
   ],
   "source": [
    "# pow number\n",
    "2**(2/7)"
   ]
  },
  {
   "cell_type": "code",
   "execution_count": 8,
   "id": "627f869c-697a-44e1-9c0d-fbbf8a2247da",
   "metadata": {},
   "outputs": [
    {
     "data": {
      "image/png": "[encoded data removed]",
      "text/latex": [
       "$\\displaystyle 1.21901365420448$"
      ],
      "text/plain": [
       "1.2190136542044754"
      ]
     },
     "execution_count": 8,
     "metadata": {},
     "output_type": "execute_result"
    }
   ],
   "source": [
    "pow(2,2/7)"
   ]
  },
  {
   "cell_type": "code",
   "execution_count": 9,
   "id": "05cc8a50-9a0f-4987-a599-726fdbe7a626",
   "metadata": {},
   "outputs": [
    {
     "data": {
      "image/png": "[encoded data removed]",
      "text/latex": [
       "$\\displaystyle 2^{\\frac{2}{7}}$"
      ],
      "text/plain": [
       " 2/7\n",
       "2   "
      ]
     },
     "execution_count": 9,
     "metadata": {},
     "output_type": "execute_result"
    }
   ],
   "source": [
    "kpow(2,frs(2,7))# with libaldo_mat"
   ]
  },
  {
   "cell_type": "code",
   "execution_count": 10,
   "id": "1ab76812-e37b-4211-b695-f2b379c3c843",
   "metadata": {},
   "outputs": [
    {
     "data": {
      "image/png": "[encoded data removed]",
      "text/latex": [
       "$\\displaystyle 0.25$"
      ],
      "text/plain": [
       "0.250000000000000"
      ]
     },
     "execution_count": 10,
     "metadata": {},
     "output_type": "execute_result"
    }
   ],
   "source": [
    "sqrt(2/32) "
   ]
  },
  {
   "cell_type": "code",
   "execution_count": 11,
   "id": "813a3c10-b542-4c63-95f9-efd65254c924",
   "metadata": {},
   "outputs": [
    {
     "data": {
      "image/png": "[encoded data removed]",
      "text/latex": [
       "$\\displaystyle \\sqrt[32]{2}$"
      ],
      "text/plain": [
       "32___\n",
       "╲╱ 2 "
      ]
     },
     "execution_count": 11,
     "metadata": {},
     "output_type": "execute_result"
    }
   ],
   "source": [
    "rpow(2,32) # with libaldo_mat"
   ]
  },
  {
   "cell_type": "code",
   "execution_count": 12,
   "id": "215a3a7d-3c34-4a5a-b0b0-d19821d89087",
   "metadata": {},
   "outputs": [
    {
     "data": {
      "image/png": "[encoded data removed]",
      "text/latex": [
       "$\\displaystyle \\frac{\\pi}{2}$"
      ],
      "text/plain": [
       "π\n",
       "─\n",
       "2"
      ]
     },
     "execution_count": 12,
     "metadata": {},
     "output_type": "execute_result"
    }
   ],
   "source": [
    "sex2rad(90) # sexagesimal to radians"
   ]
  },
  {
   "cell_type": "code",
   "execution_count": 13,
   "id": "e68cc55a-25e7-4f9e-92bf-0bceef0a7a73",
   "metadata": {
    "tags": []
   },
   "outputs": [
    {
     "data": {
      "image/png": "[encoded data removed]",
      "text/latex": [
       "$\\displaystyle 90.0$"
      ],
      "text/plain": [
       "90.0000000000000"
      ]
     },
     "execution_count": 13,
     "metadata": {},
     "output_type": "execute_result"
    }
   ],
   "source": [
    "rad2sex(pi/2)"
   ]
  },
  {
   "cell_type": "markdown",
   "id": "0f9c7a5a-b831-4968-a4a0-9e579e5571db",
   "metadata": {},
   "source": [
    "### opemat() function is used to simplyfy follo the secuense string..."
   ]
  },
  {
   "cell_type": "markdown",
   "id": "82d5676f-23d3-422e-a1f6-8056615a4c43",
   "metadata": {},
   "source": [
    " <img src=\"./images/opemat.png\" alt=\"ml\" style=\"width : 50%;\"/>"
   ]
  },
  {
   "cell_type": "code",
   "execution_count": 14,
   "id": "2b9031f9-28ba-4c14-b774-9451527d9658",
   "metadata": {
    "tags": []
   },
   "outputs": [],
   "source": [
    "x,y,alpha=symbols('x y alpha')"
   ]
  },
  {
   "cell_type": "code",
   "execution_count": 15,
   "id": "5f0f4016-3c51-4969-a61b-8d500a465e95",
   "metadata": {},
   "outputs": [
    {
     "data": {
      "image/png": "[encoded data removed]",
      "text/latex": [
       "$\\displaystyle \\left(3 x + y\\right)^{2} + \\left(- x y + 5 x + 6 y\\right)^{2}$"
      ],
      "text/plain": [
       "         2                     2\n",
       "(3⋅x + y)  + (-x⋅y + 5⋅x + 6⋅y) "
      ]
     },
     "execution_count": 15,
     "metadata": {},
     "output_type": "execute_result"
    }
   ],
   "source": [
    "Eq1= kpow(3*x+y,2)+kpow(-x*y+6*y+5*x,2)\n",
    "Eq1"
   ]
  },
  {
   "cell_type": "code",
   "execution_count": 16,
   "id": "48584e12-bf1e-4315-bc6f-dba88b7b25c7",
   "metadata": {},
   "outputs": [
    {
     "data": {
      "image/png": "[encoded data removed]",
      "text/latex": [
       "$\\displaystyle \\left(- x - 2 y\\right)^{2} + \\left(3 x + y\\right)^{2}$"
      ],
      "text/plain": [
       "          2            2\n",
       "(-x - 2⋅y)  + (3⋅x + y) "
      ]
     },
     "execution_count": 16,
     "metadata": {},
     "output_type": "execute_result"
    }
   ],
   "source": [
    "Eq1= kpow(3*x+y,2)+kpow(-x-2*y,2)\n",
    "Eq1"
   ]
  },
  {
   "cell_type": "code",
   "execution_count": 17,
   "id": "d9edd372-00bc-4954-ae60-b4793978c7b3",
   "metadata": {},
   "outputs": [
    {
     "data": {
      "image/png": "[encoded data removed]",
      "text/latex": [
       "$\\displaystyle 5 \\left(2 x^{2} + 2 x y + y^{2}\\right)$"
      ],
      "text/plain": [
       "  ⎛   2            2⎞\n",
       "5⋅⎝2⋅x  + 2⋅x⋅y + y ⎠"
      ]
     },
     "execution_count": 17,
     "metadata": {},
     "output_type": "execute_result"
    }
   ],
   "source": [
    "opemat(Eq1,'ef') # e=expand f=factor"
   ]
  },
  {
   "cell_type": "code",
   "execution_count": 18,
   "id": "7da1e651-30b5-47b2-8e0a-02dab03d2dd0",
   "metadata": {},
   "outputs": [
    {
     "data": {
      "image/png": "[encoded data removed]",
      "text/latex": [
       "$\\displaystyle 10 x^{2} + 10 x y + 5 y^{2}$"
      ],
      "text/plain": [
       "    2               2\n",
       "10⋅x  + 10⋅x⋅y + 5⋅y "
      ]
     },
     "execution_count": 18,
     "metadata": {},
     "output_type": "execute_result"
    }
   ],
   "source": [
    "opemat(Eq1,'es') # e=expand s=simplify"
   ]
  },
  {
   "cell_type": "code",
   "execution_count": 19,
   "id": "d9bc7cc8-7cc8-4632-b0ac-9ebf4ea4303f",
   "metadata": {},
   "outputs": [
    {
     "data": {
      "image/png": "[encoded data removed]",
      "text/latex": [
       "$\\displaystyle 2 \\sin{\\left(\\alpha \\right)} + 3 \\cos{\\left(2 \\alpha \\right)}$"
      ],
      "text/plain": [
       "2⋅sin(α) + 3⋅cos(2⋅α)"
      ]
     },
     "execution_count": 19,
     "metadata": {},
     "output_type": "execute_result"
    }
   ],
   "source": [
    "Eq2=2*sin(alpha)+3*cos(2*alpha)\n",
    "Eq2"
   ]
  },
  {
   "cell_type": "code",
   "execution_count": 20,
   "id": "99015215-0ee0-4a93-b1d9-77af0ea27928",
   "metadata": {
    "tags": []
   },
   "outputs": [
    {
     "data": {
      "image/png": "[encoded data removed]",
      "text/latex": [
       "$\\displaystyle 2 \\sin{\\left(\\alpha \\right)} + 6 \\cos^{2}{\\left(\\alpha \\right)} - 3$"
      ],
      "text/plain": [
       "                2       \n",
       "2⋅sin(α) + 6⋅cos (α) - 3"
      ]
     },
     "execution_count": 20,
     "metadata": {},
     "output_type": "execute_result"
    }
   ],
   "source": [
    "opemat(Eq2,'xt') # trig expand and later "
   ]
  },
  {
   "cell_type": "code",
   "execution_count": 21,
   "id": "56389d3c-4b3e-4607-9084-9a310f5fdabb",
   "metadata": {
    "tags": []
   },
   "outputs": [
    {
     "data": {
      "image/png": "[encoded data removed]",
      "text/latex": [
       "$\\displaystyle \\left(3 x + y\\right)^{2} + \\left(- x y + 5 x + 6 y\\right)^{2}$"
      ],
      "text/plain": [
       "         2                     2\n",
       "(3⋅x + y)  + (-x⋅y + 5⋅x + 6⋅y) "
      ]
     },
     "execution_count": 21,
     "metadata": {},
     "output_type": "execute_result"
    }
   ],
   "source": [
    "Eq1= kpow(3*x+y,2)+kpow(-x*y+6*y+5*x,2)\n",
    "Eq1"
   ]
  },
  {
   "cell_type": "markdown",
   "id": "5adf5374-9dc5-466a-b236-74b17299e504",
   "metadata": {},
   "source": [
    "### part(), inpart(), cpart()"
   ]
  },
  {
   "cell_type": "code",
   "execution_count": 22,
   "id": "fdd0c88e-6b90-45fb-bd83-8ac7dccb8bf1",
   "metadata": {},
   "outputs": [
    {
     "data": {
      "image/png": "[encoded data removed]",
      "text/latex": [
       "$\\displaystyle \\frac{x^{y} \\left(3 y\\right)^{\\frac{x}{2}}}{\\sin^{3}{\\left(\\alpha \\right)}}$"
      ],
      "text/plain": [
       "        x\n",
       "        ─\n",
       " y      2\n",
       "x ⋅(3⋅y) \n",
       "─────────\n",
       "    3    \n",
       " sin (α) "
      ]
     },
     "execution_count": 22,
     "metadata": {},
     "output_type": "execute_result"
    }
   ],
   "source": [
    "# I hope the examples explain themselves that they do these functions \n",
    "# creating simple Equation\n",
    "Eq1= kpow(x,y)*rpow(3*y,2*x)/(kpow(sin(alpha),3))\n",
    "Eq1"
   ]
  },
  {
   "cell_type": "code",
   "execution_count": 23,
   "id": "d35b2e28-ba04-4ff0-9b1f-4b51687c3e1b",
   "metadata": {},
   "outputs": [
    {
     "data": {
      "image/png": "[encoded data removed]",
      "text/latex": [
       "$\\displaystyle x^{y}$"
      ],
      "text/plain": [
       " y\n",
       "x "
      ]
     },
     "execution_count": 23,
     "metadata": {},
     "output_type": "execute_result"
    }
   ],
   "source": [
    "# part(expr,address)\n",
    "part(Eq1,[0])"
   ]
  },
  {
   "cell_type": "code",
   "execution_count": 24,
   "id": "b703bfa5-8eb0-4ba4-828c-a447bea24f3d",
   "metadata": {
    "tags": []
   },
   "outputs": [
    {
     "data": {
      "image/png": "[encoded data removed]",
      "text/latex": [
       "$\\displaystyle x$"
      ],
      "text/plain": [
       "x"
      ]
     },
     "execution_count": 24,
     "metadata": {},
     "output_type": "execute_result"
    }
   ],
   "source": [
    "part(Eq1,[0,0])"
   ]
  },
  {
   "cell_type": "code",
   "execution_count": 25,
   "id": "43f32624-94ec-4357-9ff7-f1ffe537a24a",
   "metadata": {
    "tags": []
   },
   "outputs": [
    {
     "data": {
      "image/png": "[encoded data removed]",
      "text/latex": [
       "$\\displaystyle y$"
      ],
      "text/plain": [
       "y"
      ]
     },
     "execution_count": 25,
     "metadata": {},
     "output_type": "execute_result"
    }
   ],
   "source": [
    "part(Eq1,[0,1])"
   ]
  },
  {
   "cell_type": "code",
   "execution_count": 26,
   "id": "63af3b8c-dea4-484b-814c-e006658bfef2",
   "metadata": {},
   "outputs": [
    {
     "data": {
      "image/png": "[encoded data removed]",
      "text/latex": [
       "$\\displaystyle \\left(3 y\\right)^{\\frac{x}{2}}$"
      ],
      "text/plain": [
       "     x\n",
       "     ─\n",
       "     2\n",
       "(3⋅y) "
      ]
     },
     "execution_count": 26,
     "metadata": {},
     "output_type": "execute_result"
    }
   ],
   "source": [
    "part(Eq1,[1])"
   ]
  },
  {
   "cell_type": "code",
   "execution_count": 27,
   "id": "bcee5143-8a0d-4980-9b4e-47e8953a45a6",
   "metadata": {},
   "outputs": [
    {
     "data": {
      "image/png": "[encoded data removed]",
      "text/latex": [
       "$\\displaystyle 3 y$"
      ],
      "text/plain": [
       "3⋅y"
      ]
     },
     "execution_count": 27,
     "metadata": {},
     "output_type": "execute_result"
    }
   ],
   "source": [
    "part(Eq1,[1,0])"
   ]
  },
  {
   "cell_type": "code",
   "execution_count": 28,
   "id": "38b1216a-5a22-4255-b357-306460b743cb",
   "metadata": {},
   "outputs": [
    {
     "data": {
      "image/png": "[encoded data removed]",
      "text/latex": [
       "$\\displaystyle \\frac{x}{2}$"
      ],
      "text/plain": [
       "x\n",
       "─\n",
       "2"
      ]
     },
     "execution_count": 28,
     "metadata": {},
     "output_type": "execute_result"
    }
   ],
   "source": [
    "part(Eq1,[1,1])"
   ]
  },
  {
   "cell_type": "code",
   "execution_count": 29,
   "id": "e73769a8-d3d8-4770-b608-8b1ff3d43b4f",
   "metadata": {},
   "outputs": [
    {
     "data": {
      "image/png": "[encoded data removed]",
      "text/latex": [
       "$\\displaystyle \\frac{1}{\\sin^{3}{\\left(\\alpha \\right)}}$"
      ],
      "text/plain": [
       "   1   \n",
       "───────\n",
       "   3   \n",
       "sin (α)"
      ]
     },
     "execution_count": 29,
     "metadata": {},
     "output_type": "execute_result"
    }
   ],
   "source": [
    "part(Eq1,[2])"
   ]
  },
  {
   "cell_type": "code",
   "execution_count": 30,
   "id": "d283ca97-636f-44ac-b54b-27071e57615d",
   "metadata": {},
   "outputs": [
    {
     "data": {
      "image/png": "[encoded data removed]",
      "text/latex": [
       "$\\displaystyle \\alpha$"
      ],
      "text/plain": [
       "α"
      ]
     },
     "execution_count": 30,
     "metadata": {},
     "output_type": "execute_result"
    }
   ],
   "source": [
    "part(Eq1,[2,0,0])"
   ]
  },
  {
   "cell_type": "code",
   "execution_count": 31,
   "id": "96be89fa-390b-435d-8103-88188932a35e",
   "metadata": {},
   "outputs": [
    {
     "data": {
      "image/png": "[encoded data removed]",
      "text/latex": [
       "$\\displaystyle \\frac{x^{y} \\left(3 y\\right)^{\\frac{x}{2}}}{\\sin^{3}{\\left(\\alpha \\right)}}$"
      ],
      "text/plain": [
       "        x\n",
       "        ─\n",
       " y      2\n",
       "x ⋅(3⋅y) \n",
       "─────────\n",
       "    3    \n",
       " sin (α) "
      ]
     },
     "execution_count": 31,
     "metadata": {},
     "output_type": "execute_result"
    }
   ],
   "source": [
    "# inpart(expr,repl,address)\n",
    "beta=symbols('beta')\n",
    "Eq1"
   ]
  },
  {
   "cell_type": "code",
   "execution_count": 32,
   "id": "b5eb7da5-d7be-4d39-9b8b-ec2b7d1474d2",
   "metadata": {},
   "outputs": [
    {
     "data": {
      "image/png": "[encoded data removed]",
      "text/latex": [
       "$\\displaystyle \\frac{x^{y} \\left(3 y\\right)^{\\frac{x}{2}}}{\\sin^{3}{\\left(\\beta \\right)}}$"
      ],
      "text/plain": [
       "        x\n",
       "        ─\n",
       " y      2\n",
       "x ⋅(3⋅y) \n",
       "─────────\n",
       "    3    \n",
       " sin (β) "
      ]
     },
     "execution_count": 32,
     "metadata": {},
     "output_type": "execute_result"
    }
   ],
   "source": [
    "inpart(Eq1,beta,[2,0,0])"
   ]
  },
  {
   "cell_type": "code",
   "execution_count": 33,
   "id": "eae1afe7-9901-475b-a230-b786f98e970a",
   "metadata": {},
   "outputs": [
    {
     "data": {
      "text/latex": [
       "$\\displaystyle Set\\left(\\frac{x^{y} \\left(3 y\\right)^{\\frac{x}{2}}}{\\sin^{3}{\\left({\\color{red}{PART}} \\right)}}, \\alpha\\right)$"
      ],
      "text/plain": [
       "Set(x**y*(3*y)**(x/2)/sin({\\color{red}{PART}})**3, alpha)"
      ]
     },
     "execution_count": 33,
     "metadata": {},
     "output_type": "execute_result"
    }
   ],
   "source": [
    "# cpart(expr,address) Show where are the expresion choice\n",
    "cpart(Eq1,[2,0,0])"
   ]
  },
  {
   "cell_type": "code",
   "execution_count": 34,
   "id": "f0327fc0-a0bf-4631-ae8f-9668638a29fe",
   "metadata": {},
   "outputs": [
    {
     "data": {
      "text/latex": [
       "$\\displaystyle Set\\left(\\frac{x^{y} \\left(3 y\\right)^{{\\color{red}{PART}}}}{\\sin^{3}{\\left(\\alpha \\right)}}, \\frac{x}{2}\\right)$"
      ],
      "text/plain": [
       "Set(x**y*(3*y)**{\\color{red}{PART}}/sin(alpha)**3, x/2)"
      ]
     },
     "execution_count": 34,
     "metadata": {},
     "output_type": "execute_result"
    }
   ],
   "source": [
    "cpart(Eq1,[1,1])"
   ]
  },
  {
   "cell_type": "markdown",
   "id": "d006ab0c-6aa8-41a4-98ac-ab9096f1fb1f",
   "metadata": {},
   "source": [
    "### csolve() is used to solve equations"
   ]
  },
  {
   "cell_type": "markdown",
   "id": "e7b69a27-66e0-4680-aa53-dcead1523196",
   "metadata": {},
   "source": [
    "#### csolve() is based in solve and solveset from sympy but whit a little change to get most usefull answer and if you want nice answer.. for exaple"
   ]
  },
  {
   "cell_type": "code",
   "execution_count": 35,
   "id": "38eab573-8dcd-4b93-859a-66ca86da1d43",
   "metadata": {},
   "outputs": [
    {
     "data": {
      "image/png": "[encoded data removed]",
      "text/latex": [
       "$\\displaystyle 3 x + 15 y - 20$"
      ],
      "text/plain": [
       "3⋅x + 15⋅y - 20"
      ]
     },
     "execution_count": 35,
     "metadata": {},
     "output_type": "execute_result"
    }
   ],
   "source": [
    "Eq3= 3*x+15*y-20; Eq3 # we know that in python and sympy single eq if like equal cero"
   ]
  },
  {
   "cell_type": "code",
   "execution_count": 36,
   "id": "368095c8-b96d-4701-974a-94e409a16290",
   "metadata": {},
   "outputs": [
    {
     "data": {
      "image/png": "[encoded data removed]",
      "text/latex": [
       "$\\displaystyle \\left[ \\frac{20}{3} - 5 y\\right]$"
      ],
      "text/plain": [
       "[20/3 - 5⋅y]"
      ]
     },
     "execution_count": 36,
     "metadata": {},
     "output_type": "execute_result"
    }
   ],
   "source": [
    "# with sympy the return is a list and maybe notr useful in this moment\n",
    "solve(Eq3,x)"
   ]
  },
  {
   "cell_type": "code",
   "execution_count": 37,
   "id": "3cac4d26-dc40-4782-b570-366d1534a148",
   "metadata": {},
   "outputs": [
    {
     "data": {
      "image/png": "[encoded data removed]",
      "text/latex": [
       "$\\displaystyle \\frac{20}{3} - 5 y$"
      ],
      "text/plain": [
       "20/3 - 5⋅y"
      ]
     },
     "execution_count": 37,
     "metadata": {},
     "output_type": "execute_result"
    }
   ],
   "source": [
    "# with libaldo math\n",
    "csolve(Eq3,x)"
   ]
  },
  {
   "cell_type": "code",
   "execution_count": 38,
   "id": "5b6ed1af-0826-4745-88dd-85825bd2f7c9",
   "metadata": {},
   "outputs": [
    {
     "data": {
      "text/latex": [
       "$\\displaystyle x =\\frac{20}{3} - 5 y$"
      ],
      "text/plain": [
       "<IPython.core.display.Math object>"
      ]
     },
     "metadata": {},
     "output_type": "display_data"
    }
   ],
   "source": [
    "# also we can store in new val and retun nice answer like\n",
    "x=csolve(Eq3,x,'x')"
   ]
  },
  {
   "cell_type": "markdown",
   "id": "8691f97c-8619-4fc7-85af-a58d691465e2",
   "metadata": {
    "tags": []
   },
   "source": [
    " <img src=\"./images/csolve.png\" alt=\"ml\" style=\"width : 75%;\"/>"
   ]
  },
  {
   "cell_type": "code",
   "execution_count": 39,
   "id": "f5871f21-dfb5-4857-a7ad-2acd6f9215e5",
   "metadata": {
    "tags": []
   },
   "outputs": [],
   "source": [
    "x,y,alpha=symbols('x y alpha')"
   ]
  },
  {
   "cell_type": "code",
   "execution_count": 40,
   "id": "6b04920a-9002-4870-9393-e776d00a2b2a",
   "metadata": {},
   "outputs": [
    {
     "data": {
      "image/png": "[encoded data removed]",
      "text/latex": [
       "$\\displaystyle - 5 x + 2 \\sin{\\left(\\alpha \\right)} + 3 \\cos{\\left(2 \\alpha \\right)}$"
      ],
      "text/plain": [
       "-5⋅x + 2⋅sin(α) + 3⋅cos(2⋅α)"
      ]
     },
     "execution_count": 40,
     "metadata": {},
     "output_type": "execute_result"
    }
   ],
   "source": [
    "Eq2=2*sin(alpha)+3*cos(2*alpha)-5*x\n",
    "Eq2"
   ]
  },
  {
   "cell_type": "code",
   "execution_count": 41,
   "id": "2c106b42-6a4a-41a0-acdf-ac54d200a8af",
   "metadata": {},
   "outputs": [
    {
     "data": {
      "image/png": "[encoded data removed]",
      "text/latex": [
       "$\\displaystyle \\frac{2 \\sin{\\left(\\alpha \\right)}}{5} + \\frac{3 \\cos{\\left(2 \\alpha \\right)}}{5}$"
      ],
      "text/plain": [
       "2⋅sin(α)   3⋅cos(2⋅α)\n",
       "──────── + ──────────\n",
       "   5           5     "
      ]
     },
     "execution_count": 41,
     "metadata": {},
     "output_type": "execute_result"
    }
   ],
   "source": [
    "csolve(Eq2,x)"
   ]
  },
  {
   "cell_type": "code",
   "execution_count": 42,
   "id": "5047b2f3-f683-4084-a99d-47d50f70b5b1",
   "metadata": {},
   "outputs": [
    {
     "data": {
      "text/latex": [
       "$\\displaystyle x =\\frac{2 \\sin{\\left(\\alpha \\right)}}{5} + \\frac{6 \\cos^{2}{\\left(\\alpha \\right)}}{5} - \\frac{3}{5}$"
      ],
      "text/plain": [
       "<IPython.core.display.Math object>"
      ]
     },
     "metadata": {},
     "output_type": "display_data"
    }
   ],
   "source": [
    "x=csolve(Eq2,x,'x',kope='x') # solve x ,nice 'x=', simplyfy expand and sim trig"
   ]
  },
  {
   "cell_type": "markdown",
   "id": "8538fc7c-1b76-4c5d-98b5-15e64f6af627",
   "metadata": {},
   "source": [
    "##### fpoly() is used to get info and maybe manage Eq and some internal function descrbe here"
   ]
  },
  {
   "cell_type": "markdown",
   "id": "fff95d21-80e2-40da-b163-a7a34cc4142f",
   "metadata": {
    "tags": []
   },
   "source": [
    " <img src=\"./images/fpoly.png\" alt=\"ml\" style=\"width : 50%;\"/>"
   ]
  },
  {
   "cell_type": "code",
   "execution_count": 43,
   "id": "da95b21d-b795-48c6-863c-83201159a714",
   "metadata": {
    "colab": {
     "base_uri": "https://localhost:8080/",
     "height": 54
    },
    "id": "ed9e7753-23e0-4853-b38e-5909e10ca291",
    "outputId": "8eef5b01-d873-4ead-a69f-8bdd7a224db9",
    "tags": []
   },
   "outputs": [
    {
     "data": {
      "image/png": "[encoded data removed]",
      "text/latex": [
       "$\\displaystyle \\frac{2 \\sin{\\left(\\alpha \\right)}}{5} + \\frac{6 \\cos^{2}{\\left(\\alpha \\right)}}{5} - \\frac{3}{5}$"
      ],
      "text/plain": [
       "                2       \n",
       "2⋅sin(α)   6⋅cos (α)   3\n",
       "──────── + ───────── - ─\n",
       "   5           5       5"
      ]
     },
     "execution_count": 43,
     "metadata": {},
     "output_type": "execute_result"
    }
   ],
   "source": [
    "x"
   ]
  },
  {
   "cell_type": "code",
   "execution_count": 44,
   "id": "bd2c61e1-e3e1-4f70-86b0-403a589677fe",
   "metadata": {
    "colab": {
     "base_uri": "https://localhost:8080/",
     "height": 59
    },
    "id": "b9b1fa29-5da2-4aba-9bd1-25eb942f821a",
    "outputId": "b962b057-c7af-42f4-9bf8-113a81132122"
   },
   "outputs": [
    {
     "data": {
      "image/png": "[encoded data removed]",
      "text/latex": [
       "$\\displaystyle \\left[ - \\frac{3}{5}, \\  \\frac{2 \\sin{\\left(\\alpha \\right)}}{5}, \\  \\frac{6 \\cos^{2}{\\left(\\alpha \\right)}}{5}\\right]$"
      ],
      "text/plain": [
       "⎡                     2   ⎤\n",
       "⎢      2⋅sin(α)  6⋅cos (α)⎥\n",
       "⎢-3/5, ────────, ─────────⎥\n",
       "⎣         5          5    ⎦"
      ]
     },
     "execution_count": 44,
     "metadata": {},
     "output_type": "execute_result"
    }
   ],
   "source": [
    "fpoly(x,'list') # list args Eq"
   ]
  },
  {
   "cell_type": "code",
   "execution_count": 45,
   "id": "2390118e-d885-4400-aa54-911915cd797e",
   "metadata": {
    "colab": {
     "base_uri": "https://localhost:8080/",
     "height": 37
    },
    "id": "6b1437d2-d0cc-4859-8484-2521d9372bdc",
    "outputId": "a6ddc7ad-7c6e-4445-b2e8-dfdcbfe32eb5"
   },
   "outputs": [
    {
     "data": {
      "image/png": "[encoded data removed]",
      "text/latex": [
       "$\\displaystyle 3$"
      ],
      "text/plain": [
       "3"
      ]
     },
     "execution_count": 45,
     "metadata": {},
     "output_type": "execute_result"
    }
   ],
   "source": [
    "fpoly(x,'n') # num term Eq"
   ]
  },
  {
   "cell_type": "code",
   "execution_count": 46,
   "id": "cb151ad9-2a07-4899-9456-f3685193e9cc",
   "metadata": {
    "colab": {
     "base_uri": "https://localhost:8080/",
     "height": 39
    },
    "id": "f52c9ff5-9ae8-4cbf-a8fa-1445d9315d93",
    "outputId": "3753cb02-2cf5-4bb8-b263-d55766d788f9"
   },
   "outputs": [
    {
     "data": {
      "image/png": "[encoded data removed]",
      "text/latex": [
       "$\\displaystyle \\left[ \\alpha\\right]$"
      ],
      "text/plain": [
       "[α]"
      ]
     },
     "execution_count": 46,
     "metadata": {},
     "output_type": "execute_result"
    }
   ],
   "source": [
    "fpoly(x,'free') # list symbols in  Eq"
   ]
  },
  {
   "cell_type": "markdown",
   "id": "7b63ecac-4ae5-4255-ac34-5650fccd510b",
   "metadata": {
    "id": "HFpniUc0b118"
   },
   "source": [
    "Here some fpoly optionssss"
   ]
  },
  {
   "cell_type": "markdown",
   "id": "f262d635-6df1-42d1-a609-7796cff27c93",
   "metadata": {
    "tags": []
   },
   "source": [
    " <img src=\"./images/fpolyf.png\" alt=\"ml\" style=\"width : 80%;\"/>"
   ]
  },
  {
   "cell_type": "code",
   "execution_count": 47,
   "id": "d5f3e1e6-dafd-4a5c-98fa-5bcfede7843a",
   "metadata": {
    "id": "d712d129-3061-4cfe-a87f-5f7f26be9101",
    "tags": []
   },
   "outputs": [],
   "source": [
    "x,y,alpha=symbols('x y alpha') # some sampless"
   ]
  },
  {
   "cell_type": "code",
   "execution_count": 48,
   "id": "82f0acd2-e44d-4027-b923-c06fe66eb0cd",
   "metadata": {
    "colab": {
     "base_uri": "https://localhost:8080/",
     "height": 39
    },
    "id": "69d1d6f3-43f2-4662-b782-e727139054c4",
    "outputId": "d3265be7-fab9-42d8-9c9f-4cc9d314aaee"
   },
   "outputs": [
    {
     "data": {
      "image/png": "[encoded data removed]",
      "text/latex": [
       "$\\displaystyle - 5 x + 30 y + 2 \\sin{\\left(\\alpha \\right)} + 3 \\cos{\\left(2 \\alpha \\right)}$"
      ],
      "text/plain": [
       "-5⋅x + 30⋅y + 2⋅sin(α) + 3⋅cos(2⋅α)"
      ]
     },
     "execution_count": 48,
     "metadata": {},
     "output_type": "execute_result"
    }
   ],
   "source": [
    "Eq4=2*sin(alpha)+3*cos(2*alpha)-5*x+30*y\n",
    "Eq4"
   ]
  },
  {
   "cell_type": "code",
   "execution_count": 49,
   "id": "7208dbbf-caf0-437a-95e5-35f1c23f8d50",
   "metadata": {
    "colab": {
     "base_uri": "https://localhost:8080/",
     "height": 39
    },
    "id": "65e1f653-addb-4595-a573-0eaea2cc21c4",
    "outputId": "7b7a3b9b-4d54-4277-b410-e1af46f40e84"
   },
   "outputs": [
    {
     "data": {
      "image/png": "[encoded data removed]",
      "text/latex": [
       "$\\displaystyle \\left[ \\alpha, \\  y, \\  x\\right]$"
      ],
      "text/plain": [
       "[α, y, x]"
      ]
     },
     "execution_count": 49,
     "metadata": {},
     "output_type": "execute_result"
    }
   ],
   "source": [
    "fpoly(Eq4,'free') # list of symbols  in  Eq4"
   ]
  },
  {
   "cell_type": "code",
   "execution_count": 50,
   "id": "54164644-7fd4-4317-b1af-1b812e8c6533",
   "metadata": {
    "colab": {
     "base_uri": "https://localhost:8080/",
     "height": 37
    },
    "id": "o7vyUg3EcVqg",
    "outputId": "1641a101-8f99-4f64-9501-369b373c82c5"
   },
   "outputs": [
    {
     "data": {
      "image/png": "[encoded data removed]",
      "text/latex": [
       "$\\displaystyle 4$"
      ],
      "text/plain": [
       "4"
      ]
     },
     "execution_count": 50,
     "metadata": {},
     "output_type": "execute_result"
    }
   ],
   "source": [
    "fpoly(Eq4,'n') # numargs like len(Eq4.args) whit sympy"
   ]
  },
  {
   "cell_type": "code",
   "execution_count": 51,
   "id": "af63df53-88e9-4845-a076-71b68e2ee5bc",
   "metadata": {
    "colab": {
     "base_uri": "https://localhost:8080/",
     "height": 39
    },
    "id": "17dcfcd0-cd3b-45bf-adf8-285fa853e6bc",
    "outputId": "c21ba047-d4b2-4dc7-8a3d-a080f10e2691"
   },
   "outputs": [
    {
     "data": {
      "image/png": "[encoded data removed]",
      "text/latex": [
       "$\\displaystyle \\left[ - 5 x, \\  2 \\sin{\\left(\\alpha \\right)}, \\  3 \\cos{\\left(2 \\alpha \\right)}, \\  30 y\\right]$"
      ],
      "text/plain": [
       "[-5⋅x, 2⋅sin(α), 3⋅cos(2⋅α), 30⋅y]"
      ]
     },
     "execution_count": 51,
     "metadata": {},
     "output_type": "execute_result"
    }
   ],
   "source": [
    "fpoly(Eq4,'list') # list of args in Eq4"
   ]
  },
  {
   "cell_type": "code",
   "execution_count": 52,
   "id": "3fbcd6c3-3650-469d-a7f6-9dc9b322d3bc",
   "metadata": {
    "colab": {
     "base_uri": "https://localhost:8080/",
     "height": 39
    },
    "id": "tnFRy69LcyZ9",
    "outputId": "284fabb3-ad25-499e-8b7e-3b2fa68e8b75",
    "tags": []
   },
   "outputs": [
    {
     "data": {
      "image/png": "[encoded data removed]",
      "text/latex": [
       "$\\displaystyle 2 \\sin{\\left(\\alpha \\right)}$"
      ],
      "text/plain": [
       "2⋅sin(α)"
      ]
     },
     "execution_count": 52,
     "metadata": {},
     "output_type": "execute_result"
    }
   ],
   "source": [
    "fpoly(Eq4,'get',1) # get arg No 1"
   ]
  },
  {
   "cell_type": "code",
   "execution_count": 53,
   "id": "ed9e7753-23e0-4853-b38e-5909e10ca291",
   "metadata": {},
   "outputs": [
    {
     "data": {
      "image/png": "[encoded data removed]",
      "text/latex": [
       "$\\displaystyle x$"
      ],
      "text/plain": [
       "x"
      ]
     },
     "execution_count": 53,
     "metadata": {},
     "output_type": "execute_result"
    }
   ],
   "source": [
    "x"
   ]
  },
  {
   "cell_type": "code",
   "execution_count": 54,
   "id": "b9b1fa29-5da2-4aba-9bd1-25eb942f821a",
   "metadata": {},
   "outputs": [
    {
     "data": {
      "image/png": "[encoded data removed]",
      "text/latex": [
       "$\\displaystyle \\left[ x\\right]$"
      ],
      "text/plain": [
       "[x]"
      ]
     },
     "execution_count": 54,
     "metadata": {},
     "output_type": "execute_result"
    }
   ],
   "source": [
    "fpoly(x,'list') # list args Eq"
   ]
  },
  {
   "cell_type": "code",
   "execution_count": 55,
   "id": "6b1437d2-d0cc-4859-8484-2521d9372bdc",
   "metadata": {},
   "outputs": [
    {
     "data": {
      "image/png": "[encoded data removed]",
      "text/latex": [
       "$\\displaystyle 1$"
      ],
      "text/plain": [
       "1"
      ]
     },
     "execution_count": 55,
     "metadata": {},
     "output_type": "execute_result"
    }
   ],
   "source": [
    "fpoly(x,'n') # num term Eq"
   ]
  },
  {
   "cell_type": "code",
   "execution_count": 56,
   "id": "f52c9ff5-9ae8-4cbf-a8fa-1445d9315d93",
   "metadata": {},
   "outputs": [
    {
     "data": {
      "image/png": "[encoded data removed]",
      "text/latex": [
       "$\\displaystyle \\left[ x\\right]$"
      ],
      "text/plain": [
       "[x]"
      ]
     },
     "execution_count": 56,
     "metadata": {},
     "output_type": "execute_result"
    }
   ],
   "source": [
    "fpoly(x,'free') # list symbols in  Eq"
   ]
  },
  {
   "cell_type": "code",
   "execution_count": 57,
   "id": "d712d129-3061-4cfe-a87f-5f7f26be9101",
   "metadata": {
    "tags": []
   },
   "outputs": [],
   "source": [
    "x,y,alpha=symbols('x y alpha')"
   ]
  },
  {
   "cell_type": "code",
   "execution_count": 58,
   "id": "69d1d6f3-43f2-4662-b782-e727139054c4",
   "metadata": {},
   "outputs": [
    {
     "data": {
      "image/png": "[encoded data removed]",
      "text/latex": [
       "$\\displaystyle - 5 x + 30 y + 2 \\sin{\\left(\\alpha \\right)} + 3 \\cos{\\left(2 \\alpha \\right)}$"
      ],
      "text/plain": [
       "-5⋅x + 30⋅y + 2⋅sin(α) + 3⋅cos(2⋅α)"
      ]
     },
     "execution_count": 58,
     "metadata": {},
     "output_type": "execute_result"
    }
   ],
   "source": [
    "Eq4=2*sin(alpha)+3*cos(2*alpha)-5*x+30*y\n",
    "Eq4"
   ]
  },
  {
   "cell_type": "code",
   "execution_count": 59,
   "id": "65e1f653-addb-4595-a573-0eaea2cc21c4",
   "metadata": {},
   "outputs": [
    {
     "data": {
      "image/png": "[encoded data removed]",
      "text/latex": [
       "$\\displaystyle \\left[ \\alpha, \\  y, \\  x\\right]$"
      ],
      "text/plain": [
       "[α, y, x]"
      ]
     },
     "execution_count": 59,
     "metadata": {},
     "output_type": "execute_result"
    }
   ],
   "source": [
    "fpoly(Eq4,'free') # list symbols in  Eq"
   ]
  },
  {
   "cell_type": "code",
   "execution_count": 60,
   "id": "78514f0c-059a-4048-a8a8-f5207c135c7e",
   "metadata": {
    "colab": {
     "base_uri": "https://localhost:8080/",
     "height": 37
    },
    "id": "o7vyUg3EcVqg",
    "outputId": "1641a101-8f99-4f64-9501-369b373c82c5"
   },
   "outputs": [
    {
     "data": {
      "image/png": "[encoded data removed]",
      "text/latex": [
       "$\\displaystyle 4$"
      ],
      "text/plain": [
       "4"
      ]
     },
     "execution_count": 60,
     "metadata": {},
     "output_type": "execute_result"
    }
   ],
   "source": [
    "fpoly(Eq4,'n') # numargs like len(Eq4.args) whit sympy"
   ]
  },
  {
   "cell_type": "code",
   "execution_count": 61,
   "id": "c2f83204-fb16-4423-839f-31ad4915395c",
   "metadata": {
    "colab": {
     "base_uri": "https://localhost:8080/",
     "height": 39
    },
    "id": "17dcfcd0-cd3b-45bf-adf8-285fa853e6bc",
    "outputId": "c21ba047-d4b2-4dc7-8a3d-a080f10e2691"
   },
   "outputs": [
    {
     "data": {
      "image/png": "[encoded data removed]",
      "text/latex": [
       "$\\displaystyle \\left[ - 5 x, \\  2 \\sin{\\left(\\alpha \\right)}, \\  3 \\cos{\\left(2 \\alpha \\right)}, \\  30 y\\right]$"
      ],
      "text/plain": [
       "[-5⋅x, 2⋅sin(α), 3⋅cos(2⋅α), 30⋅y]"
      ]
     },
     "execution_count": 61,
     "metadata": {},
     "output_type": "execute_result"
    }
   ],
   "source": [
    "fpoly(Eq4,'list') # list of args in Eq4"
   ]
  },
  {
   "cell_type": "code",
   "execution_count": 62,
   "id": "bdad3a84-ce1c-4c0a-a284-68a4a8a1e8b9",
   "metadata": {
    "colab": {
     "base_uri": "https://localhost:8080/",
     "height": 39
    },
    "id": "tnFRy69LcyZ9",
    "outputId": "284fabb3-ad25-499e-8b7e-3b2fa68e8b75",
    "tags": []
   },
   "outputs": [
    {
     "data": {
      "image/png": "[encoded data removed]",
      "text/latex": [
       "$\\displaystyle 2 \\sin{\\left(\\alpha \\right)}$"
      ],
      "text/plain": [
       "2⋅sin(α)"
      ]
     },
     "execution_count": 62,
     "metadata": {},
     "output_type": "execute_result"
    }
   ],
   "source": [
    "fpoly(Eq4,'get',1) # get arg No 1"
   ]
  },
  {
   "cell_type": "code",
   "execution_count": null,
   "id": "17dcfcd0-cd3b-45bf-adf8-285fa853e6bc",
   "metadata": {},
   "outputs": [],
   "source": []
  }
 ],
 "metadata": {
  "kernelspec": {
   "display_name": "Python 3",
   "language": "python",
   "name": "python3"
  },
  "language_info": {
   "codemirror_mode": {
    "name": "ipython",
    "version": 3
   },
   "file_extension": ".py",
   "mimetype": "text/x-python",
   "name": "python",
   "nbconvert_exporter": "python",
   "pygments_lexer": "ipython3",
   "version": "3.6.6"
  }
 },
 "nbformat": 4,
 "nbformat_minor": 5
}
