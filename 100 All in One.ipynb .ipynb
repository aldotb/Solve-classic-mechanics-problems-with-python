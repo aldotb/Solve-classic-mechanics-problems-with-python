{
 "cells": [
  {
   "cell_type": "markdown",
   "id": "986d7275-e48b-4957-af02-12d29002ba42",
   "metadata": {},
   "source": [
    " <img src=\"images/M1_000.png\" alt=\"ml\" style=\"width : 100%;\"/>"
   ]
  },
  {
   "cell_type": "markdown",
   "id": "6aaca0ae-dbd9-47e7-8645-73913a0f19c7",
   "metadata": {},
   "source": [
    " <img src=\"images/line.png\" alt=\"ml\" style=\"width : 100%;\"/>"
   ]
  },
  {
   "cell_type": "code",
   "execution_count": 1,
   "id": "0f5da71f-33f8-4cc0-bfa9-2345c6c66089",
   "metadata": {
    "tags": []
   },
   "outputs": [],
   "source": [
    "from sympy import *\n",
    "from polyclass import *\n",
    "from libaldo_math import *\n",
    "from libaldo_show import *\n",
    "from physic_lib import *\n",
    "from IPython.display import display, Math\n",
    "init_printing()\n",
    "from IPython.display import Video"
   ]
  },
  {
   "cell_type": "markdown",
   "id": "641d79dd-8f76-4516-b48e-4cbf2fed2a9c",
   "metadata": {},
   "source": [
    " <img src=\"images/line.png\" alt=\"ml\" style=\"width : 100%;\"/>"
   ]
  },
  {
   "cell_type": "markdown",
   "id": "d1a25c70-b262-4ff5-a8c5-a07d564f3e8a",
   "metadata": {},
   "source": [
    " <img src=\"images/M1_010.png\" alt=\"ml\" style=\"width : 100%;\"/>"
   ]
  },
  {
   "cell_type": "code",
   "execution_count": 2,
   "id": "15cf4e50-677b-4e37-88c6-66043de71bae",
   "metadata": {},
   "outputs": [],
   "source": [
    "m,g,alpha,R,T,F1,V,V2=symbols('m g alpha R T F1 V V2',positive=True,real=True)\n",
    "\n",
    "# In classic Physic mechanics maximun t fly will be if alpha = pi/2 then...\n",
    "alpha=pi/4"
   ]
  },
  {
   "cell_type": "code",
   "execution_count": 3,
   "id": "a328695b-4c01-46cb-b487-a09ed26bcb82",
   "metadata": {},
   "outputs": [],
   "source": [
    "# A-B Energy equal cero, finding V\n",
    "Pa=mparticle(x1=0,x2=2*R,y1=3*R,y2=2*R,m=m,g=g,v1=0,v2=V,Ti=T) #Ti radial force "
   ]
  },
  {
   "cell_type": "code",
   "execution_count": 4,
   "id": "50be3afd-f09e-4998-ab49-ac4f200a4475",
   "metadata": {},
   "outputs": [
    {
     "data": {
      "text/latex": [
       "$\\displaystyle V1 =\\sqrt{2} \\sqrt{R g}$"
      ],
      "text/plain": [
       "<IPython.core.display.Math object>"
      ]
     },
     "metadata": {},
     "output_type": "display_data"
    }
   ],
   "source": [
    "Va=csolve(Pa.energia(),V,'V1',korden=1) # remeber that store the solu whit other name"
   ]
  },
  {
   "cell_type": "code",
   "execution_count": 5,
   "id": "702d9137-2f07-4fb6-9112-c3c09fd23f74",
   "metadata": {},
   "outputs": [],
   "source": [
    "Pa.add_forza(m*g,-pi/2)"
   ]
  },
  {
   "cell_type": "code",
   "execution_count": 6,
   "id": "7a11c32a-10b8-401b-8d51-9752e89fd46a",
   "metadata": {},
   "outputs": [
    {
     "data": {
      "text/latex": [
       "$\\displaystyle T =\\frac{\\sqrt{2} g m}{2}$"
      ],
      "text/plain": [
       "<IPython.core.display.Math object>"
      ]
     },
     "metadata": {},
     "output_type": "display_data"
    }
   ],
   "source": [
    "# T value \n",
    "T1=csolve(Pa.fcentripeta(-alpha),T,'T') #why -alpha because if alpha > 0 the ball go to left "
   ]
  },
  {
   "cell_type": "code",
   "execution_count": 7,
   "id": "77183281-dc6d-4037-9175-b44de12be4d4",
   "metadata": {},
   "outputs": [],
   "source": [
    "# B-C Energy equal cero, finding V2\n",
    "Pb=mparticle(x1=2*R,x2=2*R+R*cos(alpha),y1=R,y2=2*R-R*sin(alpha),m=m,g=g,v1=Va,v2=V2,Ti=T) #Ti radial force "
   ]
  },
  {
   "cell_type": "code",
   "execution_count": 8,
   "id": "63aeb8cb-f6c1-48ab-9b00-3a4565aae35d",
   "metadata": {},
   "outputs": [
    {
     "data": {
      "image/png": "[encoded data removed]",
      "text/latex": [
       "$\\displaystyle - R g m - R g m + \\frac{V_{2}^{2} m}{2} + g m \\left(- \\frac{\\sqrt{2} R}{2} + 2 R\\right)$"
      ],
      "text/plain": [
       "                   2                       \n",
       "                 V₂ ⋅m       ⎛  √2⋅R      ⎞\n",
       "-R⋅g⋅m - R⋅g⋅m + ───── + g⋅m⋅⎜- ──── + 2⋅R⎟\n",
       "                   2         ⎝   2        ⎠"
      ]
     },
     "execution_count": 8,
     "metadata": {},
     "output_type": "execute_result"
    }
   ],
   "source": [
    "e2=Pb.energia();e2"
   ]
  },
  {
   "cell_type": "code",
   "execution_count": 9,
   "id": "9606857d-8775-45f0-bf54-a04fe64c9218",
   "metadata": {},
   "outputs": [
    {
     "data": {
      "text/latex": [
       "$\\displaystyle V2 =\\sqrt[4]{2} \\sqrt{R g}$"
      ],
      "text/plain": [
       "<IPython.core.display.Math object>"
      ]
     },
     "metadata": {},
     "output_type": "display_data"
    }
   ],
   "source": [
    "# upper Eq = Total Enegy from B to C equal cero, finding V when T crack\n",
    "Vb=csolve(e2,V2,'V2',korden=1)"
   ]
  },
  {
   "cell_type": "code",
   "execution_count": 10,
   "id": "8bc214fc-429e-4b9f-ac5c-13c7ce05de25",
   "metadata": {},
   "outputs": [],
   "source": [
    "# C-D applying kinematics, we have : x1,y1,y2,v,angle... \n",
    "Pc=mparticle(m=m,g=g,x1=2*R+R*cos(alpha),y1=2*R-R*sin(alpha),y2=0,v=Vb,a=(alpha),ac=0)  "
   ]
  },
  {
   "cell_type": "code",
   "execution_count": 11,
   "id": "1baf1ece-a60b-4435-ae04-2eec92865515",
   "metadata": {},
   "outputs": [
    {
     "data": {
      "image/png": "[encoded data removed]",
      "text/latex": [
       "$\\displaystyle - \\frac{\\sqrt{2} R}{2} + 2 R - \\frac{g t^{2}}{2} + \\frac{2^{\\frac{3}{4}} t \\sqrt{R g}}{2}=0$"
      ],
      "text/plain": [
       "-sqrt(2)*R/2 + 2*R - g*t**2/2 + 2**(3/4)*t*sqrt(R*g)/2=0"
      ]
     },
     "execution_count": 11,
     "metadata": {},
     "output_type": "execute_result"
    }
   ],
   "source": [
    "\n",
    "# We know that y_pos,final=0, create Eq and applie algor..\n",
    "e3=polyclass(Pc.y_pos(t),0);e3.s()"
   ]
  },
  {
   "cell_type": "code",
   "execution_count": 12,
   "id": "b94de86f-e33d-4184-91ca-12001b190211",
   "metadata": {},
   "outputs": [
    {
     "data": {
      "text/latex": [
       "$\\displaystyle t =\\frac{\\sqrt{R g} \\left(\\frac{2^{\\frac{3}{4}}}{2} + \\frac{\\sqrt{16 - 2 \\sqrt{2}}}{2}\\right)}{g}$"
      ],
      "text/plain": [
       "<IPython.core.display.Math object>"
      ]
     },
     "metadata": {},
     "output_type": "display_data"
    }
   ],
   "source": [
    "t1=e3.solve(t,'t',korden=0,kope='s')"
   ]
  },
  {
   "cell_type": "code",
   "execution_count": 13,
   "id": "c8822e42-e4ec-43ec-befa-012aa61869af",
   "metadata": {},
   "outputs": [
    {
     "data": {
      "image/png": "[encoded data removed]",
      "text/latex": [
       "$\\displaystyle \\frac{\\sqrt{R g} \\left(\\frac{2^{\\frac{3}{4}}}{2} + \\frac{\\sqrt{16 - 2 \\sqrt{2}}}{2}\\right)}{g}$"
      ],
      "text/plain": [
       "        ⎛ 3/4     ___________⎞\n",
       "  _____ ⎜2      ╲╱ 16 - 2⋅√2 ⎟\n",
       "╲╱ R⋅g ⋅⎜──── + ─────────────⎟\n",
       "        ⎝ 2           2      ⎠\n",
       "──────────────────────────────\n",
       "              g               "
      ]
     },
     "execution_count": 13,
     "metadata": {},
     "output_type": "execute_result"
    }
   ],
   "source": [
    "# whit sympy..... return the same pie of mierda\n",
    "simplify(t1)"
   ]
  },
  {
   "cell_type": "code",
   "execution_count": 14,
   "id": "bbf70392-35c4-4f11-9ca3-f2b9380d242e",
   "metadata": {},
   "outputs": [
    {
     "data": {
      "image/png": "[encoded data removed]",
      "text/latex": [
       "$\\displaystyle \\left[ \\frac{1}{g}, \\  \\sqrt{R g}, \\  \\frac{2^{\\frac{3}{4}}}{2} + \\frac{\\sqrt{16 - 2 \\sqrt{2}}}{2}\\right]$"
      ],
      "text/plain": [
       "⎡             3/4     ___________⎤\n",
       "⎢1    _____  2      ╲╱ 16 - 2⋅√2 ⎥\n",
       "⎢─, ╲╱ R⋅g , ──── + ─────────────⎥\n",
       "⎣g            2           2      ⎦"
      ]
     },
     "execution_count": 14,
     "metadata": {},
     "output_type": "execute_result"
    }
   ],
   "source": [
    "# right now i create a new func to solve this with...but need args number\n",
    "fpoly(t1,'list')"
   ]
  },
  {
   "cell_type": "code",
   "execution_count": 15,
   "id": "0dacbc90-d31e-4b46-b26d-389e2d4f2f50",
   "metadata": {},
   "outputs": [
    {
     "data": {
      "image/png": "[encoded data removed]",
      "text/latex": [
       "$\\displaystyle \\frac{\\sqrt{R} \\left(\\frac{2^{\\frac{3}{4}}}{2} + \\frac{\\sqrt{16 - 2 \\sqrt{2}}}{2}\\right)}{\\sqrt{g}}$"
      ],
      "text/plain": [
       "   ⎛ 3/4     ___________⎞\n",
       "   ⎜2      ╲╱ 16 - 2⋅√2 ⎟\n",
       "√R⋅⎜──── + ─────────────⎟\n",
       "   ⎝ 2           2      ⎠\n",
       "─────────────────────────\n",
       "            √g           "
      ]
     },
     "execution_count": 15,
     "metadata": {},
     "output_type": "execute_result"
    }
   ],
   "source": [
    "t1=rpow(R/g,2)*fpoly(t1,'get',2);t1"
   ]
  },
  {
   "cell_type": "code",
   "execution_count": 16,
   "id": "d9ee1ee0-35ad-4b4b-b83f-fe515908bd44",
   "metadata": {},
   "outputs": [
    {
     "data": {
      "text/latex": [
       "$\\displaystyle Max_t =\\frac{\\sqrt{R} \\left(\\frac{2^{\\frac{3}{4}}}{2} + \\frac{\\sqrt{16 - 2 \\sqrt{2}}}{2}\\right)}{\\sqrt{g}}$"
      ],
      "text/plain": [
       "<IPython.core.display.Math object>"
      ]
     },
     "metadata": {},
     "output_type": "display_data"
    }
   ],
   "source": [
    "show_res(t1,'Max_t')"
   ]
  },
  {
   "cell_type": "code",
   "execution_count": 17,
   "id": "b3bb42d2-cc61-4542-a163-435ae7660bf9",
   "metadata": {},
   "outputs": [
    {
     "data": {
      "image/png": "[encoded data removed]",
      "text/latex": [
       "$\\displaystyle \\frac{\\sqrt{2} \\sqrt{R} \\sqrt{R g}}{2 \\sqrt{g}} + \\frac{2^{\\frac{3}{4}} \\sqrt{R} \\sqrt{R g} \\sqrt{16 - 2 \\sqrt{2}}}{4 \\sqrt{g}} + \\frac{\\sqrt{2} R}{2} + 2 R$"
      ],
      "text/plain": [
       "        _____    3/4      _____   ___________             \n",
       "√2⋅√R⋅╲╱ R⋅g    2   ⋅√R⋅╲╱ R⋅g ⋅╲╱ 16 - 2⋅√2    √2⋅R      \n",
       "───────────── + ───────────────────────────── + ──── + 2⋅R\n",
       "     2⋅√g                    4⋅√g                2        "
      ]
     },
     "execution_count": 17,
     "metadata": {},
     "output_type": "execute_result"
    }
   ],
   "source": [
    "L=opemat(Pc.x_pos(t1),'e');L"
   ]
  },
  {
   "cell_type": "code",
   "execution_count": 18,
   "id": "463b8f8d-6c79-4670-95dd-be8652023e6b",
   "metadata": {},
   "outputs": [
    {
     "data": {
      "image/png": "[encoded data removed]",
      "text/latex": [
       "$\\displaystyle \\frac{R^{2} \\left(-1 + 4 \\sqrt{2}\\right)}{2} + 5 R^{2}$"
      ],
      "text/plain": [
       " 2                   \n",
       "R ⋅(-1 + 4⋅√2)      2\n",
       "────────────── + 5⋅R \n",
       "      2              "
      ]
     },
     "execution_count": 18,
     "metadata": {},
     "output_type": "execute_result"
    }
   ],
   "source": [
    "# take L , pow(each  monom ,2), simply...,factor= get t1*t2 momentarily.....\n",
    "L2=Mpsimplify(L,'P',2,kope='sf') ;L2"
   ]
  },
  {
   "cell_type": "code",
   "execution_count": 19,
   "id": "92657ec2-85f8-4190-bfb0-3b8ca5a14116",
   "metadata": {},
   "outputs": [
    {
     "data": {
      "image/png": "[encoded data removed]",
      "text/latex": [
       "$\\displaystyle 2 \\sqrt{2} + \\frac{9}{2}$"
      ],
      "text/plain": [
       "2⋅√2 + 9/2"
      ]
     },
     "execution_count": 19,
     "metadata": {},
     "output_type": "execute_result"
    }
   ],
   "source": [
    "L3=psimplify(L2,'D',R*R,'s');L3"
   ]
  },
  {
   "cell_type": "code",
   "execution_count": 20,
   "id": "bd066755-b8d6-4d5a-b2be-b93006922199",
   "metadata": {},
   "outputs": [
    {
     "data": {
      "text/latex": [
       "$\\displaystyle Max_L =R \\sqrt{2 \\sqrt{2} + \\frac{9}{2}}$"
      ],
      "text/plain": [
       "<IPython.core.display.Math object>"
      ]
     },
     "metadata": {},
     "output_type": "display_data"
    }
   ],
   "source": [
    "show_res(R*rpow(L3,2),'Max_L')"
   ]
  },
  {
   "cell_type": "markdown",
   "id": "23ead4e8-2627-421b-b76f-c423cc6ff5df",
   "metadata": {},
   "source": [
    " <img src=\"images/M1_opi.png\" alt=\"ml\" style=\"width : 100%;\"/>"
   ]
  },
  {
   "cell_type": "code",
   "execution_count": null,
   "id": "f8eaebb1-6991-486d-b223-1ecad5a7b664",
   "metadata": {},
   "outputs": [],
   "source": []
  }
 ],
 "metadata": {
  "kernelspec": {
   "display_name": "Python 3",
   "language": "python",
   "name": "python3"
  },
  "language_info": {
   "codemirror_mode": {
    "name": "ipython",
    "version": 3
   },
   "file_extension": ".py",
   "mimetype": "text/x-python",
   "name": "python",
   "nbconvert_exporter": "python",
   "pygments_lexer": "ipython3",
   "version": "3.6.6"
  }
 },
 "nbformat": 4,
 "nbformat_minor": 5
}
