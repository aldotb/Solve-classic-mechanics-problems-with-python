{
 "cells": [
  {
   "cell_type": "code",
   "execution_count": 1,
   "id": "56d7c296-d61a-40c6-a342-b79a4e92d30a",
   "metadata": {
    "tags": []
   },
   "outputs": [],
   "source": [
    "from sympy import *\n",
    "from polyclass import *\n",
    "from libaldo_math import *\n",
    "from libaldo_show import *\n",
    "from physic_lib import *\n",
    "from IPython.display import display, Math\n",
    "init_printing()"
   ]
  },
  {
   "cell_type": "markdown",
   "id": "acbfbaf8-9d78-4ead-83aa-f519b8465a9e",
   "metadata": {},
   "source": [
    "### Basic Dynamic problems for understand how work the library"
   ]
  },
  {
   "cell_type": "markdown",
   "id": "058aae7a-4432-4e2a-856a-440e4b43a954",
   "metadata": {},
   "source": [
    " <img src=\"images/line.png\" alt=\"ml\" style=\"width : 100%;\"/>"
   ]
  },
  {
   "cell_type": "markdown",
   "id": "06c344d9-f0c5-414a-b2ac-bc127696a71a",
   "metadata": {},
   "source": [
    " <img src=\"images/d010.png\" alt=\"ml\" style=\"width : 100%;\"/>"
   ]
  },
  {
   "cell_type": "code",
   "execution_count": 18,
   "id": "aa2830a2-ef3d-49b9-af6f-dfc0d42646c5",
   "metadata": {
    "tags": []
   },
   "outputs": [],
   "source": [
    "T1,T2=symbols('T1 T2',positive=True)\n",
    "P=mparticle(m=1,g=10)\n",
    "P.add_forza(T1,pi/4)\n",
    "P.add_forza(T2,-pi/4)\n",
    "P.add_forza(10,-pi/2)"
   ]
  },
  {
   "cell_type": "code",
   "execution_count": 19,
   "id": "4affe30b-88d7-46bb-a723-b3196c59516f",
   "metadata": {},
   "outputs": [
    {
     "data": {
      "text/latex": [
       "$\\displaystyle T1 =T_{2} + 10 \\sqrt{2}$"
      ],
      "text/plain": [
       "<IPython.core.display.Math object>"
      ]
     },
     "metadata": {},
     "output_type": "display_data"
    }
   ],
   "source": [
    "T=csolve(P.y_res(),T1,'T1') "
   ]
  },
  {
   "cell_type": "code",
   "execution_count": 20,
   "id": "9c5f71e0-4616-4061-acc9-ff69f5681e1e",
   "metadata": {},
   "outputs": [],
   "source": [
    "P.store_val(T1,T) # remplaze the value of T1 for T in P object"
   ]
  },
  {
   "cell_type": "code",
   "execution_count": 21,
   "id": "8da54210-397e-405f-a1b1-ef6a215c14b3",
   "metadata": {},
   "outputs": [
    {
     "data": {
      "text/latex": [
       "$\\displaystyle T2 =5 \\sqrt{2}$"
      ],
      "text/plain": [
       "<IPython.core.display.Math object>"
      ]
     },
     "metadata": {},
     "output_type": "display_data"
    }
   ],
   "source": [
    "T=csolve(P.simple_ac()-20,T2,'T2',unifique=True,kpositive=True)"
   ]
  },
  {
   "cell_type": "code",
   "execution_count": 22,
   "id": "c6f8133a-d7e2-4739-b2b1-447e8e278d98",
   "metadata": {},
   "outputs": [],
   "source": [
    "P.store_val(T2,T)"
   ]
  },
  {
   "cell_type": "code",
   "execution_count": 25,
   "id": "4b2778f0-7d42-4dfe-821d-8222f8290751",
   "metadata": {
    "tags": []
   },
   "outputs": [
    {
     "data": {
      "image/png": "[encoded data removed]",
      "text/latex": [
       "$\\displaystyle 15 \\sqrt{2}$"
      ],
      "text/plain": [
       "15⋅√2"
      ]
     },
     "execution_count": 25,
     "metadata": {},
     "output_type": "execute_result"
    }
   ],
   "source": [
    "P.value(T1) # value get answer after find some results"
   ]
  },
  {
   "cell_type": "markdown",
   "id": "715820d8-61d7-40f4-ad13-5e6ad8fb8232",
   "metadata": {},
   "source": [
    " <img src=\"images/line.png\" alt=\"ml\" style=\"width : 100%;\"/>"
   ]
  },
  {
   "cell_type": "markdown",
   "id": "c4f93ae4-d40d-46cf-8254-b75298aed595",
   "metadata": {},
   "source": [
    "### same problem using polyclass and Mpolyclass"
   ]
  },
  {
   "cell_type": "code",
   "execution_count": 27,
   "id": "90ad49cd-7b62-42bf-ba63-d21c9475cd52",
   "metadata": {},
   "outputs": [
    {
     "data": {
      "image/png": "[encoded data removed]",
      "text/latex": [
       "$\\displaystyle \\left[ \\left( 15 \\sqrt{2}, \\  5 \\sqrt{2}\\right)\\right]$"
      ],
      "text/plain": [
       "[(15⋅√2, 5⋅√2)]"
      ]
     },
     "execution_count": 27,
     "metadata": {},
     "output_type": "execute_result"
    }
   ],
   "source": [
    "T1,T2=symbols('T1 T2',positive=True)\n",
    "P=mparticle(m=1,g=10)\n",
    "P.add_forza(T1,pi/4)\n",
    "P.add_forza(T2,-pi/4)\n",
    "P.add_forza(10,-pi/2)\n",
    "e1=polyclass(P.y_res(),0)\n",
    "e2=polyclass(P.simple_ac(),20)\n",
    "A=Mpolyclass([e1,e2])\n",
    "A.csolves([T1,T2])"
   ]
  },
  {
   "cell_type": "markdown",
   "id": "c8b04634-3be7-42eb-828e-c4b919762dd5",
   "metadata": {},
   "source": [
    " <img src=\"images/line.png\" alt=\"ml\" style=\"width : 100%;\"/>"
   ]
  },
  {
   "cell_type": "markdown",
   "id": "ad7dc230-5e3a-482f-ae29-17efff65cb85",
   "metadata": {},
   "source": [
    " <img src=\"images/d020.png\" alt=\"ml\" style=\"width : 100%;\"/>"
   ]
  },
  {
   "cell_type": "code",
   "execution_count": 59,
   "id": "d4f57070-8a5c-48cd-b19c-a28ee641cb69",
   "metadata": {},
   "outputs": [],
   "source": [
    "T,A_c,g,m=symbols('T A_c g m',positive=True)"
   ]
  },
  {
   "cell_type": "code",
   "execution_count": 60,
   "id": "532c0a24-b0b3-4e30-9b14-2d5006f4b324",
   "metadata": {},
   "outputs": [
    {
     "data": {
      "image/png": "[encoded data removed]",
      "text/latex": [
       "$\\displaystyle A_{c} m$"
      ],
      "text/plain": [
       "A_c⋅m"
      ]
     },
     "execution_count": 60,
     "metadata": {},
     "output_type": "execute_result"
    }
   ],
   "source": [
    "T=m*A_c;T"
   ]
  },
  {
   "cell_type": "code",
   "execution_count": 61,
   "id": "78814cfc-cdbb-471e-837e-9d9624a6cfe8",
   "metadata": {},
   "outputs": [
    {
     "data": {
      "text/latex": [
       "$\\displaystyle Ac =10$"
      ],
      "text/plain": [
       "<IPython.core.display.Math object>"
      ]
     },
     "metadata": {},
     "output_type": "display_data"
    }
   ],
   "source": [
    "A_c=csolve((m*10-T/2)-m*A_c/2,A_c,'Ac')"
   ]
  },
  {
   "cell_type": "markdown",
   "id": "03322ef8-682f-422b-a652-35a6ade0e7ae",
   "metadata": {},
   "source": [
    " <img src=\"images/line.png\" alt=\"ml\" style=\"width : 100%;\"/>"
   ]
  },
  {
   "cell_type": "code",
   "execution_count": 1,
   "id": "7d5835b0-2457-4e4d-8e4c-27e01dd8d332",
   "metadata": {
    "tags": []
   },
   "outputs": [],
   "source": [
    "from sympy import *\n",
    "from polyclass import *\n",
    "from libaldo_math import *\n",
    "from libaldo_show import *\n",
    "from physic_lib import *\n",
    "from IPython.display import display, Math\n",
    "init_printing()"
   ]
  },
  {
   "cell_type": "markdown",
   "id": "3c51b387-9c8c-4375-ad18-419e298cee97",
   "metadata": {},
   "source": [
    " <img src=\"images/d030.png\" alt=\"ml\" style=\"width : 60%;\"/>"
   ]
  },
  {
   "cell_type": "code",
   "execution_count": 2,
   "id": "9df6bdc8-7b65-4541-b857-c74aad324475",
   "metadata": {
    "tags": []
   },
   "outputs": [],
   "source": [
    "T,g,m,alpha,mu,N1,N2,f_1,f_2=symbols('T g m alpha mu N1 N2 f_1 f_2',positive=True)"
   ]
  },
  {
   "cell_type": "markdown",
   "id": "30df2dc6-8217-441a-9fce-c4ae8965c02e",
   "metadata": {},
   "source": [
    " <img src=\"images/d031.png\" alt=\"ml\" style=\"width : 40%;\"/>"
   ]
  },
  {
   "cell_type": "code",
   "execution_count": 3,
   "id": "9ee049de-9b03-4466-820c-9a584a270dd1",
   "metadata": {},
   "outputs": [],
   "source": [
    "# wiltake axxis reference whit  mass move direcction refernce like x \n",
    "A=mparticle(m=m,g=g)\n",
    "A.add_forza(m*g,-pi/2+alpha)\n",
    "A.add_forza(T,pi)\n",
    "A.add_forza(N1,pi/2)\n",
    "A.add_forza(f_1,0)"
   ]
  },
  {
   "cell_type": "code",
   "execution_count": 4,
   "id": "03f6bb41-9b79-49ee-bf66-828796110b79",
   "metadata": {},
   "outputs": [
    {
     "data": {
      "image/png": "[encoded data removed]",
      "text/latex": [
       "$\\displaystyle N_{1} - g m \\cos{\\left(\\alpha \\right)}$"
      ],
      "text/plain": [
       "N₁ - g⋅m⋅cos(α)"
      ]
     },
     "execution_count": 4,
     "metadata": {},
     "output_type": "execute_result"
    }
   ],
   "source": [
    "A.y_res()"
   ]
  },
  {
   "cell_type": "code",
   "execution_count": 5,
   "id": "bd74c9b0-73c6-4496-b41e-35f01c5ef55d",
   "metadata": {
    "tags": []
   },
   "outputs": [],
   "source": [
    "A.store_val(N1,g*m*cos(alpha))\n",
    "A.store_val(f_1,N1*mu)"
   ]
  },
  {
   "cell_type": "code",
   "execution_count": 6,
   "id": "5b64c290-f496-487e-a743-1e21bd65d458",
   "metadata": {},
   "outputs": [
    {
     "data": {
      "image/png": "[encoded data removed]",
      "text/latex": [
       "$\\displaystyle \\frac{- T + g m \\mu \\cos{\\left(\\alpha \\right)} + g m \\sin{\\left(\\alpha \\right)}}{m}$"
      ],
      "text/plain": [
       "-T + g⋅m⋅μ⋅cos(α) + g⋅m⋅sin(α)\n",
       "──────────────────────────────\n",
       "              m               "
      ]
     },
     "execution_count": 6,
     "metadata": {},
     "output_type": "execute_result"
    }
   ],
   "source": [
    "A.simple_ac()"
   ]
  },
  {
   "cell_type": "code",
   "execution_count": 7,
   "id": "e4016312-8c4b-448c-b822-17d3b5aa3638",
   "metadata": {},
   "outputs": [],
   "source": [
    "# wiltake axxis reference whit  mass move direcction refernce like x \n",
    "B=mparticle(m=4*m,g=g)\n",
    "B.add_forza(4*m*g,-pi/2-alpha)\n",
    "B.add_forza(T,0)\n",
    "B.add_forza(N2,pi/2)\n",
    "B.add_forza(f_2,pi)"
   ]
  },
  {
   "cell_type": "code",
   "execution_count": 8,
   "id": "21e0bea5-dc21-4913-bd6d-bf1a8da4d0c1",
   "metadata": {},
   "outputs": [
    {
     "data": {
      "image/png": "[encoded data removed]",
      "text/latex": [
       "$\\displaystyle N_{2} - 4 g m \\cos{\\left(\\alpha \\right)}$"
      ],
      "text/plain": [
       "N₂ - 4⋅g⋅m⋅cos(α)"
      ]
     },
     "execution_count": 8,
     "metadata": {},
     "output_type": "execute_result"
    }
   ],
   "source": [
    "B.y_res('x')"
   ]
  },
  {
   "cell_type": "code",
   "execution_count": 9,
   "id": "88803b78-cf04-45d9-a129-293135849e61",
   "metadata": {},
   "outputs": [],
   "source": [
    "B.store_val(N2,4*g*m*cos(alpha))\n",
    "B.store_val(f_2,N2*mu)"
   ]
  },
  {
   "cell_type": "code",
   "execution_count": 10,
   "id": "f2fc974f-aaaf-4565-9164-0ced56a9def1",
   "metadata": {},
   "outputs": [
    {
     "data": {
      "image/png": "[encoded data removed]",
      "text/latex": [
       "$\\displaystyle \\frac{T - 4 g m \\mu \\cos{\\left(\\alpha \\right)} - 4 g m \\sin{\\left(\\alpha \\right)}}{4 m}$"
      ],
      "text/plain": [
       "T - 4⋅g⋅m⋅μ⋅cos(α) - 4⋅g⋅m⋅sin(α)\n",
       "─────────────────────────────────\n",
       "               4⋅m               "
      ]
     },
     "execution_count": 10,
     "metadata": {},
     "output_type": "execute_result"
    }
   ],
   "source": [
    "B.simple_ac()"
   ]
  },
  {
   "cell_type": "code",
   "execution_count": 13,
   "id": "0bb43033-3ea6-4601-8f3c-a19f60f91c56",
   "metadata": {},
   "outputs": [
    {
     "data": {
      "text/latex": [
       "$\\displaystyle T =\\frac{8 g m \\left(\\mu \\cos{\\left(\\alpha \\right)} + \\sin{\\left(\\alpha \\right)}\\right)}{5}$"
      ],
      "text/plain": [
       "<IPython.core.display.Math object>"
      ]
     },
     "metadata": {},
     "output_type": "display_data"
    }
   ],
   "source": [
    "T=csolve(A.simple_ac()-B.simple_ac(),T,'T',unifique=True)"
   ]
  },
  {
   "cell_type": "code",
   "execution_count": 9,
   "id": "aabb81cb-a79e-4cf9-a381-10326254ceb5",
   "metadata": {},
   "outputs": [],
   "source": [
    "T,g,m,alpha,mu,N1,N2,f_1,f_2=symbols('T g m alpha mu N1 N2 f_1 f_2',positive=True)"
   ]
  },
  {
   "cell_type": "code",
   "execution_count": 10,
   "id": "e4c4553c-0f48-40cd-850a-932e12903319",
   "metadata": {},
   "outputs": [],
   "source": [
    "# Creating object and adding forcces...\n",
    "A=mparticle(m=m,g=g)\n",
    "A.add_forza(m*g,-pi/2+alpha)\n",
    "A.add_forza(T,pi)\n",
    "A.add_forza(N1,pi/2)\n",
    "A.add_forza(f_1,0)\n",
    "B=mparticle(m=4*m,g=g)\n",
    "B.add_forza(4*m*g,-pi/2-alpha)\n",
    "B.add_forza(T,0)\n",
    "B.add_forza(N2,pi/2)\n",
    "B.add_forza(f_2,pi)\n",
    "\n",
    "# Creating know Eq and after add to Mpolyclass s...\n",
    "e1=polyclass(N1,g*m*cos(alpha))\n",
    "e2=polyclass(f_1,N1*mu)\n",
    "\n",
    "e3=polyclass(N2,4*g*m*cos(alpha))\n",
    "e4=polyclass(f_2,N2*mu)\n",
    "\n",
    "e5=polyclass(B.simple_ac(),A.simple_ac())\n"
   ]
  },
  {
   "cell_type": "code",
   "execution_count": 11,
   "id": "3309f098-45cf-47a5-8640-e1685d368592",
   "metadata": {},
   "outputs": [
    {
     "data": {
      "text/latex": [
       "$\\displaystyle N_{1}\\;=\\;g m \\cos{\\left(\\alpha \\right)}\\;$"
      ],
      "text/plain": [
       "<IPython.core.display.Math object>"
      ]
     },
     "metadata": {},
     "output_type": "display_data"
    },
    {
     "data": {
      "text/latex": [
       "$\\displaystyle f_{1}\\;=\\;N_{1} \\mu\\;$"
      ],
      "text/plain": [
       "<IPython.core.display.Math object>"
      ]
     },
     "metadata": {},
     "output_type": "display_data"
    },
    {
     "data": {
      "text/latex": [
       "$\\displaystyle N_{2}\\;=\\;4 g m \\cos{\\left(\\alpha \\right)}\\;$"
      ],
      "text/plain": [
       "<IPython.core.display.Math object>"
      ]
     },
     "metadata": {},
     "output_type": "display_data"
    },
    {
     "data": {
      "text/latex": [
       "$\\displaystyle f_{2}\\;=\\;N_{2} \\mu\\;$"
      ],
      "text/plain": [
       "<IPython.core.display.Math object>"
      ]
     },
     "metadata": {},
     "output_type": "display_data"
    },
    {
     "data": {
      "text/latex": [
       "$\\displaystyle \\frac{T - f_{2} - 4 g m \\sin{\\left(\\alpha \\right)}}{4 m}\\;=\\;\\frac{- T + f_{1} + g m \\sin{\\left(\\alpha \\right)}}{m}\\;$"
      ],
      "text/plain": [
       "<IPython.core.display.Math object>"
      ]
     },
     "metadata": {},
     "output_type": "display_data"
    }
   ],
   "source": [
    "# creatibg super class \n",
    "vec=[e1,e2,e3,e4,e5]\n",
    "P=Mpolyclass(vec)\n",
    "P.s()"
   ]
  },
  {
   "cell_type": "code",
   "execution_count": 12,
   "id": "dcf3b8b0-d764-4379-aac4-be076eb476ee",
   "metadata": {},
   "outputs": [
    {
     "data": {
      "image/png": "[encoded data removed]",
      "text/latex": [
       "$\\displaystyle \\left\\{ N_{1} : g m \\cos{\\left(\\alpha \\right)}, \\  N_{2} : 4 g m \\cos{\\left(\\alpha \\right)}, \\  T : \\frac{8 g m \\mu \\cos{\\left(\\alpha \\right)}}{5} + \\frac{8 g m \\sin{\\left(\\alpha \\right)}}{5}, \\  f_{1} : g m \\mu \\cos{\\left(\\alpha \\right)}, \\  f_{2} : 4 g m \\mu \\cos{\\left(\\alpha \\right)}\\right\\}$"
      ],
      "text/plain": [
       "⎧                                     8⋅g⋅m⋅μ⋅cos(α)   8⋅g⋅m⋅sin(α)           \n",
       "⎨N₁: g⋅m⋅cos(α), N₂: 4⋅g⋅m⋅cos(α), T: ────────────── + ────────────, f₁: g⋅m⋅μ\n",
       "⎩                                           5               5                 \n",
       "\n",
       "                           ⎫\n",
       "⋅cos(α), f₂: 4⋅g⋅m⋅μ⋅cos(α)⎬\n",
       "                           ⎭"
      ]
     },
     "execution_count": 12,
     "metadata": {},
     "output_type": "execute_result"
    }
   ],
   "source": [
    "P.csolves([N1,N2,f_1,f_2,T]) # solve all"
   ]
  },
  {
   "cell_type": "code",
   "execution_count": null,
   "id": "ebaa5dc8-5636-4dc7-a7c5-ce90aa9dcd1e",
   "metadata": {},
   "outputs": [],
   "source": []
  }
 ],
 "metadata": {
  "kernelspec": {
   "display_name": "Python 3",
   "language": "python",
   "name": "python3"
  },
  "language_info": {
   "codemirror_mode": {
    "name": "ipython",
    "version": 3
   },
   "file_extension": ".py",
   "mimetype": "text/x-python",
   "name": "python",
   "nbconvert_exporter": "python",
   "pygments_lexer": "ipython3",
   "version": "3.6.6"
  }
 },
 "nbformat": 4,
 "nbformat_minor": 5
}
