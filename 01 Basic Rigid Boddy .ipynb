{
 "cells": [
  {
   "cell_type": "code",
   "execution_count": 1,
   "id": "56d7c296-d61a-40c6-a342-b79a4e92d30a",
   "metadata": {
    "tags": []
   },
   "outputs": [],
   "source": [
    "from sympy import *\n",
    "from polyclass import *\n",
    "from libaldo_math import *\n",
    "from libaldo_show import *\n",
    "from physic_lib import *\n",
    "from IPython.display import display, Math\n",
    "init_printing()"
   ]
  },
  {
   "cell_type": "code",
   "execution_count": 54,
   "id": "92cfab24-3913-4650-a475-581a1f28611b",
   "metadata": {
    "jupyter": {
     "source_hidden": true
    },
    "tags": []
   },
   "outputs": [],
   "source": [
    "x,y=symbols('x y')\n",
    "P=mparticle()\n",
    "P.add_forza(8*y,0)\n",
    "P.add_forza(6*x+y,pi)"
   ]
  },
  {
   "cell_type": "code",
   "execution_count": 55,
   "id": "d59d591a-462e-4a44-82d9-299843f29d6f",
   "metadata": {},
   "outputs": [
    {
     "data": {
      "image/png": "[encoded data removed]",
      "text/latex": [
       "$\\displaystyle - 6 x + 7 y$"
      ],
      "text/plain": [
       "-6⋅x + 7⋅y"
      ]
     },
     "execution_count": 55,
     "metadata": {},
     "output_type": "execute_result"
    }
   ],
   "source": [
    "P.x_res()"
   ]
  },
  {
   "cell_type": "code",
   "execution_count": null,
   "id": "f155ecf0-530f-4c44-9ee8-11faee432872",
   "metadata": {},
   "outputs": [],
   "source": []
  },
  {
   "cell_type": "markdown",
   "id": "8398e6a7-6707-449b-968c-88a89ad7dd57",
   "metadata": {},
   "source": [
    " <img src=\"images/line.png\" alt=\"ml\" style=\"width : 100%;\"/>"
   ]
  },
  {
   "cell_type": "markdown",
   "id": "557207a4-b111-4dd2-87f6-fb050d414a75",
   "metadata": {},
   "source": [
    "### Creating our Physics Object\n",
    "    Whit mparticle() class we can handle kinemtic, static, dynamic, work, energy,C.Gravity, etc"
   ]
  },
  {
   "cell_type": "markdown",
   "id": "e478d77a-b056-437d-be59-37758c3969a8",
   "metadata": {},
   "source": [
    " <img src=\"images/p010.png\" alt=\"ml\" style=\"width : 80%;\"/>"
   ]
  },
  {
   "cell_type": "code",
   "execution_count": 50,
   "id": "83c51fbf-57b0-4a1c-bbd7-72601ab3ada4",
   "metadata": {},
   "outputs": [],
   "source": [
    "# Steep 1 : Creating sympy variables \n",
    "m,g,mu,N1,F1,fr=symbols('m g mu N1 F1 fr')"
   ]
  },
  {
   "cell_type": "code",
   "execution_count": 3,
   "id": "7325b271-fdf1-46cf-a4ac-dc457a41870e",
   "metadata": {},
   "outputs": [],
   "source": [
    "# Steep 2 : Creating physic object P \n",
    "P=mparticle()"
   ]
  },
  {
   "cell_type": "code",
   "execution_count": 4,
   "id": "169aab4d-ef43-4ba2-b82c-9ab2ee48d9a7",
   "metadata": {},
   "outputs": [],
   "source": [
    "# Steep 3 : \n",
    "# function P.add_forza(value,angle respect x axis, pos x , pos y) default  pos x and y = 0 \n",
    "# adding weight\n",
    "P.add_forza(m*g,-pi/2)\n",
    "# adding F1\n",
    "P.add_forza(F1,0)\n",
    "# adding N1\n",
    "P.add_forza(N1,pi/2)\n",
    "# adding fr\n",
    "P.add_forza(fr,pi)"
   ]
  },
  {
   "cell_type": "code",
   "execution_count": 51,
   "id": "de8ef778-b496-42bc-ae83-a4f5c75ccf61",
   "metadata": {
    "tags": []
   },
   "outputs": [
    {
     "data": {
      "image/png": "[encoded data removed]",
      "text/latex": [
       "$\\displaystyle F_{1}$"
      ],
      "text/plain": [
       "F₁"
      ]
     },
     "execution_count": 51,
     "metadata": {},
     "output_type": "execute_result"
    }
   ],
   "source": [
    "# get resultamt in x and y :\n",
    "P.x_res()"
   ]
  },
  {
   "cell_type": "code",
   "execution_count": 6,
   "id": "b5f066f8-dbeb-478e-9a2a-ccf4b6145213",
   "metadata": {
    "tags": []
   },
   "outputs": [
    {
     "data": {
      "image/png": "[encoded data removed]",
      "text/latex": [
       "$\\displaystyle N_{1} - g m$"
      ],
      "text/plain": [
       "N₁ - g⋅m"
      ]
     },
     "execution_count": 6,
     "metadata": {},
     "output_type": "execute_result"
    }
   ],
   "source": [
    "P.y_res()"
   ]
  },
  {
   "cell_type": "code",
   "execution_count": 7,
   "id": "3f27133c-94d6-45df-9f54-5af5236d2167",
   "metadata": {},
   "outputs": [],
   "source": [
    "#  function P.store_val(symbol name,value with respect to other value)\n",
    "# In this cas we know that N1=m*g and fr= mu*N1 then....\n",
    "P.store_val(N1,m*g)\n",
    "P.store_val(fr,N1*mu)"
   ]
  },
  {
   "cell_type": "code",
   "execution_count": 8,
   "id": "ac54678e-e6e2-4b22-ad8f-4629c6d25a0e",
   "metadata": {},
   "outputs": [
    {
     "data": {
      "image/png": "[encoded data removed]",
      "text/latex": [
       "$\\displaystyle F_{1} - g m \\mu$"
      ],
      "text/plain": [
       "F₁ - g⋅m⋅μ"
      ]
     },
     "execution_count": 8,
     "metadata": {},
     "output_type": "execute_result"
    }
   ],
   "source": [
    "# see now what happend with x_res and y_res\n",
    "P.x_res()"
   ]
  },
  {
   "cell_type": "code",
   "execution_count": 9,
   "id": "0d9d118e-b032-45f1-99ca-d2731cb7acad",
   "metadata": {
    "tags": []
   },
   "outputs": [
    {
     "data": {
      "image/png": "[encoded data removed]",
      "text/latex": [
       "$\\displaystyle 0$"
      ],
      "text/plain": [
       "0"
      ]
     },
     "execution_count": 9,
     "metadata": {},
     "output_type": "execute_result"
    }
   ],
   "source": [
    "P.y_res()"
   ]
  },
  {
   "cell_type": "markdown",
   "id": "5dfbc0b2-6425-4131-aa8a-ad1289bf6ab3",
   "metadata": {},
   "source": [
    " <img src=\"images/line.png\" alt=\"ml\" style=\"width : 100%;\"/>"
   ]
  },
  {
   "cell_type": "markdown",
   "id": "f8d6f75e-b7f2-44b1-9fd1-430f712364e5",
   "metadata": {},
   "source": [
    " <img src=\"images/p020.png\" alt=\"ml\" style=\"width : 80%;\"/>"
   ]
  },
  {
   "cell_type": "code",
   "execution_count": 10,
   "id": "97c18c06-2d6c-49c5-a63f-5353ea554ac9",
   "metadata": {
    "tags": []
   },
   "outputs": [],
   "source": [
    "# decrared sympy variables neccesary\n",
    "N1,F1,fr =symbols('N1 F1 fr') # why N1 and not N .. because N is important notation in python"
   ]
  },
  {
   "cell_type": "code",
   "execution_count": 11,
   "id": "feea50ef-1511-40ff-9278-e0a032eb7035",
   "metadata": {
    "tags": []
   },
   "outputs": [],
   "source": [
    "# Creating physic object P \n",
    "P=mparticle()"
   ]
  },
  {
   "cell_type": "code",
   "execution_count": 12,
   "id": "1c301a03-678e-4c9c-b944-789efb516606",
   "metadata": {
    "tags": []
   },
   "outputs": [],
   "source": [
    "# adding forzas\n",
    "P.add_forza(100,0)\n",
    "P.add_forza(F1,pi)\n",
    "P.add_forza(N1,pi/2)\n",
    "P.add_forza(10*20,-pi/2)\n",
    "P.add_forza(fr,pi)"
   ]
  },
  {
   "cell_type": "code",
   "execution_count": 13,
   "id": "a8f06ac1-940c-41ae-a0df-9b77928770e2",
   "metadata": {},
   "outputs": [],
   "source": [
    "#  function P.store_val(symbol name,value with respect to other value)\n",
    "# In this cas we know that N1=m*g and fr= mu*N1 then....\n",
    "P.store_val(N1,20*10)\n",
    "P.store_val(fr,N1*0.2)"
   ]
  },
  {
   "cell_type": "code",
   "execution_count": 14,
   "id": "c6e2387e-1e68-423b-b28d-395abed325cd",
   "metadata": {},
   "outputs": [
    {
     "data": {
      "image/png": "[encoded data removed]",
      "text/latex": [
       "$\\displaystyle 60.0 - F_{1}$"
      ],
      "text/plain": [
       "60.0 - F₁"
      ]
     },
     "execution_count": 14,
     "metadata": {},
     "output_type": "execute_result"
    }
   ],
   "source": [
    "# see now what happend with x_res and y_res\n",
    "P.x_res()"
   ]
  },
  {
   "cell_type": "code",
   "execution_count": 15,
   "id": "1840195d-713e-4024-a5f9-9435b4bcf44b",
   "metadata": {
    "tags": []
   },
   "outputs": [
    {
     "data": {
      "image/png": "[encoded data removed]",
      "text/latex": [
       "$\\displaystyle 0$"
      ],
      "text/plain": [
       "0"
      ]
     },
     "execution_count": 15,
     "metadata": {},
     "output_type": "execute_result"
    }
   ],
   "source": [
    "P.y_res()"
   ]
  },
  {
   "cell_type": "code",
   "execution_count": 16,
   "id": "8db2295d-9dd1-4df6-b77f-ebfd4bb03711",
   "metadata": {},
   "outputs": [
    {
     "data": {
      "text/latex": [
       "$\\displaystyle F1 =60.0$"
      ],
      "text/plain": [
       "<IPython.core.display.Math object>"
      ]
     },
     "metadata": {},
     "output_type": "display_data"
    }
   ],
   "source": [
    "# New mat function  csolve( Equation that is = 0, variable to find, optional nice answer)\n",
    "# we know that x resultant =0 then...\n",
    "F1=csolve(P.x_res(),F1,'F1')  "
   ]
  },
  {
   "cell_type": "code",
   "execution_count": 17,
   "id": "34d3eab5-b655-4f56-8df6-74ac639bcc6d",
   "metadata": {
    "tags": []
   },
   "outputs": [
    {
     "data": {
      "image/png": "[encoded data removed]",
      "text/latex": [
       "$\\displaystyle 60.0$"
      ],
      "text/plain": [
       "60.0000000000000"
      ]
     },
     "execution_count": 17,
     "metadata": {},
     "output_type": "execute_result"
    }
   ],
   "source": [
    "F1"
   ]
  },
  {
   "cell_type": "markdown",
   "id": "9cf33344-e7d8-427c-91af-1c2cc074a1f6",
   "metadata": {},
   "source": [
    " <img src=\"images/line.png\" alt=\"ml\" style=\"width : 100%;\"/>"
   ]
  },
  {
   "cell_type": "markdown",
   "id": "81e70a8a-409a-4eb3-9b8c-3c18ea77ebad",
   "metadata": {},
   "source": [
    "## Working whit two Physic object"
   ]
  },
  {
   "cell_type": "markdown",
   "id": "2c6a3322-2fd0-45b6-bfb0-9b0ea439947d",
   "metadata": {
    "tags": []
   },
   "source": [
    " <img src=\"images/p030.png\" alt=\"ml\" style=\"width : 50%;\"/>"
   ]
  },
  {
   "cell_type": "code",
   "execution_count": 18,
   "id": "de50c919-bb5d-4c02-9ca3-25dcb5a81b6c",
   "metadata": {
    "tags": []
   },
   "outputs": [],
   "source": [
    "# decrared sympy variables neccesary\n",
    "m1,m2,g,N1,fr,alpha,T1,mu =symbols('m1 m2 g N1 fr alpha T1 mu ') "
   ]
  },
  {
   "cell_type": "code",
   "execution_count": 19,
   "id": "d45cb236-42a4-41f1-b7b7-010509a72de8",
   "metadata": {
    "tags": []
   },
   "outputs": [],
   "source": [
    "# Creating physic object P2 and get T1 in m2,g function\n",
    "P2=mparticle()"
   ]
  },
  {
   "cell_type": "code",
   "execution_count": 20,
   "id": "d283e6a9-6654-490b-af11-08b44af6e4cb",
   "metadata": {},
   "outputs": [],
   "source": [
    "# is easy to know that T1 = m2*g but only for explained situation we will add forza and find  \n",
    "P2.add_forza(m2*g,-pi/2)\n",
    "P2.add_forza(T1,pi/2)"
   ]
  },
  {
   "cell_type": "code",
   "execution_count": 21,
   "id": "02fae2e2-351c-4456-805f-fb61b0dcec2a",
   "metadata": {
    "tags": []
   },
   "outputs": [
    {
     "data": {
      "text/latex": [
       "$\\displaystyle T1 =g m_{2}$"
      ],
      "text/plain": [
       "<IPython.core.display.Math object>"
      ]
     },
     "metadata": {},
     "output_type": "display_data"
    }
   ],
   "source": [
    "# csolve T1  from P2.y_res=0 ans store in T1\n",
    "T1=csolve(P2.y_res(),T1,'T1')"
   ]
  },
  {
   "cell_type": "markdown",
   "id": "df463b61-db0f-4d89-91c5-99aaecb03e5a",
   "metadata": {
    "tags": []
   },
   "source": [
    " <img src=\"images/p030.png\" alt=\"ml\" style=\"width : 50%;\"/>"
   ]
  },
  {
   "cell_type": "code",
   "execution_count": 22,
   "id": "55a9dafd-d04b-4a8b-924c-621c356ce000",
   "metadata": {
    "tags": []
   },
   "outputs": [],
   "source": [
    "# Creating physic object P2 and get T1 in m2,g function\n",
    "P1=mparticle()"
   ]
  },
  {
   "cell_type": "code",
   "execution_count": 23,
   "id": "83427faa-5909-4a7e-a517-61cd73e6ad25",
   "metadata": {},
   "outputs": [],
   "source": [
    "# is easy to know that T1 = m2*g but only for explained situation we will add forza and find  \n",
    "P1.add_forza(m1*g,-pi/2)\n",
    "P1.add_forza(N1,pi/2)\n",
    "P1.add_forza(T1,alpha)\n",
    "P1.add_forza(fr,pi)"
   ]
  },
  {
   "cell_type": "code",
   "execution_count": 24,
   "id": "d7b6ac69-0517-4fb4-9bce-5c238c1b63ab",
   "metadata": {},
   "outputs": [],
   "source": [
    "# adding value that we know like...\n",
    "P1.store_val(N1,m1*g)\n",
    "P1.store_val(fr,N1*mu)"
   ]
  },
  {
   "cell_type": "code",
   "execution_count": 25,
   "id": "af44ecf7-4b65-4f14-b0bd-30bbfe85f58c",
   "metadata": {},
   "outputs": [
    {
     "data": {
      "image/png": "[encoded data removed]",
      "text/latex": [
       "$\\displaystyle - g m_{1} \\mu + g m_{2} \\cos{\\left(\\alpha \\right)}$"
      ],
      "text/plain": [
       "-g⋅m₁⋅μ + g⋅m₂⋅cos(α)"
      ]
     },
     "execution_count": 25,
     "metadata": {},
     "output_type": "execute_result"
    }
   ],
   "source": [
    "# and now res...??\n",
    "P1.x_res()"
   ]
  },
  {
   "cell_type": "code",
   "execution_count": 26,
   "id": "369e4a49-0c74-4778-99dc-be5cf05a0786",
   "metadata": {},
   "outputs": [
    {
     "data": {
      "image/png": "[encoded data removed]",
      "text/latex": [
       "$\\displaystyle g m_{2} \\sin{\\left(\\alpha \\right)}$"
      ],
      "text/plain": [
       "g⋅m₂⋅sin(α)"
      ]
     },
     "execution_count": 26,
     "metadata": {},
     "output_type": "execute_result"
    }
   ],
   "source": [
    "P1.y_res()"
   ]
  },
  {
   "cell_type": "code",
   "execution_count": 27,
   "id": "0a8fdad0-cf96-4b32-8f89-eb341bb73d95",
   "metadata": {},
   "outputs": [
    {
     "data": {
      "text/latex": [
       "$\\displaystyle mu =\\frac{m_{2} \\cos{\\left(\\alpha \\right)}}{m_{1}}$"
      ],
      "text/plain": [
       "<IPython.core.display.Math object>"
      ]
     },
     "metadata": {},
     "output_type": "display_data"
    }
   ],
   "source": [
    "# we will use x_res to find mu\n",
    "mu=csolve(P1.x_res(),mu,'mu') "
   ]
  },
  {
   "cell_type": "code",
   "execution_count": 28,
   "id": "393e89c1-45cd-4ae5-8173-36fe6df8f834",
   "metadata": {
    "tags": []
   },
   "outputs": [
    {
     "data": {
      "text/latex": [
       "$\\displaystyle mu\\;value\\;is=\\;\\frac{m_{2} \\cos{\\left(\\alpha \\right)}}{m_{1}}\\;$"
      ],
      "text/plain": [
       "<IPython.core.display.Math object>"
      ]
     },
     "metadata": {},
     "output_type": "display_data"
    }
   ],
   "source": [
    "# new nice show function because i headddd Latex .. es una mierda el Latex\n",
    "sE(['mu value is=',mu])  #sE= show expression"
   ]
  },
  {
   "cell_type": "code",
   "execution_count": 29,
   "id": "de0d40b1-259c-4591-a2aa-3a954d45756d",
   "metadata": {
    "tags": []
   },
   "outputs": [
    {
     "data": {
      "text/latex": [
       "$\\displaystyle one=\\;1\\;,two=\\;2\\;and\\;sum\\;one+two=\\;3\\;$"
      ],
      "text/plain": [
       "<IPython.core.display.Math object>"
      ]
     },
     "metadata": {},
     "output_type": "display_data"
    }
   ],
   "source": [
    "sE(['one=',1,',two=',2,'and','sum','one+two=',1+2 ])"
   ]
  },
  {
   "cell_type": "markdown",
   "id": "9535a4b3-d8a1-4d0c-8f73-57b8235bd0fd",
   "metadata": {},
   "source": [
    " <img src=\"images/line.png\" alt=\"ml\" style=\"width : 100%;\"/>"
   ]
  },
  {
   "cell_type": "markdown",
   "id": "9164656b-58e8-4720-9b7b-8f024fe4591c",
   "metadata": {},
   "source": [
    "## Working whit torque and adding forze whit x,y position neccesary for torque calculus"
   ]
  },
  {
   "cell_type": "markdown",
   "id": "ae952781-44c1-4d8c-94b4-1c327de8545e",
   "metadata": {
    "tags": []
   },
   "source": [
    " <img src=\"images/p040.png\" alt=\"ml\" style=\"width : 80%;\"/>"
   ]
  },
  {
   "cell_type": "code",
   "execution_count": 30,
   "id": "356f47c6-ec16-478a-9f04-5bf9b916535e",
   "metadata": {
    "tags": []
   },
   "outputs": [],
   "source": [
    "# decrared sympy variables neccesary\n",
    "g,W,L,Rx,Ry =symbols('g W L Rx Ry ') # is better Rx+Ry instead R because ww not know  alpha"
   ]
  },
  {
   "cell_type": "code",
   "execution_count": 31,
   "id": "ffe1a9af-ba3a-4c0f-bef8-d2f53fed58ff",
   "metadata": {
    "tags": []
   },
   "outputs": [],
   "source": [
    "# Creating physic object P  \n",
    "P=mparticle()"
   ]
  },
  {
   "cell_type": "code",
   "execution_count": 32,
   "id": "fd48e0ca-6e0f-45a2-9f64-1686e1c25ef4",
   "metadata": {},
   "outputs": [],
   "source": [
    "# adding forza.. this time we will includedd x,y cordinate posss  B is (0,0)\n",
    "P.add_forza(Rx,0,0,0) # Rx x comp in B\n",
    "P.add_forza(Ry,pi/2,0,0) # Ry y comp in B\n",
    "P.add_forza(2*W,pi/6,L/4,0) # Tension due 2W\n",
    "P.add_forza(500,-pi/2,L/2,0) # weigh bar in midle pos\n",
    "P.add_forza(W,pi/2,L,0) # T1=W in extremm bar poss"
   ]
  },
  {
   "cell_type": "code",
   "execution_count": 33,
   "id": "94d2f8f4-ac39-472e-8592-3cbf6b497e37",
   "metadata": {},
   "outputs": [
    {
     "data": {
      "image/png": "[encoded data removed]",
      "text/latex": [
       "$\\displaystyle Rx + \\sqrt{3} W$"
      ],
      "text/plain": [
       "Rx + √3⋅W"
      ]
     },
     "execution_count": 33,
     "metadata": {},
     "output_type": "execute_result"
    }
   ],
   "source": [
    "# Now due object ar in equilibrium ..the x_res=0, y_res=0, and Torque in wathever point=0\n",
    "P.x_res() # first Eq"
   ]
  },
  {
   "cell_type": "code",
   "execution_count": 34,
   "id": "f92358ce-153a-4878-b8b7-2a84941359d1",
   "metadata": {},
   "outputs": [
    {
     "data": {
      "image/png": "[encoded data removed]",
      "text/latex": [
       "$\\displaystyle Ry + 2 W - 500$"
      ],
      "text/plain": [
       "Ry + 2⋅W - 500"
      ]
     },
     "execution_count": 34,
     "metadata": {},
     "output_type": "execute_result"
    }
   ],
   "source": [
    "P.y_res() "
   ]
  },
  {
   "cell_type": "code",
   "execution_count": 35,
   "id": "06a457ac-44b5-47cb-b4fa-87adad7d3877",
   "metadata": {},
   "outputs": [
    {
     "data": {
      "image/png": "[encoded data removed]",
      "text/latex": [
       "$\\displaystyle \\frac{5 L W}{4} - 250 L$"
      ],
      "text/plain": [
       "5⋅L⋅W        \n",
       "───── - 250⋅L\n",
       "  4          "
      ]
     },
     "execution_count": 35,
     "metadata": {},
     "output_type": "execute_result"
    }
   ],
   "source": [
    "# Torque in B\n",
    "P.torque()"
   ]
  },
  {
   "cell_type": "code",
   "execution_count": 36,
   "id": "88bc2038-9d91-4192-a74d-4eb457614d04",
   "metadata": {},
   "outputs": [
    {
     "data": {
      "image/png": "[encoded data removed]",
      "text/latex": [
       "$\\displaystyle - \\frac{L Ry}{2} + \\frac{L W}{4}$"
      ],
      "text/plain": [
       "  L⋅Ry   L⋅W\n",
       "- ──── + ───\n",
       "   2      4 "
      ]
     },
     "execution_count": 36,
     "metadata": {},
     "output_type": "execute_result"
    }
   ],
   "source": [
    "# Torque in midle\n",
    "P.torque(L/2,0) # to change torque applic.. pos  only included new x,y pos "
   ]
  },
  {
   "cell_type": "code",
   "execution_count": 37,
   "id": "69ea4719-2059-46cd-9199-63e45a11f822",
   "metadata": {},
   "outputs": [
    {
     "data": {
      "image/png": "[encoded data removed]",
      "text/latex": [
       "$\\displaystyle - L Ry - \\frac{3 L W}{4} + 250 L$"
      ],
      "text/plain": [
       "        3⋅L⋅W        \n",
       "-L⋅Ry - ───── + 250⋅L\n",
       "          4          "
      ]
     },
     "execution_count": 37,
     "metadata": {},
     "output_type": "execute_result"
    }
   ],
   "source": [
    "# Torque in extreme of bar\n",
    "P.torque(L,0) # to change torque applic.. pos  only included new x,y pos "
   ]
  },
  {
   "cell_type": "code",
   "execution_count": 38,
   "id": "999a043c-bca3-4495-bc37-28ed606f20f7",
   "metadata": {},
   "outputs": [
    {
     "data": {
      "text/latex": [
       "$\\displaystyle T1 =200$"
      ],
      "text/plain": [
       "<IPython.core.display.Math object>"
      ]
     },
     "metadata": {},
     "output_type": "display_data"
    }
   ],
   "source": [
    "# the only want to find W and not involved Rx and Ry is Torque in B because are caceleld .\n",
    "# and now we will used csolve with torque=0 to find W or T1 that is the same... \n",
    "W=csolve(P.torque(),W,'T1') # and voalla.."
   ]
  },
  {
   "cell_type": "markdown",
   "id": "3931f8a7-339f-4951-8905-2b9e4ce8f3fd",
   "metadata": {},
   "source": [
    " <img src=\"images/line.png\" alt=\"ml\" style=\"width : 100%;\"/>"
   ]
  },
  {
   "cell_type": "markdown",
   "id": "e008a264-fc39-414c-9889-edf40c80265a",
   "metadata": {},
   "source": [
    "## More torque super easy sample... more advance come real nerd problems solve"
   ]
  },
  {
   "cell_type": "markdown",
   "id": "a3e55bb0-ccf8-4207-81ef-b05e33dac5f1",
   "metadata": {
    "tags": []
   },
   "source": [
    " <img src=\"images/p050.png\" alt=\"ml\" style=\"width : 80%;\"/>"
   ]
  },
  {
   "cell_type": "code",
   "execution_count": 39,
   "id": "2b87e02b-5bd2-4f39-9884-09da3c8e8874",
   "metadata": {
    "tags": []
   },
   "outputs": [],
   "source": [
    "# decrared sympy variables neccesary\n",
    "b,R1,R2 =symbols('b R1 R2') # is better Rx+Ry instead R because ww not know  alpha"
   ]
  },
  {
   "cell_type": "code",
   "execution_count": 40,
   "id": "8e405d79-0b23-41c9-a2ae-ad6fc49a6b7f",
   "metadata": {
    "tags": []
   },
   "outputs": [],
   "source": [
    "# Creating physic object P  \n",
    "P=mparticle()"
   ]
  },
  {
   "cell_type": "markdown",
   "id": "8a130bfd-2120-484e-a64c-a4bbc786de0a",
   "metadata": {
    "tags": []
   },
   "source": [
    " <img src=\"images/p050.png\" alt=\"ml\" style=\"width : 80%;\"/>"
   ]
  },
  {
   "cell_type": "code",
   "execution_count": 41,
   "id": "3f5a4766-e5b0-4e85-9893-719effea39c6",
   "metadata": {},
   "outputs": [],
   "source": [
    "# adding forza.. this time we will includedd x,y cordinate posss  B is (0,0)\n",
    "P.add_forza(R1,pi/2,0,0) # R1\n",
    "P.add_forza(3*10,-pi/2,b,0) # 3Kg weight\n",
    "P.add_forza(6*10,-pi/2,2*b,0) # bar weight\n",
    "P.add_forza(R2,pi/2,3*b,0) # weigh bar in midle pos"
   ]
  },
  {
   "cell_type": "code",
   "execution_count": 42,
   "id": "d6a805cc-6aec-4808-8872-8142830f64ca",
   "metadata": {},
   "outputs": [
    {
     "data": {
      "text/latex": [
       "$\\displaystyle R2 =50$"
      ],
      "text/plain": [
       "<IPython.core.display.Math object>"
      ]
     },
     "metadata": {},
     "output_type": "display_data"
    }
   ],
   "source": [
    "# find R2 using Torque = 0 in A\n",
    "R2=csolve(P.torque(),R2,'R2')"
   ]
  },
  {
   "cell_type": "code",
   "execution_count": 43,
   "id": "b6cf87d0-8b30-463d-aa27-141f940d934d",
   "metadata": {},
   "outputs": [
    {
     "data": {
      "text/latex": [
       "$\\displaystyle R1 =40$"
      ],
      "text/plain": [
       "<IPython.core.display.Math object>"
      ]
     },
     "metadata": {},
     "output_type": "display_data"
    }
   ],
   "source": [
    "# find R1 using Torque = 0 in B\n",
    "R1=csolve(P.torque(3*b,0),R1,'R1')"
   ]
  },
  {
   "cell_type": "markdown",
   "id": "d4c04093-b088-428e-bab5-42953f6efb1e",
   "metadata": {},
   "source": [
    " <img src=\"images/line.png\" alt=\"ml\" style=\"width : 100%;\"/>"
   ]
  },
  {
   "cell_type": "markdown",
   "id": "ac077448-6db8-4eac-8ec8-a447e7858479",
   "metadata": {},
   "source": [
    "## working whit acceleration  "
   ]
  },
  {
   "cell_type": "code",
   "execution_count": 44,
   "id": "f8235498-4b17-48ba-8c56-c1afef519dce",
   "metadata": {},
   "outputs": [],
   "source": [
    "# before we will try to understand mparticle()  class....."
   ]
  },
  {
   "cell_type": "markdown",
   "id": "72eb54b0-c1cf-4d9b-a011-129fac179053",
   "metadata": {
    "tags": []
   },
   "source": [
    " <img src=\"images/p06b.png\" alt=\"ml\" style=\"width : 80%;\"/>"
   ]
  },
  {
   "cell_type": "markdown",
   "id": "e97f2d42-94fd-4ccf-836c-485d4d66ba6f",
   "metadata": {
    "tags": []
   },
   "source": [
    " <img src=\"images/p06a.png\" alt=\"ml\" style=\"width : 40%;\"/>"
   ]
  },
  {
   "cell_type": "code",
   "execution_count": 2,
   "id": "b336c47a-aa5b-44c8-a348-20a021482674",
   "metadata": {},
   "outputs": [],
   "source": [
    "# first declaring variable\n",
    "F1,m,g=symbols('F1 m g',positive=True)\n",
    "# In advance we will include positive True in order to solve root equations \n",
    "# also is better use F1 because F is used in several libraries..."
   ]
  },
  {
   "cell_type": "code",
   "execution_count": 3,
   "id": "d60ea771-aaa6-4858-8d41-f342e0825825",
   "metadata": {},
   "outputs": [],
   "source": [
    "P=mparticle(m=m) # now we declaring internal mass for used in other algoritm"
   ]
  },
  {
   "cell_type": "code",
   "execution_count": 4,
   "id": "b2aa9a21-267e-4d26-b8ed-9933436af7ba",
   "metadata": {},
   "outputs": [
    {
     "data": {
      "image/png": "[encoded data removed]",
      "text/latex": [
       "$\\displaystyle F_{1}$"
      ],
      "text/plain": [
       "F₁"
      ]
     },
     "execution_count": 4,
     "metadata": {},
     "output_type": "execute_result"
    }
   ],
   "source": [
    "P.add_forza(F1,0)\n",
    "# see ress x\n",
    "P.x_res()"
   ]
  },
  {
   "cell_type": "code",
   "execution_count": 48,
   "id": "5b2af5ad-b931-4b9e-8b3c-fd31a92b1da6",
   "metadata": {
    "tags": []
   },
   "outputs": [
    {
     "data": {
      "image/png": "[encoded data removed]",
      "text/latex": [
       "$\\displaystyle \\frac{F_{1}}{m}$"
      ],
      "text/plain": [
       "F₁\n",
       "──\n",
       "m "
      ]
     },
     "execution_count": 48,
     "metadata": {},
     "output_type": "execute_result"
    }
   ],
   "source": [
    "# Finding acceleration\n",
    "P.simple_ac()"
   ]
  },
  {
   "cell_type": "markdown",
   "id": "87dd1a0e-ecb0-416e-8367-3541c6e86469",
   "metadata": {},
   "source": [
    " <img src=\"images/line.png\" alt=\"ml\" style=\"width : 100%;\"/>"
   ]
  },
  {
   "cell_type": "markdown",
   "id": "3eae78dc-c62b-4328-9a4a-d5b121155f11",
   "metadata": {},
   "source": [
    "#### Finding default acceleration into Physic mparticle object class()..."
   ]
  },
  {
   "cell_type": "markdown",
   "id": "a5d4e838-3bec-4454-a682-7d80f412d223",
   "metadata": {
    "tags": []
   },
   "source": [
    " <img src=\"images/p060.png\" alt=\"ml\" style=\"width : 80%;\"/>"
   ]
  },
  {
   "cell_type": "code",
   "execution_count": null,
   "id": "751df42e-eb92-4634-8184-8afd59faa69a",
   "metadata": {},
   "outputs": [],
   "source": [
    "# first declaring al  variable including Normals and F reaction between mass"
   ]
  },
  {
   "cell_type": "markdown",
   "id": "f199ffdb-230b-4a46-91a8-6b590ac94151",
   "metadata": {
    "tags": []
   },
   "source": [
    " <img src=\"images/p061.png\" alt=\"ml\" style=\"width : 80%;\"/>"
   ]
  },
  {
   "cell_type": "code",
   "execution_count": 1,
   "id": "8ef97fde-7689-4d6f-b0a6-97e265184b47",
   "metadata": {
    "tags": []
   },
   "outputs": [],
   "source": [
    "from sympy import *\n",
    "from polyclass import *\n",
    "from libaldo_math import *\n",
    "from libaldo_show import *\n",
    "from physic_lib import *\n",
    "from IPython.display import display, Math\n",
    "init_printing()"
   ]
  },
  {
   "cell_type": "code",
   "execution_count": 2,
   "id": "bb0f647c-d8ac-4a60-b13a-ae7d3a41e40c",
   "metadata": {},
   "outputs": [],
   "source": [
    "F1,fr1,N1,M,g,R,N2,fr2,mu=symbols('F1 fr1 N1 M g R N2 fr2 mu',positive=True)"
   ]
  },
  {
   "cell_type": "code",
   "execution_count": 3,
   "id": "21e920e3-cd41-4b90-b432-43cf86f132c4",
   "metadata": {},
   "outputs": [],
   "source": [
    "# creatin P1 with  mass = 4*M\n",
    "P1=mparticle(m=4*M)\n",
    "# adding forzas..\n",
    "P1.add_forza(F1,0) \n",
    "P1.add_forza(4*M*g,-pi/2)\n",
    "P1.add_forza(R,pi) \n",
    "P1.add_forza(N1,pi/2)\n",
    "P1.add_forza(fr1,pi)"
   ]
  },
  {
   "cell_type": "code",
   "execution_count": 4,
   "id": "ca0b0fdd-132c-43ed-9977-c15df31fe0dd",
   "metadata": {
    "tags": []
   },
   "outputs": [],
   "source": [
    "# change uknow Forces in know forces like\n",
    "P1.store_val(N1,4*M*g) # Normal in P1 is weight\n",
    "P1.store_val(fr1,N1*mu) # roz for = Normal * mu"
   ]
  },
  {
   "cell_type": "code",
   "execution_count": 5,
   "id": "c8c92107-974d-403e-a931-7f8ecaae3ffb",
   "metadata": {
    "tags": []
   },
   "outputs": [
    {
     "data": {
      "image/png": "[encoded data removed]",
      "text/latex": [
       "$\\displaystyle \\frac{F_{1} - 4 M g \\mu - R}{4 M}$"
      ],
      "text/plain": [
       "F₁ - 4⋅M⋅g⋅μ - R\n",
       "────────────────\n",
       "      4⋅M       "
      ]
     },
     "execution_count": 5,
     "metadata": {},
     "output_type": "execute_result"
    }
   ],
   "source": [
    "# now get acceleration due x_res()\n",
    "P1.simple_ac('x') "
   ]
  },
  {
   "cell_type": "code",
   "execution_count": 6,
   "id": "44fcdfda-c51d-4a91-b5fa-6b599e67f6d3",
   "metadata": {},
   "outputs": [],
   "source": [
    "# creatin P1 with  mass = 4*M\n",
    "P2=mparticle(m=M)\n",
    "# adding forzas..\n",
    "  \n",
    "P2.add_forza(M*g,-pi/2)\n",
    "P2.add_forza(R,0) \n",
    "P2.add_forza(N2,pi/2)\n",
    "P2.add_forza(fr2,pi)"
   ]
  },
  {
   "cell_type": "code",
   "execution_count": 7,
   "id": "92b20d23-fdad-4194-9bf0-c2eeb186c0b9",
   "metadata": {
    "tags": []
   },
   "outputs": [],
   "source": [
    "# change uknow Forces in know forces like\n",
    "P2.store_val(N2,M*g) # Normal in P1 is weight\n",
    "P2.store_val(fr2,N2*mu) # roz for = Normal * mu"
   ]
  },
  {
   "cell_type": "code",
   "execution_count": 8,
   "id": "5a65433e-03fa-47ac-af18-383c90482660",
   "metadata": {
    "tags": []
   },
   "outputs": [
    {
     "data": {
      "image/png": "[encoded data removed]",
      "text/latex": [
       "$\\displaystyle \\frac{- M g \\mu + R}{M}$"
      ],
      "text/plain": [
       "-M⋅g⋅μ + R\n",
       "──────────\n",
       "    M     "
      ]
     },
     "execution_count": 8,
     "metadata": {},
     "output_type": "execute_result"
    }
   ],
   "source": [
    "# now get acceleration due x_res()\n",
    "P2.simple_ac('x') "
   ]
  },
  {
   "cell_type": "code",
   "execution_count": 9,
   "id": "62f8cf21-17be-4fc5-aee5-692f9ba9c670",
   "metadata": {},
   "outputs": [
    {
     "data": {
      "image/png": "[encoded data removed]",
      "text/latex": [
       "$\\displaystyle \\left[ \\right]$"
      ],
      "text/plain": [
       "[]"
      ]
     },
     "execution_count": 9,
     "metadata": {},
     "output_type": "execute_result"
    }
   ],
   "source": [
    "# with sympy.....???\n",
    "solve(P2.simple_ac('x')-P1.simple_ac('x'),R)"
   ]
  },
  {
   "cell_type": "code",
   "execution_count": 10,
   "id": "55cf3a03-4bcc-44f7-8402-ce9abadb588e",
   "metadata": {},
   "outputs": [
    {
     "data": {
      "image/png": "[encoded data removed]",
      "text/latex": [
       "$\\displaystyle \\left[ \\right]$"
      ],
      "text/plain": [
       "[]"
      ]
     },
     "execution_count": 10,
     "metadata": {},
     "output_type": "execute_result"
    }
   ],
   "source": [
    "# with libaldo.....???\n",
    "csolve(P2.simple_ac('x')-P1.simple_ac('x'),R)"
   ]
  },
  {
   "cell_type": "code",
   "execution_count": 11,
   "id": "d6e8a2b7-8928-4213-bf7b-ce242610e205",
   "metadata": {},
   "outputs": [
    {
     "data": {
      "image/png": "[encoded data removed]",
      "text/latex": [
       "$\\displaystyle \\frac{F_{1}}{5}$"
      ],
      "text/plain": [
       "F₁\n",
       "──\n",
       "5 "
      ]
     },
     "execution_count": 11,
     "metadata": {},
     "output_type": "execute_result"
    }
   ],
   "source": [
    "# but.....???\n",
    "csolve(P2.simple_ac('x')-P1.simple_ac('x'),R,unifique=True)"
   ]
  },
  {
   "cell_type": "code",
   "execution_count": 12,
   "id": "a7659790-8649-4a3d-af6b-6fc302fb0552",
   "metadata": {},
   "outputs": [
    {
     "data": {
      "image/png": "[encoded data removed]",
      "text/latex": [
       "$\\displaystyle \\frac{- M g \\mu + R}{M}$"
      ],
      "text/plain": [
       "-M⋅g⋅μ + R\n",
       "──────────\n",
       "    M     "
      ]
     },
     "execution_count": 12,
     "metadata": {},
     "output_type": "execute_result"
    }
   ],
   "source": [
    "P2.simple_ac('x') "
   ]
  },
  {
   "cell_type": "code",
   "execution_count": 13,
   "id": "e793e443-ace6-4022-88d8-9eb907502b45",
   "metadata": {},
   "outputs": [],
   "source": [
    "# in object P2 we change all R by F1/5 \n",
    "P2.store_val(R,F1/5)"
   ]
  },
  {
   "cell_type": "code",
   "execution_count": 15,
   "id": "da0c8859-035a-40cf-94de-6c20db3b1a18",
   "metadata": {},
   "outputs": [
    {
     "data": {
      "image/png": "[encoded data removed]",
      "text/latex": [
       "$\\displaystyle \\frac{\\frac{F_{1}}{5} - M g \\mu}{M}$"
      ],
      "text/plain": [
       "F₁        \n",
       "── - M⋅g⋅μ\n",
       "5         \n",
       "──────────\n",
       "    M     "
      ]
     },
     "execution_count": 15,
     "metadata": {},
     "output_type": "execute_result"
    }
   ],
   "source": [
    "# after change call simple_ac again\n",
    "P2.simple_ac('x') "
   ]
  },
  {
   "cell_type": "code",
   "execution_count": 17,
   "id": "0cac1b67-ac0c-4d5b-8fa1-4c76386e7e03",
   "metadata": {
    "tags": []
   },
   "outputs": [
    {
     "data": {
      "image/png": "[encoded data removed]",
      "text/latex": [
       "$\\displaystyle \\frac{F_{1} - 4 M g \\mu - R}{4 M}$"
      ],
      "text/plain": [
       "F₁ - 4⋅M⋅g⋅μ - R\n",
       "────────────────\n",
       "      4⋅M       "
      ]
     },
     "execution_count": 17,
     "metadata": {},
     "output_type": "execute_result"
    }
   ],
   "source": [
    "P1.simple_ac('x')"
   ]
  },
  {
   "cell_type": "code",
   "execution_count": 18,
   "id": "239809c8-adbc-44cb-bb77-dfd1c09a1f0b",
   "metadata": {},
   "outputs": [],
   "source": [
    "# in object P1 we change all R by F1/5  and call again\n",
    "P1.store_val(R,F1/5)"
   ]
  },
  {
   "cell_type": "code",
   "execution_count": 19,
   "id": "754dce4e-d603-418e-90b6-0326ce384d1b",
   "metadata": {},
   "outputs": [
    {
     "data": {
      "image/png": "[encoded data removed]",
      "text/latex": [
       "$\\displaystyle \\frac{\\frac{4 F_{1}}{5} - 4 M g \\mu}{4 M}$"
      ],
      "text/plain": [
       "4⋅F₁          \n",
       "──── - 4⋅M⋅g⋅μ\n",
       " 5            \n",
       "──────────────\n",
       "     4⋅M      "
      ]
     },
     "execution_count": 19,
     "metadata": {},
     "output_type": "execute_result"
    }
   ],
   "source": [
    "# after change call simple_ac again\n",
    "P1.simple_ac('x') "
   ]
  },
  {
   "cell_type": "code",
   "execution_count": null,
   "id": "e4756d9c-89b9-47f8-a2e1-f6b7b94fe9ce",
   "metadata": {},
   "outputs": [],
   "source": []
  },
  {
   "cell_type": "code",
   "execution_count": null,
   "id": "5ddeb895-b5f4-47ab-92ba-3d0c7ede0151",
   "metadata": {},
   "outputs": [],
   "source": []
  },
  {
   "cell_type": "code",
   "execution_count": null,
   "id": "178b9b51-4658-49ae-b00d-8539903a4bbd",
   "metadata": {},
   "outputs": [],
   "source": []
  },
  {
   "cell_type": "code",
   "execution_count": null,
   "id": "5f1c89bf-5ac3-4289-9ae5-5ec303cab17b",
   "metadata": {},
   "outputs": [],
   "source": []
  }
 ],
 "metadata": {
  "kernelspec": {
   "display_name": "Python 3",
   "language": "python",
   "name": "python3"
  },
  "language_info": {
   "codemirror_mode": {
    "name": "ipython",
    "version": 3
   },
   "file_extension": ".py",
   "mimetype": "text/x-python",
   "name": "python",
   "nbconvert_exporter": "python",
   "pygments_lexer": "ipython3",
   "version": "3.6.6"
  }
 },
 "nbformat": 4,
 "nbformat_minor": 5
}
