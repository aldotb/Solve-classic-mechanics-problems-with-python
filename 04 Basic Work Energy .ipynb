{
 "cells": [
  {
   "cell_type": "markdown",
   "id": "rapid-leadership",
   "metadata": {
    "tags": []
   },
   "source": [
    "# Basic Sample problems Energy and Work"
   ]
  },
  {
   "cell_type": "markdown",
   "id": "5e8f7a46-0acc-4046-baf5-faa8d0ce4bb7",
   "metadata": {},
   "source": [
    " <img src=\"images/e000.png\" alt=\"ml\" style=\"width : 100%;\"/>"
   ]
  },
  {
   "cell_type": "markdown",
   "id": "ddcebe35-3de4-487d-87c6-72419b31f459",
   "metadata": {},
   "source": [
    " <img src=\"images/line.png\" alt=\"ml\" style=\"width : 100%;\"/>"
   ]
  },
  {
   "cell_type": "markdown",
   "id": "interpreted-scheduling",
   "metadata": {},
   "source": [
    " * Remember that P= mparticle()  ... then \n",
    " * Some function used in Energy\n",
    "     * P.energia() = Sumatory Energy in A an B\n",
    "          * P.energia(ktype='1') =  Energy in A\n",
    "          * P.energia(ktype='2') =  Energy in B\n",
    "          * P.energia(ktype='P1') =  Energy Potential in A\n",
    "          * P.energia(ktype='E1') =  Energy kcinetic in A\n",
    "          * etc.\n",
    "     * P.simple_ac() = (Sum Force in X)/ mass\n",
    "     * P.simple_ac(ktype='y') =  (Sum Force in Y)/ mass   "
   ]
  },
  {
   "cell_type": "markdown",
   "id": "6aaca0ae-dbd9-47e7-8645-73913a0f19c7",
   "metadata": {},
   "source": [
    " <img src=\"images/line.png\" alt=\"ml\" style=\"width : 100%;\"/>"
   ]
  },
  {
   "cell_type": "code",
   "execution_count": 1,
   "id": "0f5da71f-33f8-4cc0-bfa9-2345c6c66089",
   "metadata": {
    "tags": []
   },
   "outputs": [],
   "source": [
    "from sympy import *\n",
    "from polyclass import *\n",
    "from libaldo_math import *\n",
    "from libaldo_show import *\n",
    "from physic_lib import *\n",
    "from IPython.display import display, Math\n",
    "init_printing()"
   ]
  },
  {
   "cell_type": "markdown",
   "id": "great-insertion",
   "metadata": {},
   "source": [
    "<img src=\"images/e010.png\" alt=\"ml\" style=\"width : 100%;\"/>"
   ]
  },
  {
   "cell_type": "code",
   "execution_count": 2,
   "id": "velvet-questionnaire",
   "metadata": {},
   "outputs": [],
   "source": [
    "# Declaring P object with data get by problem \n",
    "P=mparticle(m=0.2,g=10,x1=0,x2=20,y1=0,y2=20)  # remmeber put x,y position if you have"
   ]
  },
  {
   "cell_type": "code",
   "execution_count": 3,
   "id": "ethical-empire",
   "metadata": {},
   "outputs": [
    {
     "data": {
      "image/png": "[encoded data removed]",
      "text/latex": [
       "$\\displaystyle 40.0$"
      ],
      "text/plain": [
       "40.0"
      ]
     },
     "execution_count": 3,
     "metadata": {},
     "output_type": "execute_result"
    }
   ],
   "source": [
    "# Total Energy in A = Total Energy in B\n",
    "P.energia(ktype='p2') # ktype ='1' Energy total in A, 2=B, P1 pot in A pP2 is pot in B  . E1 is Enr Kcin in A. etc."
   ]
  },
  {
   "cell_type": "code",
   "execution_count": 4,
   "id": "contrary-professional",
   "metadata": {},
   "outputs": [
    {
     "data": {
      "text/latex": [
       "$\\displaystyle Energy  \\ in \\ A \\ is =70$"
      ],
      "text/plain": [
       "<IPython.core.display.Math object>"
      ]
     },
     "metadata": {},
     "output_type": "display_data"
    }
   ],
   "source": [
    "show_res(30+40,'Energy  \\ in \\ A \\ is')"
   ]
  },
  {
   "cell_type": "markdown",
   "id": "2f455dc5-1b56-478a-bd84-579e9bbeea37",
   "metadata": {},
   "source": [
    " <img src=\"images/line.png\" alt=\"ml\" style=\"width : 100%;\"/>"
   ]
  },
  {
   "cell_type": "markdown",
   "id": "5a5e68cb-4ccd-4e7c-9c6e-5120d828ead8",
   "metadata": {},
   "source": [
    "<img src=\"images/e020.png\" alt=\"ml\" style=\"width : 100%;\"/>"
   ]
  },
  {
   "cell_type": "code",
   "execution_count": 5,
   "id": "raised-congo",
   "metadata": {},
   "outputs": [],
   "source": [
    "N1,fr,T=symbols('N1 fr T')\n",
    "P=mparticle(m=4,g=10,x1=0,x2=1,ac=2,y1=0,y2=0)"
   ]
  },
  {
   "cell_type": "code",
   "execution_count": 6,
   "id": "engaging-target",
   "metadata": {},
   "outputs": [],
   "source": [
    "P.add_forza(40,-pi/2)\n",
    "P.store_val(N1,40)\n",
    "P.add_forza(N1,pi/2)\n",
    "P.store_val(fr,N1*0.2)\n",
    "P.add_forza(fr,-pi)\n",
    "P.add_forza(T,0)"
   ]
  },
  {
   "cell_type": "code",
   "execution_count": 7,
   "id": "f4c76826-cac8-4244-ac06-a6023b6baee4",
   "metadata": {},
   "outputs": [
    {
     "data": {
      "image/png": "[encoded data removed]",
      "text/latex": [
       "$\\displaystyle T - 8.0$"
      ],
      "text/plain": [
       "T - 8.0"
      ]
     },
     "execution_count": 7,
     "metadata": {},
     "output_type": "execute_result"
    }
   ],
   "source": [
    "P.work_x()"
   ]
  },
  {
   "cell_type": "code",
   "execution_count": 8,
   "id": "b721eeb3-6a25-4dbc-b043-25c4c2e3b196",
   "metadata": {},
   "outputs": [
    {
     "data": {
      "image/png": "[encoded data removed]",
      "text/latex": [
       "$\\displaystyle 16.0$"
      ],
      "text/plain": [
       "16.0000000000000"
      ]
     },
     "execution_count": 8,
     "metadata": {},
     "output_type": "execute_result"
    }
   ],
   "source": [
    "csolve(P.simple_ac('x')-2,T)"
   ]
  },
  {
   "cell_type": "code",
   "execution_count": 9,
   "id": "669e4a73-4935-4148-a3ff-da27d411a38a",
   "metadata": {},
   "outputs": [],
   "source": [
    "P.store_val(T,16)"
   ]
  },
  {
   "cell_type": "code",
   "execution_count": 10,
   "id": "2e01c30a-9776-4adb-a765-6e4218022890",
   "metadata": {},
   "outputs": [
    {
     "data": {
      "image/png": "[encoded data removed]",
      "text/latex": [
       "$\\displaystyle 8.0$"
      ],
      "text/plain": [
       "8.00000000000000"
      ]
     },
     "execution_count": 10,
     "metadata": {},
     "output_type": "execute_result"
    }
   ],
   "source": [
    "P.work_x()"
   ]
  },
  {
   "cell_type": "markdown",
   "id": "bf26d7e6-9fca-43f4-8708-3463536cae0c",
   "metadata": {},
   "source": [
    " <img src=\"images/line.png\" alt=\"ml\" style=\"width : 100%;\"/>"
   ]
  },
  {
   "cell_type": "markdown",
   "id": "c68170fc-5421-4a0a-875d-29247f1da809",
   "metadata": {},
   "source": [
    "<img src=\"images/e040.png\" alt=\"ml\" style=\"width : 100%;\"/>"
   ]
  },
  {
   "cell_type": "code",
   "execution_count": 11,
   "id": "lesbian-paris",
   "metadata": {},
   "outputs": [],
   "source": [
    "P=mparticle(y1=32,y2=1,v1=40,x1=0,g=10)"
   ]
  },
  {
   "cell_type": "code",
   "execution_count": 12,
   "id": "spatial-advocate",
   "metadata": {},
   "outputs": [
    {
     "data": {
      "image/png": "[encoded data removed]",
      "text/latex": [
       "$\\displaystyle \\frac{m v_{2}^{2}}{2} - 1110 m$"
      ],
      "text/plain": [
       "    2         \n",
       "m⋅v₂          \n",
       "───── - 1110⋅m\n",
       "  2           "
      ]
     },
     "execution_count": 12,
     "metadata": {},
     "output_type": "execute_result"
    }
   ],
   "source": [
    "P.energia()"
   ]
  },
  {
   "cell_type": "code",
   "execution_count": 13,
   "id": "rising-visiting",
   "metadata": {},
   "outputs": [
    {
     "data": {
      "text/latex": [
       "$\\displaystyle v =\\left[ - 2 \\sqrt{555}, \\  2 \\sqrt{555}\\right]$"
      ],
      "text/plain": [
       "<IPython.core.display.Math object>"
      ]
     },
     "metadata": {},
     "output_type": "display_data"
    }
   ],
   "source": [
    "# answer default\n",
    "v=csolve(P.energia(),v2,'v') # total sol"
   ]
  },
  {
   "cell_type": "code",
   "execution_count": 14,
   "id": "3813be00-c190-4ab1-a1ef-d5e73e034afc",
   "metadata": {},
   "outputs": [
    {
     "data": {
      "text/latex": [
       "$\\displaystyle v =2 \\sqrt{555}$"
      ],
      "text/plain": [
       "<IPython.core.display.Math object>"
      ]
     },
     "metadata": {},
     "output_type": "display_data"
    }
   ],
   "source": [
    "# the same answer but  ... \n",
    "v=csolve(P.energia(),v2,'v',kpositive=True) # only possitive"
   ]
  },
  {
   "cell_type": "code",
   "execution_count": 15,
   "id": "1294ae31-9c29-46e7-ac79-c3d6ae6dc98d",
   "metadata": {},
   "outputs": [
    {
     "data": {
      "text/latex": [
       "$\\displaystyle v =47.116875957559$"
      ],
      "text/plain": [
       "<IPython.core.display.Math object>"
      ]
     },
     "metadata": {},
     "output_type": "display_data"
    }
   ],
   "source": [
    "# the same answer but usefull type \n",
    "v=csolve(P.energia(),v2,'v',kpositive=True,kope='v')#   possitive and float"
   ]
  },
  {
   "cell_type": "markdown",
   "id": "afc81e0a-ec25-43ca-a0c5-a85a56b7d7e1",
   "metadata": {},
   "source": [
    " <img src=\"images/line.png\" alt=\"ml\" style=\"width : 100%;\"/>"
   ]
  },
  {
   "cell_type": "markdown",
   "id": "8686ed5d-d413-42ca-ac44-cc50a7b4fb64",
   "metadata": {},
   "source": [
    "<img src=\"images/e050.png\" alt=\"ml\" style=\"width : 100%;\"/>"
   ]
  },
  {
   "cell_type": "code",
   "execution_count": 16,
   "id": "turkish-strip",
   "metadata": {},
   "outputs": [],
   "source": [
    "# Creating object to use from A to B\n",
    "R=symbols('R')\n",
    "P=mparticle(x1=0,x2=R,y1=R,y2=0,v1=0)"
   ]
  },
  {
   "cell_type": "code",
   "execution_count": 17,
   "id": "potential-substitute",
   "metadata": {},
   "outputs": [
    {
     "data": {
      "text/latex": [
       "$\\displaystyle V_2 =2 R g$"
      ],
      "text/plain": [
       "<IPython.core.display.Math object>"
      ]
     },
     "metadata": {},
     "output_type": "display_data"
    }
   ],
   "source": [
    "V2=csolve(P.energia(),powsimp(v2**2),'V_2') # is more easy fin squarw(V2) because used "
   ]
  },
  {
   "cell_type": "code",
   "execution_count": 18,
   "id": "affecting-debate",
   "metadata": {},
   "outputs": [],
   "source": [
    "# Creating object to use from B to C\n",
    "h=symbols('h')\n",
    "P2=mparticle(x1=0,y1=h,y2=0,v=sqrt(2*R*g),a=0,ac=0) # using parabolic setup"
   ]
  },
  {
   "cell_type": "code",
   "execution_count": 19,
   "id": "scheduled-chick",
   "metadata": {},
   "outputs": [
    {
     "data": {
      "image/png": "[encoded data removed]",
      "text/latex": [
       "$\\displaystyle - \\frac{g t^{2}}{2} + h$"
      ],
      "text/plain": [
       "     2    \n",
       "  g⋅t     \n",
       "- ──── + h\n",
       "   2      "
      ]
     },
     "execution_count": 19,
     "metadata": {},
     "output_type": "execute_result"
    }
   ],
   "source": [
    "P2.y_pos()"
   ]
  },
  {
   "cell_type": "code",
   "execution_count": 20,
   "id": "wicked-representative",
   "metadata": {},
   "outputs": [
    {
     "data": {
      "image/png": "[encoded data removed]",
      "text/latex": [
       "$\\displaystyle \\frac{2 h}{g}$"
      ],
      "text/plain": [
       "2⋅h\n",
       "───\n",
       " g "
      ]
     },
     "execution_count": 20,
     "metadata": {},
     "output_type": "execute_result"
    }
   ],
   "source": [
    "csolve(P2.y_pos(),t**2) # Find t^2 when y2=0"
   ]
  },
  {
   "cell_type": "code",
   "execution_count": 21,
   "id": "polar-winning",
   "metadata": {},
   "outputs": [
    {
     "data": {
      "image/png": "[encoded data removed]",
      "text/latex": [
       "$\\displaystyle 2 \\sqrt{R h}$"
      ],
      "text/plain": [
       "    _____\n",
       "2⋅╲╱ R⋅h "
      ]
     },
     "execution_count": 21,
     "metadata": {},
     "output_type": "execute_result"
    }
   ],
   "source": [
    "P2.x_pos(t=sqrt(2*h/g),kope='2') # Find x when t=upper answer and kill sqrt whit kope='2'"
   ]
  },
  {
   "cell_type": "code",
   "execution_count": 22,
   "id": "bottom-alloy",
   "metadata": {
    "tags": []
   },
   "outputs": [
    {
     "data": {
      "text/plain": [
       "\u001b[1;31mSignature:\u001b[0m \u001b[0mopemat\u001b[0m\u001b[1;33m(\u001b[0m\u001b[0mksym\u001b[0m\u001b[1;33m,\u001b[0m \u001b[0mkope\u001b[0m\u001b[1;33m=\u001b[0m\u001b[1;34m''\u001b[0m\u001b[1;33m)\u001b[0m\u001b[1;33m\u001b[0m\u001b[0m\n",
       "\u001b[1;31mDocstring:\u001b[0m\n",
       "opemat(Equation,kope=opt)\n",
       "opt \n",
       "    'f'= factor(Equation),    \n",
       "    't'= trigsimp(Equation)\n",
       "    'x'= simplify(Equation)\n",
       "    'v'= Equation.evalf()\n",
       "    'a'= apart(Equation)\n",
       "    'c'= cancel(Equation)\n",
       "    'E'= Equation.expand(force=True)\n",
       "    '2' = kill sqrt( x^2 )\n",
       "\u001b[1;31mFile:\u001b[0m      d:\\onedrive\\solvelib\\fin_physic\\libaldo_math.py\n",
       "\u001b[1;31mType:\u001b[0m      function\n"
      ]
     },
     "metadata": {},
     "output_type": "display_data"
    }
   ],
   "source": [
    "# kope options..?? see below\n",
    "opemat?"
   ]
  },
  {
   "cell_type": "markdown",
   "id": "514b934e-58d9-4749-b79a-85b555aaad05",
   "metadata": {},
   "source": [
    " <img src=\"images/line.png\" alt=\"ml\" style=\"width : 100%;\"/>"
   ]
  },
  {
   "cell_type": "markdown",
   "id": "7a196c22-20ae-4434-a969-739bc3c61ef0",
   "metadata": {},
   "source": [
    "<img src=\"images/e055.png\" alt=\"ml\" style=\"width : 100%;\"/>"
   ]
  },
  {
   "cell_type": "code",
   "execution_count": 23,
   "id": "improving-pasta",
   "metadata": {},
   "outputs": [],
   "source": [
    "m,h,L,beta,V=symbols('m h L beta V',positive=True)\n",
    "A=mparticle(m=2*m,y1=h,y2=h+L*sin(beta),v1=0,v2=V,a=beta)\n",
    "B=mparticle(m=m,y1=h,y2=h-3*L*sin(A.a),v1=0,v2=3*V)"
   ]
  },
  {
   "cell_type": "code",
   "execution_count": 24,
   "id": "religious-diagnosis",
   "metadata": {},
   "outputs": [
    {
     "data": {
      "image/png": "[encoded data removed]",
      "text/latex": [
       "$\\displaystyle 2 g h m$"
      ],
      "text/plain": [
       "2⋅g⋅h⋅m"
      ]
     },
     "execution_count": 24,
     "metadata": {},
     "output_type": "execute_result"
    }
   ],
   "source": [
    "A.energia(ktype='1') # Energia Initial in A"
   ]
  },
  {
   "cell_type": "code",
   "execution_count": 25,
   "id": "proof-fairy",
   "metadata": {},
   "outputs": [
    {
     "data": {
      "image/png": "[encoded data removed]",
      "text/latex": [
       "$\\displaystyle g h m$"
      ],
      "text/plain": [
       "g⋅h⋅m"
      ]
     },
     "execution_count": 25,
     "metadata": {},
     "output_type": "execute_result"
    }
   ],
   "source": [
    "B.energia(ktype='1') # Energia Initial in B"
   ]
  },
  {
   "cell_type": "code",
   "execution_count": 26,
   "id": "nasty-iceland",
   "metadata": {},
   "outputs": [
    {
     "data": {
      "image/png": "[encoded data removed]",
      "text/latex": [
       "$\\displaystyle 3 g h m$"
      ],
      "text/plain": [
       "3⋅g⋅h⋅m"
      ]
     },
     "execution_count": 26,
     "metadata": {},
     "output_type": "execute_result"
    }
   ],
   "source": [
    "Eq1=A.energia(ktype='1')+B.energia(ktype='1');Eq1"
   ]
  },
  {
   "cell_type": "code",
   "execution_count": 27,
   "id": "modern-skirt",
   "metadata": {},
   "outputs": [
    {
     "data": {
      "image/png": "[encoded data removed]",
      "text/latex": [
       "$\\displaystyle V^{2} m + 2 g m \\left(L \\sin{\\left(\\beta \\right)} + h\\right)$"
      ],
      "text/plain": [
       " 2                         \n",
       "V ⋅m + 2⋅g⋅m⋅(L⋅sin(β) + h)"
      ]
     },
     "execution_count": 27,
     "metadata": {},
     "output_type": "execute_result"
    }
   ],
   "source": [
    "A.energia(ktype='2') # Energia final in A"
   ]
  },
  {
   "cell_type": "code",
   "execution_count": 28,
   "id": "governmental-mumbai",
   "metadata": {},
   "outputs": [
    {
     "data": {
      "image/png": "[encoded data removed]",
      "text/latex": [
       "$\\displaystyle \\frac{9 V^{2} m}{2} + g m \\left(- 3 L \\sin{\\left(\\beta \\right)} + h\\right)$"
      ],
      "text/plain": [
       "   2                          \n",
       "9⋅V ⋅m                        \n",
       "────── + g⋅m⋅(-3⋅L⋅sin(β) + h)\n",
       "  2                           "
      ]
     },
     "execution_count": 28,
     "metadata": {},
     "output_type": "execute_result"
    }
   ],
   "source": [
    "B.energia(ktype='2') # Energia final in B"
   ]
  },
  {
   "cell_type": "code",
   "execution_count": 29,
   "id": "anonymous-calvin",
   "metadata": {},
   "outputs": [
    {
     "data": {
      "image/png": "[encoded data removed]",
      "text/latex": [
       "$\\displaystyle \\frac{11 V^{2} m}{2} + g m \\left(- 3 L \\sin{\\left(\\beta \\right)} + h\\right) + 2 g m \\left(L \\sin{\\left(\\beta \\right)} + h\\right)$"
      ],
      "text/plain": [
       "    2                                                 \n",
       "11⋅V ⋅m                                               \n",
       "─────── + g⋅m⋅(-3⋅L⋅sin(β) + h) + 2⋅g⋅m⋅(L⋅sin(β) + h)\n",
       "   2                                                  "
      ]
     },
     "execution_count": 29,
     "metadata": {},
     "output_type": "execute_result"
    }
   ],
   "source": [
    "Eq2=A.energia(ktype='2')+B.energia(ktype='2');Eq2"
   ]
  },
  {
   "cell_type": "code",
   "execution_count": 30,
   "id": "through-stewart",
   "metadata": {},
   "outputs": [
    {
     "data": {
      "image/png": "[encoded data removed]",
      "text/latex": [
       "$\\displaystyle L g \\sin{\\left(\\beta \\right)} - \\frac{11 V^{2}}{2}$"
      ],
      "text/plain": [
       "                 2\n",
       "             11⋅V \n",
       "L⋅g⋅sin(β) - ─────\n",
       "               2  "
      ]
     },
     "execution_count": 30,
     "metadata": {},
     "output_type": "execute_result"
    }
   ],
   "source": [
    "Eq3=opemat((Eq1-Eq2)/m,'s') ;Eq3 # adding two Eq and simplify store in Eq3"
   ]
  },
  {
   "cell_type": "code",
   "execution_count": 31,
   "id": "complex-taiwan",
   "metadata": {
    "tags": []
   },
   "outputs": [
    {
     "data": {
      "image/png": "[encoded data removed]",
      "text/latex": [
       "$\\displaystyle \\left[ \\frac{\\pi}{2}, \\  \\frac{3 \\pi}{2}\\right]$"
      ],
      "text/plain": [
       "⎡π  3⋅π⎤\n",
       "⎢─, ───⎥\n",
       "⎣2   2 ⎦"
      ]
     },
     "execution_count": 31,
     "metadata": {},
     "output_type": "execute_result"
    }
   ],
   "source": [
    "csolve(diff(Eq3,beta),beta) # find beta when diff Eq3=0"
   ]
  },
  {
   "cell_type": "code",
   "execution_count": 32,
   "id": "64107a97-3669-4369-b468-e142ea651513",
   "metadata": {},
   "outputs": [
    {
     "data": {
      "image/png": "[encoded data removed]",
      "text/latex": [
       "$\\displaystyle \\left( \\left[ \\beta\\right], \\  \\left[ \\frac{\\pi}{2}\\right]\\right)$"
      ],
      "text/plain": [
       "⎛     ⎡π⎤⎞\n",
       "⎜[β], ⎢─⎥⎟\n",
       "⎝     ⎣2⎦⎠"
      ]
     },
     "execution_count": 32,
     "metadata": {},
     "output_type": "execute_result"
    }
   ],
   "source": [
    "# we will pick only first answer and store in both physic object\n",
    "A.store_val(beta,pi/2)\n",
    "A.kvalue"
   ]
  },
  {
   "cell_type": "code",
   "execution_count": 33,
   "id": "80ca35ef-a300-4c4c-91fb-01bb8ba3f2e4",
   "metadata": {},
   "outputs": [
    {
     "data": {
      "image/png": "[encoded data removed]",
      "text/latex": [
       "$\\displaystyle \\left( \\left[ \\beta\\right], \\  \\left[ \\frac{\\pi}{2}\\right]\\right)$"
      ],
      "text/plain": [
       "⎛     ⎡π⎤⎞\n",
       "⎜[β], ⎢─⎥⎟\n",
       "⎝     ⎣2⎦⎠"
      ]
     },
     "execution_count": 33,
     "metadata": {},
     "output_type": "execute_result"
    }
   ],
   "source": [
    "B.store_val(A.a,pi/2)\n",
    "B.kvalue"
   ]
  },
  {
   "cell_type": "code",
   "execution_count": 34,
   "id": "threaded-noise",
   "metadata": {},
   "outputs": [
    {
     "data": {
      "image/png": "[encoded data removed]",
      "text/latex": [
       "$\\displaystyle - \\frac{11 V^{2} m}{2} + 3 g h m - g m \\left(- 3 L \\sin{\\left(\\beta \\right)} + h\\right) - 2 g m \\left(L \\sin{\\left(\\beta \\right)} + h\\right)$"
      ],
      "text/plain": [
       "      2                                                           \n",
       "  11⋅V ⋅m                                                         \n",
       "- ─────── + 3⋅g⋅h⋅m - g⋅m⋅(-3⋅L⋅sin(β) + h) - 2⋅g⋅m⋅(L⋅sin(β) + h)\n",
       "     2                                                            "
      ]
     },
     "execution_count": 34,
     "metadata": {},
     "output_type": "execute_result"
    }
   ],
   "source": [
    "# finding  total energy in the system but knowing beta\n",
    "Eq4=A.energia(ktype='1')+B.energia(ktype='1')-(A.energia(ktype='2')+B.energia(ktype='2'));Eq4"
   ]
  },
  {
   "cell_type": "code",
   "execution_count": 35,
   "id": "initial-employee",
   "metadata": {},
   "outputs": [
    {
     "data": {
      "image/png": "[encoded data removed]",
      "text/latex": [
       "$\\displaystyle \\frac{m \\left(2 L g \\sin{\\left(\\beta \\right)} - 11 V^{2}\\right)}{2}$"
      ],
      "text/plain": [
       "  ⎛                   2⎞\n",
       "m⋅⎝2⋅L⋅g⋅sin(β) - 11⋅V ⎠\n",
       "────────────────────────\n",
       "           2            "
      ]
     },
     "execution_count": 35,
     "metadata": {},
     "output_type": "execute_result"
    }
   ],
   "source": [
    "Eq4=opemat(Eq4,'s')\n",
    "Eq4"
   ]
  },
  {
   "cell_type": "code",
   "execution_count": 36,
   "id": "sudden-convention",
   "metadata": {},
   "outputs": [
    {
     "data": {
      "image/png": "[encoded data removed]",
      "text/latex": [
       "$\\displaystyle \\frac{\\sqrt{22} \\sqrt{L} \\sqrt{g \\sin{\\left(\\beta \\right)}}}{11}$"
      ],
      "text/plain": [
       "         __________\n",
       "√22⋅√L⋅╲╱ g⋅sin(β) \n",
       "───────────────────\n",
       "         11        "
      ]
     },
     "execution_count": 36,
     "metadata": {},
     "output_type": "execute_result"
    }
   ],
   "source": [
    "csolve(Eq4,V,korden=1)  # Velocity whe angle is pi/2"
   ]
  },
  {
   "cell_type": "markdown",
   "id": "proved-sunglasses",
   "metadata": {},
   "source": [
    " <img src=\"images/line.png\" alt=\"ml\" style=\"width : 100%;\"/>"
   ]
  }
 ],
 "metadata": {
  "kernelspec": {
   "display_name": "Python 3",
   "language": "python",
   "name": "python3"
  },
  "language_info": {
   "codemirror_mode": {
    "name": "ipython",
    "version": 3
   },
   "file_extension": ".py",
   "mimetype": "text/x-python",
   "name": "python",
   "nbconvert_exporter": "python",
   "pygments_lexer": "ipython3",
   "version": "3.6.6"
  }
 },
 "nbformat": 4,
 "nbformat_minor": 5
}
