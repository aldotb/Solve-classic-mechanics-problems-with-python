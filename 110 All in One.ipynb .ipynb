{
 "cells": [
  {
   "cell_type": "markdown",
   "id": "dfc7a735-5032-4c13-8217-12da5919cc36",
   "metadata": {},
   "source": [
    " <img src=\"images/M1_000.png\" alt=\"ml\" style=\"width : 100%;\"/>"
   ]
  },
  {
   "cell_type": "markdown",
   "id": "6aaca0ae-dbd9-47e7-8645-73913a0f19c7",
   "metadata": {},
   "source": [
    " <img src=\"images/line.png\" alt=\"ml\" style=\"width : 100%;\"/>"
   ]
  },
  {
   "cell_type": "code",
   "execution_count": 1,
   "id": "0f5da71f-33f8-4cc0-bfa9-2345c6c66089",
   "metadata": {
    "tags": []
   },
   "outputs": [],
   "source": [
    "from sympy import *\n",
    "from polyclass import *\n",
    "from libaldo_math import *\n",
    "from libaldo_show import *\n",
    "from physic_lib import *\n",
    "from IPython.display import display, Math\n",
    "init_printing()\n",
    "from IPython.display import Video"
   ]
  },
  {
   "cell_type": "markdown",
   "id": "641d79dd-8f76-4516-b48e-4cbf2fed2a9c",
   "metadata": {},
   "source": [
    " <img src=\"images/line.png\" alt=\"ml\" style=\"width : 100%;\"/>"
   ]
  },
  {
   "cell_type": "markdown",
   "id": "d1a25c70-b262-4ff5-a8c5-a07d564f3e8a",
   "metadata": {},
   "source": [
    " <img src=\"images/M1_110.png\" alt=\"ml\" style=\"width : 100%;\"/>"
   ]
  },
  {
   "cell_type": "code",
   "execution_count": 2,
   "id": "15cf4e50-677b-4e37-88c6-66043de71bae",
   "metadata": {},
   "outputs": [],
   "source": [
    "m,g,alpha,N1,fr,Vi,Vf,Vx,mu_x,T,L=symbols('m g alpha N1 fr Vi Vf Vx mu_x T L',positive=True,real=True)"
   ]
  },
  {
   "cell_type": "code",
   "execution_count": 3,
   "id": "f8d54e81-bd9f-4857-b1ac-886ec0b50780",
   "metadata": {},
   "outputs": [],
   "source": [
    "# creating object and addin simple vec\n",
    "P=mparticle(m=m,g=g,v1=0,x1=0,y1=L*sin(alpha),x2=L*cos(alpha),y2=0,v2=Vf)\n",
    "\n",
    "P.add_forza(m*g,-pi/2+alpha)\n",
    "P.add_forza(N1,pi/2)\n",
    "P.add_forza(fr,pi)"
   ]
  },
  {
   "cell_type": "code",
   "execution_count": 4,
   "id": "8c8899ad-2b45-47b1-a95b-f2c316f33e20",
   "metadata": {},
   "outputs": [],
   "source": [
    "#setting values\n",
    "P.setValue(N1,csolve(P.y_res(),N1))\n",
    "P.setValue(mu_x,x/L)\n",
    "P.setValue(fr,N1*mu_x)"
   ]
  },
  {
   "cell_type": "code",
   "execution_count": 11,
   "id": "390bfe81-b91c-427c-be9d-0162aecc9120",
   "metadata": {},
   "outputs": [
    {
     "data": {
      "image/png": "[encoded data removed]",
      "text/latex": [
       "$\\displaystyle g m \\sin{\\left(\\alpha \\right)} - \\frac{g m x \\cos{\\left(\\alpha \\right)}}{L}$"
      ],
      "text/plain": [
       "             g⋅m⋅x⋅cos(α)\n",
       "g⋅m⋅sin(α) - ────────────\n",
       "                  L      "
      ]
     },
     "execution_count": 11,
     "metadata": {},
     "output_type": "execute_result"
    }
   ],
   "source": [
    "P.x_res()"
   ]
  },
  {
   "cell_type": "code",
   "execution_count": 5,
   "id": "8818b093-29b4-4bae-98df-66bec3ce02f5",
   "metadata": {},
   "outputs": [
    {
     "data": {
      "image/png": "[encoded data removed]",
      "text/latex": [
       "$\\displaystyle L \\left(g m \\sin{\\left(\\alpha \\right)} - \\frac{g m x \\cos{\\left(\\alpha \\right)}}{L}\\right)$"
      ],
      "text/plain": [
       "  ⎛             g⋅m⋅x⋅cos(α)⎞\n",
       "L⋅⎜g⋅m⋅sin(α) - ────────────⎟\n",
       "  ⎝                  L      ⎠"
      ]
     },
     "execution_count": 5,
     "metadata": {},
     "output_type": "execute_result"
    }
   ],
   "source": [
    "Wp=L*P.x_res();Wp"
   ]
  },
  {
   "cell_type": "code",
   "execution_count": 6,
   "id": "fc3d1dfc-faf5-4e3e-aba5-0aff7158ae8d",
   "metadata": {},
   "outputs": [
    {
     "data": {
      "image/png": "[encoded data removed]",
      "text/latex": [
       "$\\displaystyle - \\frac{L^{3} g m \\cos{\\left(\\alpha \\right)}}{2 L} + L^{2} g m \\sin{\\left(\\alpha \\right)}$"
      ],
      "text/plain": [
       "   3                           \n",
       "  L ⋅g⋅m⋅cos(α)    2           \n",
       "- ───────────── + L ⋅g⋅m⋅sin(α)\n",
       "       2⋅L                     "
      ]
     },
     "execution_count": 6,
     "metadata": {},
     "output_type": "execute_result"
    }
   ],
   "source": [
    "Wpdx=integrate(Wp,(x,0,L));Wpdx"
   ]
  },
  {
   "cell_type": "code",
   "execution_count": 7,
   "id": "898a2a58-b211-4e94-9dcf-76ec2187534b",
   "metadata": {},
   "outputs": [
    {
     "data": {
      "image/png": "[encoded data removed]",
      "text/latex": [
       "$\\displaystyle - L g m \\sin{\\left(\\alpha \\right)} + \\frac{Vf^{2} m}{2}$"
      ],
      "text/plain": [
       "                  2  \n",
       "                Vf ⋅m\n",
       "-L⋅g⋅m⋅sin(α) + ─────\n",
       "                  2  "
      ]
     },
     "execution_count": 7,
     "metadata": {},
     "output_type": "execute_result"
    }
   ],
   "source": [
    "Et=P.energia();Et"
   ]
  },
  {
   "cell_type": "code",
   "execution_count": 9,
   "id": "17d6cb7a-b940-4294-ac04-e948ba9564eb",
   "metadata": {},
   "outputs": [
    {
     "data": {
      "image/png": "[encoded data removed]",
      "text/latex": [
       "$\\displaystyle \\frac{2 L}{t}$"
      ],
      "text/plain": [
       "2⋅L\n",
       "───\n",
       " t "
      ]
     },
     "execution_count": 9,
     "metadata": {},
     "output_type": "execute_result"
    }
   ],
   "source": [
    "# Basic kinematic formule\n",
    "csolve(L-Vf*t/2,Vf)"
   ]
  },
  {
   "cell_type": "code",
   "execution_count": 10,
   "id": "a379e00c-1a3a-4c9d-86a4-2d8a0c25b5e3",
   "metadata": {},
   "outputs": [
    {
     "data": {
      "image/png": "[encoded data removed]",
      "text/latex": [
       "$\\displaystyle \\frac{2 L^{2} m}{T^{2}} - L g m \\sin{\\left(\\alpha \\right)}$"
      ],
      "text/plain": [
       "   2                 \n",
       "2⋅L ⋅m               \n",
       "────── - L⋅g⋅m⋅sin(α)\n",
       "   2                 \n",
       "  T                  "
      ]
     },
     "execution_count": 10,
     "metadata": {},
     "output_type": "execute_result"
    }
   ],
   "source": [
    "Et2=Et.subs(Vf,2*L/T);Et2"
   ]
  },
  {
   "cell_type": "code",
   "execution_count": 11,
   "id": "005b2357-4214-4e9e-97e1-4ed01547f7a3",
   "metadata": {},
   "outputs": [
    {
     "data": {
      "image/png": "[encoded data removed]",
      "text/latex": [
       "$\\displaystyle - \\frac{L^{3} g m \\cos{\\left(\\alpha \\right)}}{2 L} + L^{2} g m \\sin{\\left(\\alpha \\right)} - \\frac{2 L^{2} m}{T^{2}} + L g m \\sin{\\left(\\alpha \\right)}$"
      ],
      "text/plain": [
       "   3                                 2                 \n",
       "  L ⋅g⋅m⋅cos(α)    2              2⋅L ⋅m               \n",
       "- ───────────── + L ⋅g⋅m⋅sin(α) - ────── + L⋅g⋅m⋅sin(α)\n",
       "       2⋅L                           2                 \n",
       "                                    T                  "
      ]
     },
     "execution_count": 11,
     "metadata": {},
     "output_type": "execute_result"
    }
   ],
   "source": [
    "Et3=Wpdx-Et2;Et3"
   ]
  },
  {
   "cell_type": "code",
   "execution_count": 13,
   "id": "ff411681-1a3b-47b4-9e15-14094b950b05",
   "metadata": {},
   "outputs": [
    {
     "data": {
      "image/png": "[encoded data removed]",
      "text/latex": [
       "$\\displaystyle \\frac{4 L}{g \\left(2 L \\sin{\\left(\\alpha \\right)} - L \\cos{\\left(\\alpha \\right)} + 2 \\sin{\\left(\\alpha \\right)}\\right)}$"
      ],
      "text/plain": [
       "                4⋅L                 \n",
       "────────────────────────────────────\n",
       "g⋅(2⋅L⋅sin(α) - L⋅cos(α) + 2⋅sin(α))"
      ]
     },
     "execution_count": 13,
     "metadata": {},
     "output_type": "execute_result"
    }
   ],
   "source": [
    "Ft=csolve(Et3,T*T);Ft"
   ]
  },
  {
   "cell_type": "code",
   "execution_count": 16,
   "id": "e02e547d-00fb-456c-9a10-5dc7b38fdbd5",
   "metadata": {},
   "outputs": [
    {
     "data": {
      "image/png": "[encoded data removed]",
      "text/latex": [
       "$\\displaystyle \\frac{4 L \\left(- L \\sin{\\left(\\alpha \\right)} - 2 L \\cos{\\left(\\alpha \\right)} - 2 \\cos{\\left(\\alpha \\right)}\\right)}{g \\left(2 L \\sin{\\left(\\alpha \\right)} - L \\cos{\\left(\\alpha \\right)} + 2 \\sin{\\left(\\alpha \\right)}\\right)^{2}}$"
      ],
      "text/plain": [
       "4⋅L⋅(-L⋅sin(α) - 2⋅L⋅cos(α) - 2⋅cos(α))\n",
       "───────────────────────────────────────\n",
       "                                     2 \n",
       " g⋅(2⋅L⋅sin(α) - L⋅cos(α) + 2⋅sin(α))  "
      ]
     },
     "execution_count": 16,
     "metadata": {},
     "output_type": "execute_result"
    }
   ],
   "source": [
    "Ftda=kdiff(Ft,alpha);Ftda"
   ]
  },
  {
   "cell_type": "code",
   "execution_count": 17,
   "id": "935bdbca-7532-47b8-8981-fdc831e13dcc",
   "metadata": {},
   "outputs": [
    {
     "data": {
      "image/png": "[encoded data removed]",
      "text/latex": [
       "$\\displaystyle \\left[ 4, \\  L, \\  \\frac{1}{g}, \\  \\frac{1}{\\left(2 L \\sin{\\left(\\alpha \\right)} - L \\cos{\\left(\\alpha \\right)} + 2 \\sin{\\left(\\alpha \\right)}\\right)^{2}}, \\  - L \\sin{\\left(\\alpha \\right)} - 2 L \\cos{\\left(\\alpha \\right)} - 2 \\cos{\\left(\\alpha \\right)}\\right]$"
      ],
      "text/plain": [
       "⎡      1                   1                                                  \n",
       "⎢4, L, ─, ───────────────────────────────────, -L⋅sin(α) - 2⋅L⋅cos(α) - 2⋅cos(\n",
       "⎢      g                                    2                                 \n",
       "⎣         (2⋅L⋅sin(α) - L⋅cos(α) + 2⋅sin(α))                                  \n",
       "\n",
       "  ⎤\n",
       "α)⎥\n",
       "  ⎥\n",
       "  ⎦"
      ]
     },
     "execution_count": 17,
     "metadata": {},
     "output_type": "execute_result"
    }
   ],
   "source": [
    "fpoly(Ftda,'list')"
   ]
  },
  {
   "cell_type": "code",
   "execution_count": 20,
   "id": "8a6522d5-a54a-4ee3-9df4-16c279ccfe46",
   "metadata": {},
   "outputs": [
    {
     "data": {
      "image/png": "[encoded data removed]",
      "text/latex": [
       "$\\displaystyle - L \\sin{\\left(\\alpha \\right)} - 2 L \\cos{\\left(\\alpha \\right)} - 2 \\cos{\\left(\\alpha \\right)}$"
      ],
      "text/plain": [
       "-L⋅sin(α) - 2⋅L⋅cos(α) - 2⋅cos(α)"
      ]
     },
     "execution_count": 20,
     "metadata": {},
     "output_type": "execute_result"
    }
   ],
   "source": [
    "Eq1=fpoly(Ftda,'get',4);Eq1"
   ]
  },
  {
   "cell_type": "code",
   "execution_count": 23,
   "id": "d3df702b-4382-4f8b-a563-6a994c01996a",
   "metadata": {},
   "outputs": [
    {
     "data": {
      "image/png": "[encoded data removed]",
      "text/latex": [
       "$\\displaystyle - L \\sin{\\left(\\alpha \\right)} - 2 L \\cos{\\left(\\alpha \\right)} - 2 \\cos{\\left(\\alpha \\right)}=0$"
      ],
      "text/plain": [
       "-L*sin(alpha) - 2*L*cos(alpha) - 2*cos(alpha)=0"
      ]
     },
     "execution_count": 23,
     "metadata": {},
     "output_type": "execute_result"
    }
   ],
   "source": [
    "e1=polyclass(Eq1,0);e1.s()"
   ]
  },
  {
   "cell_type": "code",
   "execution_count": 24,
   "id": "641e7290-3bb2-4ca9-9383-9a3f6bc8df41",
   "metadata": {},
   "outputs": [
    {
     "data": {
      "image/png": "[encoded data removed]",
      "text/latex": [
       "$\\displaystyle - L \\tan{\\left(\\alpha \\right)} - 2 L - 2=0$"
      ],
      "text/plain": [
       "-L*tan(alpha) - 2*L - 2=0"
      ]
     },
     "execution_count": 24,
     "metadata": {},
     "output_type": "execute_result"
    }
   ],
   "source": [
    "e1.psimplify('D',cos(alpha),'sf')"
   ]
  },
  {
   "cell_type": "code",
   "execution_count": 25,
   "id": "8aadc5c7-e428-4f4c-acf2-4cabc401f928",
   "metadata": {},
   "outputs": [
    {
     "data": {
      "image/png": "[encoded data removed]",
      "text/latex": [
       "$\\displaystyle -2 - \\frac{2}{L}$"
      ],
      "text/plain": [
       "     2\n",
       "-2 - ─\n",
       "     L"
      ]
     },
     "execution_count": 25,
     "metadata": {},
     "output_type": "execute_result"
    }
   ],
   "source": [
    "e1.solve(tan(alpha))"
   ]
  },
  {
   "cell_type": "markdown",
   "id": "73deb0fc-b935-4abb-bb5b-19ca9e973c60",
   "metadata": {},
   "source": [
    " <img src=\"images/M1_opi.png\" alt=\"ml\" style=\"width : 100%;\"/>"
   ]
  },
  {
   "cell_type": "code",
   "execution_count": null,
   "id": "d2955081-1190-4c25-ac8d-42412a91c3c9",
   "metadata": {},
   "outputs": [],
   "source": []
  }
 ],
 "metadata": {
  "kernelspec": {
   "display_name": "Python 3",
   "language": "python",
   "name": "python3"
  },
  "language_info": {
   "codemirror_mode": {
    "name": "ipython",
    "version": 3
   },
   "file_extension": ".py",
   "mimetype": "text/x-python",
   "name": "python",
   "nbconvert_exporter": "python",
   "pygments_lexer": "ipython3",
   "version": "3.6.6"
  }
 },
 "nbformat": 4,
 "nbformat_minor": 5
}
