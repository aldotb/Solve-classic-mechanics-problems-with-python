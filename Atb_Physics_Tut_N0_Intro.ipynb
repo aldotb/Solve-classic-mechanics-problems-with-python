{
 "cells": [
  {
   "cell_type": "markdown",
   "metadata": {},
   "source": [
    "# Static, Dynamic, Kinematic, Work, Energy, Torque.. \n",
    "# With Atb library and wonderfull Sympy"
   ]
  },
  {
   "cell_type": "markdown",
   "metadata": {},
   "source": [
    "#### Is very important that you know sympy library and special following functions\n",
    "\n",
    "* symbols, solve, subs, simplify, expand, factor, trigsimp, expand_trig, etc..."
   ]
  },
  {
   "cell_type": "markdown",
   "metadata": {},
   "source": [
    "#### To load my library you initialize with...."
   ]
  },
  {
   "cell_type": "code",
   "execution_count": 1,
   "metadata": {},
   "outputs": [],
   "source": [
    "from sympy import *\n",
    "from lib_subclass import *\n",
    "from lib_mechanics import *\n",
    "from lib_solution_algorith import *c\n",
    "init_printing()"
   ]
  },
  {
   "cell_type": "markdown",
   "metadata": {},
   "source": [
    "#### Personality I think that sympy is the best Python numeric and Symbols library for Nerds people like you and me"
   ]
  },
  {
   "cell_type": "markdown",
   "metadata": {},
   "source": [
    "#### Function solve in Sympy is amazing , but for quicly get answer I tray to arrange only the method to get the answer and used this answer in our algorith "
   ]
  },
  {
   "cell_type": "markdown",
   "metadata": {},
   "source": [
    "#   solve (from Sympy)   Vs  csolve (from Atb Lib)  "
   ]
  },
  {
   "cell_type": "markdown",
   "metadata": {},
   "source": [
    "#### Sample\n",
    "* csolve(Eq,kv,kd=' ',kabs=False,s='s',noncero=True,kpositive=False,kdisp=False):"
   ]
  },
  {
   "cell_type": "markdown",
   "metadata": {},
   "source": [
    "# csolve parameters\n",
    "\n",
    "* Eq is the equation the you will need  resolved  ,example \n",
    "    * Eq = 3*x-6\n",
    "    * Eq = L*3x-g \n",
    "    * Eq = P.res_x()..  P.res_x() is the function the give  resultant in X.. and \n",
    "    * Eq = anything declare before\n",
    "* Kv is the sysmbols variable the you want find and included in Eq\n",
    "    * csolve(3*x-6,x)\n",
    "    * csolve(L*3x-g,L)  etc\n",
    "\n",
    "\n",
    "* optional parameters\n",
    "    * kd='T' we used this when we want show the value in Jupyter \n",
    "    * kabs= False, sometimes the answer comes out negative especially when we use powers, and since we know that the answer is positive, we help a little to be more real\n",
    "    * kdisp=False, we changue to True when we want to show the answer"
   ]
  },
  {
   "cell_type": "markdown",
   "metadata": {},
   "source": [
    "# Solve Vs Csolve  , examples"
   ]
  },
  {
   "cell_type": "code",
   "execution_count": 2,
   "metadata": {},
   "outputs": [],
   "source": [
    "a,b,c=symbols('a b c')\n",
    "Eq1=2*c+5*a-3*b"
   ]
  },
  {
   "cell_type": "code",
   "execution_count": 3,
   "metadata": {},
   "outputs": [
    {
     "data": {
      "image/png": "[encoded data removed]",
      "text/latex": [
       "$\\displaystyle \\left[ - \\frac{5 a}{2} + \\frac{3 b}{2}\\right]$"
      ],
      "text/plain": [
       "⎡  5⋅a   3⋅b⎤\n",
       "⎢- ─── + ───⎥\n",
       "⎣   2     2 ⎦"
      ]
     },
     "execution_count": 3,
     "metadata": {},
     "output_type": "execute_result"
    }
   ],
   "source": [
    "solve(Eq1,c)"
   ]
  },
  {
   "cell_type": "code",
   "execution_count": 4,
   "metadata": {},
   "outputs": [
    {
     "data": {
      "image/png": "[encoded data removed]",
      "text/latex": [
       "$\\displaystyle \\left[ - \\frac{5 a}{2} + \\frac{3 b}{2}\\right]$"
      ],
      "text/plain": [
       "⎡  5⋅a   3⋅b⎤\n",
       "⎢- ─── + ───⎥\n",
       "⎣   2     2 ⎦"
      ]
     },
     "execution_count": 4,
     "metadata": {},
     "output_type": "execute_result"
    }
   ],
   "source": [
    "c1=solve(Eq1,c)\n",
    "c1"
   ]
  },
  {
   "cell_type": "code",
   "execution_count": 5,
   "metadata": {},
   "outputs": [
    {
     "data": {
      "image/png": "[encoded data removed]",
      "text/latex": [
       "$\\displaystyle \\left[ - \\frac{5 a}{2} + \\frac{3 b}{2}, \\  - \\frac{5 a}{2} + \\frac{3 b}{2}, \\  - \\frac{5 a}{2} + \\frac{3 b}{2}\\right]$"
      ],
      "text/plain": [
       "⎡  5⋅a   3⋅b    5⋅a   3⋅b    5⋅a   3⋅b⎤\n",
       "⎢- ─── + ───, - ─── + ───, - ─── + ───⎥\n",
       "⎣   2     2      2     2      2     2 ⎦"
      ]
     },
     "execution_count": 5,
     "metadata": {},
     "output_type": "execute_result"
    }
   ],
   "source": [
    "3*c1"
   ]
  },
  {
   "cell_type": "markdown",
   "metadata": {},
   "source": [
    "# ???\n",
    "# Now see that"
   ]
  },
  {
   "cell_type": "code",
   "execution_count": 6,
   "metadata": {},
   "outputs": [],
   "source": [
    "a,b,c=symbols('a b c')\n",
    "Eq1=2*c+5*a-3*b"
   ]
  },
  {
   "cell_type": "code",
   "execution_count": 7,
   "metadata": {},
   "outputs": [
    {
     "data": {
      "text/latex": [
       "$\\displaystyle C =- \\frac{5 a}{2} + \\frac{3 b}{2}$"
      ],
      "text/plain": [
       "<IPython.core.display.Math object>"
      ]
     },
     "metadata": {},
     "output_type": "display_data"
    }
   ],
   "source": [
    "R1=csolve(Eq1,c,'C',kdisp=True)"
   ]
  },
  {
   "cell_type": "markdown",
   "metadata": {},
   "source": [
    "# Nice..., but remember the was stored in R1..later we will have a solution for this"
   ]
  },
  {
   "cell_type": "code",
   "execution_count": 8,
   "metadata": {},
   "outputs": [
    {
     "data": {
      "image/png": "[encoded data removed]",
      "text/latex": [
       "$\\displaystyle - \\frac{15 a}{2} + \\frac{9 b}{2}$"
      ],
      "text/plain": [
       "  15⋅a   9⋅b\n",
       "- ──── + ───\n",
       "   2      2 "
      ]
     },
     "execution_count": 8,
     "metadata": {},
     "output_type": "execute_result"
    }
   ],
   "source": [
    "3*R1"
   ]
  },
  {
   "cell_type": "markdown",
   "metadata": {},
   "source": [
    "# Muacccccccccc!!!! Now see that"
   ]
  },
  {
   "cell_type": "code",
   "execution_count": 9,
   "metadata": {},
   "outputs": [],
   "source": [
    "a,b,c=symbols('a b c')\n",
    "Eq1=c**2-a**2-b**2"
   ]
  },
  {
   "cell_type": "code",
   "execution_count": 10,
   "metadata": {},
   "outputs": [
    {
     "data": {
      "image/png": "[encoded data removed]",
      "text/latex": [
       "$\\displaystyle - a^{2} - b^{2} + c^{2}$"
      ],
      "text/plain": [
       "   2    2    2\n",
       "- a  - b  + c "
      ]
     },
     "execution_count": 10,
     "metadata": {},
     "output_type": "execute_result"
    }
   ],
   "source": [
    "Eq1"
   ]
  },
  {
   "cell_type": "code",
   "execution_count": 11,
   "metadata": {},
   "outputs": [
    {
     "data": {
      "image/png": "[encoded data removed]",
      "text/latex": [
       "$\\displaystyle \\left[ - \\sqrt{a^{2} + b^{2}}, \\  \\sqrt{a^{2} + b^{2}}\\right]$"
      ],
      "text/plain": [
       "⎡    _________     _________⎤\n",
       "⎢   ╱  2    2     ╱  2    2 ⎥\n",
       "⎣-╲╱  a  + b  , ╲╱  a  + b  ⎦"
      ]
     },
     "execution_count": 11,
     "metadata": {},
     "output_type": "execute_result"
    }
   ],
   "source": [
    "c1=solve(Eq1,c)\n",
    "c1"
   ]
  },
  {
   "cell_type": "markdown",
   "metadata": {},
   "source": [
    "We know the c is positive, csolve help us with little trick to make the live better"
   ]
  },
  {
   "cell_type": "code",
   "execution_count": 13,
   "metadata": {},
   "outputs": [
    {
     "data": {
      "text/latex": [
       "$\\displaystyle C =\\sqrt{a^{2} + b^{2}}$"
      ],
      "text/plain": [
       "<IPython.core.display.Math object>"
      ]
     },
     "metadata": {},
     "output_type": "display_data"
    }
   ],
   "source": [
    "R1=csolve(Eq1,c,'C',kdisp=True,kpositive=True)"
   ]
  },
  {
   "cell_type": "markdown",
   "metadata": {},
   "source": [
    "# Nice!!!! "
   ]
  },
  {
   "cell_type": "markdown",
   "metadata": {},
   "source": [
    "### Now we talk about variable used in this library and declared varible most used in around word  Physic in kinematic, Static, Dynamic, Work, Energy...  etc..etc "
   ]
  },
  {
   "cell_type": "markdown",
   "metadata": {},
   "source": [
    "<img src=\"Doc_img/kparticle_var.png\" alt=\"ml\" style=\"width : 90%;\"/>"
   ]
  },
  {
   "cell_type": "markdown",
   "metadata": {},
   "source": [
    "### Global simple variable declared to  use any time part1"
   ]
  },
  {
   "cell_type": "markdown",
   "metadata": {},
   "source": [
    "<img src=\"Doc_img/global_var1.png\" alt=\"ml\" style=\"width : 90%;\"/>"
   ]
  },
  {
   "cell_type": "markdown",
   "metadata": {},
   "source": [
    "### Global simple variable declared to  use any time part2"
   ]
  },
  {
   "cell_type": "markdown",
   "metadata": {},
   "source": [
    "<img src=\"Doc_img/global_var2.png\" alt=\"ml\" style=\"width : 90%;\"/>"
   ]
  },
  {
   "cell_type": "markdown",
   "metadata": {},
   "source": [
    "### How Create and declare my Object Physics Class kparticle ?"
   ]
  },
  {
   "cell_type": "markdown",
   "metadata": {},
   "source": [
    "# One picture is better than a thousand words"
   ]
  },
  {
   "cell_type": "markdown",
   "metadata": {},
   "source": [
    "<img src=\"Doc_img/sam1.png\" alt=\"ml\" style=\"width : 90%;\"/>"
   ]
  },
  {
   "cell_type": "markdown",
   "metadata": {},
   "source": [
    "## Clasic Metod 1 , solving normal procedure with Sympy and AtbLib"
   ]
  },
  {
   "cell_type": "markdown",
   "metadata": {},
   "source": [
    "<img src=\"Doc_img/sam3.png\" alt=\"ml\" style=\"width : 90%;\"/>"
   ]
  },
  {
   "cell_type": "markdown",
   "metadata": {},
   "source": [
    "### Steep\n",
    "* Load libraries \n",
    "* declare ,the object class\n",
    "    * P=kparticle()\n",
    "* add_forces\n",
    "    * P.add_forza(val_mag,angle ref)"
   ]
  },
  {
   "cell_type": "code",
   "execution_count": 2,
   "metadata": {},
   "outputs": [],
   "source": [
    "from sympy import *\n",
    "from lib_subclass import *\n",
    "from lib_mechanics import *\n",
    "from lib_solution_algorith import *\n",
    "init_printing()"
   ]
  },
  {
   "cell_type": "code",
   "execution_count": 3,
   "metadata": {},
   "outputs": [],
   "source": [
    "P1=kparticle()\n",
    "P1.add_forza(m1*g,-pi/2) # or P1.add_forza(m1*g,-90,s='s')\n",
    "P1.add_forza(F1,0)\n",
    "P1.add_forza(N1,pi/2) # or P1.add_forza(N1,90,s='s')\n",
    "P1.add_forza(R1,pi) # or P1.add_forza(R1,180,s='s')"
   ]
  },
  {
   "cell_type": "markdown",
   "metadata": {},
   "source": [
    "### Now we have two ways for add_forza--> fr\n",
    "* Input fr directly used P1.add_forza(fr,0) or!!!\n",
    "* declare fr like N1*mu.... and then input this.. we take this way"
   ]
  },
  {
   "cell_type": "markdown",
   "metadata": {},
   "source": [
    "<img src=\"Doc_img/sam3.png\" alt=\"ml\" style=\"width : 70%;\"/>"
   ]
  },
  {
   "cell_type": "code",
   "execution_count": 4,
   "metadata": {},
   "outputs": [
    {
     "data": {
      "image/png": "[encoded data removed]",
      "text/latex": [
       "$\\displaystyle N_{1} \\mu$"
      ],
      "text/plain": [
       "N₁⋅μ"
      ]
     },
     "execution_count": 4,
     "metadata": {},
     "output_type": "execute_result"
    }
   ],
   "source": [
    "fr=N1*mu\n",
    "fr"
   ]
  },
  {
   "cell_type": "code",
   "execution_count": 5,
   "metadata": {},
   "outputs": [],
   "source": [
    "P1.add_forza(fr,pi) # or P1.add_forza(fr,180,s='s')"
   ]
  },
  {
   "cell_type": "markdown",
   "metadata": {},
   "source": [
    "### See intro Class kparticle ,special in P1.. P1.F  = ??"
   ]
  },
  {
   "cell_type": "code",
   "execution_count": 6,
   "metadata": {
    "jupyter": {
     "source_hidden": true
    }
   },
   "outputs": [
    {
     "data": {
      "image/png": "[encoded data removed]",
      "text/latex": [
       "$\\displaystyle \\left[ \\left[ g m_{1}, \\  - \\frac{\\pi}{2}, \\  0, \\  0\\right], \\  \\left[ F_{1}, \\  0, \\  0, \\  0\\right], \\  \\left[ N_{1}, \\  \\frac{\\pi}{2}, \\  0, \\  0\\right], \\  \\left[ R_{1}, \\  \\pi, \\  0, \\  0\\right], \\  \\left[ N_{1} \\mu, \\  \\pi, \\  0, \\  0\\right]\\right]$"
      ],
      "text/plain": [
       "⎡⎡      -π       ⎤                 ⎡    π      ⎤                              \n",
       "⎢⎢g⋅m₁, ───, 0, 0⎥, [F₁, 0, 0, 0], ⎢N₁, ─, 0, 0⎥, [R₁, π, 0, 0], [N₁⋅μ, π, 0, \n",
       "⎣⎣       2       ⎦                 ⎣    2      ⎦                              \n",
       "\n",
       "  ⎤\n",
       "0]⎥\n",
       "  ⎦"
      ]
     },
     "execution_count": 6,
     "metadata": {},
     "output_type": "execute_result"
    }
   ],
   "source": [
    "P1.F"
   ]
  },
  {
   "cell_type": "markdown",
   "metadata": {},
   "source": [
    "#### Check all  Force vector interactue in P1.. [[ Name or math equivalent , angle , posX , posY ]]"
   ]
  },
  {
   "cell_type": "markdown",
   "metadata": {},
   "source": [
    "### After put our forces...  is time to see somes basic functions\n",
    "* Resultant \n",
    "* res_x() = resultante in x and\n",
    "* res_y()"
   ]
  },
  {
   "cell_type": "code",
   "execution_count": 9,
   "metadata": {},
   "outputs": [
    {
     "data": {
      "image/png": "[encoded data removed]",
      "text/latex": [
       "$\\displaystyle F_{1} - N_{1} \\mu - R_{1}$"
      ],
      "text/plain": [
       "F₁ - N₁⋅μ - R₁"
      ]
     },
     "execution_count": 9,
     "metadata": {},
     "output_type": "execute_result"
    }
   ],
   "source": [
    "P1.res_x()"
   ]
  },
  {
   "cell_type": "code",
   "execution_count": 10,
   "metadata": {},
   "outputs": [
    {
     "data": {
      "image/png": "[encoded data removed]",
      "text/latex": [
       "$\\displaystyle N_{1} - g m_{1}$"
      ],
      "text/plain": [
       "N₁ - g⋅m₁"
      ]
     },
     "execution_count": 10,
     "metadata": {},
     "output_type": "execute_result"
    }
   ],
   "source": [
    "P1.res_y()"
   ]
  },
  {
   "cell_type": "markdown",
   "metadata": {},
   "source": [
    "### Now we will declare P2 and added forces...."
   ]
  },
  {
   "cell_type": "markdown",
   "metadata": {},
   "source": [
    "<img src=\"Doc_img/sam3.png\" alt=\"ml\" style=\"width : 90%;\"/>"
   ]
  },
  {
   "cell_type": "code",
   "execution_count": 11,
   "metadata": {},
   "outputs": [],
   "source": [
    "P2=kparticle()\n",
    "P2.add_forza(m2*g,-pi/2) # or P2.add_forza(m2*g,-90,s='s')\n",
    "P2.add_forza(N2,pi/2) # or P2.add_forza(N2,90,s='s')\n",
    "P2.add_forza(R1,0) "
   ]
  },
  {
   "cell_type": "code",
   "execution_count": 12,
   "metadata": {},
   "outputs": [
    {
     "data": {
      "image/png": "[encoded data removed]",
      "text/latex": [
       "$\\displaystyle N_{2} \\mu$"
      ],
      "text/plain": [
       "N₂⋅μ"
      ]
     },
     "execution_count": 12,
     "metadata": {},
     "output_type": "execute_result"
    }
   ],
   "source": [
    "fr2=N2*mu\n",
    "fr2"
   ]
  },
  {
   "cell_type": "code",
   "execution_count": 13,
   "metadata": {},
   "outputs": [],
   "source": [
    "P2.add_forza(fr2,180,s='s')  # I think now you know why..  I hope!!!"
   ]
  },
  {
   "cell_type": "markdown",
   "metadata": {},
   "source": [
    "### See intro Class kparticle ,special in P2.. P1.F  = ??"
   ]
  },
  {
   "cell_type": "code",
   "execution_count": 14,
   "metadata": {},
   "outputs": [
    {
     "data": {
      "image/png": "[encoded data removed]",
      "text/latex": [
       "$\\displaystyle \\left[ \\left[ g m_{2}, \\  - \\frac{\\pi}{2}, \\  0, \\  0\\right], \\  \\left[ N_{2}, \\  \\frac{\\pi}{2}, \\  0, \\  0\\right], \\  \\left[ R_{1}, \\  0, \\  0, \\  0\\right], \\  \\left[ N_{2} \\mu, \\  \\pi, \\  0, \\  0\\right]\\right]$"
      ],
      "text/plain": [
       "⎡⎡      -π       ⎤  ⎡    π      ⎤                                ⎤\n",
       "⎢⎢g⋅m₂, ───, 0, 0⎥, ⎢N₂, ─, 0, 0⎥, [R₁, 0, 0, 0], [N₂⋅μ, π, 0, 0]⎥\n",
       "⎣⎣       2       ⎦  ⎣    2      ⎦                                ⎦"
      ]
     },
     "execution_count": 14,
     "metadata": {},
     "output_type": "execute_result"
    }
   ],
   "source": [
    "P2.F"
   ]
  },
  {
   "cell_type": "markdown",
   "metadata": {},
   "source": [
    "### some Equqtons as P2"
   ]
  },
  {
   "cell_type": "code",
   "execution_count": 15,
   "metadata": {},
   "outputs": [
    {
     "data": {
      "image/png": "[encoded data removed]",
      "text/latex": [
       "$\\displaystyle - N_{2} \\mu + R_{1}$"
      ],
      "text/plain": [
       "-N₂⋅μ + R₁"
      ]
     },
     "execution_count": 15,
     "metadata": {},
     "output_type": "execute_result"
    }
   ],
   "source": [
    "P2.res_x()"
   ]
  },
  {
   "cell_type": "code",
   "execution_count": 16,
   "metadata": {},
   "outputs": [
    {
     "data": {
      "image/png": "[encoded data removed]",
      "text/latex": [
       "$\\displaystyle N_{2} - g m_{2}$"
      ],
      "text/plain": [
       "N₂ - g⋅m₂"
      ]
     },
     "execution_count": 16,
     "metadata": {},
     "output_type": "execute_result"
    }
   ],
   "source": [
    "P2.res_y()"
   ]
  },
  {
   "cell_type": "markdown",
   "metadata": {},
   "source": [
    "<img src=\"Doc_img/sam3.png\" alt=\"ml\" style=\"width : 90%;\"/>"
   ]
  },
  {
   "cell_type": "markdown",
   "metadata": {},
   "source": [
    "### what we have ??\n",
    "* knowed variable Data in this Example\n",
    "    * In P1....   F1,  m1,  g,   acc\n",
    "    * In P2....   m2,  g, acc\n",
    "* Common data between P1 and P2\n",
    "    * acc\n",
    "* In this Example we will try find mu in function of F1,m1,m2,g and acc     "
   ]
  },
  {
   "cell_type": "markdown",
   "metadata": {},
   "source": [
    "# Important !!!!!!!\n",
    "* understand this part I think that it is 80% of taking advantage of this library "
   ]
  },
  {
   "cell_type": "markdown",
   "metadata": {},
   "source": [
    "## Resolviendo forma normal..\n",
    "* Sorry I am from Lima Peru.."
   ]
  },
  {
   "cell_type": "code",
   "execution_count": 30,
   "metadata": {},
   "outputs": [
    {
     "data": {
      "image/png": "[encoded data removed]",
      "text/latex": [
       "$\\displaystyle N_{2} - g m_{2}$"
      ],
      "text/plain": [
       "N₂ - g⋅m₂"
      ]
     },
     "execution_count": 30,
     "metadata": {},
     "output_type": "execute_result"
    }
   ],
   "source": [
    "P2.res_y()"
   ]
  },
  {
   "cell_type": "markdown",
   "metadata": {},
   "source": [
    "<img src=\"Doc_img/sam3.png\" alt=\"ml\" style=\"width : 70%;\"/>"
   ]
  },
  {
   "cell_type": "markdown",
   "metadata": {},
   "source": [
    "## Then"
   ]
  },
  {
   "cell_type": "code",
   "execution_count": 18,
   "metadata": {},
   "outputs": [
    {
     "data": {
      "image/png": "[encoded data removed]",
      "text/latex": [
       "$\\displaystyle g m_{2}$"
      ],
      "text/plain": [
       "g⋅m₂"
      ]
     },
     "execution_count": 18,
     "metadata": {},
     "output_type": "execute_result"
    }
   ],
   "source": [
    "rN2=csolve(P2.res_y(),N2)  # Finding N2 in function of m2 ang g ,we put 'r' before new symbols var\n",
    "rN2"
   ]
  },
  {
   "cell_type": "markdown",
   "metadata": {},
   "source": [
    "<img src=\"Doc_img/sam3.png\" alt=\"ml\" style=\"width : 90%;\"/>"
   ]
  },
  {
   "cell_type": "code",
   "execution_count": 19,
   "metadata": {},
   "outputs": [
    {
     "data": {
      "image/png": "[encoded data removed]",
      "text/latex": [
       "$\\displaystyle - N_{2} \\mu + R_{1}$"
      ],
      "text/plain": [
       "-N₂⋅μ + R₁"
      ]
     },
     "execution_count": 19,
     "metadata": {},
     "output_type": "execute_result"
    }
   ],
   "source": [
    "P2.res_x()"
   ]
  },
  {
   "cell_type": "code",
   "execution_count": 20,
   "metadata": {},
   "outputs": [
    {
     "data": {
      "image/png": "[encoded data removed]",
      "text/latex": [
       "$\\displaystyle - N_{2} \\mu + R_{1}$"
      ],
      "text/plain": [
       "-N₂⋅μ + R₁"
      ]
     },
     "execution_count": 20,
     "metadata": {},
     "output_type": "execute_result"
    }
   ],
   "source": [
    "Fres_xP2=P2.res_x()  # Horizontal resultant called Fres_xP2 = Sum of all Fx forces..(School Physic!!)\n",
    "Fres_xP2"
   ]
  },
  {
   "cell_type": "code",
   "execution_count": 21,
   "metadata": {},
   "outputs": [
    {
     "data": {
      "image/png": "[encoded data removed]",
      "text/latex": [
       "$\\displaystyle R_{1} - g m_{2} \\mu$"
      ],
      "text/plain": [
       "R₁ - g⋅m₂⋅μ"
      ]
     },
     "execution_count": 21,
     "metadata": {},
     "output_type": "execute_result"
    }
   ],
   "source": [
    "Fres_xP2=Fres_xP2.subs(N2,rN2) # with subs command from Sympy we replace N2... I suppose you know this\n",
    "Fres_xP2"
   ]
  },
  {
   "cell_type": "markdown",
   "metadata": {},
   "source": [
    "## Now and of course I know that you know that F = m*a\n",
    "* Then Fres_xP2 = m2*a\n",
    "* And whit this info try to get R1!!!!\n",
    "* Adding new Equation symbols called Eq3\n",
    "* Eq3= (F - m*a) Fres_xP2-m2*a1  is the same that  Fres_xP2 = m2*a1 to Sympy  .."
   ]
  },
  {
   "cell_type": "code",
   "execution_count": 22,
   "metadata": {},
   "outputs": [
    {
     "data": {
      "image/png": "[encoded data removed]",
      "text/latex": [
       "$\\displaystyle R_{1} - a_{1} m_{2} - g m_{2} \\mu$"
      ],
      "text/plain": [
       "R₁ - a₁⋅m₂ - g⋅m₂⋅μ"
      ]
     },
     "execution_count": 22,
     "metadata": {},
     "output_type": "execute_result"
    }
   ],
   "source": [
    "Eq3=Fres_xP2-m2*a1  # remeber I use a1 like acc because its was declare before.. see Up.!!\n",
    "Eq3"
   ]
  },
  {
   "cell_type": "markdown",
   "metadata": {},
   "source": [
    "#### Using csolve again to find R1 and stored in rR1"
   ]
  },
  {
   "cell_type": "code",
   "execution_count": 23,
   "metadata": {},
   "outputs": [
    {
     "data": {
      "image/png": "[encoded data removed]",
      "text/latex": [
       "$\\displaystyle m_{2} \\left(a_{1} + g \\mu\\right)$"
      ],
      "text/plain": [
       "m₂⋅(a₁ + g⋅μ)"
      ]
     },
     "execution_count": 23,
     "metadata": {},
     "output_type": "execute_result"
    }
   ],
   "source": [
    "rR1=csolve(Eq3,R1)\n",
    "rR1"
   ]
  },
  {
   "cell_type": "markdown",
   "metadata": {},
   "source": [
    "<img src=\"Doc_img/sam4.png\" alt=\"ml\" style=\"width : 90%;\"/>"
   ]
  },
  {
   "cell_type": "markdown",
   "metadata": {},
   "source": [
    "###  Now we work whit P1"
   ]
  },
  {
   "cell_type": "code",
   "execution_count": 24,
   "metadata": {},
   "outputs": [
    {
     "data": {
      "image/png": "[encoded data removed]",
      "text/latex": [
       "$\\displaystyle N_{1} - g m_{1}$"
      ],
      "text/plain": [
       "N₁ - g⋅m₁"
      ]
     },
     "execution_count": 24,
     "metadata": {},
     "output_type": "execute_result"
    }
   ],
   "source": [
    "P1.res_y()"
   ]
  },
  {
   "cell_type": "code",
   "execution_count": 25,
   "metadata": {},
   "outputs": [
    {
     "data": {
      "image/png": "[encoded data removed]",
      "text/latex": [
       "$\\displaystyle g m_{1}$"
      ],
      "text/plain": [
       "g⋅m₁"
      ]
     },
     "execution_count": 25,
     "metadata": {},
     "output_type": "execute_result"
    }
   ],
   "source": [
    "rN1=csolve(P1.res_y(),N1)  # Finding N1 in function of m1 ang g ,we put 'r' before new symbols var\n",
    "rN1"
   ]
  },
  {
   "cell_type": "code",
   "execution_count": 26,
   "metadata": {},
   "outputs": [
    {
     "data": {
      "image/png": "[encoded data removed]",
      "text/latex": [
       "$\\displaystyle F_{1} - N_{1} \\mu - R_{1}$"
      ],
      "text/plain": [
       "F₁ - N₁⋅μ - R₁"
      ]
     },
     "execution_count": 26,
     "metadata": {},
     "output_type": "execute_result"
    }
   ],
   "source": [
    "P1.res_x()"
   ]
  },
  {
   "cell_type": "code",
   "execution_count": 27,
   "metadata": {},
   "outputs": [
    {
     "data": {
      "image/png": "[encoded data removed]",
      "text/latex": [
       "$\\displaystyle F_{1} - R_{1} - g m_{1} \\mu$"
      ],
      "text/plain": [
       "F₁ - R₁ - g⋅m₁⋅μ"
      ]
     },
     "execution_count": 27,
     "metadata": {},
     "output_type": "execute_result"
    }
   ],
   "source": [
    "Fres_xP1=P1.res_x()\n",
    "Fres_xP1=Fres_xP1.subs(N1,rN1)\n",
    "Fres_xP1"
   ]
  },
  {
   "cell_type": "markdown",
   "metadata": {},
   "source": [
    "#### We have R1 from firs equation.. then subs or replace in last  equation...  "
   ]
  },
  {
   "cell_type": "code",
   "execution_count": 28,
   "metadata": {},
   "outputs": [
    {
     "data": {
      "image/png": "[encoded data removed]",
      "text/latex": [
       "$\\displaystyle F_{1} - g m_{1} \\mu - m_{2} \\left(a_{1} + g \\mu\\right)$"
      ],
      "text/plain": [
       "F₁ - g⋅m₁⋅μ - m₂⋅(a₁ + g⋅μ)"
      ]
     },
     "execution_count": 28,
     "metadata": {},
     "output_type": "execute_result"
    }
   ],
   "source": [
    "Fres_xP1=Fres_xP1.subs(R1,rR1)\n",
    "Fres_xP1"
   ]
  },
  {
   "cell_type": "markdown",
   "metadata": {},
   "source": [
    "#### Fres_xP1  is the sumatorie of all axis force interactue in P1 the   SumF = m*a\n",
    "* Then Fres_xP1 = m1*a\n",
    "* Create a new Eq4 symbolic variable to solve later"
   ]
  },
  {
   "cell_type": "code",
   "execution_count": 29,
   "metadata": {},
   "outputs": [
    {
     "data": {
      "image/png": "[encoded data removed]",
      "text/latex": [
       "$\\displaystyle F_{1} - a m_{1} - g m_{1} \\mu - m_{2} \\left(a_{1} + g \\mu\\right)$"
      ],
      "text/plain": [
       "F₁ - a⋅m₁ - g⋅m₁⋅μ - m₂⋅(a₁ + g⋅μ)"
      ]
     },
     "execution_count": 29,
     "metadata": {},
     "output_type": "execute_result"
    }
   ],
   "source": [
    "Eq4=Fres_xP1-m1*a\n",
    "Eq4"
   ]
  },
  {
   "cell_type": "markdown",
   "metadata": {},
   "source": [
    "## Finally find mu"
   ]
  },
  {
   "cell_type": "code",
   "execution_count": 30,
   "metadata": {},
   "outputs": [
    {
     "data": {
      "image/png": "[encoded data removed]",
      "text/latex": [
       "$\\displaystyle \\frac{F_{1} - a m_{1} - a_{1} m_{2}}{g \\left(m_{1} + m_{2}\\right)}$"
      ],
      "text/plain": [
       "F₁ - a⋅m₁ - a₁⋅m₂\n",
       "─────────────────\n",
       "   g⋅(m₁ + m₂)   "
      ]
     },
     "execution_count": 30,
     "metadata": {},
     "output_type": "execute_result"
    }
   ],
   "source": [
    "csolve(Eq4,mu)"
   ]
  },
  {
   "cell_type": "code",
   "execution_count": 31,
   "metadata": {},
   "outputs": [
    {
     "data": {
      "text/latex": [
       "$\\displaystyle mu =\\frac{F_{1} - a m_{1} - a_{1} m_{2}}{g \\left(m_{1} + m_{2}\\right)}$"
      ],
      "text/plain": [
       "<IPython.core.display.Math object>"
      ]
     },
     "metadata": {},
     "output_type": "display_data"
    }
   ],
   "source": [
    "# My way is Better \n",
    "rMu=csolve(Eq4,mu,'mu',kdisp=True)"
   ]
  },
  {
   "cell_type": "code",
   "execution_count": null,
   "metadata": {},
   "outputs": [],
   "source": []
  },
  {
   "cell_type": "markdown",
   "metadata": {},
   "source": [
    "## Atb Metod 2  "
   ]
  },
  {
   "cell_type": "markdown",
   "metadata": {},
   "source": [
    "<img src=\"Doc_img/sam3.png\" alt=\"ml\" style=\"width : 90%;\"/>"
   ]
  },
  {
   "cell_type": "code",
   "execution_count": 1,
   "metadata": {},
   "outputs": [],
   "source": [
    "from sympy import *\n",
    "from lib_subclass import *\n",
    "from lib_mechanics import *\n",
    "from lib_solution_algorith import *\n",
    "init_printing()"
   ]
  },
  {
   "cell_type": "code",
   "execution_count": 2,
   "metadata": {},
   "outputs": [],
   "source": [
    "P2=kparticle()\n",
    "P2.add_forza(m2*g,-pi/2)  \n",
    "P2.add_forza(N2,pi/2)\n",
    "P2.add_forza(R1,0)\n",
    "P2.add_forza(fr2,pi)"
   ]
  },
  {
   "cell_type": "code",
   "execution_count": 3,
   "metadata": {},
   "outputs": [],
   "source": [
    "P2.store_val(N2,m2*g)  # Store in P2.kvalue N2=m2*g\n",
    "P2.store_val(fr2,N2*mu) # store in P2.kvalue fr2=N2*mu.. but really store (m2*g)*mu"
   ]
  },
  {
   "cell_type": "code",
   "execution_count": 4,
   "metadata": {},
   "outputs": [
    {
     "data": {
      "image/png": "[encoded data removed]",
      "text/latex": [
       "$\\displaystyle \\left( \\left[ fr_{2}, \\  N_{2}\\right], \\  \\left[ g m_{2} \\mu, \\  g m_{2}\\right]\\right)$"
      ],
      "text/plain": [
       "([fr₂, N₂], [g⋅m₂⋅μ, g⋅m₂])"
      ]
     },
     "execution_count": 4,
     "metadata": {},
     "output_type": "execute_result"
    }
   ],
   "source": [
    "P2.kvalue #  checking what haves??"
   ]
  },
  {
   "cell_type": "code",
   "execution_count": 5,
   "metadata": {},
   "outputs": [
    {
     "data": {
      "image/png": "[encoded data removed]",
      "text/latex": [
       "$\\displaystyle R_{1} - fr_{2}$"
      ],
      "text/plain": [
       "R₁ - fr₂"
      ]
     },
     "execution_count": 5,
     "metadata": {},
     "output_type": "execute_result"
    }
   ],
   "source": [
    "P2.res_x()  # give the Resultant in x but whit the Forces includes in add-forces.. Butt?????"
   ]
  },
  {
   "cell_type": "code",
   "execution_count": 6,
   "metadata": {},
   "outputs": [
    {
     "data": {
      "image/png": "[encoded data removed]",
      "text/latex": [
       "$\\displaystyle R_{1} - g m_{2} \\mu$"
      ],
      "text/plain": [
       "R₁ - g⋅m₂⋅μ"
      ]
     },
     "execution_count": 6,
     "metadata": {},
     "output_type": "execute_result"
    }
   ],
   "source": [
    "P2.res_x(keval=True) # is the same but with keval=True.. substitute primitive variables stored !!"
   ]
  },
  {
   "cell_type": "markdown",
   "metadata": {},
   "source": [
    "* My idea is not teach classic Physic because supose the you are a NERD like me!!!\n",
    "* R1-g*m2*u = m2*a1 , or the Eq=  P2.res_x(keval=True)-m2*a1 \n",
    "* Finally used csolve(P2.res_x(keval=True)-m2*a1,R1,'R1',kdisp=True) to find R1"
   ]
  },
  {
   "cell_type": "code",
   "execution_count": 7,
   "metadata": {},
   "outputs": [
    {
     "data": {
      "text/latex": [
       "$\\displaystyle R1 =m_{2} \\left(a_{1} + g \\mu\\right)$"
      ],
      "text/plain": [
       "<IPython.core.display.Math object>"
      ]
     },
     "metadata": {},
     "output_type": "display_data"
    }
   ],
   "source": [
    "R1=csolve(P2.res_x(keval=True)-m2*a1,R1,'R1',kdisp=True)"
   ]
  },
  {
   "cell_type": "markdown",
   "metadata": {},
   "source": [
    "* Same procedure whit P1 but a little more short\n",
    "* I hope you understand"
   ]
  },
  {
   "cell_type": "code",
   "execution_count": 8,
   "metadata": {},
   "outputs": [],
   "source": [
    "P1=kparticle()\n",
    "P1.add_forza(m1*g,-pi/2)  \n",
    "P1.add_forza(N1,pi/2)\n",
    "P1.add_forza(F1,0)\n",
    "P1.add_forza(fr1,pi)\n",
    "P1.add_forza(R1,pi)"
   ]
  },
  {
   "cell_type": "code",
   "execution_count": 9,
   "metadata": {},
   "outputs": [],
   "source": [
    "P1.store_val(N1,m1*g)  # Store in P2.kvalue N2=m2*g\n",
    "P1.store_val(fr1,N1*mu)"
   ]
  },
  {
   "cell_type": "markdown",
   "metadata": {},
   "source": [
    "### finally..... mu= "
   ]
  },
  {
   "cell_type": "code",
   "execution_count": 10,
   "metadata": {},
   "outputs": [
    {
     "data": {
      "text/latex": [
       "$\\displaystyle mu =\\frac{F_{1} - a_{1} m_{1} - a_{1} m_{2}}{g \\left(m_{1} + m_{2}\\right)}$"
      ],
      "text/plain": [
       "<IPython.core.display.Math object>"
      ]
     },
     "metadata": {},
     "output_type": "display_data"
    },
    {
     "data": {
      "image/png": "[encoded data removed]",
      "text/latex": [
       "$\\displaystyle \\frac{F_{1} - a_{1} m_{1} - a_{1} m_{2}}{g \\left(m_{1} + m_{2}\\right)}$"
      ],
      "text/plain": [
       "F₁ - a₁⋅m₁ - a₁⋅m₂\n",
       "──────────────────\n",
       "   g⋅(m₁ + m₂)    "
      ]
     },
     "execution_count": 10,
     "metadata": {},
     "output_type": "execute_result"
    }
   ],
   "source": [
    "csolve(P1.res_x(keval=True)-m1*a1,mu,'mu',kdisp=true)"
   ]
  }
 ],
 "metadata": {
  "kernelspec": {
   "display_name": "Python 3",
   "language": "python",
   "name": "python3"
  },
  "language_info": {
   "codemirror_mode": {
    "name": "ipython",
    "version": 3
   },
   "file_extension": ".py",
   "mimetype": "text/x-python",
   "name": "python",
   "nbconvert_exporter": "python",
   "pygments_lexer": "ipython3",
   "version": "3.6.6"
  }
 },
 "nbformat": 4,
 "nbformat_minor": 4
}
