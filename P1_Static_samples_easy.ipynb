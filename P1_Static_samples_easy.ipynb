{
 "cells": [
  {
   "cell_type": "markdown",
   "metadata": {},
   "source": [
    "<img src=\"images/line.png\" alt=\"ml\" style=\"width : 100%;\"/>"
   ]
  },
  {
   "cell_type": "markdown",
   "metadata": {},
   "source": [
    "### Example 1"
   ]
  },
  {
   "cell_type": "markdown",
   "metadata": {},
   "source": [
    "<img src=\"images/line.png\" alt=\"ml\" style=\"width : 100%;\"/>"
   ]
  },
  {
   "cell_type": "markdown",
   "metadata": {},
   "source": [
    "<img src=\"Doc_img/p1_static.png\" alt=\"ml\" style=\"width : 70%;\"/>"
   ]
  },
  {
   "cell_type": "code",
   "execution_count": 1,
   "metadata": {},
   "outputs": [],
   "source": [
    "from sympy import *\n",
    "from lib_subclass import *\n",
    "from lib_mechanics import *\n",
    "init_printing()"
   ]
  },
  {
   "cell_type": "markdown",
   "metadata": {},
   "source": [
    "<img src=\"Doc_img/p1_static_d.png\" alt=\"ml\" style=\"width : 70%;\"/>"
   ]
  },
  {
   "cell_type": "code",
   "execution_count": 2,
   "metadata": {},
   "outputs": [],
   "source": [
    "b=symbols('b') # b not in global variables.. for this reason create symbols variable"
   ]
  },
  {
   "cell_type": "code",
   "execution_count": 4,
   "metadata": {},
   "outputs": [],
   "source": [
    "P=kparticle()\n",
    "P.add_forza(R1,pi/2,0,0)\n",
    "P.add_forza(30,-pi/2,b,0)\n",
    "P.add_forza(60,-pi/2,2*b,0)\n",
    "P.add_forza(R2,pi/2,3*b,0)"
   ]
  },
  {
   "cell_type": "code",
   "execution_count": 6,
   "metadata": {},
   "outputs": [
    {
     "data": {
      "text/latex": [
       "$\\displaystyle R2 =50$"
      ],
      "text/plain": [
       "<IPython.core.display.Math object>"
      ]
     },
     "metadata": {},
     "output_type": "display_data"
    }
   ],
   "source": [
    "R2=csolve(P.torque(),R2,'R2',kdisp=True)"
   ]
  },
  {
   "cell_type": "markdown",
   "metadata": {},
   "source": [
    "<img src=\"images/line.png\" alt=\"ml\" style=\"width : 100%;\"/>"
   ]
  },
  {
   "cell_type": "markdown",
   "metadata": {},
   "source": [
    "### Example 2"
   ]
  },
  {
   "cell_type": "markdown",
   "metadata": {},
   "source": [
    "<img src=\"images/line.png\" alt=\"ml\" style=\"width : 100%;\"/>"
   ]
  },
  {
   "cell_type": "markdown",
   "metadata": {},
   "source": [
    "<img src=\"Doc_img/p2_static.png\" alt=\"ml\" style=\"width : 90%;\"/>"
   ]
  },
  {
   "cell_type": "markdown",
   "metadata": {},
   "source": [
    "<img src=\"Doc_img/p2_static_s.png\" alt=\"ml\" style=\"width : 90%;\"/>"
   ]
  },
  {
   "cell_type": "code",
   "execution_count": 1,
   "metadata": {},
   "outputs": [],
   "source": [
    "from sympy import *\n",
    "from lib_subclass import *\n",
    "from lib_mechanics import *\n",
    "init_printing()"
   ]
  },
  {
   "cell_type": "markdown",
   "metadata": {},
   "source": [
    "<img src=\"Doc_img/p2_static_d.png\" alt=\"ml\" style=\"width : 70%;\"/>"
   ]
  },
  {
   "cell_type": "code",
   "execution_count": 2,
   "metadata": {},
   "outputs": [],
   "source": [
    "P=kparticle()\n",
    "P.add_forza(30,-pi/2)\n",
    "P.add_forza(T1,alpha)\n",
    "P.add_forza(T1,pi-beta)"
   ]
  },
  {
   "cell_type": "code",
   "execution_count": 3,
   "metadata": {},
   "outputs": [
    {
     "data": {
      "image/png": "[encoded data removed]",
      "text/latex": [
       "$\\displaystyle T_{1} \\cos{\\left(\\alpha \\right)} - T_{1} \\cos{\\left(\\beta \\right)}$"
      ],
      "text/plain": [
       "T₁⋅cos(α) - T₁⋅cos(β)"
      ]
     },
     "execution_count": 3,
     "metadata": {},
     "output_type": "execute_result"
    }
   ],
   "source": [
    "#  Result in X axis = 0\n",
    "P.res_x()"
   ]
  },
  {
   "cell_type": "code",
   "execution_count": 4,
   "metadata": {},
   "outputs": [
    {
     "data": {
      "image/png": "[encoded data removed]",
      "text/latex": [
       "$\\displaystyle T_{1} \\sin{\\left(\\alpha \\right)} + T_{1} \\sin{\\left(\\beta \\right)} - 30$"
      ],
      "text/plain": [
       "T₁⋅sin(α) + T₁⋅sin(β) - 30"
      ]
     },
     "execution_count": 4,
     "metadata": {},
     "output_type": "execute_result"
    }
   ],
   "source": [
    "#  Alpha = Beta\n",
    "P.res_y()"
   ]
  },
  {
   "cell_type": "code",
   "execution_count": 5,
   "metadata": {},
   "outputs": [
    {
     "data": {
      "image/png": "[encoded data removed]",
      "text/latex": [
       "$\\displaystyle T_{1} \\sin{\\left(\\alpha \\right)} + T_{1} \\sin{\\left(\\beta \\right)} - 30$"
      ],
      "text/plain": [
       "T₁⋅sin(α) + T₁⋅sin(β) - 30"
      ]
     },
     "execution_count": 5,
     "metadata": {},
     "output_type": "execute_result"
    }
   ],
   "source": [
    "Eq1=P.res_y()\n",
    "Eq1"
   ]
  },
  {
   "cell_type": "code",
   "execution_count": 6,
   "metadata": {},
   "outputs": [
    {
     "data": {
      "image/png": "[encoded data removed]",
      "text/latex": [
       "$\\displaystyle 2 T_{1} \\sin{\\left(\\beta \\right)} - 30$"
      ],
      "text/plain": [
       "2⋅T₁⋅sin(β) - 30"
      ]
     },
     "execution_count": 6,
     "metadata": {},
     "output_type": "execute_result"
    }
   ],
   "source": [
    "Eq1=Eq1.subs(alpha,beta)\n",
    "Eq1"
   ]
  },
  {
   "cell_type": "code",
   "execution_count": 7,
   "metadata": {},
   "outputs": [
    {
     "data": {
      "text/latex": [
       "$\\displaystyle T1 =\\frac{15}{\\sin{\\left(\\beta \\right)}}$"
      ],
      "text/plain": [
       "<IPython.core.display.Math object>"
      ]
     },
     "metadata": {},
     "output_type": "display_data"
    }
   ],
   "source": [
    "rT1=csolve(Eq1,T1,'T1',kdisp=True)"
   ]
  },
  {
   "cell_type": "markdown",
   "metadata": {},
   "source": [
    "##### alpha = beta \n",
    "* Cos(beta)= x/L,  \n",
    "* Cos(alpha) = (4-x)/(5-L) ... \n",
    "* if alpha=beta then \n",
    "* x/L=(4-x)/(5-L)"
   ]
  },
  {
   "cell_type": "code",
   "execution_count": 8,
   "metadata": {},
   "outputs": [
    {
     "data": {
      "image/png": "[encoded data removed]",
      "text/latex": [
       "$\\displaystyle \\frac{4 L}{5}$"
      ],
      "text/plain": [
       "4⋅L\n",
       "───\n",
       " 5 "
      ]
     },
     "execution_count": 8,
     "metadata": {},
     "output_type": "execute_result"
    }
   ],
   "source": [
    "csolve(x1/L-(4-x1)/(5-L),x1)"
   ]
  },
  {
   "cell_type": "code",
   "execution_count": 9,
   "metadata": {},
   "outputs": [],
   "source": [
    "# x1= 4*L/5\n",
    "# sin(beta) = h/L \n",
    "# and h=sqrt(L*L-x*x)"
   ]
  },
  {
   "cell_type": "code",
   "execution_count": 16,
   "metadata": {},
   "outputs": [
    {
     "data": {
      "text/latex": [
       "$\\displaystyle h1 =\\frac{3 L}{5}$"
      ],
      "text/plain": [
       "<IPython.core.display.Math object>"
      ]
     },
     "metadata": {},
     "output_type": "display_data"
    }
   ],
   "source": [
    "x1=4*L/5\n",
    "rh1=csolve(h1**2-(L**2-x1**2),h1,'h1',kdisp=True,kpositive=True)"
   ]
  },
  {
   "cell_type": "code",
   "execution_count": 19,
   "metadata": {},
   "outputs": [
    {
     "data": {
      "image/png": "[encoded data removed]",
      "text/latex": [
       "$\\displaystyle 25$"
      ],
      "text/plain": [
       "25"
      ]
     },
     "execution_count": 19,
     "metadata": {},
     "output_type": "execute_result"
    }
   ],
   "source": [
    "rT1.subs(sin(beta),rh1/L)"
   ]
  },
  {
   "cell_type": "markdown",
   "metadata": {},
   "source": [
    "#### tension = 25"
   ]
  },
  {
   "cell_type": "markdown",
   "metadata": {},
   "source": [
    "<img src=\"images/line.png\" alt=\"ml\" style=\"width : 100%;\"/>"
   ]
  },
  {
   "cell_type": "markdown",
   "metadata": {},
   "source": [
    "### Example 3"
   ]
  },
  {
   "cell_type": "markdown",
   "metadata": {},
   "source": [
    "<img src=\"images/line.png\" alt=\"ml\" style=\"width : 100%;\"/>"
   ]
  },
  {
   "cell_type": "markdown",
   "metadata": {},
   "source": [
    "<img src=\"Doc_img/p3_static.png\" alt=\"ml\" style=\"width : 90%;\"/>"
   ]
  },
  {
   "cell_type": "code",
   "execution_count": 1,
   "metadata": {
    "jupyter": {
     "source_hidden": true
    }
   },
   "outputs": [],
   "source": [
    "from sympy import *\n",
    "from lib_subclass import *\n",
    "from lib_mechanics import *\n",
    "init_printing()"
   ]
  },
  {
   "cell_type": "markdown",
   "metadata": {},
   "source": [
    "<img src=\"Doc_img/p3_static_d.png\" alt=\"ml\" style=\"width : 90%;\"/>"
   ]
  },
  {
   "cell_type": "markdown",
   "metadata": {},
   "source": [
    "##### Note:\n",
    "* In P.add_force  include coordinates to get torque...!!!!!\n",
    "* set  (x,y) = (0,0) in upper left part of retangle..why..because apli torque here is cero!!!"
   ]
  },
  {
   "cell_type": "code",
   "execution_count": 2,
   "metadata": {},
   "outputs": [],
   "source": [
    "P=kparticle()\n",
    "P.add_forza(10,-pi/2,-1.5)\n",
    "P.add_forza(Ry,pi/2,0,0)\n",
    "P.add_forza(Rx,pi,0,0)\n",
    "P.add_forza(F1,alpha,4,-3)"
   ]
  },
  {
   "cell_type": "code",
   "execution_count": 4,
   "metadata": {},
   "outputs": [
    {
     "data": {
      "image/png": "[encoded data removed]",
      "text/latex": [
       "$\\displaystyle 4 F_{1} \\sin{\\left(\\alpha \\right)} + 3 F_{1} \\cos{\\left(\\alpha \\right)} + 15.0$"
      ],
      "text/plain": [
       "4⋅F₁⋅sin(α) + 3⋅F₁⋅cos(α) + 15.0"
      ]
     },
     "execution_count": 4,
     "metadata": {},
     "output_type": "execute_result"
    }
   ],
   "source": [
    "Eq1=P.torque()\n",
    "Eq1"
   ]
  },
  {
   "cell_type": "code",
   "execution_count": 5,
   "metadata": {},
   "outputs": [
    {
     "data": {
      "text/latex": [
       "$\\displaystyle F1 =- \\frac{15.0}{4.0 \\sin{\\left(\\alpha \\right)} + 3.0 \\cos{\\left(\\alpha \\right)}}$"
      ],
      "text/plain": [
       "<IPython.core.display.Math object>"
      ]
     },
     "metadata": {},
     "output_type": "display_data"
    }
   ],
   "source": [
    "rF1=csolve(Eq1,F1,'F1',kdisp=True)"
   ]
  },
  {
   "cell_type": "markdown",
   "metadata": {},
   "source": [
    "##### Remember:\n",
    "* To find minimum o maximun of function we solve derivate(function)=0..!!!!!"
   ]
  },
  {
   "cell_type": "code",
   "execution_count": 13,
   "metadata": {},
   "outputs": [
    {
     "data": {
      "image/png": "[encoded data removed]",
      "text/latex": [
       "$\\displaystyle - \\frac{0.9375 \\left(3.0 \\sin{\\left(\\alpha \\right)} - 4.0 \\cos{\\left(\\alpha \\right)}\\right)}{\\left(\\sin{\\left(\\alpha \\right)} + 0.75 \\cos{\\left(\\alpha \\right)}\\right)^{2}}$"
      ],
      "text/plain": [
       "-0.9375⋅(3.0⋅sin(α) - 4.0⋅cos(α)) \n",
       "──────────────────────────────────\n",
       "                           2      \n",
       "     (sin(α) + 0.75⋅cos(α))       "
      ]
     },
     "execution_count": 13,
     "metadata": {},
     "output_type": "execute_result"
    }
   ],
   "source": [
    "rF1.diff(alpha)"
   ]
  },
  {
   "cell_type": "markdown",
   "metadata": {},
   "source": [
    "##### Remember onlyn need:\n",
    "* 3 sin(alpha)-4 cos(alpha)=0..!!!!!"
   ]
  },
  {
   "cell_type": "code",
   "execution_count": 14,
   "metadata": {},
   "outputs": [
    {
     "data": {
      "image/png": "[encoded data removed]",
      "text/latex": [
       "$\\displaystyle \\operatorname{atan}{\\left(\\frac{4}{3} \\right)}$"
      ],
      "text/plain": [
       "atan(4/3)"
      ]
     },
     "execution_count": 14,
     "metadata": {},
     "output_type": "execute_result"
    }
   ],
   "source": [
    "csolve(3*sin(alpha)-4*cos(alpha),alpha)"
   ]
  },
  {
   "cell_type": "markdown",
   "metadata": {},
   "source": [
    "##### alpha = 53"
   ]
  },
  {
   "cell_type": "markdown",
   "metadata": {},
   "source": [
    "<img src=\"images/line.png\" alt=\"ml\" style=\"width : 100%;\"/>"
   ]
  },
  {
   "cell_type": "markdown",
   "metadata": {},
   "source": [
    "### Example 4"
   ]
  },
  {
   "cell_type": "markdown",
   "metadata": {},
   "source": [
    "<img src=\"images/line.png\" alt=\"ml\" style=\"width : 100%;\"/>"
   ]
  },
  {
   "cell_type": "markdown",
   "metadata": {},
   "source": [
    "<img src=\"Doc_img/p4_static.png\" alt=\"ml\" style=\"width : 90%;\"/>"
   ]
  },
  {
   "cell_type": "code",
   "execution_count": 1,
   "metadata": {},
   "outputs": [],
   "source": [
    "from sympy import *\n",
    "from lib_subclass import *\n",
    "from lib_mechanics import *\n",
    "init_printing()"
   ]
  },
  {
   "cell_type": "code",
   "execution_count": 2,
   "metadata": {},
   "outputs": [],
   "source": [
    "R=symbols('R')"
   ]
  },
  {
   "cell_type": "markdown",
   "metadata": {},
   "source": [
    "<img src=\"Doc_img/p4_static_d0.png\" alt=\"ml\" style=\"width : 80%;\"/>"
   ]
  },
  {
   "cell_type": "code",
   "execution_count": 3,
   "metadata": {},
   "outputs": [],
   "source": [
    "P1=kparticle()\n",
    "P1.add_forza(N1,pi/2,0,0)\n",
    "P1.add_forza(50,-pi/2,R*cos(2*alpha),R*sin(2*alpha))\n",
    "P1.add_forza(N2,pi/2+2*alpha,2*R*cos(2*alpha),2*R*sin(2*alpha))"
   ]
  },
  {
   "cell_type": "code",
   "execution_count": 4,
   "metadata": {},
   "outputs": [
    {
     "data": {
      "image/png": "[encoded data removed]",
      "text/latex": [
       "$\\displaystyle 2 N_{2} R \\sin^{2}{\\left(2 \\alpha \\right)} + 2 N_{2} R \\cos^{2}{\\left(2 \\alpha \\right)} - 50 R \\cos{\\left(2 \\alpha \\right)}$"
      ],
      "text/plain": [
       "          2                  2                     \n",
       "2⋅N₂⋅R⋅sin (2⋅α) + 2⋅N₂⋅R⋅cos (2⋅α) - 50⋅R⋅cos(2⋅α)"
      ]
     },
     "execution_count": 4,
     "metadata": {},
     "output_type": "execute_result"
    }
   ],
   "source": [
    "P1.torque()"
   ]
  },
  {
   "cell_type": "code",
   "execution_count": 5,
   "metadata": {},
   "outputs": [
    {
     "data": {
      "text/latex": [
       "$\\displaystyle N2 =25 \\cos{\\left(2 \\alpha \\right)}$"
      ],
      "text/plain": [
       "<IPython.core.display.Math object>"
      ]
     },
     "metadata": {},
     "output_type": "display_data"
    }
   ],
   "source": [
    "rN2=csolve(P1.torque(),N2,'N2',kdisp=True)"
   ]
  },
  {
   "cell_type": "markdown",
   "metadata": {},
   "source": [
    "<img src=\"Doc_img/p4_static_d1.png\" alt=\"ml\" style=\"width : 50%;\"/>"
   ]
  },
  {
   "cell_type": "code",
   "execution_count": 7,
   "metadata": {},
   "outputs": [],
   "source": [
    "N3=symbols('N3')"
   ]
  },
  {
   "cell_type": "code",
   "execution_count": 8,
   "metadata": {},
   "outputs": [],
   "source": [
    "P2=kparticle()\n",
    "P2.add_forza(m*g,-pi/2)\n",
    "P2.add_forza(N3,pi/2)\n",
    "N2=25*cos(2*alpha)\n",
    "P2.add_forza(N2,-alpha)\n",
    "P2.add_forza(F1,pi)"
   ]
  },
  {
   "cell_type": "code",
   "execution_count": 17,
   "metadata": {},
   "outputs": [
    {
     "data": {
      "image/png": "[encoded data removed]",
      "text/latex": [
       "$\\displaystyle - F_{1} + 25 \\left(2 \\cos^{2}{\\left(\\alpha \\right)} - 1\\right) \\cos{\\left(\\alpha \\right)}$"
      ],
      "text/plain": [
       "         ⎛     2       ⎞       \n",
       "-F₁ + 25⋅⎝2⋅cos (α) - 1⎠⋅cos(α)"
      ]
     },
     "execution_count": 17,
     "metadata": {},
     "output_type": "execute_result"
    }
   ],
   "source": [
    "Eq1=opemat(P2.res_x(),'x')\n",
    "Eq1"
   ]
  },
  {
   "cell_type": "code",
   "execution_count": 12,
   "metadata": {},
   "outputs": [
    {
     "data": {
      "image/png": "[encoded data removed]",
      "text/latex": [
       "$\\displaystyle \\sqrt{3} R$"
      ],
      "text/plain": [
       "√3⋅R"
      ]
     },
     "execution_count": 12,
     "metadata": {},
     "output_type": "execute_result"
    }
   ],
   "source": [
    "csolve(L1**2-((2*R)**2)+R**2,L1,kpositive=True)"
   ]
  },
  {
   "cell_type": "code",
   "execution_count": 18,
   "metadata": {},
   "outputs": [
    {
     "data": {
      "image/png": "[encoded data removed]",
      "text/latex": [
       "$\\displaystyle - F_{1} + \\frac{250 \\sqrt{3}}{9}$"
      ],
      "text/plain": [
       "      250⋅√3\n",
       "-F₁ + ──────\n",
       "        9   "
      ]
     },
     "execution_count": 18,
     "metadata": {},
     "output_type": "execute_result"
    }
   ],
   "source": [
    "Eq1=Eq1.subs(cos(alpha),2/sqrt(3))\n",
    "Eq1"
   ]
  },
  {
   "cell_type": "code",
   "execution_count": 19,
   "metadata": {},
   "outputs": [
    {
     "data": {
      "text/latex": [
       "$\\displaystyle F1 =\\frac{250 \\sqrt{3}}{9}$"
      ],
      "text/plain": [
       "<IPython.core.display.Math object>"
      ]
     },
     "metadata": {},
     "output_type": "display_data"
    }
   ],
   "source": [
    "F1=csolve(Eq1,F1,'F1',kdisp=True)"
   ]
  },
  {
   "cell_type": "code",
   "execution_count": null,
   "metadata": {},
   "outputs": [],
   "source": []
  }
 ],
 "metadata": {
  "kernelspec": {
   "display_name": "Python 3",
   "language": "python",
   "name": "python3"
  },
  "language_info": {
   "codemirror_mode": {
    "name": "ipython",
    "version": 3
   },
   "file_extension": ".py",
   "mimetype": "text/x-python",
   "name": "python",
   "nbconvert_exporter": "python",
   "pygments_lexer": "ipython3",
   "version": "3.6.6"
  }
 },
 "nbformat": 4,
 "nbformat_minor": 4
}
