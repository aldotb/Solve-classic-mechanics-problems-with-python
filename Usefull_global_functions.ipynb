{
 "cells": [
  {
   "cell_type": "code",
   "execution_count": 1,
   "metadata": {},
   "outputs": [],
   "source": [
    "from sympy import *\n",
    "from lib_subclass import *\n",
    "from lib_mechanics import *\n",
    "init_printing()\n",
    "x,y=symbols('x y')"
   ]
  },
  {
   "cell_type": "markdown",
   "metadata": {},
   "source": [
    "##### General and Useful Functions  :"
   ]
  },
  {
   "cell_type": "markdown",
   "metadata": {},
   "source": [
    "##### sex2rad(alpha)  :\n",
    "* return in radians the angle alpha in sexagesimal\n",
    "##### rad2sex(alpha)  :\n",
    "* return in sexagessimal the angle alpha in radians"
   ]
  },
  {
   "cell_type": "code",
   "execution_count": 2,
   "metadata": {},
   "outputs": [
    {
     "data": {
      "image/png": "[encoded data removed]",
      "text/latex": [
       "$\\displaystyle \\frac{\\pi}{3}$"
      ],
      "text/plain": [
       "π\n",
       "─\n",
       "3"
      ]
     },
     "execution_count": 2,
     "metadata": {},
     "output_type": "execute_result"
    }
   ],
   "source": [
    "sex2rad(60)"
   ]
  },
  {
   "cell_type": "code",
   "execution_count": 3,
   "metadata": {},
   "outputs": [
    {
     "data": {
      "image/png": "[encoded data removed]",
      "text/latex": [
       "$\\displaystyle 45.0$"
      ],
      "text/plain": [
       "45.0000000000000"
      ]
     },
     "execution_count": 3,
     "metadata": {},
     "output_type": "execute_result"
    }
   ],
   "source": [
    "rad2sex(pi/4)"
   ]
  },
  {
   "cell_type": "markdown",
   "metadata": {},
   "source": [
    "##### opemat(Eq1,kres,kope='')\n",
    "* simplify Eq1 with varius alternative\n",
    "* kope=\n",
    "    * kope='e', expand\n",
    "    * kope='f', factor\n",
    "    * kope='t', simplification trigonometric\n",
    "    * kope='x', trigonometric expand\n",
    "    * kope='s', numeric simplify "
   ]
  },
  {
   "cell_type": "markdown",
   "metadata": {},
   "source": [
    "##### Expand  :"
   ]
  },
  {
   "cell_type": "code",
   "execution_count": 2,
   "metadata": {},
   "outputs": [
    {
     "data": {
      "image/png": "[encoded data removed]",
      "text/latex": [
       "$\\displaystyle \\left(x + y\\right)^{2}$"
      ],
      "text/plain": [
       "       2\n",
       "(x + y) "
      ]
     },
     "execution_count": 2,
     "metadata": {},
     "output_type": "execute_result"
    }
   ],
   "source": [
    "Eq1=(x+y)**2\n",
    "Eq1"
   ]
  },
  {
   "cell_type": "code",
   "execution_count": 3,
   "metadata": {},
   "outputs": [
    {
     "data": {
      "image/png": "[encoded data removed]",
      "text/latex": [
       "$\\displaystyle x^{2} + 2 x y + y^{2}$"
      ],
      "text/plain": [
       " 2            2\n",
       "x  + 2⋅x⋅y + y "
      ]
     },
     "execution_count": 3,
     "metadata": {},
     "output_type": "execute_result"
    }
   ],
   "source": [
    "opemat(Eq1,kope='e')"
   ]
  },
  {
   "cell_type": "markdown",
   "metadata": {},
   "source": [
    "##### Factor  :"
   ]
  },
  {
   "cell_type": "code",
   "execution_count": 8,
   "metadata": {},
   "outputs": [
    {
     "data": {
      "image/png": "[encoded data removed]",
      "text/latex": [
       "$\\displaystyle - 3 x^{3} y + 12 x^{3} + 6 x^{2} y^{2} - 24 x^{2} y$"
      ],
      "text/plain": [
       "     3         3      2  2       2  \n",
       "- 3⋅x ⋅y + 12⋅x  + 6⋅x ⋅y  - 24⋅x ⋅y"
      ]
     },
     "execution_count": 8,
     "metadata": {},
     "output_type": "execute_result"
    }
   ],
   "source": [
    "Eq1=-3*y*x**3+6*x**2*y**2+12*x**3-24*y*x**2\n",
    "Eq1"
   ]
  },
  {
   "cell_type": "code",
   "execution_count": 9,
   "metadata": {},
   "outputs": [
    {
     "data": {
      "image/png": "[encoded data removed]",
      "text/latex": [
       "$\\displaystyle - 3 x^{2} \\left(x - 2 y\\right) \\left(y - 4\\right)$"
      ],
      "text/plain": [
       "    2                  \n",
       "-3⋅x ⋅(x - 2⋅y)⋅(y - 4)"
      ]
     },
     "execution_count": 9,
     "metadata": {},
     "output_type": "execute_result"
    }
   ],
   "source": [
    "opemat(Eq1,kope='f')"
   ]
  },
  {
   "cell_type": "markdown",
   "metadata": {},
   "source": [
    "##### Trig Simplify  :"
   ]
  },
  {
   "cell_type": "code",
   "execution_count": 11,
   "metadata": {},
   "outputs": [
    {
     "data": {
      "image/png": "[encoded data removed]",
      "text/latex": [
       "$\\displaystyle 2 \\sin{\\left(\\alpha \\right)} \\cos{\\left(\\alpha \\right)}$"
      ],
      "text/plain": [
       "2⋅sin(α)⋅cos(α)"
      ]
     },
     "execution_count": 11,
     "metadata": {},
     "output_type": "execute_result"
    }
   ],
   "source": [
    "Eq1=2*sin(alpha)*cos(alpha)\n",
    "Eq1"
   ]
  },
  {
   "cell_type": "code",
   "execution_count": 12,
   "metadata": {},
   "outputs": [
    {
     "data": {
      "image/png": "[encoded data removed]",
      "text/latex": [
       "$\\displaystyle \\sin{\\left(2 \\alpha \\right)}$"
      ],
      "text/plain": [
       "sin(2⋅α)"
      ]
     },
     "execution_count": 12,
     "metadata": {},
     "output_type": "execute_result"
    }
   ],
   "source": [
    "opemat(Eq1,kope='t')"
   ]
  },
  {
   "cell_type": "markdown",
   "metadata": {},
   "source": [
    "##### Trig Expand  :"
   ]
  },
  {
   "cell_type": "code",
   "execution_count": 13,
   "metadata": {},
   "outputs": [
    {
     "data": {
      "image/png": "[encoded data removed]",
      "text/latex": [
       "$\\displaystyle \\sin{\\left(3 \\alpha \\right)}$"
      ],
      "text/plain": [
       "sin(3⋅α)"
      ]
     },
     "execution_count": 13,
     "metadata": {},
     "output_type": "execute_result"
    }
   ],
   "source": [
    "Eq1=sin(3*alpha)\n",
    "Eq1"
   ]
  },
  {
   "cell_type": "code",
   "execution_count": 14,
   "metadata": {},
   "outputs": [
    {
     "data": {
      "image/png": "[encoded data removed]",
      "text/latex": [
       "$\\displaystyle - 4 \\sin^{3}{\\left(\\alpha \\right)} + 3 \\sin{\\left(\\alpha \\right)}$"
      ],
      "text/plain": [
       "       3              \n",
       "- 4⋅sin (α) + 3⋅sin(α)"
      ]
     },
     "execution_count": 14,
     "metadata": {},
     "output_type": "execute_result"
    }
   ],
   "source": [
    "opemat(Eq1,kope='x')"
   ]
  },
  {
   "cell_type": "markdown",
   "metadata": {},
   "source": [
    "##### show_res(Eq1,kd=' ',s='s')\n",
    "* show_res is good alternative to store variable with new value and showit in Jupyter wihtout put a new line to show the answer\n",
    "* T1=show_res(Eq1,kd='T1')\n",
    "    * T1= the variable that designe the answer\n",
    "    * Eq1 = the Equation, mateh operation to T1\n",
    "    * kd ='T1' is only for show the 'T1' in Jupyter ( decorative)"
   ]
  },
  {
   "cell_type": "code",
   "execution_count": 22,
   "metadata": {},
   "outputs": [
    {
     "data": {
      "text/latex": [
       "$\\displaystyle M =- \\frac{3 L_{1}}{7} + g m - \\frac{3 h_{1}}{7}$"
      ],
      "text/plain": [
       "<IPython.core.display.Math object>"
      ]
     },
     "metadata": {},
     "output_type": "display_data"
    }
   ],
   "source": [
    "Eq1=m*g-3*(L1+h1)/7\n",
    "m1=show_res(Eq1,kd='M')"
   ]
  },
  {
   "cell_type": "code",
   "execution_count": 23,
   "metadata": {},
   "outputs": [
    {
     "data": {
      "image/png": "[encoded data removed]",
      "text/latex": [
       "$\\displaystyle - \\frac{3 L_{1}}{7} + g m - \\frac{3 h_{1}}{7}$"
      ],
      "text/plain": [
       "  3⋅L₁         3⋅h₁\n",
       "- ──── + g⋅m - ────\n",
       "   7            7  "
      ]
     },
     "execution_count": 23,
     "metadata": {},
     "output_type": "execute_result"
    }
   ],
   "source": [
    "m1"
   ]
  },
  {
   "cell_type": "markdown",
   "metadata": {},
   "source": [
    "<img src=\"images/line.png\" alt=\"ml\" style=\"width : 100%;\"/>"
   ]
  },
  {
   "cell_type": "markdown",
   "metadata": {},
   "source": [
    "#### Put all together"
   ]
  },
  {
   "cell_type": "markdown",
   "metadata": {},
   "source": [
    "<img src=\"images/line.png\" alt=\"ml\" style=\"width : 100%;\"/>"
   ]
  },
  {
   "cell_type": "code",
   "execution_count": 25,
   "metadata": {},
   "outputs": [
    {
     "data": {
      "image/png": "[encoded data removed]",
      "text/latex": [
       "$\\displaystyle \\left(- \\sin{\\left(\\alpha \\right)} + \\frac{\\sqrt{2} \\sin{\\left(\\alpha \\right)}}{2} + \\frac{\\sqrt{2} \\cos{\\left(\\alpha \\right)}}{2}\\right)^{2}$"
      ],
      "text/plain": [
       "                                 2\n",
       "⎛          √2⋅sin(α)   √2⋅cos(α)⎞ \n",
       "⎜-sin(α) + ───────── + ─────────⎟ \n",
       "⎝              2           2    ⎠ "
      ]
     },
     "execution_count": 25,
     "metadata": {},
     "output_type": "execute_result"
    }
   ],
   "source": [
    "Eq1=(sin(alpha)*cos(sex2rad(45))+cos(alpha)*sin(sex2rad(45))-sin(alpha))**2"
   ]
  },
  {
   "cell_type": "code",
   "execution_count": 26,
   "metadata": {},
   "outputs": [
    {
     "data": {
      "image/png": "[encoded data removed]",
      "text/latex": [
       "$\\displaystyle - \\sqrt{2} \\sin^{2}{\\left(\\alpha \\right)} + \\frac{3 \\sin^{2}{\\left(\\alpha \\right)}}{2} - \\sqrt{2} \\sin{\\left(\\alpha \\right)} \\cos{\\left(\\alpha \\right)} + \\sin{\\left(\\alpha \\right)} \\cos{\\left(\\alpha \\right)} + \\frac{\\cos^{2}{\\left(\\alpha \\right)}}{2}$"
      ],
      "text/plain": [
       "                    2                                            2   \n",
       "        2      3⋅sin (α)                                      cos (α)\n",
       "- √2⋅sin (α) + ───────── - √2⋅sin(α)⋅cos(α) + sin(α)⋅cos(α) + ───────\n",
       "                   2                                             2   "
      ]
     },
     "execution_count": 26,
     "metadata": {},
     "output_type": "execute_result"
    }
   ],
   "source": [
    "expand(Eq1)"
   ]
  },
  {
   "cell_type": "code",
   "execution_count": 28,
   "metadata": {},
   "outputs": [
    {
     "data": {
      "text/latex": [
       "$\\displaystyle Voallaaa!!! =- \\sqrt{2} \\sin^{2}{\\left(\\alpha \\right)} + \\frac{3 \\sin^{2}{\\left(\\alpha \\right)}}{2} - \\sqrt{2} \\sin{\\left(\\alpha \\right)} \\cos{\\left(\\alpha \\right)} + \\sin{\\left(\\alpha \\right)} \\cos{\\left(\\alpha \\right)} + \\frac{\\cos^{2}{\\left(\\alpha \\right)}}{2}$"
      ],
      "text/plain": [
       "<IPython.core.display.Math object>"
      ]
     },
     "metadata": {},
     "output_type": "display_data"
    }
   ],
   "source": [
    "R1=show_res(opemat(Eq1,kope='e'),kd='Voallaaa!!!')"
   ]
  },
  {
   "cell_type": "code",
   "execution_count": null,
   "metadata": {},
   "outputs": [],
   "source": []
  }
 ],
 "metadata": {
  "kernelspec": {
   "display_name": "Python 3",
   "language": "python",
   "name": "python3"
  },
  "language_info": {
   "codemirror_mode": {
    "name": "ipython",
    "version": 3
   },
   "file_extension": ".py",
   "mimetype": "text/x-python",
   "name": "python",
   "nbconvert_exporter": "python",
   "pygments_lexer": "ipython3",
   "version": "3.6.6"
  }
 },
 "nbformat": 4,
 "nbformat_minor": 4
}
